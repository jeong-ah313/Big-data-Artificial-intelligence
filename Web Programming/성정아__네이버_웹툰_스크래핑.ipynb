{
  "nbformat": 4,
  "nbformat_minor": 0,
  "metadata": {
    "colab": {
      "name": "성정아 - _네이버 웹툰 스크래핑.ipynb",
      "provenance": [],
      "collapsed_sections": []
    },
    "kernelspec": {
      "name": "python3",
      "display_name": "Python 3"
    }
  },
  "cells": [
    {
      "cell_type": "markdown",
      "metadata": {
        "id": "jsPudA_xcrqE"
      },
      "source": [
        "# 네이버 웹툰 스크래핑"
      ]
    },
    {
      "cell_type": "markdown",
      "metadata": {
        "id": "kUnbR1MkG496"
      },
      "source": [
        "## Selenium 및 웹 드라이버 설치"
      ]
    },
    {
      "cell_type": "code",
      "metadata": {
        "id": "vYaU2RnNvj8Z",
        "colab": {
          "base_uri": "https://localhost:8080/",
          "height": 446
        },
        "outputId": "93fcc561-e905-45cb-f55f-f3a8d13f63be"
      },
      "source": [
        "!pip install Selenium\n",
        "!apt-get update\n",
        "!apt install chromium-chromedriver\n",
        "!cp /usr/lib/chromium-brower/chromedriver /usr/bin\n",
        "\n",
        "import sys\n",
        "sys.path.insert(0, '/usr/lib/chrome-brower/chromedriver')\n",
        "\n",
        "from selenium import webdriver\n",
        "\n",
        "chrome_options = webdriver.ChromeOptions()\n",
        "chrome_options.add_argument('--headless')\n",
        "chrome_options.add_argument('--no-sandbox')\n",
        "chrome_options.add_argument('--disable-dev-shm-usage')"
      ],
      "execution_count": null,
      "outputs": [
        {
          "output_type": "stream",
          "text": [
            "Requirement already satisfied: Selenium in /usr/local/lib/python3.6/dist-packages (3.141.0)\n",
            "Requirement already satisfied: urllib3 in /usr/local/lib/python3.6/dist-packages (from Selenium) (1.24.3)\n",
            "Hit:1 https://cloud.r-project.org/bin/linux/ubuntu bionic-cran35/ InRelease\n",
            "Ign:2 https://developer.download.nvidia.com/compute/cuda/repos/ubuntu1804/x86_64  InRelease\n",
            "Hit:3 http://security.ubuntu.com/ubuntu bionic-security InRelease\n",
            "Ign:4 https://developer.download.nvidia.com/compute/machine-learning/repos/ubuntu1804/x86_64  InRelease\n",
            "Hit:5 https://developer.download.nvidia.com/compute/cuda/repos/ubuntu1804/x86_64  Release\n",
            "Hit:6 https://developer.download.nvidia.com/compute/machine-learning/repos/ubuntu1804/x86_64  Release\n",
            "Hit:7 http://archive.ubuntu.com/ubuntu bionic InRelease\n",
            "Hit:8 http://ppa.launchpad.net/graphics-drivers/ppa/ubuntu bionic InRelease\n",
            "Hit:11 http://archive.ubuntu.com/ubuntu bionic-updates InRelease\n",
            "Hit:12 http://archive.ubuntu.com/ubuntu bionic-backports InRelease\n",
            "Hit:13 http://ppa.launchpad.net/marutter/c2d4u3.5/ubuntu bionic InRelease\n",
            "Reading package lists... Done\n",
            "Reading package lists... Done\n",
            "Building dependency tree       \n",
            "Reading state information... Done\n",
            "chromium-chromedriver is already the newest version (84.0.4147.105-0ubuntu0.18.04.1).\n",
            "The following package was automatically installed and is no longer required:\n",
            "  libnvidia-common-440\n",
            "Use 'apt autoremove' to remove it.\n",
            "0 upgraded, 0 newly installed, 0 to remove and 54 not upgraded.\n",
            "cp: cannot stat '/usr/lib/chromium-brower/chromedriver': No such file or directory\n"
          ],
          "name": "stdout"
        }
      ]
    },
    {
      "cell_type": "markdown",
      "metadata": {
        "id": "uahm90hHyRGI"
      },
      "source": [
        "## 네이버 웹툰 페이지 로드"
      ]
    },
    {
      "cell_type": "code",
      "metadata": {
        "id": "zPQlAYEyM-cp"
      },
      "source": [
        "wd = webdriver.Chrome('chromedriver', options=chrome_options)\n",
        "wd.get(\"https://comic.naver.com/index.nhn\")"
      ],
      "execution_count": null,
      "outputs": []
    },
    {
      "cell_type": "markdown",
      "metadata": {
        "id": "NsD4UvgNPOXe"
      },
      "source": [
        "## 장르별 추천 웹툰 긁어오기"
      ]
    },
    {
      "cell_type": "code",
      "metadata": {
        "id": "Qh2oZc-SC5s4",
        "colab": {
          "base_uri": "https://localhost:8080/",
          "height": 390
        },
        "outputId": "7d613042-e16d-4064-f3fa-551c8b0ccbe8"
      },
      "source": [
        "for title in wd.find_elements_by_class_name('title'):\n",
        "  print(title.text)"
      ],
      "execution_count": null,
      "outputs": [
        {
          "output_type": "stream",
          "text": [
            "이두나!\n",
            "신비\n",
            "특수 영능력 수사반\n",
            "안개무덤\n",
            "쿠베라\n",
            "연애혁명\n",
            "엑스트라 Z씨\n",
            "연애일기\n",
            "미야오타운\n",
            "인생은 너울너울\n",
            "이중에 여자는 하나\n",
            "로봇 파트너스 솔버\n",
            "불편해요, 선배님!\n",
            "30일후\n",
            "사차원 아라님\n",
            "장군님의 남자\n",
            "샤랄라! 역변의 아이돌\n",
            "블러디 발렌타인 - 인류종말\n",
            "유루캠△\n",
            "무한 레벨업 in 무림[독점]\n",
            "전무: 최강 무도 계승패\n"
          ],
          "name": "stdout"
        }
      ]
    },
    {
      "cell_type": "code",
      "metadata": {
        "id": "VZEc_05Ah_np",
        "colab": {
          "base_uri": "https://localhost:8080/",
          "height": 1000
        },
        "outputId": "835303c5-1646-4deb-eed0-cc4bd935687f"
      },
      "source": [
        "import time\n",
        "\n",
        "genre_ul = wd.find_element_by_class_name('tab_gr')\n",
        "genre_list = genre_ul.find_elements_by_tag_name('a')\n",
        "\n",
        "for genre in genre_list:\n",
        "  genre.click()\n",
        "  time.sleep(1)\n",
        "  print(\"[\",genre.text,\"]\")\n",
        "\n",
        "  genre_rec_list = wd.find_elements_by_class_name('genreRecomInfo2')\n",
        "  for genre_rec in genre_rec_list:\n",
        "    title_class = genre_rec.find_element_by_class_name('title')\n",
        "    title = title_class.find_element_by_tag_name('a').text\n",
        "    user = genre_rec.find_element_by_class_name('user').text\n",
        "    print(\"\\t\", title, \"-\", user)"
      ],
      "execution_count": null,
      "outputs": [
        {
          "output_type": "stream",
          "text": [
            "[ 에피소드 ]\n",
            "\t 오늘의 순정망화 - 손하기\n",
            "\t 독립일기 - 자까\n",
            "\t 만물의 영장 - 보민\n",
            "\t 병의 기록 - 베어리\n",
            "\t 겟백 - 세윤\n",
            "\t 수상한 비밀상담부 - 149\n",
            "[ 옴니버스 ]\n",
            "\t 기기괴괴 - 오성대\n",
            "\t 로그아웃 - 임목원\n",
            "\t 당신의 향수 - 호우\n",
            "\t 몰랐지만 괜찮아 - 이저녁, 이온도\n",
            "\t 히어로메이커 - 빤쓰\n",
            "\t 대만에서, 너와 하루 - 수박양\n",
            "[ 스토리 ]\n",
            "\t 이두나! - 민송아\n",
            "\t 신비 - 반지\n",
            "\t 특수 영능력 수사반 - 사다함\n",
            "\t 안개무덤 - 김태영\n",
            "\t 쿠베라 - 카레곰\n",
            "\t 연애혁명 - 232\n",
            "[ 일상 ]\n",
            "\t 독립일기 - 자까\n",
            "\t 범이올시다! - 해\n",
            "\t 닥터앤닥터 육아일기 - 닥터베르\n",
            "\t 몰랐지만 괜찮아 - 이저녁, 이온도\n",
            "\t 2020 최애캐의 MBTI - 웹툰작가\n",
            "\t 패밀리 사이즈 - 남지은 / 김인호\n",
            "[ 개그 ]\n",
            "\t 오늘의 순정망화 - 손하기\n",
            "\t 갑자기 커피 - 우 / 리지\n",
            "\t 만물의 영장 - 보민\n",
            "\t 무모협지 - 초신우\n",
            "\t 나쁜사람 - 둠스\n",
            "\t 모죠의 일지 - 모죠\n",
            "[ 판타지 ]\n",
            "\t 특수 영능력 수사반 - 사다함\n",
            "\t 쿠베라 - 카레곰\n",
            "\t 롤랑롤랑 - 자유\n",
            "\t 전자오락수호대 - 가스파드\n",
            "\t 화이트 블러드 - 임리나\n",
            "\t 겟라이프 - MOOHAK\n",
            "[ 액션 ]\n",
            "\t 어쩔꼰대 - 강선율 / Jencil\n",
            "\t 최강전설 강해효 - 최병열\n",
            "\t 집사레인저 - 현실안주형\n",
            "\t 무사만리행 - 운 / 배민기\n",
            "\t 더 복서 - 정지훈\n",
            "\t 트롤트랩 - 유비\n",
            "[ 드라마 ]\n",
            "\t 연애혁명 - 232\n",
            "\t 소녀180 - 나우원 / 델라\n",
            "\t 하드캐리 - 조양\n",
            "\t 열등의 조건 - 또이\n",
            "\t 날 가져요 - 로즈빈 / 원펀치래빗\n",
            "\t 당신의 과녁 - 고태호\n",
            "[ 순정 ]\n",
            "\t 이두나! - 민송아\n",
            "\t 신비 - 반지\n",
            "\t 간 떨어지는 동거 - 나\n",
            "\t 가타부타타 - 숭어\n",
            "\t 밤하늘에 구름운 - 견지 / 그리온\n",
            "\t 셈하는 사이 - 면지\n",
            "[ 감성 ]\n",
            "\t 숲속의 담 - 다홍\n",
            "\t 드로잉 레시피 - 꼬모소이\n",
            "\t 나의 첫번째 새벽 - 신매\n",
            "\t 안녕, 나는 너를 좋아해 - 하토\n",
            "\t 마음의 숙제 - 고아라\n",
            "\t 모퉁이 뜨개방 - 소영\n",
            "[ 스릴러 ]\n",
            "\t 안개무덤 - 김태영\n",
            "\t 손아귀 - 황정훈\n",
            "\t 기기괴괴 - 오성대\n",
            "\t 로그아웃 - 임목원\n",
            "\t 수상한 비밀상담부 - 149\n",
            "\t 이츠마인 - 럭스\n",
            "[ 시대극 ]\n",
            "\t 칼부림 - 고일권\n",
            "\t 삼국지톡 - 무적핑크 / 이리\n",
            "\t 장씨세가 호위무사 - 조형근 / 김인호\n",
            "\t 몽홀 - 장태산\n",
            "\t 조선방랑야사 - 가현\n",
            "\t 귀인 - 정연식 / 황진영\n",
            "[ 스포츠 ]\n",
            "\t 미드나잇 체이서 - 석재윤\n",
            "\t 불릿 6미리 - 김도근\n",
            "\t 빌드업 - 911\n",
            "\t 격기3반 - 이학\n",
            "\t 윈드브레이커 - 조용석\n",
            "\t 가비지타임 - 2사장\n"
          ],
          "name": "stdout"
        }
      ]
    },
    {
      "cell_type": "code",
      "metadata": {
        "id": "UReRcIYPijPl"
      },
      "source": [
        ""
      ],
      "execution_count": null,
      "outputs": []
    }
  ]
}