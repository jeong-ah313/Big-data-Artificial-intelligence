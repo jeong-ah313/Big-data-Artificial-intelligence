{
  "nbformat": 4,
  "nbformat_minor": 0,
  "metadata": {
    "colab": {
      "name": "성정아 - _네이버 영화 리뷰 스크래핑.ipynb",
      "provenance": [],
      "collapsed_sections": []
    },
    "kernelspec": {
      "name": "python3",
      "display_name": "Python 3"
    }
  },
  "cells": [
    {
      "cell_type": "markdown",
      "metadata": {
        "id": "brnhfmqsTfbo"
      },
      "source": [
        "# BeautyfulSoup 네이버 영화 리뷰 스크래핑"
      ]
    },
    {
      "cell_type": "markdown",
      "metadata": {
        "id": "810KbByIDvZI"
      },
      "source": [
        "## 네이버 영화 리뷰 스크래핑\n",
        "\n",
        "* 네이버 영화: https://movie.naver.com/movie/point/af/list.nhn"
      ]
    },
    {
      "cell_type": "code",
      "metadata": {
        "id": "V9h_RKcydST5"
      },
      "source": [
        "from bs4 import BeautifulSoup\n",
        "import urllib.request\n",
        "from urllib.parse import quote\n",
        "import pandas as pd\n",
        "\n",
        "def get_movie_reviews(mcode, page_num=10):\n",
        "\n",
        "  movie_review_df = pd.DataFrame(columns=(\"Title\",\"Score\",\"Review\"))\n",
        "  url = \"https://movie.naver.com/movie/point/af/list.nhn?st=mcode&sword=189069&target=after\" + str(mcode) + \"&target=after\"\n",
        "  idx = 0\n",
        "\n",
        "  for _ in range(0, page_num):\n",
        "    movie_page = urllib.request.urlopen(url).read()\n",
        "    movie_page_soup = BeautifulSoup(movie_page, 'html.parser')\n",
        "\n",
        "    review_list = movie_page_soup.find_all('td', {'class':'title'})\n",
        "    for review in review_list:\n",
        "      title = review.find('a', {'class':'movie color_b'}).get_text()\n",
        "      score = review.find('em').get_text()\n",
        "      review_text = review.find('a', {'class':'report'}).get('href').split(',')[2]\n",
        "      movie_review_df.loc[idx]=[title, score, review_text]\n",
        "      idx +=1\n",
        "      print(\"#\", end=\"\")\n",
        "    try:\n",
        "      url = \"https://movie.naver.com\" + movie_page_soup.find('a', {'class':'pg_next'}).get('href')\n",
        "    except:\n",
        "      break\n",
        "\n",
        "  return movie_review_df"
      ],
      "execution_count": null,
      "outputs": []
    },
    {
      "cell_type": "code",
      "metadata": {
        "id": "hn1fIqrwhyjs",
        "colab": {
          "base_uri": "https://localhost:8080/",
          "height": 449
        },
        "outputId": "ffd1cfce-7a82-42ea-f31e-4ce52be475df"
      },
      "source": [
        "movie_review_df = get_movie_reviews(189069,100)\n",
        "movie_review_df"
      ],
      "execution_count": null,
      "outputs": [
        {
          "output_type": "stream",
          "text": [
            "########################################################################################################################################################################################################################################################################################################################################################################################################################################################################################################################################################################################################################################################################################################################################################################################################################################################################################################################################################################################################################################"
          ],
          "name": "stdout"
        },
        {
          "output_type": "execute_result",
          "data": {
            "text/html": [
              "<div>\n",
              "<style scoped>\n",
              "    .dataframe tbody tr th:only-of-type {\n",
              "        vertical-align: middle;\n",
              "    }\n",
              "\n",
              "    .dataframe tbody tr th {\n",
              "        vertical-align: top;\n",
              "    }\n",
              "\n",
              "    .dataframe thead th {\n",
              "        text-align: right;\n",
              "    }\n",
              "</style>\n",
              "<table border=\"1\" class=\"dataframe\">\n",
              "  <thead>\n",
              "    <tr style=\"text-align: right;\">\n",
              "      <th></th>\n",
              "      <th>Title</th>\n",
              "      <th>Score</th>\n",
              "      <th>Review</th>\n",
              "    </tr>\n",
              "  </thead>\n",
              "  <tbody>\n",
              "    <tr>\n",
              "      <th>0</th>\n",
              "      <td>다만 악에서 구하소서</td>\n",
              "      <td>9</td>\n",
              "      <td>'황정민 이정재 박정민 모두 연기 진짜 bb이정재 액션신에서 눈빛 장난 아니었습니다'</td>\n",
              "    </tr>\n",
              "    <tr>\n",
              "      <th>1</th>\n",
              "      <td>다만 악에서 구하소서</td>\n",
              "      <td>10</td>\n",
              "      <td>''</td>\n",
              "    </tr>\n",
              "    <tr>\n",
              "      <th>2</th>\n",
              "      <td>다만 악에서 구하소서</td>\n",
              "      <td>10</td>\n",
              "      <td>'역시 황정민이랑 이정재는 치트조합이다'</td>\n",
              "    </tr>\n",
              "    <tr>\n",
              "      <th>3</th>\n",
              "      <td>다만 악에서 구하소서</td>\n",
              "      <td>10</td>\n",
              "      <td>'영화관에서 3번봄 세번 다 만이천원 주고. 진짜 오랜만에 재밌는 영화였다 가슴 ...</td>\n",
              "    </tr>\n",
              "    <tr>\n",
              "      <th>4</th>\n",
              "      <td>다만 악에서 구하소서</td>\n",
              "      <td>7</td>\n",
              "      <td>''</td>\n",
              "    </tr>\n",
              "    <tr>\n",
              "      <th>...</th>\n",
              "      <td>...</td>\n",
              "      <td>...</td>\n",
              "      <td>...</td>\n",
              "    </tr>\n",
              "    <tr>\n",
              "      <th>995</th>\n",
              "      <td>다만 악에서 구하소서</td>\n",
              "      <td>10</td>\n",
              "      <td>'한국판테이큰임. 지루함없이 정말 재밌게 봤어요.'</td>\n",
              "    </tr>\n",
              "    <tr>\n",
              "      <th>996</th>\n",
              "      <td>다만 악에서 구하소서</td>\n",
              "      <td>10</td>\n",
              "      <td>'박정민... 진짜 입덕하고싶은 연기 ... 다른 배우 떠나서 박정민 밖에 보이지...</td>\n",
              "    </tr>\n",
              "    <tr>\n",
              "      <th>997</th>\n",
              "      <td>다만 악에서 구하소서</td>\n",
              "      <td>10</td>\n",
              "      <td>'다만</td>\n",
              "    </tr>\n",
              "    <tr>\n",
              "      <th>998</th>\n",
              "      <td>다만 악에서 구하소서</td>\n",
              "      <td>10</td>\n",
              "      <td>'이런영화가 영화지현정권 빠는 정치영화는 꺼지길'</td>\n",
              "    </tr>\n",
              "    <tr>\n",
              "      <th>999</th>\n",
              "      <td>다만 악에서 구하소서</td>\n",
              "      <td>2</td>\n",
              "      <td>'신세계 케미생각하고 봤다가는 큰코다침! 낚인기분입니다. '</td>\n",
              "    </tr>\n",
              "  </tbody>\n",
              "</table>\n",
              "<p>1000 rows × 3 columns</p>\n",
              "</div>"
            ],
            "text/plain": [
              "           Title Score                                             Review\n",
              "0    다만 악에서 구하소서     9    '황정민 이정재 박정민 모두 연기 진짜 bb이정재 액션신에서 눈빛 장난 아니었습니다'\n",
              "1    다만 악에서 구하소서    10                                                 ''\n",
              "2    다만 악에서 구하소서    10                             '역시 황정민이랑 이정재는 치트조합이다'\n",
              "3    다만 악에서 구하소서    10   '영화관에서 3번봄 세번 다 만이천원 주고. 진짜 오랜만에 재밌는 영화였다 가슴 ...\n",
              "4    다만 악에서 구하소서     7                                                 ''\n",
              "..           ...   ...                                                ...\n",
              "995  다만 악에서 구하소서    10                       '한국판테이큰임. 지루함없이 정말 재밌게 봤어요.'\n",
              "996  다만 악에서 구하소서    10   '박정민... 진짜 입덕하고싶은 연기 ... 다른 배우 떠나서 박정민 밖에 보이지...\n",
              "997  다만 악에서 구하소서    10                                                '다만\n",
              "998  다만 악에서 구하소서    10                        '이런영화가 영화지현정권 빠는 정치영화는 꺼지길'\n",
              "999  다만 악에서 구하소서     2                  '신세계 케미생각하고 봤다가는 큰코다침! 낚인기분입니다. '\n",
              "\n",
              "[1000 rows x 3 columns]"
            ]
          },
          "metadata": {
            "tags": []
          },
          "execution_count": 17
        }
      ]
    },
    {
      "cell_type": "markdown",
      "metadata": {
        "id": "cePQNVwEGfUA"
      },
      "source": [
        "## 현재상영작 영화 리뷰 스크래핑"
      ]
    },
    {
      "cell_type": "code",
      "metadata": {
        "id": "OsGvWfsfFNHm",
        "colab": {
          "base_uri": "https://localhost:8080/",
          "height": 449
        },
        "outputId": "a9fe7a74-3e40-4487-8e73-7a251435e070"
      },
      "source": [
        "url = \"http://movie.naver.com/movie/point/af/list.nhn\"\n",
        "naver_movie = urllib.request.urlopen(url).read()\n",
        "soup = BeautifulSoup(naver_movie, 'html.parser')\n",
        "select = soup.find('select', {'id':'current_movie'})\n",
        "movies = select.find_all('option')\n",
        "\n",
        "movies_dict = {}\n",
        "for movie in movies[1:]:\n",
        "  movies_dict[movie.get('value')]=movie.get_text()\n",
        "\n",
        "movie_review_df = pd.DataFrame(columns=(\"Title\",\"Score\",\"Review\"))\n",
        "for mcode in movies_dict:\n",
        "  df = get_movie_reviews(mcode,1)\n",
        "  movie_review_df = pd.concat([movie_review_df, df])\n",
        "\n",
        "movie_review_df"
      ],
      "execution_count": null,
      "outputs": [
        {
          "output_type": "stream",
          "text": [
            "########################################################################################################################################################################################################################################################################################################################################################################################################################################################################################################################################################################################################################################################################################################################################################################################################################################################################################################################################################################################################################################################################################################################################################################################################################################################################################################################################################################################################################################################################################################################################################################################################################"
          ],
          "name": "stdout"
        },
        {
          "output_type": "execute_result",
          "data": {
            "text/html": [
              "<div>\n",
              "<style scoped>\n",
              "    .dataframe tbody tr th:only-of-type {\n",
              "        vertical-align: middle;\n",
              "    }\n",
              "\n",
              "    .dataframe tbody tr th {\n",
              "        vertical-align: top;\n",
              "    }\n",
              "\n",
              "    .dataframe thead th {\n",
              "        text-align: right;\n",
              "    }\n",
              "</style>\n",
              "<table border=\"1\" class=\"dataframe\">\n",
              "  <thead>\n",
              "    <tr style=\"text-align: right;\">\n",
              "      <th></th>\n",
              "      <th>Title</th>\n",
              "      <th>Score</th>\n",
              "      <th>Review</th>\n",
              "    </tr>\n",
              "  </thead>\n",
              "  <tbody>\n",
              "    <tr>\n",
              "      <th>0</th>\n",
              "      <td>다만 악에서 구하소서</td>\n",
              "      <td>10</td>\n",
              "      <td>'악</td>\n",
              "    </tr>\n",
              "    <tr>\n",
              "      <th>1</th>\n",
              "      <td>다만 악에서 구하소서</td>\n",
              "      <td>9</td>\n",
              "      <td>'황정민 이정재 박정민 모두 연기 진짜 bb이정재 액션신에서 눈빛 장난 아니었습니다'</td>\n",
              "    </tr>\n",
              "    <tr>\n",
              "      <th>2</th>\n",
              "      <td>다만 악에서 구하소서</td>\n",
              "      <td>10</td>\n",
              "      <td>''</td>\n",
              "    </tr>\n",
              "    <tr>\n",
              "      <th>3</th>\n",
              "      <td>다만 악에서 구하소서</td>\n",
              "      <td>10</td>\n",
              "      <td>'역시 황정민이랑 이정재는 치트조합이다'</td>\n",
              "    </tr>\n",
              "    <tr>\n",
              "      <th>4</th>\n",
              "      <td>다만 악에서 구하소서</td>\n",
              "      <td>10</td>\n",
              "      <td>'영화관에서 3번봄 세번 다 만이천원 주고. 진짜 오랜만에 재밌는 영화였다 가슴 ...</td>\n",
              "    </tr>\n",
              "    <tr>\n",
              "      <th>...</th>\n",
              "      <td>...</td>\n",
              "      <td>...</td>\n",
              "      <td>...</td>\n",
              "    </tr>\n",
              "    <tr>\n",
              "      <th>5</th>\n",
              "      <td>다만 악에서 구하소서</td>\n",
              "      <td>7</td>\n",
              "      <td>''</td>\n",
              "    </tr>\n",
              "    <tr>\n",
              "      <th>6</th>\n",
              "      <td>다만 악에서 구하소서</td>\n",
              "      <td>10</td>\n",
              "      <td>'스토리 필요없어.. 배우들 표정 눈빛 하나하나가 이미 스토리야'</td>\n",
              "    </tr>\n",
              "    <tr>\n",
              "      <th>7</th>\n",
              "      <td>다만 악에서 구하소서</td>\n",
              "      <td>4</td>\n",
              "      <td>'그냥 삼류 아류 영화 다시는 안 볼 영화.개연성도 없고 스토리도 없는 액션만 죽...</td>\n",
              "    </tr>\n",
              "    <tr>\n",
              "      <th>8</th>\n",
              "      <td>다만 악에서 구하소서</td>\n",
              "      <td>10</td>\n",
              "      <td>''</td>\n",
              "    </tr>\n",
              "    <tr>\n",
              "      <th>9</th>\n",
              "      <td>다만 악에서 구하소서</td>\n",
              "      <td>10</td>\n",
              "      <td>'최근 나온 영화중에 제일 베스트라고 생각합니다.박정민 웃기고 이정재 감탄나오고 ...</td>\n",
              "    </tr>\n",
              "  </tbody>\n",
              "</table>\n",
              "<p>1560 rows × 3 columns</p>\n",
              "</div>"
            ],
            "text/plain": [
              "          Title Score                                             Review\n",
              "0   다만 악에서 구하소서    10                                                 '악\n",
              "1   다만 악에서 구하소서     9    '황정민 이정재 박정민 모두 연기 진짜 bb이정재 액션신에서 눈빛 장난 아니었습니다'\n",
              "2   다만 악에서 구하소서    10                                                 ''\n",
              "3   다만 악에서 구하소서    10                             '역시 황정민이랑 이정재는 치트조합이다'\n",
              "4   다만 악에서 구하소서    10   '영화관에서 3번봄 세번 다 만이천원 주고. 진짜 오랜만에 재밌는 영화였다 가슴 ...\n",
              "..          ...   ...                                                ...\n",
              "5   다만 악에서 구하소서     7                                                 ''\n",
              "6   다만 악에서 구하소서    10               '스토리 필요없어.. 배우들 표정 눈빛 하나하나가 이미 스토리야'\n",
              "7   다만 악에서 구하소서     4   '그냥 삼류 아류 영화 다시는 안 볼 영화.개연성도 없고 스토리도 없는 액션만 죽...\n",
              "8   다만 악에서 구하소서    10                                                 ''\n",
              "9   다만 악에서 구하소서    10   '최근 나온 영화중에 제일 베스트라고 생각합니다.박정민 웃기고 이정재 감탄나오고 ...\n",
              "\n",
              "[1560 rows x 3 columns]"
            ]
          },
          "metadata": {
            "tags": []
          },
          "execution_count": 18
        }
      ]
    },
    {
      "cell_type": "code",
      "metadata": {
        "id": "x3jq0E3eFzte"
      },
      "source": [
        ""
      ],
      "execution_count": null,
      "outputs": []
    }
  ]
}