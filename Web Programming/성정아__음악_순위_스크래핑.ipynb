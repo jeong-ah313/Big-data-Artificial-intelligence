{
  "nbformat": 4,
  "nbformat_minor": 0,
  "metadata": {
    "colab": {
      "name": "성정아 - _음악 순위 스크래핑.ipynb",
      "provenance": [],
      "collapsed_sections": []
    },
    "kernelspec": {
      "name": "python3",
      "display_name": "Python 3"
    }
  },
  "cells": [
    {
      "cell_type": "markdown",
      "metadata": {
        "id": "UPHtVV-4zEJ6"
      },
      "source": [
        "# BeautyfulSoup 음악 순위 스크래핑\n",
        "\n",
        "* 네이버 뮤직: https://music.naver.com/listen/top100.nhn"
      ]
    },
    {
      "cell_type": "code",
      "metadata": {
        "id": "a2AVpROOyqKw",
        "colab": {
          "base_uri": "https://localhost:8080/",
          "height": 419
        },
        "outputId": "6266ca41-4d1d-451f-c8f2-680f70436a52"
      },
      "source": [
        "from bs4 import BeautifulSoup\n",
        "import urllib.request\n",
        "import pandas as pd\n",
        "\n",
        "\n",
        "def get_music_ranks(url):\n",
        "  search_url = urllib.request.urlopen(url).read()\n",
        "  soup = BeautifulSoup(search_url, 'html.parser')\n",
        "\n",
        "  soup_titles = soup.select('a._title span.ellipsis')\n",
        "  titles = [title.get_text() for title in soup_titles]\n",
        "  soup_artists = soup.select('td._artist.artist > a')\n",
        "  artists = [artist.get_text().strip() for artist in soup_artists]\n",
        "\n",
        "  return titles, artists\n",
        "\n",
        "\n",
        "url_p1 = \"http://music.naver.com/listen/top100.nhn?domain=TOTAL_V2&page=1\"\n",
        "titles_50, artists_50 = get_music_ranks(url_p1)\n",
        "\n",
        "url_p2 = \"http://music.naver.com/listen/top100.nhn?domain=TOTAL_V2&page=2\"\n",
        "titles_100, artists_100 = get_music_ranks(url_p2)\n",
        "\n",
        "ranks = [rank for rank in range(1,101)]\n",
        "rank_df = pd.DataFrame({\"Rank\": ranks,\n",
        "                        \"Title\": titles_50 + artists_100,\n",
        "                        \"Artist\": artists_50 + artists_100})\n",
        "rank_df"
      ],
      "execution_count": null,
      "outputs": [
        {
          "output_type": "execute_result",
          "data": {
            "text/html": [
              "<div>\n",
              "<style scoped>\n",
              "    .dataframe tbody tr th:only-of-type {\n",
              "        vertical-align: middle;\n",
              "    }\n",
              "\n",
              "    .dataframe tbody tr th {\n",
              "        vertical-align: top;\n",
              "    }\n",
              "\n",
              "    .dataframe thead th {\n",
              "        text-align: right;\n",
              "    }\n",
              "</style>\n",
              "<table border=\"1\" class=\"dataframe\">\n",
              "  <thead>\n",
              "    <tr style=\"text-align: right;\">\n",
              "      <th></th>\n",
              "      <th>Rank</th>\n",
              "      <th>Title</th>\n",
              "      <th>Artist</th>\n",
              "    </tr>\n",
              "  </thead>\n",
              "  <tbody>\n",
              "    <tr>\n",
              "      <th>0</th>\n",
              "      <td>1</td>\n",
              "      <td>다시 여기 바닷가</td>\n",
              "      <td>싹쓰리(유두래곤, 린다G, 비룡)</td>\n",
              "    </tr>\n",
              "    <tr>\n",
              "      <th>1</th>\n",
              "      <td>2</td>\n",
              "      <td>그 여름을 틀어줘</td>\n",
              "      <td>싹쓰리(유두래곤, 린다G, 비룡)</td>\n",
              "    </tr>\n",
              "    <tr>\n",
              "      <th>2</th>\n",
              "      <td>3</td>\n",
              "      <td>마리아 (Maria)</td>\n",
              "      <td>화사(Hwa Sa)</td>\n",
              "    </tr>\n",
              "    <tr>\n",
              "      <th>3</th>\n",
              "      <td>4</td>\n",
              "      <td>How You Like That</td>\n",
              "      <td>BLACKPINK</td>\n",
              "    </tr>\n",
              "    <tr>\n",
              "      <th>4</th>\n",
              "      <td>5</td>\n",
              "      <td>LINDA (Feat. 윤미래)</td>\n",
              "      <td>린다G</td>\n",
              "    </tr>\n",
              "    <tr>\n",
              "      <th>...</th>\n",
              "      <td>...</td>\n",
              "      <td>...</td>\n",
              "      <td>...</td>\n",
              "    </tr>\n",
              "    <tr>\n",
              "      <th>95</th>\n",
              "      <td>96</td>\n",
              "      <td>전상근</td>\n",
              "      <td>전상근</td>\n",
              "    </tr>\n",
              "    <tr>\n",
              "      <th>96</th>\n",
              "      <td>97</td>\n",
              "      <td>코요태</td>\n",
              "      <td>코요태</td>\n",
              "    </tr>\n",
              "    <tr>\n",
              "      <th>97</th>\n",
              "      <td>98</td>\n",
              "      <td>영탁</td>\n",
              "      <td>영탁</td>\n",
              "    </tr>\n",
              "    <tr>\n",
              "      <th>98</th>\n",
              "      <td>99</td>\n",
              "      <td>Lady Gaga</td>\n",
              "      <td>Lady Gaga</td>\n",
              "    </tr>\n",
              "    <tr>\n",
              "      <th>99</th>\n",
              "      <td>100</td>\n",
              "      <td>아이유(IU)</td>\n",
              "      <td>아이유(IU)</td>\n",
              "    </tr>\n",
              "  </tbody>\n",
              "</table>\n",
              "<p>100 rows × 3 columns</p>\n",
              "</div>"
            ],
            "text/plain": [
              "    Rank              Title              Artist\n",
              "0      1          다시 여기 바닷가  싹쓰리(유두래곤, 린다G, 비룡)\n",
              "1      2          그 여름을 틀어줘  싹쓰리(유두래곤, 린다G, 비룡)\n",
              "2      3        마리아 (Maria)          화사(Hwa Sa)\n",
              "3      4  How You Like That           BLACKPINK\n",
              "4      5  LINDA (Feat. 윤미래)                 린다G\n",
              "..   ...                ...                 ...\n",
              "95    96                전상근                 전상근\n",
              "96    97                코요태                 코요태\n",
              "97    98                 영탁                  영탁\n",
              "98    99          Lady Gaga           Lady Gaga\n",
              "99   100            아이유(IU)             아이유(IU)\n",
              "\n",
              "[100 rows x 3 columns]"
            ]
          },
          "metadata": {
            "tags": []
          },
          "execution_count": 7
        }
      ]
    },
    {
      "cell_type": "code",
      "metadata": {
        "id": "hoplCBdKBRri"
      },
      "source": [
        ""
      ],
      "execution_count": null,
      "outputs": []
    }
  ]
}