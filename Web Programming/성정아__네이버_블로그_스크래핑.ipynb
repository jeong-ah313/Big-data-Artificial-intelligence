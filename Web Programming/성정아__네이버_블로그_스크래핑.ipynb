{
  "nbformat": 4,
  "nbformat_minor": 0,
  "metadata": {
    "colab": {
      "name": "성정아 - _네이버 블로그 스크래핑.ipynb",
      "provenance": [],
      "collapsed_sections": []
    },
    "kernelspec": {
      "name": "python3",
      "display_name": "Python 3"
    }
  },
  "cells": [
    {
      "cell_type": "markdown",
      "metadata": {
        "id": "UPHtVV-4zEJ6"
      },
      "source": [
        "# BeautyfulSoup 네이버 블로그 스크래핑"
      ]
    },
    {
      "cell_type": "markdown",
      "metadata": {
        "id": "d3qHWncUqw14"
      },
      "source": [
        "## 블로그 포스트 스크래핑 함수 정의"
      ]
    },
    {
      "cell_type": "code",
      "metadata": {
        "id": "xnVKBykSiGh5"
      },
      "source": [
        "from bs4 import BeautifulSoup\n",
        "import urllib.request\n",
        "from urllib.parse import quote\n",
        "import pandas as pd\n",
        "\n",
        "def get_posts(query, page_num=10):\n",
        "\n",
        "  url_query = quote(query)\n",
        "  url = \"https://search.naver.com/search.naver?where=post&query=\" + url_query\n",
        "  post_df = pd.DataFrame(columns=(\"Title\", \"Date\", \"Blogger\", \"Blog URL\", \"Post URL\", \"Post\"))\n",
        "  idx = 0\n",
        "\n",
        "  for _ in range(0,page_num):\n",
        "\n",
        "    search_url = urllib.request.urlopen(url).read()\n",
        "    soup = BeautifulSoup(search_url, 'html.parser')\n",
        "    posts = soup.find_all('li', {'class':'sh_blog_top'})\n",
        "\n",
        "    for post in posts:\n",
        "      title = post.find('a', {'class':'sh_blog_title _sp_each_url _sp_each_title'}).get('title')\n",
        "      date = post.find('dd', {'class':'txt_inline'}).get_text()\n",
        "      blogger = post.find('a', {'class':'txt84'}).get_text()\n",
        "      blog_url = post.find('a', {'class':'txt84'}).get('href')\n",
        "      post_url = post.find('a', {'class':'url'}).get('href')\n",
        "      post_link = urllib.request.urlopen(post_url).read()\n",
        "      post_html = BeautifulSoup(post_link, 'html.parser')\n",
        "\n",
        "      for main_frame in post_html.select(\"iframe#mainFrame\"):\n",
        "        frame_url = \"https://blog.naver.com\" + main_frame.get('src')\n",
        "        post_text = urllib.request.urlopen(frame_url).read()\n",
        "        post_html = BeautifulSoup(post_text, 'html.parser')\n",
        "        post_content_text = \"\"\n",
        "        \n",
        "        for post_content in post_html.find_all('div', {'class':'se-main-container'}):\n",
        "          post_content_text = post_content.get_text()\n",
        "\n",
        "        post_content_text = post_content_text.replace(\"\\n\", \"\")\n",
        "        post_content_text = post_content_text.replace(\"\\t\", \"\")\n",
        "\n",
        "        post_df.loc[idx] = [title, date, blogger, blog_url, post_url, post_content_text]\n",
        "        idx += 1\n",
        "        print(\"#\", end=\"\")\n",
        "    try:\n",
        "      next = soup.find('a', {'class':'next'}).get('href')\n",
        "      url = \"https://search.naver.com/search.naver\" + next\n",
        "    except:\n",
        "      break\n",
        "\n",
        "  return post_df"
      ],
      "execution_count": null,
      "outputs": []
    },
    {
      "cell_type": "markdown",
      "metadata": {
        "id": "tJftiNeEq6A5"
      },
      "source": [
        "## 블로그 포스트 스크래핑 실행"
      ]
    },
    {
      "cell_type": "code",
      "metadata": {
        "id": "1Ik6uftXiHys",
        "colab": {
          "base_uri": "https://localhost:8080/",
          "height": 72
        },
        "outputId": "6c05520a-688c-4844-e5bf-68a876096a44"
      },
      "source": [
        "query = input(\"검색질의: \")\n",
        "post_df = get_posts(query, 10)\n",
        "print(\"Done\")"
      ],
      "execution_count": null,
      "outputs": [
        {
          "output_type": "stream",
          "text": [
            "검색질의: 컴퓨터\n",
            "##############################################################################################Done\n"
          ],
          "name": "stdout"
        }
      ]
    },
    {
      "cell_type": "code",
      "metadata": {
        "id": "Gy75Y3UxRRRQ",
        "colab": {
          "base_uri": "https://localhost:8080/",
          "height": 1000
        },
        "outputId": "b168b395-90e3-465d-bd6f-6a1e5f469450"
      },
      "source": [
        "post_df"
      ],
      "execution_count": null,
      "outputs": [
        {
          "output_type": "execute_result",
          "data": {
            "text/html": [
              "<div>\n",
              "<style scoped>\n",
              "    .dataframe tbody tr th:only-of-type {\n",
              "        vertical-align: middle;\n",
              "    }\n",
              "\n",
              "    .dataframe tbody tr th {\n",
              "        vertical-align: top;\n",
              "    }\n",
              "\n",
              "    .dataframe thead th {\n",
              "        text-align: right;\n",
              "    }\n",
              "</style>\n",
              "<table border=\"1\" class=\"dataframe\">\n",
              "  <thead>\n",
              "    <tr style=\"text-align: right;\">\n",
              "      <th></th>\n",
              "      <th>Title</th>\n",
              "      <th>Date</th>\n",
              "      <th>Blogger</th>\n",
              "      <th>Blog URL</th>\n",
              "      <th>Post URL</th>\n",
              "      <th>Post</th>\n",
              "    </tr>\n",
              "  </thead>\n",
              "  <tbody>\n",
              "    <tr>\n",
              "      <th>0</th>\n",
              "      <td>2020최신기준 피시방 컴퓨터 사양</td>\n",
              "      <td>2020.08.02.</td>\n",
              "      <td>원트컴 (구.마블컴)</td>\n",
              "      <td>https://blog.naver.com/all_in_box</td>\n",
              "      <td>https://blog.naver.com/all_in_box?Redirect=Log...</td>\n",
              "      <td>안녕하세요 ^^ 한주를 마무리하는 일요일입니다. 요즘 코로나로 인해서 집에서 게이밍...</td>\n",
              "    </tr>\n",
              "    <tr>\n",
              "      <th>1</th>\n",
              "      <td>컴퓨터 화면 캡쳐 기본 프로그램과 단축키 이용하는 방법</td>\n",
              "      <td>2020.04.16.</td>\n",
              "      <td>모이모이의 IT 이야...</td>\n",
              "      <td>https://blog.naver.com/moimoi1357</td>\n",
              "      <td>https://blog.naver.com/moimoi1357?Redirect=Log...</td>\n",
              "      <td>다양한 최신 IT 기기에 대해 살펴보고 성능과 장단점에 대한 테스트를 진행하면서 사...</td>\n",
              "    </tr>\n",
              "    <tr>\n",
              "      <th>2</th>\n",
              "      <td>4K 작업도 문제없는 영상편집 컴퓨터 사양</td>\n",
              "      <td>2020.08.02.</td>\n",
              "      <td>조인스컴 공식블로그</td>\n",
              "      <td>https://blog.naver.com/hanwoo10303</td>\n",
              "      <td>https://blog.naver.com/hanwoo10303?Redirect=Lo...</td>\n",
              "      <td>​오늘은 프리미어 프로와 애프터 이펙트를 사용하기 위한 영상편집 컴퓨터를 소개합니다...</td>\n",
              "    </tr>\n",
              "    <tr>\n",
              "      <th>3</th>\n",
              "      <td>인텔 10세대 i7 10700이 장착된 최신 사양 주식 컴퓨터</td>\n",
              "      <td>2020.07.31.</td>\n",
              "      <td>비컴의 컴퓨터이야기</td>\n",
              "      <td>https://blog.naver.com/becom5f</td>\n",
              "      <td>https://blog.naver.com/becom5f?Redirect=Log&amp;lo...</td>\n",
              "      <td>Overview i7 10700 CPU를 장착한 최신 사양 주식 컴퓨터로 끊김 없...</td>\n",
              "    </tr>\n",
              "    <tr>\n",
              "      <th>4</th>\n",
              "      <td>활용도 높은 거실 컴퓨터  멋진 디자인</td>\n",
              "      <td>2일 전</td>\n",
              "      <td>애플매니아 피씨와맥</td>\n",
              "      <td>https://blog.naver.com/cutiedahee</td>\n",
              "      <td>https://blog.naver.com/cutiedahee?Redirect=Log...</td>\n",
              "      <td>편집디자인용으로 사용할 애플 컴퓨터 설치했습니다.며칠전 신형 아이맥이 발표되었는데 ...</td>\n",
              "    </tr>\n",
              "    <tr>\n",
              "      <th>...</th>\n",
              "      <td>...</td>\n",
              "      <td>...</td>\n",
              "      <td>...</td>\n",
              "      <td>...</td>\n",
              "      <td>...</td>\n",
              "      <td>...</td>\n",
              "    </tr>\n",
              "    <tr>\n",
              "      <th>89</th>\n",
              "      <td>또한번 휴대용 게이밍노트북의 신화를!! 인텔 i7 10세대 + GTX1650Ti 탑...</td>\n",
              "      <td>2020.07.09.</td>\n",
              "      <td>한성컴퓨터 공식 블로그</td>\n",
              "      <td>https://blog.naver.com/monsterlabs</td>\n",
              "      <td>https://blog.naver.com/monsterlabs?Redirect=Lo...</td>\n",
              "      <td>한성컴퓨터,10세대 인텔 CPU로 즐기는아방가르드한 노트북라이프!​TFG5075G ...</td>\n",
              "    </tr>\n",
              "    <tr>\n",
              "      <th>90</th>\n",
              "      <td>10700+RTX2070S탑재 게이밍 컴퓨터</td>\n",
              "      <td>2020.06.18.</td>\n",
              "      <td>양컴 양실장의 조립...</td>\n",
              "      <td>https://blog.naver.com/combox0</td>\n",
              "      <td>https://blog.naver.com/combox0?Redirect=Log&amp;lo...</td>\n",
              "      <td>게이밍 조립컴퓨터​안녕하세요, 양컴입니다.오늘은 160만원대의 게이밍 시스템 소개를...</td>\n",
              "    </tr>\n",
              "    <tr>\n",
              "      <th>91</th>\n",
              "      <td>QHD IPS 패널, 144Hz 주사율을 가진 32인치 광시야각 게이밍모니터!! 한...</td>\n",
              "      <td>2020.07.29.</td>\n",
              "      <td>한성컴퓨터 공식 블로그</td>\n",
              "      <td>https://blog.naver.com/monsterlabs</td>\n",
              "      <td>https://blog.naver.com/monsterlabs?Redirect=Lo...</td>\n",
              "      <td>한성컴퓨터 TFG32Q14P IPS QHD 144 게이밍 모니터  QHD IPS 패...</td>\n",
              "    </tr>\n",
              "    <tr>\n",
              "      <th>92</th>\n",
              "      <td>영화감상용  슬림 조립컴퓨터</td>\n",
              "      <td>2020.06.30.</td>\n",
              "      <td>용산 세븐컴 씨즌2 ...</td>\n",
              "      <td>https://blog.naver.com/seven8805</td>\n",
              "      <td>https://blog.naver.com/seven8805?Redirect=Log&amp;...</td>\n",
              "      <td>안녕하세요~용산 조립컴퓨터 전문매장  세븐컴피씨 입니다.​I3-9100 + 8GB ...</td>\n",
              "    </tr>\n",
              "    <tr>\n",
              "      <th>93</th>\n",
              "      <td>최고의 선택, 천상계 챌린저급 스펙을 마주하다. 끝판왕의 대명사 EX 시리즈, 한성...</td>\n",
              "      <td>2020.07.29.</td>\n",
              "      <td>한성컴퓨터 공식 블로그</td>\n",
              "      <td>https://blog.naver.com/monsterlabs</td>\n",
              "      <td>https://blog.naver.com/monsterlabs?Redirect=Lo...</td>\n",
              "      <td>한성컴퓨터 EX7079S  한성컴퓨터 EX7089S  끝판왕노트북,EX가 시작이었으...</td>\n",
              "    </tr>\n",
              "  </tbody>\n",
              "</table>\n",
              "<p>94 rows × 6 columns</p>\n",
              "</div>"
            ],
            "text/plain": [
              "                                                Title  ...                                               Post\n",
              "0                                 2020최신기준 피시방 컴퓨터 사양  ...  안녕하세요 ^^ 한주를 마무리하는 일요일입니다. 요즘 코로나로 인해서 집에서 게이밍...\n",
              "1                      컴퓨터 화면 캡쳐 기본 프로그램과 단축키 이용하는 방법  ...  다양한 최신 IT 기기에 대해 살펴보고 성능과 장단점에 대한 테스트를 진행하면서 사...\n",
              "2                             4K 작업도 문제없는 영상편집 컴퓨터 사양  ...  ​오늘은 프리미어 프로와 애프터 이펙트를 사용하기 위한 영상편집 컴퓨터를 소개합니다...\n",
              "3                  인텔 10세대 i7 10700이 장착된 최신 사양 주식 컴퓨터  ...   Overview i7 10700 CPU를 장착한 최신 사양 주식 컴퓨터로 끊김 없...\n",
              "4                               활용도 높은 거실 컴퓨터  멋진 디자인  ...  편집디자인용으로 사용할 애플 컴퓨터 설치했습니다.며칠전 신형 아이맥이 발표되었는데 ...\n",
              "..                                                ...  ...                                                ...\n",
              "89  또한번 휴대용 게이밍노트북의 신화를!! 인텔 i7 10세대 + GTX1650Ti 탑...  ...  한성컴퓨터,10세대 인텔 CPU로 즐기는아방가르드한 노트북라이프!​TFG5075G ...\n",
              "90                           10700+RTX2070S탑재 게이밍 컴퓨터  ...  게이밍 조립컴퓨터​안녕하세요, 양컴입니다.오늘은 160만원대의 게이밍 시스템 소개를...\n",
              "91  QHD IPS 패널, 144Hz 주사율을 가진 32인치 광시야각 게이밍모니터!! 한...  ...  한성컴퓨터 TFG32Q14P IPS QHD 144 게이밍 모니터  QHD IPS 패...\n",
              "92                                    영화감상용  슬림 조립컴퓨터  ...  안녕하세요~용산 조립컴퓨터 전문매장  세븐컴피씨 입니다.​I3-9100 + 8GB ...\n",
              "93  최고의 선택, 천상계 챌린저급 스펙을 마주하다. 끝판왕의 대명사 EX 시리즈, 한성...  ...  한성컴퓨터 EX7079S  한성컴퓨터 EX7089S  끝판왕노트북,EX가 시작이었으...\n",
              "\n",
              "[94 rows x 6 columns]"
            ]
          },
          "metadata": {
            "tags": []
          },
          "execution_count": 23
        }
      ]
    },
    {
      "cell_type": "code",
      "metadata": {
        "id": "mRmj71OjU_Gy"
      },
      "source": [
        ""
      ],
      "execution_count": null,
      "outputs": []
    }
  ]
}