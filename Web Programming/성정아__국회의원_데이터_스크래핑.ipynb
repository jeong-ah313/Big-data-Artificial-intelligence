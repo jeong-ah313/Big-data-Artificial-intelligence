{
  "nbformat": 4,
  "nbformat_minor": 0,
  "metadata": {
    "colab": {
      "name": "성정아 - _국회의원 데이터 스크래핑.ipynb",
      "provenance": [],
      "collapsed_sections": []
    },
    "kernelspec": {
      "name": "python3",
      "display_name": "Python 3"
    }
  },
  "cells": [
    {
      "cell_type": "markdown",
      "metadata": {
        "id": "suEY-kSdMIik"
      },
      "source": [
        "# Selenium 국회의원 데이터 스크래핑"
      ]
    },
    {
      "cell_type": "markdown",
      "metadata": {
        "id": "3h-QaTL7MOK5"
      },
      "source": [
        "## Selenium 및 웹 드라이버 설치"
      ]
    },
    {
      "cell_type": "code",
      "metadata": {
        "id": "1A-DPMQTYVeI",
        "colab": {
          "base_uri": "https://localhost:8080/",
          "height": 1000
        },
        "outputId": "d7744999-dafa-4039-e8e3-248d8c9d05ee"
      },
      "source": [
        "!pip install Selenium\n",
        "!apt-get update\n",
        "!apt install chromium-chromedriver\n",
        "!cp /usr/lib/chromium-brower/chromedriver /usr/bin\n",
        "\n",
        "import sys\n",
        "sys.path.insert(0, '/usr/lib/chrome-brower/chromedriver')\n",
        "\n",
        "from selenium import webdriver"
      ],
      "execution_count": null,
      "outputs": [
        {
          "output_type": "stream",
          "text": [
            "Collecting Selenium\n",
            "\u001b[?25l  Downloading https://files.pythonhosted.org/packages/80/d6/4294f0b4bce4de0abf13e17190289f9d0613b0a44e5dd6a7f5ca98459853/selenium-3.141.0-py2.py3-none-any.whl (904kB)\n",
            "\u001b[K     |████████████████████████████████| 911kB 4.3MB/s \n",
            "\u001b[?25hRequirement already satisfied: urllib3 in /usr/local/lib/python3.6/dist-packages (from Selenium) (1.24.3)\n",
            "Installing collected packages: Selenium\n",
            "Successfully installed Selenium-3.141.0\n",
            "Get:1 https://cloud.r-project.org/bin/linux/ubuntu bionic-cran35/ InRelease [3,626 B]\n",
            "Ign:2 https://developer.download.nvidia.com/compute/cuda/repos/ubuntu1804/x86_64  InRelease\n",
            "Ign:3 https://developer.download.nvidia.com/compute/machine-learning/repos/ubuntu1804/x86_64  InRelease\n",
            "Get:4 https://developer.download.nvidia.com/compute/cuda/repos/ubuntu1804/x86_64  Release [697 B]\n",
            "Hit:5 https://developer.download.nvidia.com/compute/machine-learning/repos/ubuntu1804/x86_64  Release\n",
            "Get:6 http://security.ubuntu.com/ubuntu bionic-security InRelease [88.7 kB]\n",
            "Get:7 https://developer.download.nvidia.com/compute/cuda/repos/ubuntu1804/x86_64  Release.gpg [836 B]\n",
            "Hit:8 http://ppa.launchpad.net/graphics-drivers/ppa/ubuntu bionic InRelease\n",
            "Hit:9 http://archive.ubuntu.com/ubuntu bionic InRelease\n",
            "Get:11 http://ppa.launchpad.net/marutter/c2d4u3.5/ubuntu bionic InRelease [15.4 kB]\n",
            "Get:12 http://archive.ubuntu.com/ubuntu bionic-updates InRelease [88.7 kB]\n",
            "Ign:13 https://developer.download.nvidia.com/compute/cuda/repos/ubuntu1804/x86_64  Packages\n",
            "Get:13 https://developer.download.nvidia.com/compute/cuda/repos/ubuntu1804/x86_64  Packages [255 kB]\n",
            "Get:14 http://archive.ubuntu.com/ubuntu bionic-backports InRelease [74.6 kB]\n",
            "Get:15 http://security.ubuntu.com/ubuntu bionic-security/universe amd64 Packages [884 kB]\n",
            "Get:16 http://security.ubuntu.com/ubuntu bionic-security/multiverse amd64 Packages [9,558 B]\n",
            "Get:17 http://security.ubuntu.com/ubuntu bionic-security/main amd64 Packages [1,038 kB]\n",
            "Get:18 http://ppa.launchpad.net/marutter/c2d4u3.5/ubuntu bionic/main Sources [1,857 kB]\n",
            "Get:19 http://archive.ubuntu.com/ubuntu bionic-updates/universe amd64 Packages [1,413 kB]\n",
            "Get:20 http://archive.ubuntu.com/ubuntu bionic-updates/multiverse amd64 Packages [27.1 kB]\n",
            "Get:21 http://archive.ubuntu.com/ubuntu bionic-updates/main amd64 Packages [1,336 kB]\n",
            "Get:22 http://archive.ubuntu.com/ubuntu bionic-updates/restricted amd64 Packages [116 kB]\n",
            "Get:23 http://ppa.launchpad.net/marutter/c2d4u3.5/ubuntu bionic/main amd64 Packages [896 kB]\n",
            "Fetched 8,104 kB in 4s (2,019 kB/s)\n",
            "Reading package lists... Done\n",
            "Reading package lists... Done\n",
            "Building dependency tree       \n",
            "Reading state information... Done\n",
            "The following package was automatically installed and is no longer required:\n",
            "  libnvidia-common-440\n",
            "Use 'apt autoremove' to remove it.\n",
            "The following additional packages will be installed:\n",
            "  chromium-browser chromium-browser-l10n chromium-codecs-ffmpeg-extra\n",
            "Suggested packages:\n",
            "  webaccounts-chromium-extension unity-chromium-extension adobe-flashplugin\n",
            "The following NEW packages will be installed:\n",
            "  chromium-browser chromium-browser-l10n chromium-chromedriver\n",
            "  chromium-codecs-ffmpeg-extra\n",
            "0 upgraded, 4 newly installed, 0 to remove and 54 not upgraded.\n",
            "Need to get 76.2 MB of archives.\n",
            "After this operation, 255 MB of additional disk space will be used.\n",
            "Get:1 http://archive.ubuntu.com/ubuntu bionic-updates/universe amd64 chromium-codecs-ffmpeg-extra amd64 84.0.4147.105-0ubuntu0.18.04.1 [1,118 kB]\n",
            "Get:2 http://archive.ubuntu.com/ubuntu bionic-updates/universe amd64 chromium-browser amd64 84.0.4147.105-0ubuntu0.18.04.1 [67.4 MB]\n",
            "Get:3 http://archive.ubuntu.com/ubuntu bionic-updates/universe amd64 chromium-browser-l10n all 84.0.4147.105-0ubuntu0.18.04.1 [3,379 kB]\n",
            "Get:4 http://archive.ubuntu.com/ubuntu bionic-updates/universe amd64 chromium-chromedriver amd64 84.0.4147.105-0ubuntu0.18.04.1 [4,354 kB]\n",
            "Fetched 76.2 MB in 5s (15.2 MB/s)\n",
            "Selecting previously unselected package chromium-codecs-ffmpeg-extra.\n",
            "(Reading database ... 144487 files and directories currently installed.)\n",
            "Preparing to unpack .../chromium-codecs-ffmpeg-extra_84.0.4147.105-0ubuntu0.18.04.1_amd64.deb ...\n",
            "Unpacking chromium-codecs-ffmpeg-extra (84.0.4147.105-0ubuntu0.18.04.1) ...\n",
            "Selecting previously unselected package chromium-browser.\n",
            "Preparing to unpack .../chromium-browser_84.0.4147.105-0ubuntu0.18.04.1_amd64.deb ...\n",
            "Unpacking chromium-browser (84.0.4147.105-0ubuntu0.18.04.1) ...\n",
            "Selecting previously unselected package chromium-browser-l10n.\n",
            "Preparing to unpack .../chromium-browser-l10n_84.0.4147.105-0ubuntu0.18.04.1_all.deb ...\n",
            "Unpacking chromium-browser-l10n (84.0.4147.105-0ubuntu0.18.04.1) ...\n",
            "Selecting previously unselected package chromium-chromedriver.\n",
            "Preparing to unpack .../chromium-chromedriver_84.0.4147.105-0ubuntu0.18.04.1_amd64.deb ...\n",
            "Unpacking chromium-chromedriver (84.0.4147.105-0ubuntu0.18.04.1) ...\n",
            "Setting up chromium-codecs-ffmpeg-extra (84.0.4147.105-0ubuntu0.18.04.1) ...\n",
            "Setting up chromium-browser (84.0.4147.105-0ubuntu0.18.04.1) ...\n",
            "update-alternatives: using /usr/bin/chromium-browser to provide /usr/bin/x-www-browser (x-www-browser) in auto mode\n",
            "update-alternatives: using /usr/bin/chromium-browser to provide /usr/bin/gnome-www-browser (gnome-www-browser) in auto mode\n",
            "Setting up chromium-chromedriver (84.0.4147.105-0ubuntu0.18.04.1) ...\n",
            "Setting up chromium-browser-l10n (84.0.4147.105-0ubuntu0.18.04.1) ...\n",
            "Processing triggers for hicolor-icon-theme (0.17-2) ...\n",
            "Processing triggers for mime-support (3.60ubuntu1) ...\n",
            "Processing triggers for man-db (2.8.3-2ubuntu0.1) ...\n",
            "cp: cannot stat '/usr/lib/chromium-brower/chromedriver': No such file or directory\n"
          ],
          "name": "stdout"
        }
      ]
    },
    {
      "cell_type": "markdown",
      "metadata": {
        "id": "poBbcTTYMQpn"
      },
      "source": [
        "## 라이브러리 import"
      ]
    },
    {
      "cell_type": "code",
      "metadata": {
        "id": "PiC1O-lrYXEF"
      },
      "source": [
        "import os\n",
        "import shutil\n",
        "import time\n",
        "import pandas as pd\n",
        "from selenium import webdriver\n",
        "from selenium.common.exceptions import NoSuchElementException\n",
        "from urllib.request import urlretrieve\n",
        "\n",
        "chrome_options = webdriver.ChromeOptions()\n",
        "chrome_options.add_argument('--headless')\n",
        "chrome_options.add_argument('--no-sandbox')\n",
        "chrome_options.add_argument('--disable-dev-shm-usage')"
      ],
      "execution_count": null,
      "outputs": []
    },
    {
      "cell_type": "markdown",
      "metadata": {
        "id": "ie7-_HoXP5b7"
      },
      "source": [
        "# 국회의원 기본정보 스크래핑"
      ]
    },
    {
      "cell_type": "code",
      "metadata": {
        "id": "PTV1U3RdvkM-"
      },
      "source": [
        "def get_politician_info(dir_name, wd):\n",
        "\n",
        "  profile_info = wd.find_element_by_class_name('depAnalProfileTbl')\n",
        "\n",
        "  cols = profile_info.find_elements_by_tag_name('th')\n",
        "  columns = [col.text for col in cols]\n",
        "\n",
        "  infos = profile_info.find_elements_by_tag_name('td')\n",
        "  \n",
        "  detail_info = [info.text for info in infos]\n",
        "\n",
        "  info_dic = { col:info for col, info in zip(columns, detail_info) }\n",
        "\n",
        "  return info_dic"
      ],
      "execution_count": null,
      "outputs": []
    },
    {
      "cell_type": "code",
      "metadata": {
        "id": "Sqth_Iu4aiEv"
      },
      "source": [
        ""
      ],
      "execution_count": null,
      "outputs": []
    },
    {
      "cell_type": "markdown",
      "metadata": {
        "id": "WgLO5rDEVD4c"
      },
      "source": [
        "# 국회의원 뉴스 인용문"
      ]
    },
    {
      "cell_type": "code",
      "metadata": {
        "id": "2EG2XxM7h7_W",
        "cellView": "code"
      },
      "source": [
        "def get_news_quote(dir_name, name, wd, news_max=5):\n",
        "\n",
        "  page_no = 0\n",
        "  news_count = 0\n",
        "  news_total = wd.find_element_by_id('newsInQoutTotalCount').text[1:-2]\n",
        "  news_file = open(dir_name + '/' + name + '뉴스 인용문.txt', 'w')\n",
        "\n",
        "  while True:\n",
        "    try:\n",
        "      page_no +=1\n",
        "      paging = wd.find_element_by_id('newsInQuotListPaging')\n",
        "      pagination = paging.find_element_by_class_name('pagination')\n",
        "      pagination.find_element_by_link_text(str(page_no)).click()\n",
        "      time.sleep(1)\n",
        "      print(f\"뉴스 인용문 {page_no} 페이지\")\n",
        "\n",
        "      box_list = wd.find_element_by_id('newsInQuotList')\n",
        "      quotes = box_list.find_elements_by_tag_name('b')\n",
        "      for quote in quotes:\n",
        "        news_file.write(quote.text + '\\n')\n",
        "        news_count += 1\n",
        "        print(f\"  {news_count}/{news_total}\", [quote.text])\n",
        "\n",
        "        if news_count >= news_max:\n",
        "          break\n",
        "\n",
        "      if news_count >= news_max:\n",
        "        break\n",
        "        \n",
        "\n",
        "      next_button = pagination.find_elements_by_tag_name('li')[-1]\n",
        "      if next_button.get_attribute('class') == 'disabled':\n",
        "        break\n",
        "\n",
        "      if page_no % 5 == 0:\n",
        "        next_button.find_element_by_tag_name('a').click()\n",
        "        time.sleep(1)\n",
        "    \n",
        "    except:\n",
        "      break\n",
        "\n",
        "  news_file.close()"
      ],
      "execution_count": null,
      "outputs": []
    },
    {
      "cell_type": "markdown",
      "metadata": {
        "id": "ZjRLI6FiogYN"
      },
      "source": [
        "## 국회의원 회의록"
      ]
    },
    {
      "cell_type": "code",
      "metadata": {
        "id": "TYyAk1atoiw6"
      },
      "source": [
        "def get_record_quote(dir_name, name, wd, record_max=5):\n",
        "\n",
        "  page_no = 0\n",
        "  recoed_count = 0\n",
        "  record_total = wd.find_element_by_id('recordTotalCount').text\n",
        "  record_file = open(dir_name + '/' + name + '회의록 인용문.txt', 'w')\n",
        "\n",
        "  while True:\n",
        "    try:\n",
        "      page_no += 1\n",
        "      paging = wd.find_element_by_id('recordTableListPaging')\n",
        "      pagination.find_element_by_link_text(str(page_no)).click()\n",
        "      time.sleep(1)\n",
        "      print(f\"회의록 인용문 {page_no}페이지\")\n",
        "\n",
        "      record_table = wd.find_element_bt_id('birefTableList')\n",
        "      record_list = record_table.find_elements_by_tag_name('a')\n",
        "      for record in record_list:\n",
        "        record.click()\n",
        "        time.sleep(1)\n",
        "\n",
        "        qoute_list = wd.find_element_by_id('birefTableList')\n",
        "        qoutes = qoute_list.find_elements_by_tag_name('td')\n",
        "        for qoute in qoutes:\n",
        "          record_file.write(qoute.text +'\\n')\n",
        "\n",
        "        record_count += 1\n",
        "        print(f\" {record_count}/{record_total}\", {qoute.text})\n",
        "        \n",
        "        if record_count >= record_max:\n",
        "          break\n",
        "\n",
        "      if record_count >= record_max:\n",
        "          break\n",
        "\n",
        "      next_button = pagination.find_elements_by_tag_name('li')[-1]\n",
        "      if next_button.get_attribute('class') =='disable':\n",
        "        break\n",
        "      \n",
        "      if page_no % 5 ==0:\n",
        "        next_button.find_element_by_tag_name('a').click()\n",
        "        time.sleep(1)\n",
        "    \n",
        "    except:\n",
        "      break\n",
        "\n",
        "  record_file.close()"
      ],
      "execution_count": null,
      "outputs": []
    },
    {
      "cell_type": "markdown",
      "metadata": {
        "id": "q7CwOyA2fGgj"
      },
      "source": [
        "## `scraping()`: 스크래핑"
      ]
    },
    {
      "cell_type": "code",
      "metadata": {
        "id": "irTU3lmnFE1t"
      },
      "source": [
        "def scraping(dir_name, politician_max=3):\n",
        "  page_no = 0\n",
        "  politician_count = 0\n",
        "  politician_df = pd.DataFrame()\n",
        "\n",
        "  wd = webdriver.Chrome('chromedriver', options=chrome_options)\n",
        "  wd.execute_script('window.open(\"about:blank\", \"_blank\");')\n",
        "  tabs = wd.window_handles\n",
        "\n",
        "  while True:\n",
        "\n",
        "    try:\n",
        "      page_no += 1\n",
        "      wd.switch_to.window(tabs[0])\n",
        "\n",
        "      url = f\"https://www.bigkinds.or.kr/v2/depthAnalysis/assembly.do?page={page_no}\"\n",
        "      wd.get(url)\n",
        "      politician_total = wd.find_element_by_xpath('//*[@id=\"contents\"]/div/div[3]/div/button[1]/span').text[1:-1]\n",
        "      politician_items = wd.find_elements_by_class_name('assembly-item')\n",
        "\n",
        "      if not politician_items:\n",
        "        break\n",
        "\n",
        "      for item in politician_items:\n",
        "        wd.switch_to.window(tabs[0])\n",
        "\n",
        "        politician_count += 1\n",
        "        print(\"---------------------------------------\")\n",
        "        print(f\"국회의원 {politician_count}/{politician_total} 명\")\n",
        "        name = item.find_element_by_class_name('assembly-item__profile__name').text\n",
        "        name = name.split('\\n')[0]\n",
        "        print(name)\n",
        "\n",
        "        detail_link = item.find_element_by_tag_name('a').get_attribute('href')\n",
        "\n",
        "        wd.switch_to.window(tabs[1])\n",
        "        wd.get(detail_link)\n",
        "\n",
        "        print(\"[프로필 이미지 다운로드]\")\n",
        "        profile_image = wd.find_element_by_class_name('depAnalProfileImg')\n",
        "        image_src = profile_image.find_element_by_tag_name('img').get_attribute('src')\n",
        "        file_name = dir_name + '/' + name + '.jpg'\n",
        "        print(file_name)\n",
        "        urlretrieve(image_src, file_name)\n",
        "\n",
        "        print(\"[기본 정보 스크래핑]\")\n",
        "        politician_dic = get_politician_info(dir_name, wd)\n",
        "        print(\" \", politician_dic)\n",
        "        politician_df = politician_df.append(politician_dic, ignore_index=True)\n",
        "\n",
        "        print(\"[뉴스 인용문 스크래핑]\")\n",
        "        wd.find_element_by_id('depthAnalTab2_1').find_element_by_tag_name('a').click()\n",
        "        get_news_qoute(dir_name, name, wd)\n",
        "\n",
        "        print(\"[회의록 인용문 스크래핑]\")\n",
        "        get_record_quote(dir_name, name, wd)\n",
        "\n",
        "        if politician_count >= politician_max:\n",
        "          break\n",
        "\n",
        "      if politician_count >= politician_max:\n",
        "        break\n",
        "\n",
        "    except AttributeError as e:\n",
        "      print(e)\n",
        "      break\n",
        "\n",
        "    except NoSuchElementException as e:\n",
        "      print(e)\n",
        "      break\n",
        "\n",
        "\n",
        "  wd.close()\n",
        "\n",
        "  return politician_df"
      ],
      "execution_count": null,
      "outputs": []
    },
    {
      "cell_type": "markdown",
      "metadata": {
        "id": "tL_4cKbHc06R"
      },
      "source": [
        "# 스크래핑 시작"
      ]
    },
    {
      "cell_type": "code",
      "metadata": {
        "id": "BASIDgGzXCAj",
        "colab": {
          "base_uri": "https://localhost:8080/",
          "height": 535
        },
        "outputId": "84c3dd99-f583-4e99-dcb5-8f6ed745f55f"
      },
      "source": [
        "dir_name = './politician'\n",
        "if os.path.isdir(dir_name):\n",
        "  shutil.rmtree(dir_name)\n",
        "\n",
        "os.makedirs(dir_name)\n",
        "print(f\"{dir_name} 디렉토리 생성\")\n",
        "\n",
        "politician_df = scraping(dir_name)"
      ],
      "execution_count": null,
      "outputs": [
        {
          "output_type": "stream",
          "text": [
            "./politician 디렉토리 생성\n",
            "---------------------------------------\n",
            "국회의원 1/300 명\n",
            "강기윤 (姜起潤)\n",
            "[프로필 이미지 다운로드]\n",
            "./politician/강기윤 (姜起潤).jpg\n",
            "[기본 정보 스크래핑]\n",
            "  {'이름': '강기윤(姜起潤)', '이름(영문)': 'KANG GIYUN', '출생일': '1960-06-04', '정당': '미래통합당', '지역구': '경남 창원시성산구', '소속위원회': '보건복지위원회', '당선기록': '재선(19대, 21대)', '사무실전화': '02-784-1751', '홈페이지': 'http://blog.naver.com/ggotop', '이메일': 'ggotop@naver.com', '보좌관': '강종길 , 김홍광', '경력': '[학력] 마산공고(26회) 창원대학교 행정학과 중앙대학교 행정대학원 지방의회과 석사 창원대학교 대학원 행정학 박사 [경력] 보건복지위원회 위원 미래통합당 소상공인살리기 특별위원회 부위원장 미래통합당 경남도당 민생특위 위원장 제19대 국회의원 (새누리당/경남 창원시 성산구) 새누리당 원내부대표'}\n",
            "[뉴스 인용문 스크래핑]\n",
            "[회의록 인용문 스크래핑]\n",
            "---------------------------------------\n",
            "국회의원 2/300 명\n",
            "강대식 (姜大植)\n",
            "[프로필 이미지 다운로드]\n",
            "./politician/강대식 (姜大植).jpg\n",
            "[기본 정보 스크래핑]\n",
            "  {'이름': '강대식(姜大植)', '이름(영문)': 'KANG DAESIK', '출생일': '1959-11-02', '정당': '미래통합당', '지역구': '대구 동구을', '소속위원회': '국방위원회', '당선기록': '초선(21대)', '사무실전화': '', '홈페이지': '', '이메일': '', '보좌관': '박홍규 , 정운태', '경력': ''}\n",
            "[뉴스 인용문 스크래핑]\n",
            "[회의록 인용문 스크래핑]\n",
            "---------------------------------------\n",
            "국회의원 3/300 명\n",
            "강득구 (姜得求)\n",
            "[프로필 이미지 다운로드]\n",
            "./politician/강득구 (姜得求).jpg\n",
            "[기본 정보 스크래핑]\n",
            "  {'이름': '강득구(姜得求)', '이름(영문)': 'KANG DEUKGU', '출생일': '1963-05-27', '정당': '더불어민주당', '지역구': '경기 안양시만안구', '소속위원회': '교육위원회', '당선기록': '초선(21대)', '사무실전화': '02-784-2747~9', '홈페이지': 'https://blog.naver.com/dulipapa', '이메일': 'mainsail440@daum.net', '보좌관': '유진우', '경력': '2018. 10. ~ 2019. 5. 민주연구원 자치발전연구센터 본부장 2016. 10. ~ 2018. 3. 경기도 연정부지사 2014. 7. ~ 2016. 1. 경기도의회 의장 2010. 7. ~ 2014. 6. 경기도의회 의원(2013. 7. ~ 2014. 6. 민주당 대표) 1998. 7. ~ 2002. 6. 경기도의회 의원'}\n",
            "[뉴스 인용문 스크래핑]\n",
            "[회의록 인용문 스크래핑]\n"
          ],
          "name": "stdout"
        }
      ]
    },
    {
      "cell_type": "code",
      "metadata": {
        "id": "ZH4pCGHiXK3T",
        "colab": {
          "base_uri": "https://localhost:8080/",
          "height": 875
        },
        "outputId": "574b3a78-802b-4ddc-f0a0-1db167010fa2"
      },
      "source": [
        "politician_df"
      ],
      "execution_count": null,
      "outputs": [
        {
          "output_type": "execute_result",
          "data": {
            "text/html": [
              "<div>\n",
              "<style scoped>\n",
              "    .dataframe tbody tr th:only-of-type {\n",
              "        vertical-align: middle;\n",
              "    }\n",
              "\n",
              "    .dataframe tbody tr th {\n",
              "        vertical-align: top;\n",
              "    }\n",
              "\n",
              "    .dataframe thead th {\n",
              "        text-align: right;\n",
              "    }\n",
              "</style>\n",
              "<table border=\"1\" class=\"dataframe\">\n",
              "  <thead>\n",
              "    <tr style=\"text-align: right;\">\n",
              "      <th></th>\n",
              "      <th>경력</th>\n",
              "      <th>당선기록</th>\n",
              "      <th>보좌관</th>\n",
              "      <th>사무실전화</th>\n",
              "      <th>소속위원회</th>\n",
              "      <th>이름</th>\n",
              "      <th>이름(영문)</th>\n",
              "      <th>이메일</th>\n",
              "      <th>정당</th>\n",
              "      <th>지역구</th>\n",
              "      <th>출생일</th>\n",
              "      <th>홈페이지</th>\n",
              "    </tr>\n",
              "  </thead>\n",
              "  <tbody>\n",
              "    <tr>\n",
              "      <th>0</th>\n",
              "      <td>[학력] 마산공고(26회) 창원대학교 행정학과 중앙대학교 행정대학원 지방의회과 석사...</td>\n",
              "      <td>재선(19대, 21대)</td>\n",
              "      <td>강종길 , 김홍광</td>\n",
              "      <td>02-784-1751</td>\n",
              "      <td>보건복지위원회</td>\n",
              "      <td>강기윤(姜起潤)</td>\n",
              "      <td>KANG GIYUN</td>\n",
              "      <td>ggotop@naver.com</td>\n",
              "      <td>미래통합당</td>\n",
              "      <td>경남 창원시성산구</td>\n",
              "      <td>1960-06-04</td>\n",
              "      <td>http://blog.naver.com/ggotop</td>\n",
              "    </tr>\n",
              "    <tr>\n",
              "      <th>1</th>\n",
              "      <td></td>\n",
              "      <td>초선(21대)</td>\n",
              "      <td>박홍규 , 정운태</td>\n",
              "      <td></td>\n",
              "      <td>국방위원회</td>\n",
              "      <td>강대식(姜大植)</td>\n",
              "      <td>KANG DAESIK</td>\n",
              "      <td></td>\n",
              "      <td>미래통합당</td>\n",
              "      <td>대구 동구을</td>\n",
              "      <td>1959-11-02</td>\n",
              "      <td></td>\n",
              "    </tr>\n",
              "    <tr>\n",
              "      <th>2</th>\n",
              "      <td>2018. 10. ~ 2019. 5. 민주연구원 자치발전연구센터 본부장 2016. ...</td>\n",
              "      <td>초선(21대)</td>\n",
              "      <td>유진우</td>\n",
              "      <td>02-784-2747~9</td>\n",
              "      <td>교육위원회</td>\n",
              "      <td>강득구(姜得求)</td>\n",
              "      <td>KANG DEUKGU</td>\n",
              "      <td>mainsail440@daum.net</td>\n",
              "      <td>더불어민주당</td>\n",
              "      <td>경기 안양시만안구</td>\n",
              "      <td>1963-05-27</td>\n",
              "      <td>https://blog.naver.com/dulipapa</td>\n",
              "    </tr>\n",
              "  </tbody>\n",
              "</table>\n",
              "</div>"
            ],
            "text/plain": [
              "                                                  경력  ...                             홈페이지\n",
              "0  [학력] 마산공고(26회) 창원대학교 행정학과 중앙대학교 행정대학원 지방의회과 석사...  ...     http://blog.naver.com/ggotop\n",
              "1                                                     ...                                 \n",
              "2  2018. 10. ~ 2019. 5. 민주연구원 자치발전연구센터 본부장 2016. ...  ...  https://blog.naver.com/dulipapa\n",
              "\n",
              "[3 rows x 12 columns]"
            ]
          },
          "metadata": {
            "tags": []
          },
          "execution_count": 19
        }
      ]
    },
    {
      "cell_type": "markdown",
      "metadata": {
        "id": "4B6-AQX_zJXJ"
      },
      "source": [
        "## 스크래핑 확인"
      ]
    },
    {
      "cell_type": "code",
      "metadata": {
        "id": "r0eXGUU-0Nib",
        "colab": {
          "base_uri": "https://localhost:8080/",
          "height": 106
        },
        "outputId": "e9cbdf55-d857-4ec5-97a5-3af2592d0d45"
      },
      "source": [
        "!ls politician/"
      ],
      "execution_count": null,
      "outputs": [
        {
          "output_type": "stream",
          "text": [
            "'강대식 (姜大植).jpg'\t\t    '강득구 (姜得求)회의록 인용문.txt'\n",
            "'강대식 (姜大植)뉴스 인용문.txt'    '강기윤 (姜起潤).jpg'\n",
            "'강대식 (姜大植)회의록 인용문.txt'  '강기윤 (姜起潤)뉴스 인용문.txt'\n",
            "'강득구 (姜得求).jpg'\t\t    '강기윤 (姜起潤)회의록 인용문.txt'\n",
            "'강득구 (姜得求)뉴스 인용문.txt'\n"
          ],
          "name": "stdout"
        }
      ]
    },
    {
      "cell_type": "code",
      "metadata": {
        "id": "DMt0P9qDqLA7",
        "colab": {
          "base_uri": "https://localhost:8080/",
          "height": 17
        },
        "outputId": "51bf7796-c8a3-4ebd-c581-1a04a633b38a"
      },
      "source": [
        "from google.colab import files\n",
        "files.download('./politician/강대식 (姜大植).jpg')"
      ],
      "execution_count": null,
      "outputs": [
        {
          "output_type": "display_data",
          "data": {
            "application/javascript": [
              "\n",
              "    async function download(id, filename, size) {\n",
              "      if (!google.colab.kernel.accessAllowed) {\n",
              "        return;\n",
              "      }\n",
              "      const div = document.createElement('div');\n",
              "      const label = document.createElement('label');\n",
              "      label.textContent = `Downloading \"${filename}\": `;\n",
              "      div.appendChild(label);\n",
              "      const progress = document.createElement('progress');\n",
              "      progress.max = size;\n",
              "      div.appendChild(progress);\n",
              "      document.body.appendChild(div);\n",
              "\n",
              "      const buffers = [];\n",
              "      let downloaded = 0;\n",
              "\n",
              "      const channel = await google.colab.kernel.comms.open(id);\n",
              "      // Send a message to notify the kernel that we're ready.\n",
              "      channel.send({})\n",
              "\n",
              "      for await (const message of channel.messages) {\n",
              "        // Send a message to notify the kernel that we're ready.\n",
              "        channel.send({})\n",
              "        if (message.buffers) {\n",
              "          for (const buffer of message.buffers) {\n",
              "            buffers.push(buffer);\n",
              "            downloaded += buffer.byteLength;\n",
              "            progress.value = downloaded;\n",
              "          }\n",
              "        }\n",
              "      }\n",
              "      const blob = new Blob(buffers, {type: 'application/binary'});\n",
              "      const a = document.createElement('a');\n",
              "      a.href = window.URL.createObjectURL(blob);\n",
              "      a.download = filename;\n",
              "      div.appendChild(a);\n",
              "      a.click();\n",
              "      div.remove();\n",
              "    }\n",
              "  "
            ],
            "text/plain": [
              "<IPython.core.display.Javascript object>"
            ]
          },
          "metadata": {
            "tags": []
          }
        },
        {
          "output_type": "display_data",
          "data": {
            "application/javascript": [
              "download(\"download_937a2c02-e92e-4014-b665-e0b21793be8e\", \"\\uac15\\ub300\\uc2dd (\\u59dc\\u5927\\u690d).jpg\", 31390)"
            ],
            "text/plain": [
              "<IPython.core.display.Javascript object>"
            ]
          },
          "metadata": {
            "tags": []
          }
        }
      ]
    },
    {
      "cell_type": "code",
      "metadata": {
        "id": "PLwRM4HpzNkc"
      },
      "source": [
        "! cat './politician/강대식 (姜大植)뉴스 인용문.txt'"
      ],
      "execution_count": null,
      "outputs": []
    },
    {
      "cell_type": "code",
      "metadata": {
        "id": "-NXQjI5Q1PNb"
      },
      "source": [
        "! cat './politician/강대식 (姜大植)회의록 인용문.txt'"
      ],
      "execution_count": null,
      "outputs": []
    }
  ]
}