{
  "nbformat": 4,
  "nbformat_minor": 0,
  "metadata": {
    "colab": {
      "name": "성정아 - _8 케라스 순환 신경망.ipynb",
      "provenance": [],
      "collapsed_sections": []
    },
    "kernelspec": {
      "name": "python3",
      "display_name": "Python 3"
    },
    "accelerator": "GPU"
  },
  "cells": [
    {
      "cell_type": "markdown",
      "metadata": {
        "id": "XP9Qr2-36gAf"
      },
      "source": [
        "# 순환 신경망(Recurrent Neural Network, RNN)\n",
        "\n",
        "- 루프(loop)를 가진 신경망의 한 종류\n",
        "\n",
        "- 시퀀스의 원소를 순회하면서 지금까지 처리한 정보를 상태(state)에 저장\n",
        "\n",
        "<img src=\"https://miro.medium.com/max/627/1*go8PHsPNbbV6qRiwpUQ5BQ.png\">\n",
        "\n",
        "<sub>출처: https://towardsdatascience.com/understanding-rnn-and-lstm-f7cdf6dfc14e</sub>"
      ]
    },
    {
      "cell_type": "markdown",
      "metadata": {
        "id": "lp3_sVIjHk0F"
      },
      "source": [
        "## 순환 신경망 레이어 (RNN Layer)\n",
        "\n",
        "- 입력: `(timesteps, input_features)`\n",
        "\n",
        "- 출력: `(timesteps, output_features)`"
      ]
    },
    {
      "cell_type": "code",
      "metadata": {
        "id": "n08yr0aAIbFD"
      },
      "source": [
        "import numpy as np"
      ],
      "execution_count": null,
      "outputs": []
    },
    {
      "cell_type": "code",
      "metadata": {
        "id": "ZKIInEEZIcBj"
      },
      "source": [
        "timesteps = 100\n",
        "input_features = 32\n",
        "output_features = 64\n",
        "\n",
        "inputs = np.random.random((timesteps, input_features))\n",
        "\n",
        "state_t = np.zeros((output_features, ))\n",
        "\n",
        "W = np.random.random((output_features, input_features))\n",
        "U = np.random.random((output_features, output_features))\n",
        "b = np.random.random((output_features, ))\n",
        "\n",
        "sucessive_outputs = []\n",
        "\n",
        "for input_t in inputs:\n",
        "  output_t = np.tanh(np.dot(W, input_t) + np.dot(U, state_t) + b)\n",
        "  sucessive_outputs.append(output_t)\n",
        "  state_t = output_t\n",
        "\n",
        "final_output_sequence = np.stack(sucessive_outputs, axis=0)"
      ],
      "execution_count": null,
      "outputs": []
    },
    {
      "cell_type": "markdown",
      "metadata": {
        "id": "bEZ8dQEEKxlQ"
      },
      "source": [
        "## 케라스의 순환층\n",
        "- `SimpleRNN` layer\n",
        "\n",
        "- 입력: `(batch_size, timesteps, input_features)`\n",
        "\n",
        "- 출력\n",
        "  - `return_sequences`로 결정할 수 있음\n",
        "  \n",
        "  - 3D 텐서\n",
        "    - 타임스텝의 출력을 모은 전체 시퀀스를 반환\n",
        "\n",
        "    - `(batch_size, timesteps, output_features)`\n",
        "\n",
        "  - 2D 텐서\n",
        "    - 입력 시퀀스에 대한 마지막 출력만 반환\n",
        "\n",
        "    - `(batch_size, output_features)`\n"
      ]
    },
    {
      "cell_type": "code",
      "metadata": {
        "id": "lZ1YCi1iKMC8"
      },
      "source": [
        "from tensorflow.keras.layers import SimpleRNN, Embedding\n",
        "from tensorflow.keras.models import Sequential"
      ],
      "execution_count": null,
      "outputs": []
    },
    {
      "cell_type": "code",
      "metadata": {
        "id": "GQ9LbTgoKxIl",
        "colab": {
          "base_uri": "https://localhost:8080/",
          "height": 230
        },
        "outputId": "5340079b-4418-4e64-a350-65b7efb09184"
      },
      "source": [
        "model = Sequential()\n",
        "model.add(Embedding(10000, 32))\n",
        "model.add(SimpleRNN(32))\n",
        "model.summary()"
      ],
      "execution_count": null,
      "outputs": [
        {
          "output_type": "stream",
          "text": [
            "Model: \"sequential_2\"\n",
            "_________________________________________________________________\n",
            "Layer (type)                 Output Shape              Param #   \n",
            "=================================================================\n",
            "embedding_2 (Embedding)      (None, None, 32)          320000    \n",
            "_________________________________________________________________\n",
            "simple_rnn_2 (SimpleRNN)     (None, 32)                2080      \n",
            "=================================================================\n",
            "Total params: 322,080\n",
            "Trainable params: 322,080\n",
            "Non-trainable params: 0\n",
            "_________________________________________________________________\n"
          ],
          "name": "stdout"
        }
      ]
    },
    {
      "cell_type": "code",
      "metadata": {
        "id": "KDxE5Jv0Kc7O",
        "colab": {
          "base_uri": "https://localhost:8080/",
          "height": 230
        },
        "outputId": "010de35a-b81f-42e1-dc71-c6264327f33e"
      },
      "source": [
        "model = Sequential()\n",
        "model.add(Embedding(10000, 32))\n",
        "model.add(SimpleRNN(32, return_sequences=True))\n",
        "model.summary()"
      ],
      "execution_count": null,
      "outputs": [
        {
          "output_type": "stream",
          "text": [
            "Model: \"sequential_3\"\n",
            "_________________________________________________________________\n",
            "Layer (type)                 Output Shape              Param #   \n",
            "=================================================================\n",
            "embedding_3 (Embedding)      (None, None, 32)          320000    \n",
            "_________________________________________________________________\n",
            "simple_rnn_3 (SimpleRNN)     (None, None, 32)          2080      \n",
            "=================================================================\n",
            "Total params: 322,080\n",
            "Trainable params: 322,080\n",
            "Non-trainable params: 0\n",
            "_________________________________________________________________\n"
          ],
          "name": "stdout"
        }
      ]
    },
    {
      "cell_type": "markdown",
      "metadata": {
        "id": "E-MDIz1zcIyP"
      },
      "source": [
        "- 네트워크의 표현력을 증가시키기 위해 여러 개의 순환층을 차례대로 쌓는 것이 유용할 때가 있음\n",
        "\n",
        "  - 이런 설정에서는 중간층들이 전체 출력 시퀀스를 반환하도록 설정"
      ]
    },
    {
      "cell_type": "code",
      "metadata": {
        "id": "E1tUaIe2L7GZ",
        "colab": {
          "base_uri": "https://localhost:8080/",
          "height": 337
        },
        "outputId": "3594faff-eb1f-426b-c7fb-dbcb33edca8d"
      },
      "source": [
        "model = Sequential()\n",
        "model.add(Embedding(10000, 32))\n",
        "model.add(SimpleRNN(32, return_sequences=True))\n",
        "model.add(SimpleRNN(32, return_sequences=True))\n",
        "model.add(SimpleRNN(32, return_sequences=True))\n",
        "model.add(SimpleRNN(32))\n",
        "model.summary()"
      ],
      "execution_count": null,
      "outputs": [
        {
          "output_type": "stream",
          "text": [
            "Model: \"sequential_4\"\n",
            "_________________________________________________________________\n",
            "Layer (type)                 Output Shape              Param #   \n",
            "=================================================================\n",
            "embedding_4 (Embedding)      (None, None, 32)          320000    \n",
            "_________________________________________________________________\n",
            "simple_rnn_4 (SimpleRNN)     (None, None, 32)          2080      \n",
            "_________________________________________________________________\n",
            "simple_rnn_5 (SimpleRNN)     (None, None, 32)          2080      \n",
            "_________________________________________________________________\n",
            "simple_rnn_6 (SimpleRNN)     (None, None, 32)          2080      \n",
            "_________________________________________________________________\n",
            "simple_rnn_7 (SimpleRNN)     (None, 32)                2080      \n",
            "=================================================================\n",
            "Total params: 328,320\n",
            "Trainable params: 328,320\n",
            "Non-trainable params: 0\n",
            "_________________________________________________________________\n"
          ],
          "name": "stdout"
        }
      ]
    },
    {
      "cell_type": "markdown",
      "metadata": {
        "id": "j0CNAzN_deXE"
      },
      "source": [
        "## IMDB 데이터 적용"
      ]
    },
    {
      "cell_type": "markdown",
      "metadata": {
        "id": "W1SbNYRdmVTY"
      },
      "source": [
        "### 데이터 로드"
      ]
    },
    {
      "cell_type": "code",
      "metadata": {
        "id": "-27Tkihbcei2"
      },
      "source": [
        "from tensorflow.keras.datasets import imdb\n",
        "from tensorflow.keras.preprocessing import sequence"
      ],
      "execution_count": null,
      "outputs": []
    },
    {
      "cell_type": "code",
      "metadata": {
        "id": "KL-_piPIdms6",
        "colab": {
          "base_uri": "https://localhost:8080/",
          "height": 124
        },
        "outputId": "ca0418b4-b3e8-473d-ecaf-14c4484cc7f5"
      },
      "source": [
        "num_words = 10000\n",
        "max_len = 500\n",
        "batch_size = 32\n",
        "\n",
        "(input_train, y_train), (input_test, y_test) = imdb.load_data(num_words=num_words)\n",
        "print(len(input_train))\n",
        "print(len(input_test))\n",
        "\n",
        "input_train = sequence.pad_sequences(input_train, maxlen=max_len)\n",
        "input_test = sequence.pad_sequences(input_test, maxlen=max_len)\n",
        "print(input_train.shape)\n",
        "print(input_test.shape)"
      ],
      "execution_count": null,
      "outputs": [
        {
          "output_type": "stream",
          "text": [
            "Downloading data from https://storage.googleapis.com/tensorflow/tf-keras-datasets/imdb.npz\n",
            "17465344/17464789 [==============================] - 0s 0us/step\n",
            "25000\n",
            "25000\n",
            "(25000, 500)\n",
            "(25000, 500)\n"
          ],
          "name": "stdout"
        }
      ]
    },
    {
      "cell_type": "markdown",
      "metadata": {
        "id": "uf2EVnzceS4R"
      },
      "source": [
        "### 모델 구성"
      ]
    },
    {
      "cell_type": "code",
      "metadata": {
        "id": "d7dfeDC5eMdj"
      },
      "source": [
        "from tensorflow.keras.layers import Dense"
      ],
      "execution_count": null,
      "outputs": []
    },
    {
      "cell_type": "code",
      "metadata": {
        "id": "KnAUijOReWGu",
        "colab": {
          "base_uri": "https://localhost:8080/",
          "height": 266
        },
        "outputId": "9fa88312-5934-4f7b-c3d9-0d50bc6b5f00"
      },
      "source": [
        "model = Sequential()\n",
        "\n",
        "model.add(Embedding(num_words, 32))\n",
        "model.add(SimpleRNN(32))\n",
        "model.add(Dense(1, activation='sigmoid'))\n",
        "\n",
        "model.compile(optimizer='rmsprop',\n",
        "              loss='binary_crossentropy',\n",
        "              metrics=['acc'])\n",
        "model.summary()"
      ],
      "execution_count": null,
      "outputs": [
        {
          "output_type": "stream",
          "text": [
            "Model: \"sequential_5\"\n",
            "_________________________________________________________________\n",
            "Layer (type)                 Output Shape              Param #   \n",
            "=================================================================\n",
            "embedding_5 (Embedding)      (None, None, 32)          320000    \n",
            "_________________________________________________________________\n",
            "simple_rnn_8 (SimpleRNN)     (None, 32)                2080      \n",
            "_________________________________________________________________\n",
            "dense (Dense)                (None, 1)                 33        \n",
            "=================================================================\n",
            "Total params: 322,113\n",
            "Trainable params: 322,113\n",
            "Non-trainable params: 0\n",
            "_________________________________________________________________\n"
          ],
          "name": "stdout"
        }
      ]
    },
    {
      "cell_type": "markdown",
      "metadata": {
        "id": "pU_9-Hu7mcMa"
      },
      "source": [
        "### 모델 학습"
      ]
    },
    {
      "cell_type": "code",
      "metadata": {
        "id": "XdPtzPwNeonA",
        "colab": {
          "base_uri": "https://localhost:8080/",
          "height": 392
        },
        "outputId": "69a170c7-d10d-4240-b2a7-386763525db4"
      },
      "source": [
        "history = model.fit(input_train, y_train,\n",
        "                    epochs=10,\n",
        "                    batch_size=128,\n",
        "                    validation_split=0.2)"
      ],
      "execution_count": null,
      "outputs": [
        {
          "output_type": "stream",
          "text": [
            "Epoch 1/10\n",
            "157/157 [==============================] - 51s 327ms/step - loss: 0.6184 - acc: 0.6399 - val_loss: 0.5753 - val_acc: 0.6914\n",
            "Epoch 2/10\n",
            "157/157 [==============================] - 51s 324ms/step - loss: 0.3834 - acc: 0.8388 - val_loss: 0.3520 - val_acc: 0.8570\n",
            "Epoch 3/10\n",
            "157/157 [==============================] - 51s 325ms/step - loss: 0.2862 - acc: 0.8857 - val_loss: 0.4433 - val_acc: 0.7876\n",
            "Epoch 4/10\n",
            "157/157 [==============================] - 51s 324ms/step - loss: 0.2153 - acc: 0.9180 - val_loss: 0.3244 - val_acc: 0.8704\n",
            "Epoch 5/10\n",
            "157/157 [==============================] - 51s 324ms/step - loss: 0.1603 - acc: 0.9427 - val_loss: 0.4401 - val_acc: 0.8420\n",
            "Epoch 6/10\n",
            "157/157 [==============================] - 51s 326ms/step - loss: 0.1172 - acc: 0.9599 - val_loss: 0.5961 - val_acc: 0.7540\n",
            "Epoch 7/10\n",
            "157/157 [==============================] - 51s 324ms/step - loss: 0.0775 - acc: 0.9734 - val_loss: 0.4985 - val_acc: 0.8190\n",
            "Epoch 8/10\n",
            "157/157 [==============================] - 50s 320ms/step - loss: 0.0476 - acc: 0.9855 - val_loss: 0.5631 - val_acc: 0.8088\n",
            "Epoch 9/10\n",
            "157/157 [==============================] - 51s 324ms/step - loss: 0.0278 - acc: 0.9920 - val_loss: 0.5293 - val_acc: 0.8412\n",
            "Epoch 10/10\n",
            "157/157 [==============================] - 51s 327ms/step - loss: 0.0204 - acc: 0.9940 - val_loss: 0.5608 - val_acc: 0.8484\n"
          ],
          "name": "stdout"
        }
      ]
    },
    {
      "cell_type": "markdown",
      "metadata": {
        "id": "afIyKdLsmj6N"
      },
      "source": [
        "### 시각화"
      ]
    },
    {
      "cell_type": "code",
      "metadata": {
        "id": "sendhEujeu8S"
      },
      "source": [
        "import matplotlib.pyplot as plt\n",
        "plt.style.use('seaborn-white')"
      ],
      "execution_count": null,
      "outputs": []
    },
    {
      "cell_type": "code",
      "metadata": {
        "id": "3rjMFpiBe4Fa",
        "colab": {
          "base_uri": "https://localhost:8080/",
          "height": 262
        },
        "outputId": "23120408-07cd-4c50-8c01-3cd19d10251c"
      },
      "source": [
        "loss = history.history['loss']\n",
        "val_loss = history.history['val_loss']\n",
        "acc = history.history['acc']\n",
        "val_acc = history.history['val_acc']\n",
        "\n",
        "epochs = range(1, len(loss) + 1)\n",
        "\n",
        "plt.plot(epochs, loss, 'b--', label='trian loss')\n",
        "plt.plot(epochs, val_loss, 'r:', label='validation loss')\n",
        "plt.grid()\n",
        "plt.legend()\n",
        "\n",
        "plt.plot(epochs, acc, 'b--', label='trian accuracy')\n",
        "plt.plot(epochs, val_acc, 'r:', label='validation accuracy')\n",
        "plt.grid()\n",
        "plt.legend()\n",
        "\n",
        "plt.show()"
      ],
      "execution_count": null,
      "outputs": [
        {
          "output_type": "display_data",
          "data": {
            "image/png": "[encoded data removed]",
            "text/plain": [
              "<Figure size 432x288 with 1 Axes>"
            ]
          },
          "metadata": {
            "tags": []
          }
        }
      ]
    },
    {
      "cell_type": "code",
      "metadata": {
        "id": "YLO526Sgf-U_",
        "colab": {
          "base_uri": "https://localhost:8080/",
          "height": 390
        },
        "outputId": "aeecc9d1-f6e6-4cfa-8ba0-b324711cba7e"
      },
      "source": [
        "model.evaluate(input_test, y_test)"
      ],
      "execution_count": null,
      "outputs": [
        {
          "output_type": "error",
          "ename": "ValueError",
          "evalue": "ignored",
          "traceback": [
            "\u001b[0;31m---------------------------------------------------------------------------\u001b[0m",
            "\u001b[0;31mValueError\u001b[0m                                Traceback (most recent call last)",
            "\u001b[0;32m<ipython-input-42-385079fc7473>\u001b[0m in \u001b[0;36m<module>\u001b[0;34m()\u001b[0m\n\u001b[0;32m----> 1\u001b[0;31m \u001b[0mmodel\u001b[0m\u001b[0;34m.\u001b[0m\u001b[0mevaluate\u001b[0m\u001b[0;34m(\u001b[0m\u001b[0minput_test\u001b[0m\u001b[0;34m,\u001b[0m \u001b[0my_test\u001b[0m\u001b[0;34m)\u001b[0m\u001b[0;34m\u001b[0m\u001b[0;34m\u001b[0m\u001b[0m\n\u001b[0m",
            "\u001b[0;32m/usr/local/lib/python3.6/dist-packages/tensorflow/python/keras/engine/training.py\u001b[0m in \u001b[0;36m_method_wrapper\u001b[0;34m(self, *args, **kwargs)\u001b[0m\n\u001b[1;32m    106\u001b[0m   \u001b[0;32mdef\u001b[0m \u001b[0m_method_wrapper\u001b[0m\u001b[0;34m(\u001b[0m\u001b[0mself\u001b[0m\u001b[0;34m,\u001b[0m \u001b[0;34m*\u001b[0m\u001b[0margs\u001b[0m\u001b[0;34m,\u001b[0m \u001b[0;34m**\u001b[0m\u001b[0mkwargs\u001b[0m\u001b[0;34m)\u001b[0m\u001b[0;34m:\u001b[0m\u001b[0;34m\u001b[0m\u001b[0;34m\u001b[0m\u001b[0m\n\u001b[1;32m    107\u001b[0m     \u001b[0;32mif\u001b[0m \u001b[0;32mnot\u001b[0m \u001b[0mself\u001b[0m\u001b[0;34m.\u001b[0m\u001b[0m_in_multi_worker_mode\u001b[0m\u001b[0;34m(\u001b[0m\u001b[0;34m)\u001b[0m\u001b[0;34m:\u001b[0m  \u001b[0;31m# pylint: disable=protected-access\u001b[0m\u001b[0;34m\u001b[0m\u001b[0;34m\u001b[0m\u001b[0m\n\u001b[0;32m--> 108\u001b[0;31m       \u001b[0;32mreturn\u001b[0m \u001b[0mmethod\u001b[0m\u001b[0;34m(\u001b[0m\u001b[0mself\u001b[0m\u001b[0;34m,\u001b[0m \u001b[0;34m*\u001b[0m\u001b[0margs\u001b[0m\u001b[0;34m,\u001b[0m \u001b[0;34m**\u001b[0m\u001b[0mkwargs\u001b[0m\u001b[0;34m)\u001b[0m\u001b[0;34m\u001b[0m\u001b[0;34m\u001b[0m\u001b[0m\n\u001b[0m\u001b[1;32m    109\u001b[0m \u001b[0;34m\u001b[0m\u001b[0m\n\u001b[1;32m    110\u001b[0m     \u001b[0;31m# Running inside `run_distribute_coordinator` already.\u001b[0m\u001b[0;34m\u001b[0m\u001b[0;34m\u001b[0m\u001b[0;34m\u001b[0m\u001b[0m\n",
            "\u001b[0;32m/usr/local/lib/python3.6/dist-packages/tensorflow/python/keras/engine/training.py\u001b[0m in \u001b[0;36mevaluate\u001b[0;34m(self, x, y, batch_size, verbose, sample_weight, steps, callbacks, max_queue_size, workers, use_multiprocessing, return_dict)\u001b[0m\n\u001b[1;32m   1354\u001b[0m             \u001b[0muse_multiprocessing\u001b[0m\u001b[0;34m=\u001b[0m\u001b[0muse_multiprocessing\u001b[0m\u001b[0;34m,\u001b[0m\u001b[0;34m\u001b[0m\u001b[0;34m\u001b[0m\u001b[0m\n\u001b[1;32m   1355\u001b[0m             \u001b[0mmodel\u001b[0m\u001b[0;34m=\u001b[0m\u001b[0mself\u001b[0m\u001b[0;34m,\u001b[0m\u001b[0;34m\u001b[0m\u001b[0;34m\u001b[0m\u001b[0m\n\u001b[0;32m-> 1356\u001b[0;31m             steps_per_execution=self._steps_per_execution)\n\u001b[0m\u001b[1;32m   1357\u001b[0m \u001b[0;34m\u001b[0m\u001b[0m\n\u001b[1;32m   1358\u001b[0m       \u001b[0;31m# Container that configures and calls `tf.keras.Callback`s.\u001b[0m\u001b[0;34m\u001b[0m\u001b[0;34m\u001b[0m\u001b[0;34m\u001b[0m\u001b[0m\n",
            "\u001b[0;32m/usr/local/lib/python3.6/dist-packages/tensorflow/python/keras/engine/data_adapter.py\u001b[0m in \u001b[0;36m__init__\u001b[0;34m(self, x, y, sample_weight, batch_size, steps_per_epoch, initial_epoch, epochs, shuffle, class_weight, max_queue_size, workers, use_multiprocessing, model, steps_per_execution)\u001b[0m\n\u001b[1;32m   1115\u001b[0m         \u001b[0muse_multiprocessing\u001b[0m\u001b[0;34m=\u001b[0m\u001b[0muse_multiprocessing\u001b[0m\u001b[0;34m,\u001b[0m\u001b[0;34m\u001b[0m\u001b[0;34m\u001b[0m\u001b[0m\n\u001b[1;32m   1116\u001b[0m         \u001b[0mdistribution_strategy\u001b[0m\u001b[0;34m=\u001b[0m\u001b[0mds_context\u001b[0m\u001b[0;34m.\u001b[0m\u001b[0mget_strategy\u001b[0m\u001b[0;34m(\u001b[0m\u001b[0;34m)\u001b[0m\u001b[0;34m,\u001b[0m\u001b[0;34m\u001b[0m\u001b[0;34m\u001b[0m\u001b[0m\n\u001b[0;32m-> 1117\u001b[0;31m         model=model)\n\u001b[0m\u001b[1;32m   1118\u001b[0m \u001b[0;34m\u001b[0m\u001b[0m\n\u001b[1;32m   1119\u001b[0m     \u001b[0mstrategy\u001b[0m \u001b[0;34m=\u001b[0m \u001b[0mds_context\u001b[0m\u001b[0;34m.\u001b[0m\u001b[0mget_strategy\u001b[0m\u001b[0;34m(\u001b[0m\u001b[0;34m)\u001b[0m\u001b[0;34m\u001b[0m\u001b[0;34m\u001b[0m\u001b[0m\n",
            "\u001b[0;32m/usr/local/lib/python3.6/dist-packages/tensorflow/python/keras/engine/data_adapter.py\u001b[0m in \u001b[0;36m__init__\u001b[0;34m(self, x, y, sample_weights, sample_weight_modes, batch_size, epochs, steps, shuffle, **kwargs)\u001b[0m\n\u001b[1;32m    280\u001b[0m             label, \", \".join(str(i.shape[0]) for i in nest.flatten(data)))\n\u001b[1;32m    281\u001b[0m       \u001b[0mmsg\u001b[0m \u001b[0;34m+=\u001b[0m \u001b[0;34m\"Please provide data which shares the same first dimension.\"\u001b[0m\u001b[0;34m\u001b[0m\u001b[0;34m\u001b[0m\u001b[0m\n\u001b[0;32m--> 282\u001b[0;31m       \u001b[0;32mraise\u001b[0m \u001b[0mValueError\u001b[0m\u001b[0;34m(\u001b[0m\u001b[0mmsg\u001b[0m\u001b[0;34m)\u001b[0m\u001b[0;34m\u001b[0m\u001b[0;34m\u001b[0m\u001b[0m\n\u001b[0m\u001b[1;32m    283\u001b[0m     \u001b[0mnum_samples\u001b[0m \u001b[0;34m=\u001b[0m \u001b[0mnum_samples\u001b[0m\u001b[0;34m.\u001b[0m\u001b[0mpop\u001b[0m\u001b[0;34m(\u001b[0m\u001b[0;34m)\u001b[0m\u001b[0;34m\u001b[0m\u001b[0;34m\u001b[0m\u001b[0m\n\u001b[1;32m    284\u001b[0m \u001b[0;34m\u001b[0m\u001b[0m\n",
            "\u001b[0;31mValueError\u001b[0m: Data cardinality is ambiguous:\n  x sizes: 25000\n  y sizes: 2246\nPlease provide data which shares the same first dimension."
          ]
        }
      ]
    },
    {
      "cell_type": "markdown",
      "metadata": {
        "id": "ytqqPh0ZgSja"
      },
      "source": [
        "- 전체 시퀀스가 아니라 순서대로 500개의 단어만 입력했기 때문에 성능이 낮게 나옴\n",
        "\n",
        "- SimpleRNN은 긴 시퀀스를 처리하는데 적합하지 않음"
      ]
    },
    {
      "cell_type": "markdown",
      "metadata": {
        "id": "VTmZ_XiZguM5"
      },
      "source": [
        "# LSTM과 GRU 레이어\n",
        "\n",
        "- SimpleRNN은 실전에 사용하기엔 너무 단순\n",
        "\n",
        "- SimpleRNN은 이론적으로 시간 $t$ 에서 이전의 모든 타임스텝의 정보를 유지할 수 있지만, 실제로는 긴 시간에 걸친 의존성은 학습할 수 없음\n",
        "\n",
        "- 그래디언트 소실 문제(vanishing gradient problem)\n",
        "  - 이를 방지하기 위해 LSTM, GRU 같은 레이어 등장\n",
        "\n"
      ]
    },
    {
      "cell_type": "markdown",
      "metadata": {
        "id": "oZXJIdDai7sV"
      },
      "source": [
        "## LSTM(Long Short-Term Memory)\n",
        "- 장단기 메모리 알고리즘\n",
        "\n",
        "- 나중을 위해 정보를 저장함으로써 오래된 시그널이 점차 소실되는 것을 막아줌\n",
        "\n",
        "  <img src=\"https://colah.github.io/posts/2015-08-Understanding-LSTMs/img/LSTM3-chain.png\">\n",
        "\n",
        "  <sub>출처: https://colah.github.io/posts/2015-08-Understanding-LSTMs/</sub>"
      ]
    },
    {
      "cell_type": "markdown",
      "metadata": {
        "id": "TvnFLeqSsOSh"
      },
      "source": [
        "## 예제로 보는 순환 신경망: Reuters \n",
        "\n",
        "- IMDB와 유사한 데이터셋(텍스트 데이터)\n",
        "\n",
        "- 46개의 상호 배타적인 토픽으로 이루어진 데이터셋 \n",
        "  - 다중 분류 문제\n"
      ]
    },
    {
      "cell_type": "markdown",
      "metadata": {
        "id": "ONPaMDFEsftq"
      },
      "source": [
        "### 데이터셋 로드"
      ]
    },
    {
      "cell_type": "code",
      "metadata": {
        "id": "sFyvFVizsUVD"
      },
      "source": [
        "from tensorflow.keras.datasets import reuters"
      ],
      "execution_count": null,
      "outputs": []
    },
    {
      "cell_type": "code",
      "metadata": {
        "id": "C234q3AVsUSp",
        "colab": {
          "base_uri": "https://localhost:8080/",
          "height": 88
        },
        "outputId": "67e15575-fd80-42d2-ca7c-bfff72baa74b"
      },
      "source": [
        "num_words = 10000\n",
        "(x_train, y_train), (x_test, y_test) = reuters.load_data(num_words=num_words)\n",
        "\n",
        "print(x_train.shape)\n",
        "print(y_train.shape)\n",
        "\n",
        "print(x_test.shape)\n",
        "print(y_test.shape)"
      ],
      "execution_count": null,
      "outputs": [
        {
          "output_type": "stream",
          "text": [
            "(8982,)\n",
            "(8982,)\n",
            "(2246,)\n",
            "(2246,)\n"
          ],
          "name": "stdout"
        }
      ]
    },
    {
      "cell_type": "markdown",
      "metadata": {
        "id": "VioYGD8Ms4zH"
      },
      "source": [
        "### 데이터 전처리 및 확인"
      ]
    },
    {
      "cell_type": "code",
      "metadata": {
        "id": "2Sb0OxNlsUQT"
      },
      "source": [
        "from tensorflow.keras.preprocessing.sequence import pad_sequences"
      ],
      "execution_count": null,
      "outputs": []
    },
    {
      "cell_type": "code",
      "metadata": {
        "id": "rNUkve6-sUN6"
      },
      "source": [
        "max_len = 500"
      ],
      "execution_count": null,
      "outputs": []
    },
    {
      "cell_type": "code",
      "metadata": {
        "id": "jBxQZtOJsULl",
        "colab": {
          "base_uri": "https://localhost:8080/",
          "height": 35
        },
        "outputId": "5e98c4d1-9bd5-45aa-e075-491a1f2b46d2"
      },
      "source": [
        "pad_x_train = pad_sequences(x_train, maxlen=max_len)\n",
        "pad_x_test = pad_sequences(x_test, maxlen=max_len)\n",
        "\n",
        "print(len(pad_x_train[0]))"
      ],
      "execution_count": null,
      "outputs": [
        {
          "output_type": "stream",
          "text": [
            "500\n"
          ],
          "name": "stdout"
        }
      ]
    },
    {
      "cell_type": "code",
      "metadata": {
        "id": "a6hwQtn_sUJN",
        "colab": {
          "base_uri": "https://localhost:8080/",
          "height": 835
        },
        "outputId": "e1fbcfa7-2af9-452e-a219-04a5f9683c53"
      },
      "source": [
        "pad_x_train[0]"
      ],
      "execution_count": null,
      "outputs": [
        {
          "output_type": "execute_result",
          "data": {
            "text/plain": [
              "array([   0,    0,    0,    0,    0,    0,    0,    0,    0,    0,    0,\n",
              "          0,    0,    0,    0,    0,    0,    0,    0,    0,    0,    0,\n",
              "          0,    0,    0,    0,    0,    0,    0,    0,    0,    0,    0,\n",
              "          0,    0,    0,    0,    0,    0,    0,    0,    0,    0,    0,\n",
              "          0,    0,    0,    0,    0,    0,    0,    0,    0,    0,    0,\n",
              "          0,    0,    0,    0,    0,    0,    0,    0,    0,    0,    0,\n",
              "          0,    0,    0,    0,    0,    0,    0,    0,    0,    0,    0,\n",
              "          0,    0,    0,    0,    0,    0,    0,    0,    0,    0,    0,\n",
              "          0,    0,    0,    0,    0,    0,    0,    0,    0,    0,    0,\n",
              "          0,    0,    0,    0,    0,    0,    0,    0,    0,    0,    0,\n",
              "          0,    0,    0,    0,    0,    0,    0,    0,    0,    0,    0,\n",
              "          0,    0,    0,    0,    0,    0,    0,    0,    0,    0,    0,\n",
              "          0,    0,    0,    0,    0,    0,    0,    0,    0,    0,    0,\n",
              "          0,    0,    0,    0,    0,    0,    0,    0,    0,    0,    0,\n",
              "          0,    0,    0,    0,    0,    0,    0,    0,    0,    0,    0,\n",
              "          0,    0,    0,    0,    0,    0,    0,    0,    0,    0,    0,\n",
              "          0,    0,    0,    0,    0,    0,    0,    0,    0,    0,    0,\n",
              "          0,    0,    0,    0,    0,    0,    0,    0,    0,    0,    0,\n",
              "          0,    0,    0,    0,    0,    0,    0,    0,    0,    0,    0,\n",
              "          0,    0,    0,    0,    0,    0,    0,    0,    0,    0,    0,\n",
              "          0,    0,    0,    0,    0,    0,    0,    0,    0,    0,    0,\n",
              "          0,    0,    0,    0,    0,    0,    0,    0,    0,    0,    0,\n",
              "          0,    0,    0,    0,    0,    0,    0,    0,    0,    0,    0,\n",
              "          0,    0,    0,    0,    0,    0,    0,    0,    0,    0,    0,\n",
              "          0,    0,    0,    0,    0,    0,    0,    0,    0,    0,    0,\n",
              "          0,    0,    0,    0,    0,    0,    0,    0,    0,    0,    0,\n",
              "          0,    0,    0,    0,    0,    0,    0,    0,    0,    0,    0,\n",
              "          0,    0,    0,    0,    0,    0,    0,    0,    0,    0,    0,\n",
              "          0,    0,    0,    0,    0,    0,    0,    0,    0,    0,    0,\n",
              "          0,    0,    0,    0,    0,    0,    0,    0,    0,    0,    0,\n",
              "          0,    0,    0,    0,    0,    0,    0,    0,    0,    0,    0,\n",
              "          0,    0,    0,    0,    0,    0,    0,    0,    0,    0,    0,\n",
              "          0,    0,    0,    0,    0,    0,    0,    0,    0,    0,    0,\n",
              "          0,    0,    0,    0,    0,    0,    0,    0,    0,    0,    0,\n",
              "          0,    0,    0,    0,    0,    0,    0,    0,    0,    0,    0,\n",
              "          0,    0,    0,    0,    0,    0,    0,    0,    0,    0,    0,\n",
              "          0,    0,    0,    0,    0,    0,    0,    0,    0,    0,    0,\n",
              "          0,    0,    0,    0,    0,    0,    1,    2,    2,    8,   43,\n",
              "         10,  447,    5,   25,  207,  270,    5, 3095,  111,   16,  369,\n",
              "        186,   90,   67,    7,   89,    5,   19,  102,    6,   19,  124,\n",
              "         15,   90,   67,   84,   22,  482,   26,    7,   48,    4,   49,\n",
              "          8,  864,   39,  209,  154,    6,  151,    6,   83,   11,   15,\n",
              "         22,  155,   11,   15,    7,   48,    9, 4579, 1005,  504,    6,\n",
              "        258,    6,  272,   11,   15,   22,  134,   44,   11,   15,   16,\n",
              "          8,  197, 1245,   90,   67,   52,   29,  209,   30,   32,  132,\n",
              "          6,  109,   15,   17,   12], dtype=int32)"
            ]
          },
          "metadata": {
            "tags": []
          },
          "execution_count": 37
        }
      ]
    },
    {
      "cell_type": "markdown",
      "metadata": {
        "id": "_P_JxBFntQOP"
      },
      "source": [
        "### 모델 구성\n",
        "- LSTM 레이어도 SimpleRNN과 같이 `return_sequences` 인자 사용가능"
      ]
    },
    {
      "cell_type": "code",
      "metadata": {
        "id": "1vG3ZGSksUG5"
      },
      "source": [
        "from tensorflow.keras.models import Sequential\n",
        "from tensorflow.keras.layers import LSTM, Dense, Embedding"
      ],
      "execution_count": null,
      "outputs": []
    },
    {
      "cell_type": "code",
      "metadata": {
        "id": "K_uMdxmysUEg",
        "colab": {
          "base_uri": "https://localhost:8080/",
          "height": 301
        },
        "outputId": "13eb6b9c-65f7-4e9b-e879-3d599fb29e6a"
      },
      "source": [
        "model = Sequential()\n",
        "model.add(Embedding(input_dim=num_words, output_dim=64))\n",
        "model.add(LSTM(64, return_sequences=True))\n",
        "model.add(LSTM(32))\n",
        "model.add(Dense(46, activation='softmax'))\n",
        "\n",
        "model.compile(optimizer='adam',\n",
        "              loss='sparse_categorical_crossentropy',\n",
        "              metrics=['acc'])\n",
        "model.summary()"
      ],
      "execution_count": null,
      "outputs": [
        {
          "output_type": "stream",
          "text": [
            "Model: \"sequential_6\"\n",
            "_________________________________________________________________\n",
            "Layer (type)                 Output Shape              Param #   \n",
            "=================================================================\n",
            "embedding_6 (Embedding)      (None, None, 64)          640000    \n",
            "_________________________________________________________________\n",
            "lstm (LSTM)                  (None, None, 64)          33024     \n",
            "_________________________________________________________________\n",
            "lstm_1 (LSTM)                (None, 32)                12416     \n",
            "_________________________________________________________________\n",
            "dense_1 (Dense)              (None, 46)                1518      \n",
            "=================================================================\n",
            "Total params: 686,958\n",
            "Trainable params: 686,958\n",
            "Non-trainable params: 0\n",
            "_________________________________________________________________\n"
          ],
          "name": "stdout"
        }
      ]
    },
    {
      "cell_type": "markdown",
      "metadata": {
        "id": "qjgupW2puHXA"
      },
      "source": [
        "### 모델 학습"
      ]
    },
    {
      "cell_type": "code",
      "metadata": {
        "id": "T22YsRQ8sUBg",
        "colab": {
          "base_uri": "https://localhost:8080/",
          "height": 748
        },
        "outputId": "fc7f9a92-1086-4be7-9c92-0c18ed71e366"
      },
      "source": [
        "history = model.fit(pad_x_train, y_train,\n",
        "                    batch_size=32, epochs=20,\n",
        "                    validation_split=0.2)"
      ],
      "execution_count": null,
      "outputs": [
        {
          "output_type": "stream",
          "text": [
            "Epoch 1/20\n",
            "225/225 [==============================] - 10s 46ms/step - loss: 2.4524 - acc: 0.4036 - val_loss: 2.1364 - val_acc: 0.4563\n",
            "Epoch 2/20\n",
            "225/225 [==============================] - 10s 44ms/step - loss: 2.0215 - acc: 0.5001 - val_loss: 1.9658 - val_acc: 0.4880\n",
            "Epoch 3/20\n",
            "225/225 [==============================] - 10s 44ms/step - loss: 1.7347 - acc: 0.5580 - val_loss: 1.7140 - val_acc: 0.5776\n",
            "Epoch 4/20\n",
            "225/225 [==============================] - 10s 44ms/step - loss: 1.5694 - acc: 0.6077 - val_loss: 1.6613 - val_acc: 0.5743\n",
            "Epoch 5/20\n",
            "225/225 [==============================] - 10s 44ms/step - loss: 1.4700 - acc: 0.6234 - val_loss: 1.5356 - val_acc: 0.6188\n",
            "Epoch 6/20\n",
            "225/225 [==============================] - 10s 44ms/step - loss: 1.3413 - acc: 0.6611 - val_loss: 1.5007 - val_acc: 0.6266\n",
            "Epoch 7/20\n",
            "225/225 [==============================] - 10s 44ms/step - loss: 1.2398 - acc: 0.6873 - val_loss: 1.4629 - val_acc: 0.6377\n",
            "Epoch 8/20\n",
            "225/225 [==============================] - 10s 44ms/step - loss: 1.2248 - acc: 0.6881 - val_loss: 1.4418 - val_acc: 0.6461\n",
            "Epoch 9/20\n",
            "225/225 [==============================] - 10s 44ms/step - loss: 1.1044 - acc: 0.7176 - val_loss: 1.4620 - val_acc: 0.6466\n",
            "Epoch 10/20\n",
            "225/225 [==============================] - 10s 45ms/step - loss: 1.0260 - acc: 0.7408 - val_loss: 1.3981 - val_acc: 0.6600\n",
            "Epoch 11/20\n",
            "225/225 [==============================] - 10s 44ms/step - loss: 0.9404 - acc: 0.7573 - val_loss: 1.3875 - val_acc: 0.6678\n",
            "Epoch 12/20\n",
            "225/225 [==============================] - 10s 44ms/step - loss: 0.8761 - acc: 0.7737 - val_loss: 1.4557 - val_acc: 0.6522\n",
            "Epoch 13/20\n",
            "225/225 [==============================] - 10s 44ms/step - loss: 0.8495 - acc: 0.7779 - val_loss: 1.4449 - val_acc: 0.6617\n",
            "Epoch 14/20\n",
            "225/225 [==============================] - 10s 45ms/step - loss: 0.7941 - acc: 0.7949 - val_loss: 1.4638 - val_acc: 0.6611\n",
            "Epoch 15/20\n",
            "225/225 [==============================] - 10s 44ms/step - loss: 0.7335 - acc: 0.8077 - val_loss: 1.4107 - val_acc: 0.6761\n",
            "Epoch 16/20\n",
            "225/225 [==============================] - 10s 44ms/step - loss: 0.6678 - acc: 0.8242 - val_loss: 1.4284 - val_acc: 0.6767\n",
            "Epoch 17/20\n",
            "225/225 [==============================] - 10s 44ms/step - loss: 0.6277 - acc: 0.8392 - val_loss: 1.4418 - val_acc: 0.6750\n",
            "Epoch 18/20\n",
            "225/225 [==============================] - 10s 44ms/step - loss: 0.6226 - acc: 0.8395 - val_loss: 1.4755 - val_acc: 0.6672\n",
            "Epoch 19/20\n",
            "225/225 [==============================] - 10s 44ms/step - loss: 0.5873 - acc: 0.8491 - val_loss: 1.5415 - val_acc: 0.6722\n",
            "Epoch 20/20\n",
            "225/225 [==============================] - 10s 44ms/step - loss: 0.5386 - acc: 0.8626 - val_loss: 1.5566 - val_acc: 0.6711\n"
          ],
          "name": "stdout"
        }
      ]
    },
    {
      "cell_type": "markdown",
      "metadata": {
        "id": "JGZhIiYeuSCD"
      },
      "source": [
        "### 시각화"
      ]
    },
    {
      "cell_type": "code",
      "metadata": {
        "id": "INJu0-itsT_T",
        "colab": {
          "base_uri": "https://localhost:8080/",
          "height": 262
        },
        "outputId": "1f438794-c3f7-42aa-d4a1-28d5e734d232"
      },
      "source": [
        "loss = history.history['loss']\n",
        "val_loss = history.history['val_loss']\n",
        "acc = history.history['acc']\n",
        "val_acc = history.history['val_acc']\n",
        "\n",
        "epochs = range(1, len(loss) + 1)\n",
        "\n",
        "plt.plot(epochs, loss, 'b--', label='trian loss')\n",
        "plt.plot(epochs, val_loss, 'r:', label='validation loss')\n",
        "plt.grid()\n",
        "plt.legend()\n",
        "\n",
        "plt.plot(epochs, acc, 'b--', label='trian accuracy')\n",
        "plt.plot(epochs, val_acc, 'r:', label='validation accuracy')\n",
        "plt.grid()\n",
        "plt.legend()\n",
        "\n",
        "plt.show()"
      ],
      "execution_count": null,
      "outputs": [
        {
          "output_type": "display_data",
          "data": {
            "image/png": "[encoded data removed]",
            "text/plain": [
              "<Figure size 432x288 with 1 Axes>"
            ]
          },
          "metadata": {
            "tags": []
          }
        }
      ]
    },
    {
      "cell_type": "markdown",
      "metadata": {
        "id": "dLZLATDBuTtj"
      },
      "source": [
        "### 모델 평가\n"
      ]
    },
    {
      "cell_type": "code",
      "metadata": {
        "id": "SVxVV-kmsT6D",
        "colab": {
          "base_uri": "https://localhost:8080/",
          "height": 52
        },
        "outputId": "c16b35a0-cb2d-4f1c-f77b-61ab7eab2f16"
      },
      "source": [
        "model.evaluate(pad_x_test, y_test)"
      ],
      "execution_count": null,
      "outputs": [
        {
          "output_type": "stream",
          "text": [
            "71/71 [==============================] - 1s 15ms/step - loss: 1.7255 - acc: 0.6402\n"
          ],
          "name": "stdout"
        },
        {
          "output_type": "execute_result",
          "data": {
            "text/plain": [
              "[1.725495457649231, 0.6402493119239807]"
            ]
          },
          "metadata": {
            "tags": []
          },
          "execution_count": 44
        }
      ]
    },
    {
      "cell_type": "markdown",
      "metadata": {
        "id": "j3afhQOUlqG9"
      },
      "source": [
        "## IMDB 데이터셋 with LSTM"
      ]
    },
    {
      "cell_type": "markdown",
      "metadata": {
        "id": "tZOCK6EQl1QI"
      },
      "source": [
        "### 데이터 로드"
      ]
    },
    {
      "cell_type": "code",
      "metadata": {
        "id": "00ZS9v3YmT_H"
      },
      "source": [
        "from tensorflow.keras.datasets import imdb\n",
        "from tensorflow.keras.preprocessing.sequence import pad_sequences"
      ],
      "execution_count": null,
      "outputs": []
    },
    {
      "cell_type": "code",
      "metadata": {
        "id": "UW-VG35_gwmt",
        "colab": {
          "base_uri": "https://localhost:8080/",
          "height": 88
        },
        "outputId": "8157d0fd-fb4a-4f6f-943a-41368f2a7dfe"
      },
      "source": [
        "num_words = 10000\n",
        "max_len = 500\n",
        "batch_size = 32\n",
        "\n",
        "(x_train, y_train), (x_test, y_test) = imdb.load_data(num_words=num_words)\n",
        "print(len(x_train))\n",
        "print(len(x_test))\n",
        "\n",
        "pad_x_train = sequence.pad_sequences(x_train, maxlen=max_len)\n",
        "pad_x_test = sequence.pad_sequences(x_test, maxlen=max_len)\n",
        "print(pad_x_train.shape)\n",
        "print(pad_x_test.shape)"
      ],
      "execution_count": null,
      "outputs": [
        {
          "output_type": "stream",
          "text": [
            "25000\n",
            "25000\n",
            "(25000, 500)\n",
            "(25000, 500)\n"
          ],
          "name": "stdout"
        }
      ]
    },
    {
      "cell_type": "markdown",
      "metadata": {
        "id": "uo8uhFyBl2k-"
      },
      "source": [
        "### 모델 구성"
      ]
    },
    {
      "cell_type": "code",
      "metadata": {
        "id": "tFkAN2Dzl3GC"
      },
      "source": [
        "from tensorflow.keras.models import Sequential\n",
        "from tensorflow.keras.layers import Dense, LSTM, Embedding"
      ],
      "execution_count": null,
      "outputs": []
    },
    {
      "cell_type": "code",
      "metadata": {
        "id": "TPr9Ec-El50W",
        "colab": {
          "base_uri": "https://localhost:8080/",
          "height": 266
        },
        "outputId": "1f6d976c-562e-4f8d-9ccb-ba6f74c4748a"
      },
      "source": [
        "model = Sequential()\n",
        "\n",
        "model.add(Embedding(num_words, 32))\n",
        "model.add(LSTM(32))\n",
        "model.add(Dense(1, activation='sigmoid'))\n",
        "\n",
        "model.compile(optimizer='rmsprop',\n",
        "              loss='binary_crossentropy',\n",
        "              metrics=['acc'])\n",
        "model.summary()"
      ],
      "execution_count": null,
      "outputs": [
        {
          "output_type": "stream",
          "text": [
            "Model: \"sequential_9\"\n",
            "_________________________________________________________________\n",
            "Layer (type)                 Output Shape              Param #   \n",
            "=================================================================\n",
            "embedding_9 (Embedding)      (None, None, 32)          320000    \n",
            "_________________________________________________________________\n",
            "lstm_4 (LSTM)                (None, 32)                8320      \n",
            "_________________________________________________________________\n",
            "dense_4 (Dense)              (None, 1)                 33        \n",
            "=================================================================\n",
            "Total params: 328,353\n",
            "Trainable params: 328,353\n",
            "Non-trainable params: 0\n",
            "_________________________________________________________________\n"
          ],
          "name": "stdout"
        }
      ]
    },
    {
      "cell_type": "markdown",
      "metadata": {
        "id": "vAPnX6ACmenz"
      },
      "source": [
        "### 모델 학습"
      ]
    },
    {
      "cell_type": "code",
      "metadata": {
        "id": "FGWhqX5GmNeR",
        "colab": {
          "base_uri": "https://localhost:8080/",
          "height": 392
        },
        "outputId": "629a88f7-266b-470b-e4f5-64541fb4bff0"
      },
      "source": [
        "history = model.fit(pad_x_train, y_train,\n",
        "                    epochs=10,\n",
        "                    batch_size=128,\n",
        "                    validation_split=0.2)"
      ],
      "execution_count": null,
      "outputs": [
        {
          "output_type": "stream",
          "text": [
            "Epoch 1/10\n",
            "157/157 [==============================] - 5s 31ms/step - loss: 0.5121 - acc: 0.7590 - val_loss: 0.3849 - val_acc: 0.8384\n",
            "Epoch 2/10\n",
            "157/157 [==============================] - 4s 29ms/step - loss: 0.2906 - acc: 0.8906 - val_loss: 0.3509 - val_acc: 0.8598\n",
            "Epoch 3/10\n",
            "157/157 [==============================] - 4s 29ms/step - loss: 0.2359 - acc: 0.9116 - val_loss: 0.4634 - val_acc: 0.8456\n",
            "Epoch 4/10\n",
            "157/157 [==============================] - 4s 29ms/step - loss: 0.2068 - acc: 0.9247 - val_loss: 0.3016 - val_acc: 0.8710\n",
            "Epoch 5/10\n",
            "157/157 [==============================] - 5s 29ms/step - loss: 0.1842 - acc: 0.9355 - val_loss: 0.2864 - val_acc: 0.8910\n",
            "Epoch 6/10\n",
            "157/157 [==============================] - 5s 29ms/step - loss: 0.1591 - acc: 0.9446 - val_loss: 0.2959 - val_acc: 0.8802\n",
            "Epoch 7/10\n",
            "157/157 [==============================] - 4s 29ms/step - loss: 0.1474 - acc: 0.9472 - val_loss: 0.4285 - val_acc: 0.8586\n",
            "Epoch 8/10\n",
            "157/157 [==============================] - 4s 29ms/step - loss: 0.1345 - acc: 0.9541 - val_loss: 0.3124 - val_acc: 0.8720\n",
            "Epoch 9/10\n",
            "157/157 [==============================] - 5s 29ms/step - loss: 0.1252 - acc: 0.9585 - val_loss: 0.3726 - val_acc: 0.8806\n",
            "Epoch 10/10\n",
            "157/157 [==============================] - 5s 29ms/step - loss: 0.1121 - acc: 0.9618 - val_loss: 0.4355 - val_acc: 0.8428\n"
          ],
          "name": "stdout"
        }
      ]
    },
    {
      "cell_type": "markdown",
      "metadata": {
        "id": "gFiE5SpPmh_x"
      },
      "source": [
        "### 시각화"
      ]
    },
    {
      "cell_type": "code",
      "metadata": {
        "id": "jwQ6ZYHTyXHS",
        "colab": {
          "base_uri": "https://localhost:8080/",
          "height": 265
        },
        "outputId": "3137513f-6ade-4f26-eb06-095f7cb3dbd9"
      },
      "source": [
        "loss = history.history['loss']\n",
        "val_loss = history.history['val_loss']\n",
        "acc = history.history['acc']\n",
        "val_acc = history.history['val_acc']\n",
        "\n",
        "epochs = range(1, len(loss) + 1)\n",
        "\n",
        "plt.plot(epochs, loss, 'b--', label='trian loss')\n",
        "plt.plot(epochs, val_loss, 'r:', label='validation loss')\n",
        "plt.grid()\n",
        "plt.legend()\n",
        "\n",
        "plt.plot(epochs, acc, 'b--', label='trian accuracy')\n",
        "plt.plot(epochs, val_acc, 'r:', label='validation accuracy')\n",
        "plt.grid()\n",
        "plt.legend()\n",
        "\n",
        "plt.show()"
      ],
      "execution_count": null,
      "outputs": [
        {
          "output_type": "display_data",
          "data": {
            "image/png": "[encoded data removed]",
            "text/plain": [
              "<Figure size 432x288 with 1 Axes>"
            ]
          },
          "metadata": {
            "tags": []
          }
        }
      ]
    },
    {
      "cell_type": "markdown",
      "metadata": {
        "id": "NiZ6uiUPyXHN"
      },
      "source": [
        "### 모델 평가"
      ]
    },
    {
      "cell_type": "code",
      "metadata": {
        "id": "DZjW6iOV3k-J",
        "colab": {
          "base_uri": "https://localhost:8080/",
          "height": 52
        },
        "outputId": "6ec8dd24-5522-4715-feeb-900da023e4fe"
      },
      "source": [
        "model.evaluate(pad_x_test, y_test)"
      ],
      "execution_count": null,
      "outputs": [
        {
          "output_type": "stream",
          "text": [
            "782/782 [==============================] - 6s 8ms/step - loss: 0.4587 - acc: 0.8394\n"
          ],
          "name": "stdout"
        },
        {
          "output_type": "execute_result",
          "data": {
            "text/plain": [
              "[0.4587291479110718, 0.8394399881362915]"
            ]
          },
          "metadata": {
            "tags": []
          },
          "execution_count": 61
        }
      ]
    },
    {
      "cell_type": "markdown",
      "metadata": {
        "id": "FekNEQuJVicJ"
      },
      "source": [
        "# Cosine 함수를 이용한 순환 신경망"
      ]
    },
    {
      "cell_type": "code",
      "metadata": {
        "id": "JfUyJSoHVpUh"
      },
      "source": [
        "import numpy as np"
      ],
      "execution_count": null,
      "outputs": []
    },
    {
      "cell_type": "code",
      "metadata": {
        "id": "JgE5D6rCVpQO"
      },
      "source": [
        "np.random.seed(111)\n",
        "\n",
        "time = np.arange(30*12+1)\n",
        "month_time = (time % 30) / 30\n",
        "time_series = 20 * np.where(month_time < 0.5,\n",
        "                            np.cos(2 * np.pi * month_time),\n",
        "                            np.cos(2 * np.pi * month_time) + np.random.random(361))"
      ],
      "execution_count": null,
      "outputs": []
    },
    {
      "cell_type": "code",
      "metadata": {
        "id": "p-_g8LYTVpLx",
        "colab": {
          "base_uri": "https://localhost:8080/",
          "height": 475
        },
        "outputId": "984b27f5-8d00-43fc-eb45-0edc723b43ea"
      },
      "source": [
        "plt.figure(figsize=(15, 8))\n",
        "plt.xlabel('Time')\n",
        "plt.ylabel('Value')\n",
        "plt.plot(np.arange(0, 30*11+1),\n",
        "         time_series[:30*11+1],\n",
        "         color='blue', label='Train Data')\n",
        "plt.plot(np.arange(30*11, 30*12+1),\n",
        "         time_series[30*11:],\n",
        "         color='orange', label='Test Data')\n",
        "plt.show()"
      ],
      "execution_count": null,
      "outputs": [
        {
          "output_type": "display_data",
          "data": {
            "image/png": "[encoded data removed]",
            "text/plain": [
              "<Figure size 1080x576 with 1 Axes>"
            ]
          },
          "metadata": {
            "tags": []
          }
        }
      ]
    },
    {
      "cell_type": "markdown",
      "metadata": {
        "id": "ar_N0gTrZtk9"
      },
      "source": [
        "### 데이터 전처리"
      ]
    },
    {
      "cell_type": "code",
      "metadata": {
        "id": "z-0JrfZoVpFj"
      },
      "source": [
        "def make_data(time_series, n):\n",
        "  x_train_full, y_train_full = list(), list()\n",
        "\n",
        "  for i in range(len(time_series)):\n",
        "    x = time_series[i:(i+n)]\n",
        "    if (i+n) < len(time_series):\n",
        "      x_train_full.append(x)\n",
        "      y_train_full.append(time_series[i+n])\n",
        "    else:\n",
        "      break\n",
        "\n",
        "  x_train_full, y_train_full = np.array(x_train_full), np.array(y_train_full)\n",
        "\n",
        "  return x_train_full, y_train_full"
      ],
      "execution_count": null,
      "outputs": []
    },
    {
      "cell_type": "code",
      "metadata": {
        "id": "qkdd7YkAbnVG"
      },
      "source": [
        "n = 10\n",
        "x_train_full, y_train_full = make_data(time_series, n)"
      ],
      "execution_count": null,
      "outputs": []
    },
    {
      "cell_type": "code",
      "metadata": {
        "id": "rwcXpeF9VpBQ",
        "colab": {
          "base_uri": "https://localhost:8080/",
          "height": 52
        },
        "outputId": "ad13d6a9-018c-4beb-9221-6de07b922fcd"
      },
      "source": [
        "print(x_train_full.shape)\n",
        "print(y_train_full.shape)"
      ],
      "execution_count": null,
      "outputs": [
        {
          "output_type": "stream",
          "text": [
            "(351, 10)\n",
            "(351,)\n"
          ],
          "name": "stdout"
        }
      ]
    },
    {
      "cell_type": "code",
      "metadata": {
        "id": "4-KvUJs1Vo9d"
      },
      "source": [
        "x_train_full = x_train_full.reshape(-1, n, 1)\n",
        "y_train_full = y_train_full.reshape(-1, 1)"
      ],
      "execution_count": null,
      "outputs": []
    },
    {
      "cell_type": "code",
      "metadata": {
        "id": "G_kes8afVo54",
        "colab": {
          "base_uri": "https://localhost:8080/",
          "height": 52
        },
        "outputId": "aa6279b0-f5d7-4c70-d0f7-3a1c16d27d33"
      },
      "source": [
        "print(x_train_full.shape)\n",
        "print(y_train_full.shape)"
      ],
      "execution_count": null,
      "outputs": [
        {
          "output_type": "stream",
          "text": [
            "(351, 10, 1)\n",
            "(351, 1)\n"
          ],
          "name": "stdout"
        }
      ]
    },
    {
      "cell_type": "markdown",
      "metadata": {
        "id": "_e8ZgkRZak5V"
      },
      "source": [
        "## 테스트 데이터셋 생성"
      ]
    },
    {
      "cell_type": "code",
      "metadata": {
        "id": "WUHKyXaPVo2G"
      },
      "source": [
        "x_train = x_train_full[:30*11]\n",
        "y_train = y_train_full[:30*11]\n",
        "\n",
        "x_test = x_train_full[30*11:]\n",
        "y_test = y_train_full[30*11:]"
      ],
      "execution_count": null,
      "outputs": []
    },
    {
      "cell_type": "code",
      "metadata": {
        "id": "xe2CYFcXVoxu",
        "colab": {
          "base_uri": "https://localhost:8080/",
          "height": 52
        },
        "outputId": "8f7b5664-206c-4042-a01c-7dbf03391a95"
      },
      "source": [
        "print(x_train.shape, y_train.shape)\n",
        "print(x_test.shape, y_test.shape)"
      ],
      "execution_count": null,
      "outputs": [
        {
          "output_type": "stream",
          "text": [
            "(330, 10, 1) (330, 1)\n",
            "(21, 10, 1) (21, 1)\n"
          ],
          "name": "stdout"
        }
      ]
    },
    {
      "cell_type": "markdown",
      "metadata": {
        "id": "2gvgVvkEbRsq"
      },
      "source": [
        "## 데이터 확인"
      ]
    },
    {
      "cell_type": "code",
      "metadata": {
        "id": "uJuKu5bvVosF",
        "colab": {
          "base_uri": "https://localhost:8080/",
          "height": 52
        },
        "outputId": "c8188385-326b-41f9-adb2-5b245914b6e3"
      },
      "source": [
        "sample_series = np.arange(100)\n",
        "a, b, = make_data(sample_series, 10)\n",
        "\n",
        "print(a[0])\n",
        "print(b[0])"
      ],
      "execution_count": null,
      "outputs": [
        {
          "output_type": "stream",
          "text": [
            "[0 1 2 3 4 5 6 7 8 9]\n",
            "10\n"
          ],
          "name": "stdout"
        }
      ]
    },
    {
      "cell_type": "markdown",
      "metadata": {
        "id": "5ZzsxLa-b9fq"
      },
      "source": [
        "## 모델 구성"
      ]
    },
    {
      "cell_type": "code",
      "metadata": {
        "id": "AbvWl9pGVooV"
      },
      "source": [
        "from tensorflow.keras.layers import SimpleRNN, Flatten, Dense\n",
        "from tensorflow.keras.models import Sequential"
      ],
      "execution_count": null,
      "outputs": []
    },
    {
      "cell_type": "code",
      "metadata": {
        "id": "dwT7KGJTVokn"
      },
      "source": [
        "def build_model(n):\n",
        "  model = Sequential()\n",
        "\n",
        "  model.add(SimpleRNN(units=32, activation='tanh', input_shape=(n, 1)))\n",
        "  model.add(Dense(1))\n",
        "\n",
        "  model.compile(optimizer='adam',\n",
        "                loss='mse')\n",
        "  return model\n"
      ],
      "execution_count": null,
      "outputs": []
    },
    {
      "cell_type": "code",
      "metadata": {
        "id": "TYmQpmusVogh",
        "colab": {
          "base_uri": "https://localhost:8080/",
          "height": 230
        },
        "outputId": "a57ebae6-1a34-4b46-ed06-b26b5107c8b4"
      },
      "source": [
        "model = build_model(10)\n",
        "model.summary()"
      ],
      "execution_count": null,
      "outputs": [
        {
          "output_type": "stream",
          "text": [
            "Model: \"sequential_11\"\n",
            "_________________________________________________________________\n",
            "Layer (type)                 Output Shape              Param #   \n",
            "=================================================================\n",
            "simple_rnn_9 (SimpleRNN)     (None, 32)                1088      \n",
            "_________________________________________________________________\n",
            "dense_5 (Dense)              (None, 1)                 33        \n",
            "=================================================================\n",
            "Total params: 1,121\n",
            "Trainable params: 1,121\n",
            "Non-trainable params: 0\n",
            "_________________________________________________________________\n"
          ],
          "name": "stdout"
        }
      ]
    },
    {
      "cell_type": "markdown",
      "metadata": {
        "id": "pvVl7a-wc8fx"
      },
      "source": [
        "## 모델 학습"
      ]
    },
    {
      "cell_type": "code",
      "metadata": {
        "id": "OCb5Php2VocQ",
        "colab": {
          "base_uri": "https://localhost:8080/",
          "height": 1000
        },
        "outputId": "55b37c47-e0ef-414d-f26a-f251d508262b"
      },
      "source": [
        "model.fit(x_train, y_train,\n",
        "          epochs=100, batch_size=12)"
      ],
      "execution_count": null,
      "outputs": [
        {
          "output_type": "stream",
          "text": [
            "Epoch 1/100\n",
            "28/28 [==============================] - 0s 7ms/step - loss: 230.1902\n",
            "Epoch 2/100\n",
            "28/28 [==============================] - 0s 8ms/step - loss: 191.9166\n",
            "Epoch 3/100\n",
            "28/28 [==============================] - 0s 7ms/step - loss: 163.5263\n",
            "Epoch 4/100\n",
            "28/28 [==============================] - 0s 7ms/step - loss: 139.6051\n",
            "Epoch 5/100\n",
            "28/28 [==============================] - 0s 7ms/step - loss: 125.7416\n",
            "Epoch 6/100\n",
            "28/28 [==============================] - 0s 7ms/step - loss: 115.1031\n",
            "Epoch 7/100\n",
            "28/28 [==============================] - 0s 7ms/step - loss: 104.8187\n",
            "Epoch 8/100\n",
            "28/28 [==============================] - 0s 6ms/step - loss: 95.7638\n",
            "Epoch 9/100\n",
            "28/28 [==============================] - 0s 7ms/step - loss: 88.7320\n",
            "Epoch 10/100\n",
            "28/28 [==============================] - 0s 8ms/step - loss: 82.7168\n",
            "Epoch 11/100\n",
            "28/28 [==============================] - 0s 7ms/step - loss: 77.6299\n",
            "Epoch 12/100\n",
            "28/28 [==============================] - 0s 7ms/step - loss: 72.9027\n",
            "Epoch 13/100\n",
            "28/28 [==============================] - 0s 6ms/step - loss: 68.8526\n",
            "Epoch 14/100\n",
            "28/28 [==============================] - 0s 7ms/step - loss: 65.1858\n",
            "Epoch 15/100\n",
            "28/28 [==============================] - 0s 6ms/step - loss: 62.0614\n",
            "Epoch 16/100\n",
            "28/28 [==============================] - 0s 7ms/step - loss: 59.1309\n",
            "Epoch 17/100\n",
            "28/28 [==============================] - 0s 7ms/step - loss: 56.5100\n",
            "Epoch 18/100\n",
            "28/28 [==============================] - 0s 7ms/step - loss: 54.0473\n",
            "Epoch 19/100\n",
            "28/28 [==============================] - 0s 7ms/step - loss: 51.5164\n",
            "Epoch 20/100\n",
            "28/28 [==============================] - 0s 7ms/step - loss: 49.0371\n",
            "Epoch 21/100\n",
            "28/28 [==============================] - 0s 7ms/step - loss: 46.9373\n",
            "Epoch 22/100\n",
            "28/28 [==============================] - 0s 6ms/step - loss: 44.9275\n",
            "Epoch 23/100\n",
            "28/28 [==============================] - 0s 7ms/step - loss: 43.0118\n",
            "Epoch 24/100\n",
            "28/28 [==============================] - 0s 8ms/step - loss: 41.1522\n",
            "Epoch 25/100\n",
            "28/28 [==============================] - 0s 7ms/step - loss: 39.6115\n",
            "Epoch 26/100\n",
            "28/28 [==============================] - 0s 8ms/step - loss: 38.1629\n",
            "Epoch 27/100\n",
            "28/28 [==============================] - 0s 7ms/step - loss: 36.7697\n",
            "Epoch 28/100\n",
            "28/28 [==============================] - 0s 6ms/step - loss: 35.3506\n",
            "Epoch 29/100\n",
            "28/28 [==============================] - 0s 8ms/step - loss: 34.3970\n",
            "Epoch 30/100\n",
            "28/28 [==============================] - 0s 8ms/step - loss: 33.2034\n",
            "Epoch 31/100\n",
            "28/28 [==============================] - 0s 8ms/step - loss: 32.4400\n",
            "Epoch 32/100\n",
            "28/28 [==============================] - 0s 7ms/step - loss: 31.3337\n",
            "Epoch 33/100\n",
            "28/28 [==============================] - 0s 8ms/step - loss: 30.4577\n",
            "Epoch 34/100\n",
            "28/28 [==============================] - 0s 7ms/step - loss: 29.9239\n",
            "Epoch 35/100\n",
            "28/28 [==============================] - 0s 7ms/step - loss: 29.2437\n",
            "Epoch 36/100\n",
            "28/28 [==============================] - 0s 7ms/step - loss: 28.5266\n",
            "Epoch 37/100\n",
            "28/28 [==============================] - 0s 7ms/step - loss: 28.8559\n",
            "Epoch 38/100\n",
            "28/28 [==============================] - 0s 7ms/step - loss: 27.8761\n",
            "Epoch 39/100\n",
            "28/28 [==============================] - 0s 7ms/step - loss: 27.1967\n",
            "Epoch 40/100\n",
            "28/28 [==============================] - 0s 7ms/step - loss: 26.8979\n",
            "Epoch 41/100\n",
            "28/28 [==============================] - 0s 6ms/step - loss: 26.3235\n",
            "Epoch 42/100\n",
            "28/28 [==============================] - 0s 6ms/step - loss: 25.7072\n",
            "Epoch 43/100\n",
            "28/28 [==============================] - 0s 8ms/step - loss: 25.3502\n",
            "Epoch 44/100\n",
            "28/28 [==============================] - 0s 7ms/step - loss: 24.9930\n",
            "Epoch 45/100\n",
            "28/28 [==============================] - 0s 7ms/step - loss: 24.6821\n",
            "Epoch 46/100\n",
            "28/28 [==============================] - 0s 6ms/step - loss: 24.5430\n",
            "Epoch 47/100\n",
            "28/28 [==============================] - 0s 8ms/step - loss: 23.9166\n",
            "Epoch 48/100\n",
            "28/28 [==============================] - 0s 7ms/step - loss: 23.3735\n",
            "Epoch 49/100\n",
            "28/28 [==============================] - 0s 6ms/step - loss: 22.7491\n",
            "Epoch 50/100\n",
            "28/28 [==============================] - 0s 7ms/step - loss: 22.6178\n",
            "Epoch 51/100\n",
            "28/28 [==============================] - 0s 7ms/step - loss: 22.2536\n",
            "Epoch 52/100\n",
            "28/28 [==============================] - 0s 7ms/step - loss: 21.5634\n",
            "Epoch 53/100\n",
            "28/28 [==============================] - 0s 8ms/step - loss: 22.4093\n",
            "Epoch 54/100\n",
            "28/28 [==============================] - 0s 7ms/step - loss: 21.1795\n",
            "Epoch 55/100\n",
            "28/28 [==============================] - 0s 6ms/step - loss: 20.6857\n",
            "Epoch 56/100\n",
            "28/28 [==============================] - 0s 7ms/step - loss: 20.4224\n",
            "Epoch 57/100\n",
            "28/28 [==============================] - 0s 7ms/step - loss: 20.4070\n",
            "Epoch 58/100\n",
            "28/28 [==============================] - 0s 7ms/step - loss: 19.5142\n",
            "Epoch 59/100\n",
            "28/28 [==============================] - 0s 7ms/step - loss: 19.6769\n",
            "Epoch 60/100\n",
            "28/28 [==============================] - 0s 7ms/step - loss: 19.1017\n",
            "Epoch 61/100\n",
            "28/28 [==============================] - 0s 7ms/step - loss: 18.8796\n",
            "Epoch 62/100\n",
            "28/28 [==============================] - 0s 6ms/step - loss: 18.6220\n",
            "Epoch 63/100\n",
            "28/28 [==============================] - 0s 7ms/step - loss: 18.7025\n",
            "Epoch 64/100\n",
            "28/28 [==============================] - 0s 9ms/step - loss: 18.1399\n",
            "Epoch 65/100\n",
            "28/28 [==============================] - 0s 9ms/step - loss: 18.0323\n",
            "Epoch 66/100\n",
            "28/28 [==============================] - 0s 7ms/step - loss: 17.7499\n",
            "Epoch 67/100\n",
            "28/28 [==============================] - 0s 8ms/step - loss: 17.7497\n",
            "Epoch 68/100\n",
            "28/28 [==============================] - 0s 8ms/step - loss: 17.4296\n",
            "Epoch 69/100\n",
            "28/28 [==============================] - 0s 7ms/step - loss: 17.2989\n",
            "Epoch 70/100\n",
            "28/28 [==============================] - 0s 7ms/step - loss: 17.1673\n",
            "Epoch 71/100\n",
            "28/28 [==============================] - 0s 7ms/step - loss: 17.3465\n",
            "Epoch 72/100\n",
            "28/28 [==============================] - 0s 7ms/step - loss: 17.4046\n",
            "Epoch 73/100\n",
            "28/28 [==============================] - 0s 7ms/step - loss: 17.6497\n",
            "Epoch 74/100\n",
            "28/28 [==============================] - 0s 7ms/step - loss: 17.1394\n",
            "Epoch 75/100\n",
            "28/28 [==============================] - 0s 7ms/step - loss: 16.6941\n",
            "Epoch 76/100\n",
            "28/28 [==============================] - 0s 7ms/step - loss: 16.2676\n",
            "Epoch 77/100\n",
            "28/28 [==============================] - 0s 7ms/step - loss: 15.9968\n",
            "Epoch 78/100\n",
            "28/28 [==============================] - 0s 9ms/step - loss: 16.0276\n",
            "Epoch 79/100\n",
            "28/28 [==============================] - 0s 9ms/step - loss: 15.7143\n",
            "Epoch 80/100\n",
            "28/28 [==============================] - 0s 9ms/step - loss: 15.7503\n",
            "Epoch 81/100\n",
            "28/28 [==============================] - 0s 8ms/step - loss: 15.4313\n",
            "Epoch 82/100\n",
            "28/28 [==============================] - 0s 7ms/step - loss: 15.3304\n",
            "Epoch 83/100\n",
            "28/28 [==============================] - 0s 7ms/step - loss: 15.1411\n",
            "Epoch 84/100\n",
            "28/28 [==============================] - 0s 8ms/step - loss: 15.3138\n",
            "Epoch 85/100\n",
            "28/28 [==============================] - 0s 9ms/step - loss: 15.2145\n",
            "Epoch 86/100\n",
            "28/28 [==============================] - 0s 7ms/step - loss: 14.4663\n",
            "Epoch 87/100\n",
            "28/28 [==============================] - 0s 7ms/step - loss: 14.6236\n",
            "Epoch 88/100\n",
            "28/28 [==============================] - 0s 7ms/step - loss: 14.2861\n",
            "Epoch 89/100\n",
            "28/28 [==============================] - 0s 8ms/step - loss: 14.4223\n",
            "Epoch 90/100\n",
            "28/28 [==============================] - 0s 7ms/step - loss: 13.9904\n",
            "Epoch 91/100\n",
            "28/28 [==============================] - 0s 8ms/step - loss: 13.9360\n",
            "Epoch 92/100\n",
            "28/28 [==============================] - 0s 7ms/step - loss: 13.9492\n",
            "Epoch 93/100\n",
            "28/28 [==============================] - 0s 7ms/step - loss: 13.4882\n",
            "Epoch 94/100\n",
            "28/28 [==============================] - 0s 7ms/step - loss: 13.4346\n",
            "Epoch 95/100\n",
            "28/28 [==============================] - 0s 7ms/step - loss: 13.2938\n",
            "Epoch 96/100\n",
            "28/28 [==============================] - 0s 7ms/step - loss: 13.0491\n",
            "Epoch 97/100\n",
            "28/28 [==============================] - 0s 7ms/step - loss: 13.5346\n",
            "Epoch 98/100\n",
            "28/28 [==============================] - 0s 7ms/step - loss: 13.4707\n",
            "Epoch 99/100\n",
            "28/28 [==============================] - 0s 8ms/step - loss: 12.8724\n",
            "Epoch 100/100\n",
            "28/28 [==============================] - 0s 7ms/step - loss: 13.1342\n"
          ],
          "name": "stdout"
        },
        {
          "output_type": "execute_result",
          "data": {
            "text/plain": [
              "<tensorflow.python.keras.callbacks.History at 0x7f492a3477b8>"
            ]
          },
          "metadata": {
            "tags": []
          },
          "execution_count": 88
        }
      ]
    },
    {
      "cell_type": "markdown",
      "metadata": {
        "id": "CBWO8NqAdzRZ"
      },
      "source": [
        "## 예측값 그려보기"
      ]
    },
    {
      "cell_type": "code",
      "metadata": {
        "id": "80XSEaQ8dxOk",
        "colab": {
          "base_uri": "https://localhost:8080/",
          "height": 330
        },
        "outputId": "1ceaca4d-3f84-415b-ef5d-433ead5b5ec4"
      },
      "source": [
        "prediction = model.predict(x_test)\n",
        "\n",
        "pred_range = np.arange(len(y_train), len(y_train) + len(prediction))\n",
        "\n",
        "plt.figure(figsize=(12, 5))\n",
        "plt.xlabel('Time')\n",
        "plt.ylabel('Value')\n",
        "plt.plot(pred_range, y_test.flatten(), color='orange', label='Groung Truth')\n",
        "plt.plot(pred_range, prediction.flatten(), color='blue', label='Prediction')\n",
        "plt.legend()\n",
        "plt.show()"
      ],
      "execution_count": null,
      "outputs": [
        {
          "output_type": "display_data",
          "data": {
            "image/png": "[encoded data removed]",
            "text/plain": [
              "<Figure size 864x360 with 1 Axes>"
            ]
          },
          "metadata": {
            "tags": []
          }
        }
      ]
    },
    {
      "cell_type": "markdown",
      "metadata": {
        "id": "KqWPWvHWelCp"
      },
      "source": [
        "## 모델 재구성 (2)\n",
        "- LSTM 사용"
      ]
    },
    {
      "cell_type": "code",
      "metadata": {
        "id": "DL3G_sLSFRsN"
      },
      "source": [
        "from tensorflow.keras.layers import LSTM"
      ],
      "execution_count": null,
      "outputs": []
    },
    {
      "cell_type": "code",
      "metadata": {
        "id": "gRdRAH5Hew6s"
      },
      "source": [
        "def build_model2(n):\n",
        "  model = Sequential()\n",
        "\n",
        "  model.add(LSTM(units=64, return_sequences=True, input_shape=(n, 1)))\n",
        "  model.add(LSTM(32))\n",
        "  model.add(Dense(1))\n",
        "\n",
        "  model.compile(optimizer='adam',\n",
        "                loss='mse')\n",
        "  return model\n"
      ],
      "execution_count": null,
      "outputs": []
    },
    {
      "cell_type": "code",
      "metadata": {
        "id": "wFk0_R10eqGu",
        "colab": {
          "base_uri": "https://localhost:8080/",
          "height": 266
        },
        "outputId": "e87c7c5e-dfe3-4dfd-f325-128f86b22cba"
      },
      "source": [
        "model_2=build_model2(10)\n",
        "model_2.summary()"
      ],
      "execution_count": null,
      "outputs": [
        {
          "output_type": "stream",
          "text": [
            "Model: \"sequential_12\"\n",
            "_________________________________________________________________\n",
            "Layer (type)                 Output Shape              Param #   \n",
            "=================================================================\n",
            "lstm_5 (LSTM)                (None, 10, 64)            16896     \n",
            "_________________________________________________________________\n",
            "lstm_6 (LSTM)                (None, 32)                12416     \n",
            "_________________________________________________________________\n",
            "dense_6 (Dense)              (None, 1)                 33        \n",
            "=================================================================\n",
            "Total params: 29,345\n",
            "Trainable params: 29,345\n",
            "Non-trainable params: 0\n",
            "_________________________________________________________________\n"
          ],
          "name": "stdout"
        }
      ]
    },
    {
      "cell_type": "markdown",
      "metadata": {
        "id": "te5tAar7fUIK"
      },
      "source": [
        "## 모델 재학습 및 예측값 그려보기"
      ]
    },
    {
      "cell_type": "code",
      "metadata": {
        "id": "qDAPz1QJep9D",
        "colab": {
          "base_uri": "https://localhost:8080/",
          "height": 1000
        },
        "outputId": "97d60bcf-4c2b-49f2-e2af-55bab7d68b39"
      },
      "source": [
        "model_2.fit(x_train, y_train,\n",
        "            epochs=100, batch_size=12)"
      ],
      "execution_count": null,
      "outputs": [
        {
          "output_type": "stream",
          "text": [
            "Epoch 1/100\n",
            "28/28 [==============================] - 0s 4ms/step - loss: 216.0847\n",
            "Epoch 2/100\n",
            "28/28 [==============================] - 0s 4ms/step - loss: 160.2890\n",
            "Epoch 3/100\n",
            "28/28 [==============================] - 0s 4ms/step - loss: 121.2691\n",
            "Epoch 4/100\n",
            "28/28 [==============================] - 0s 4ms/step - loss: 97.3724\n",
            "Epoch 5/100\n",
            "28/28 [==============================] - 0s 4ms/step - loss: 80.5765\n",
            "Epoch 6/100\n",
            "28/28 [==============================] - 0s 4ms/step - loss: 70.5609\n",
            "Epoch 7/100\n",
            "28/28 [==============================] - 0s 4ms/step - loss: 61.7709\n",
            "Epoch 8/100\n",
            "28/28 [==============================] - 0s 4ms/step - loss: 55.2721\n",
            "Epoch 9/100\n",
            "28/28 [==============================] - 0s 4ms/step - loss: 50.4911\n",
            "Epoch 10/100\n",
            "28/28 [==============================] - 0s 4ms/step - loss: 46.6331\n",
            "Epoch 11/100\n",
            "28/28 [==============================] - 0s 5ms/step - loss: 43.1615\n",
            "Epoch 12/100\n",
            "28/28 [==============================] - 0s 4ms/step - loss: 40.7200\n",
            "Epoch 13/100\n",
            "28/28 [==============================] - 0s 5ms/step - loss: 37.9328\n",
            "Epoch 14/100\n",
            "28/28 [==============================] - 0s 4ms/step - loss: 35.4434\n",
            "Epoch 15/100\n",
            "28/28 [==============================] - 0s 4ms/step - loss: 32.9087\n",
            "Epoch 16/100\n",
            "28/28 [==============================] - 0s 4ms/step - loss: 33.0439\n",
            "Epoch 17/100\n",
            "28/28 [==============================] - 0s 4ms/step - loss: 30.9684\n",
            "Epoch 18/100\n",
            "28/28 [==============================] - 0s 4ms/step - loss: 30.0103\n",
            "Epoch 19/100\n",
            "28/28 [==============================] - 0s 4ms/step - loss: 29.2331\n",
            "Epoch 20/100\n",
            "28/28 [==============================] - 0s 4ms/step - loss: 28.4676\n",
            "Epoch 21/100\n",
            "28/28 [==============================] - 0s 4ms/step - loss: 27.4198\n",
            "Epoch 22/100\n",
            "28/28 [==============================] - 0s 4ms/step - loss: 26.4374\n",
            "Epoch 23/100\n",
            "28/28 [==============================] - 0s 4ms/step - loss: 26.2977\n",
            "Epoch 24/100\n",
            "28/28 [==============================] - 0s 4ms/step - loss: 25.1447\n",
            "Epoch 25/100\n",
            "28/28 [==============================] - 0s 4ms/step - loss: 24.7296\n",
            "Epoch 26/100\n",
            "28/28 [==============================] - 0s 4ms/step - loss: 23.8049\n",
            "Epoch 27/100\n",
            "28/28 [==============================] - 0s 4ms/step - loss: 23.2424\n",
            "Epoch 28/100\n",
            "28/28 [==============================] - 0s 4ms/step - loss: 22.7652\n",
            "Epoch 29/100\n",
            "28/28 [==============================] - 0s 4ms/step - loss: 22.0981\n",
            "Epoch 30/100\n",
            "28/28 [==============================] - 0s 4ms/step - loss: 21.5163\n",
            "Epoch 31/100\n",
            "28/28 [==============================] - 0s 4ms/step - loss: 21.0163\n",
            "Epoch 32/100\n",
            "28/28 [==============================] - 0s 4ms/step - loss: 21.1090\n",
            "Epoch 33/100\n",
            "28/28 [==============================] - 0s 4ms/step - loss: 20.3533\n",
            "Epoch 34/100\n",
            "28/28 [==============================] - 0s 4ms/step - loss: 19.9604\n",
            "Epoch 35/100\n",
            "28/28 [==============================] - 0s 4ms/step - loss: 19.6055\n",
            "Epoch 36/100\n",
            "28/28 [==============================] - 0s 4ms/step - loss: 18.8200\n",
            "Epoch 37/100\n",
            "28/28 [==============================] - 0s 4ms/step - loss: 18.5690\n",
            "Epoch 38/100\n",
            "28/28 [==============================] - 0s 4ms/step - loss: 18.4531\n",
            "Epoch 39/100\n",
            "28/28 [==============================] - 0s 4ms/step - loss: 18.1125\n",
            "Epoch 40/100\n",
            "28/28 [==============================] - 0s 4ms/step - loss: 17.8785\n",
            "Epoch 41/100\n",
            "28/28 [==============================] - 0s 4ms/step - loss: 18.0663\n",
            "Epoch 42/100\n",
            "28/28 [==============================] - 0s 4ms/step - loss: 17.6017\n",
            "Epoch 43/100\n",
            "28/28 [==============================] - 0s 4ms/step - loss: 17.1703\n",
            "Epoch 44/100\n",
            "28/28 [==============================] - 0s 4ms/step - loss: 17.1592\n",
            "Epoch 45/100\n",
            "28/28 [==============================] - 0s 4ms/step - loss: 16.8167\n",
            "Epoch 46/100\n",
            "28/28 [==============================] - 0s 4ms/step - loss: 17.0714\n",
            "Epoch 47/100\n",
            "28/28 [==============================] - 0s 4ms/step - loss: 17.2148\n",
            "Epoch 48/100\n",
            "28/28 [==============================] - 0s 4ms/step - loss: 16.2513\n",
            "Epoch 49/100\n",
            "28/28 [==============================] - 0s 4ms/step - loss: 16.9092\n",
            "Epoch 50/100\n",
            "28/28 [==============================] - 0s 4ms/step - loss: 16.4100\n",
            "Epoch 51/100\n",
            "28/28 [==============================] - 0s 4ms/step - loss: 16.0248\n",
            "Epoch 52/100\n",
            "28/28 [==============================] - 0s 4ms/step - loss: 16.2066\n",
            "Epoch 53/100\n",
            "28/28 [==============================] - 0s 4ms/step - loss: 16.3739\n",
            "Epoch 54/100\n",
            "28/28 [==============================] - 0s 4ms/step - loss: 15.7288\n",
            "Epoch 55/100\n",
            "28/28 [==============================] - 0s 4ms/step - loss: 15.6049\n",
            "Epoch 56/100\n",
            "28/28 [==============================] - 0s 4ms/step - loss: 15.8023\n",
            "Epoch 57/100\n",
            "28/28 [==============================] - 0s 4ms/step - loss: 15.5379\n",
            "Epoch 58/100\n",
            "28/28 [==============================] - 0s 4ms/step - loss: 15.7074\n",
            "Epoch 59/100\n",
            "28/28 [==============================] - 0s 5ms/step - loss: 16.1646\n",
            "Epoch 60/100\n",
            "28/28 [==============================] - 0s 4ms/step - loss: 16.9781\n",
            "Epoch 61/100\n",
            "28/28 [==============================] - 0s 4ms/step - loss: 16.3996\n",
            "Epoch 62/100\n",
            "28/28 [==============================] - 0s 4ms/step - loss: 15.7447\n",
            "Epoch 63/100\n",
            "28/28 [==============================] - 0s 4ms/step - loss: 15.5086\n",
            "Epoch 64/100\n",
            "28/28 [==============================] - 0s 4ms/step - loss: 15.0969\n",
            "Epoch 65/100\n",
            "28/28 [==============================] - 0s 4ms/step - loss: 15.3123\n",
            "Epoch 66/100\n",
            "28/28 [==============================] - 0s 4ms/step - loss: 15.7355\n",
            "Epoch 67/100\n",
            "28/28 [==============================] - 0s 4ms/step - loss: 15.5948\n",
            "Epoch 68/100\n",
            "28/28 [==============================] - 0s 4ms/step - loss: 15.1433\n",
            "Epoch 69/100\n",
            "28/28 [==============================] - 0s 4ms/step - loss: 15.2454\n",
            "Epoch 70/100\n",
            "28/28 [==============================] - 0s 4ms/step - loss: 14.3665\n",
            "Epoch 71/100\n",
            "28/28 [==============================] - 0s 5ms/step - loss: 14.5416\n",
            "Epoch 72/100\n",
            "28/28 [==============================] - 0s 4ms/step - loss: 14.4696\n",
            "Epoch 73/100\n",
            "28/28 [==============================] - 0s 4ms/step - loss: 14.8198\n",
            "Epoch 74/100\n",
            "28/28 [==============================] - 0s 4ms/step - loss: 14.0388\n",
            "Epoch 75/100\n",
            "28/28 [==============================] - 0s 4ms/step - loss: 14.6664\n",
            "Epoch 76/100\n",
            "28/28 [==============================] - 0s 4ms/step - loss: 14.6685\n",
            "Epoch 77/100\n",
            "28/28 [==============================] - 0s 4ms/step - loss: 13.9936\n",
            "Epoch 78/100\n",
            "28/28 [==============================] - 0s 4ms/step - loss: 14.7896\n",
            "Epoch 79/100\n",
            "28/28 [==============================] - 0s 4ms/step - loss: 14.3202\n",
            "Epoch 80/100\n",
            "28/28 [==============================] - 0s 4ms/step - loss: 14.2429\n",
            "Epoch 81/100\n",
            "28/28 [==============================] - 0s 4ms/step - loss: 13.6185\n",
            "Epoch 82/100\n",
            "28/28 [==============================] - 0s 4ms/step - loss: 13.5864\n",
            "Epoch 83/100\n",
            "28/28 [==============================] - 0s 4ms/step - loss: 13.2836\n",
            "Epoch 84/100\n",
            "28/28 [==============================] - 0s 4ms/step - loss: 12.9255\n",
            "Epoch 85/100\n",
            "28/28 [==============================] - 0s 4ms/step - loss: 13.1297\n",
            "Epoch 86/100\n",
            "28/28 [==============================] - 0s 4ms/step - loss: 13.3822\n",
            "Epoch 87/100\n",
            "28/28 [==============================] - 0s 4ms/step - loss: 14.1479\n",
            "Epoch 88/100\n",
            "28/28 [==============================] - 0s 5ms/step - loss: 13.2921\n",
            "Epoch 89/100\n",
            "28/28 [==============================] - 0s 4ms/step - loss: 13.3761\n",
            "Epoch 90/100\n",
            "28/28 [==============================] - 0s 4ms/step - loss: 12.6393\n",
            "Epoch 91/100\n",
            "28/28 [==============================] - 0s 4ms/step - loss: 12.8671\n",
            "Epoch 92/100\n",
            "28/28 [==============================] - 0s 4ms/step - loss: 13.0787\n",
            "Epoch 93/100\n",
            "28/28 [==============================] - 0s 5ms/step - loss: 12.9432\n",
            "Epoch 94/100\n",
            "28/28 [==============================] - 0s 4ms/step - loss: 12.9476\n",
            "Epoch 95/100\n",
            "28/28 [==============================] - 0s 4ms/step - loss: 13.3623\n",
            "Epoch 96/100\n",
            "28/28 [==============================] - 0s 4ms/step - loss: 12.3905\n",
            "Epoch 97/100\n",
            "28/28 [==============================] - 0s 4ms/step - loss: 12.2373\n",
            "Epoch 98/100\n",
            "28/28 [==============================] - 0s 4ms/step - loss: 12.3317\n",
            "Epoch 99/100\n",
            "28/28 [==============================] - 0s 4ms/step - loss: 11.8613\n",
            "Epoch 100/100\n",
            "28/28 [==============================] - 0s 4ms/step - loss: 12.3316\n"
          ],
          "name": "stdout"
        },
        {
          "output_type": "execute_result",
          "data": {
            "text/plain": [
              "<tensorflow.python.keras.callbacks.History at 0x7f492648d7f0>"
            ]
          },
          "metadata": {
            "tags": []
          },
          "execution_count": 99
        }
      ]
    },
    {
      "cell_type": "code",
      "metadata": {
        "id": "a2PO8mlRep4i",
        "colab": {
          "base_uri": "https://localhost:8080/",
          "height": 330
        },
        "outputId": "3a37a4a6-fdb7-4ed6-cb39-0d4cdffa10d8"
      },
      "source": [
        "prediction_2 = model_2.predict(x_test)\n",
        "\n",
        "pred_range = np.arange(len(y_train), len(y_train) + len(prediction_2))\n",
        "\n",
        "plt.figure(figsize=(12, 5))\n",
        "plt.xlabel('Time')\n",
        "plt.ylabel('Value')\n",
        "plt.plot(pred_range, y_test.flatten(), color='orange', label='Groung Truth')\n",
        "plt.plot(pred_range, prediction.flatten(), 'r:', label='Model 1 Prediction')\n",
        "plt.plot(pred_range, prediction_2.flatten(), color='blue', label='Model 2 Prediction')\n",
        "plt.legend()\n",
        "plt.show()"
      ],
      "execution_count": null,
      "outputs": [
        {
          "output_type": "display_data",
          "data": {
            "image/png": "[encoded data removed]",
            "text/plain": [
              "<Figure size 864x360 with 1 Axes>"
            ]
          },
          "metadata": {
            "tags": []
          }
        }
      ]
    },
    {
      "cell_type": "markdown",
      "metadata": {
        "id": "a52Hf5A8gBY1"
      },
      "source": [
        "## 모델 재구성(3)\n",
        "- GRU 사용\n",
        "  - LSTM 보다 더 쉬운 구조"
      ]
    },
    {
      "cell_type": "code",
      "metadata": {
        "id": "mjJvMhvegFWa"
      },
      "source": [
        "from tensorflow.keras.layers import GRU "
      ],
      "execution_count": null,
      "outputs": []
    },
    {
      "cell_type": "code",
      "metadata": {
        "id": "elzfgn1ngFR7",
        "colab": {
          "base_uri": "https://localhost:8080/",
          "height": 266
        },
        "outputId": "56bc6188-4907-4295-e705-491d7f4311d5"
      },
      "source": [
        "def build_model3(n):\n",
        "  model = Sequential()\n",
        "\n",
        "  model.add(GRU(units=30, return_sequences=True, input_shape=(n, 1)))\n",
        "  model.add(GRU(30))\n",
        "  model.add(Dense(1))\n",
        "\n",
        "  model.compile(optimizer='adam',\n",
        "                loss='mse')\n",
        "  return model\n",
        "\n",
        "model_3 = build_model2(10)\n",
        "model_3.summary()"
      ],
      "execution_count": null,
      "outputs": [
        {
          "output_type": "stream",
          "text": [
            "Model: \"sequential_13\"\n",
            "_________________________________________________________________\n",
            "Layer (type)                 Output Shape              Param #   \n",
            "=================================================================\n",
            "lstm_7 (LSTM)                (None, 10, 64)            16896     \n",
            "_________________________________________________________________\n",
            "lstm_8 (LSTM)                (None, 32)                12416     \n",
            "_________________________________________________________________\n",
            "dense_7 (Dense)              (None, 1)                 33        \n",
            "=================================================================\n",
            "Total params: 29,345\n",
            "Trainable params: 29,345\n",
            "Non-trainable params: 0\n",
            "_________________________________________________________________\n"
          ],
          "name": "stdout"
        }
      ]
    },
    {
      "cell_type": "markdown",
      "metadata": {
        "id": "Lz4dAZvvgbQp"
      },
      "source": [
        "## 모델 재학습 및 예측값 그려보기"
      ]
    },
    {
      "cell_type": "code",
      "metadata": {
        "id": "sg-NFBcEgFMg",
        "colab": {
          "base_uri": "https://localhost:8080/",
          "height": 1000
        },
        "outputId": "4c5d2cc5-8b60-414a-d6b8-504896e8c90f"
      },
      "source": [
        "model_3.fit(x_train, y_train,\n",
        "            epochs=100, batch_size=12)"
      ],
      "execution_count": null,
      "outputs": [
        {
          "output_type": "stream",
          "text": [
            "Epoch 1/100\n",
            "28/28 [==============================] - 0s 4ms/step - loss: 207.6677\n",
            "Epoch 2/100\n",
            "28/28 [==============================] - 0s 4ms/step - loss: 145.5796\n",
            "Epoch 3/100\n",
            "28/28 [==============================] - 0s 4ms/step - loss: 104.3829\n",
            "Epoch 4/100\n",
            "28/28 [==============================] - 0s 4ms/step - loss: 81.3238\n",
            "Epoch 5/100\n",
            "28/28 [==============================] - 0s 4ms/step - loss: 67.2762\n",
            "Epoch 6/100\n",
            "28/28 [==============================] - 0s 4ms/step - loss: 57.2957\n",
            "Epoch 7/100\n",
            "28/28 [==============================] - 0s 4ms/step - loss: 50.6798\n",
            "Epoch 8/100\n",
            "28/28 [==============================] - 0s 5ms/step - loss: 45.3632\n",
            "Epoch 9/100\n",
            "28/28 [==============================] - 0s 4ms/step - loss: 41.9814\n",
            "Epoch 10/100\n",
            "28/28 [==============================] - 0s 4ms/step - loss: 38.6897\n",
            "Epoch 11/100\n",
            "28/28 [==============================] - 0s 4ms/step - loss: 36.9698\n",
            "Epoch 12/100\n",
            "28/28 [==============================] - 0s 4ms/step - loss: 35.2107\n",
            "Epoch 13/100\n",
            "28/28 [==============================] - 0s 4ms/step - loss: 33.1908\n",
            "Epoch 14/100\n",
            "28/28 [==============================] - 0s 4ms/step - loss: 32.2036\n",
            "Epoch 15/100\n",
            "28/28 [==============================] - 0s 4ms/step - loss: 31.1700\n",
            "Epoch 16/100\n",
            "28/28 [==============================] - 0s 4ms/step - loss: 30.0371\n",
            "Epoch 17/100\n",
            "28/28 [==============================] - 0s 4ms/step - loss: 29.1377\n",
            "Epoch 18/100\n",
            "28/28 [==============================] - 0s 4ms/step - loss: 27.8360\n",
            "Epoch 19/100\n",
            "28/28 [==============================] - 0s 4ms/step - loss: 27.1719\n",
            "Epoch 20/100\n",
            "28/28 [==============================] - 0s 4ms/step - loss: 26.7217\n",
            "Epoch 21/100\n",
            "28/28 [==============================] - 0s 4ms/step - loss: 25.6526\n",
            "Epoch 22/100\n",
            "28/28 [==============================] - 0s 4ms/step - loss: 25.2186\n",
            "Epoch 23/100\n",
            "28/28 [==============================] - 0s 4ms/step - loss: 24.5800\n",
            "Epoch 24/100\n",
            "28/28 [==============================] - 0s 4ms/step - loss: 23.6374\n",
            "Epoch 25/100\n",
            "28/28 [==============================] - 0s 4ms/step - loss: 23.4204\n",
            "Epoch 26/100\n",
            "28/28 [==============================] - 0s 4ms/step - loss: 23.3174\n",
            "Epoch 27/100\n",
            "28/28 [==============================] - 0s 4ms/step - loss: 23.0849\n",
            "Epoch 28/100\n",
            "28/28 [==============================] - 0s 4ms/step - loss: 22.8191\n",
            "Epoch 29/100\n",
            "28/28 [==============================] - 0s 4ms/step - loss: 21.8609\n",
            "Epoch 30/100\n",
            "28/28 [==============================] - 0s 4ms/step - loss: 21.7844\n",
            "Epoch 31/100\n",
            "28/28 [==============================] - 0s 4ms/step - loss: 21.4752\n",
            "Epoch 32/100\n",
            "28/28 [==============================] - 0s 4ms/step - loss: 21.0909\n",
            "Epoch 33/100\n",
            "28/28 [==============================] - 0s 4ms/step - loss: 20.6255\n",
            "Epoch 34/100\n",
            "28/28 [==============================] - 0s 4ms/step - loss: 20.0180\n",
            "Epoch 35/100\n",
            "28/28 [==============================] - 0s 4ms/step - loss: 19.8978\n",
            "Epoch 36/100\n",
            "28/28 [==============================] - 0s 4ms/step - loss: 19.8198\n",
            "Epoch 37/100\n",
            "28/28 [==============================] - 0s 4ms/step - loss: 18.9696\n",
            "Epoch 38/100\n",
            "28/28 [==============================] - 0s 4ms/step - loss: 19.1923\n",
            "Epoch 39/100\n",
            "28/28 [==============================] - 0s 4ms/step - loss: 18.9581\n",
            "Epoch 40/100\n",
            "28/28 [==============================] - 0s 4ms/step - loss: 18.4571\n",
            "Epoch 41/100\n",
            "28/28 [==============================] - 0s 4ms/step - loss: 18.5951\n",
            "Epoch 42/100\n",
            "28/28 [==============================] - 0s 4ms/step - loss: 18.9251\n",
            "Epoch 43/100\n",
            "28/28 [==============================] - 0s 4ms/step - loss: 17.9270\n",
            "Epoch 44/100\n",
            "28/28 [==============================] - 0s 4ms/step - loss: 17.8909\n",
            "Epoch 45/100\n",
            "28/28 [==============================] - 0s 4ms/step - loss: 17.6675\n",
            "Epoch 46/100\n",
            "28/28 [==============================] - 0s 4ms/step - loss: 17.6196\n",
            "Epoch 47/100\n",
            "28/28 [==============================] - 0s 4ms/step - loss: 17.3568\n",
            "Epoch 48/100\n",
            "28/28 [==============================] - 0s 4ms/step - loss: 16.9448\n",
            "Epoch 49/100\n",
            "28/28 [==============================] - 0s 5ms/step - loss: 16.8928\n",
            "Epoch 50/100\n",
            "28/28 [==============================] - 0s 5ms/step - loss: 16.3043\n",
            "Epoch 51/100\n",
            "28/28 [==============================] - 0s 4ms/step - loss: 16.4983\n",
            "Epoch 52/100\n",
            "28/28 [==============================] - 0s 4ms/step - loss: 16.3983\n",
            "Epoch 53/100\n",
            "28/28 [==============================] - 0s 4ms/step - loss: 16.1202\n",
            "Epoch 54/100\n",
            "28/28 [==============================] - 0s 4ms/step - loss: 16.0214\n",
            "Epoch 55/100\n",
            "28/28 [==============================] - 0s 4ms/step - loss: 15.9794\n",
            "Epoch 56/100\n",
            "28/28 [==============================] - 0s 4ms/step - loss: 15.5621\n",
            "Epoch 57/100\n",
            "28/28 [==============================] - 0s 4ms/step - loss: 16.1513\n",
            "Epoch 58/100\n",
            "28/28 [==============================] - 0s 4ms/step - loss: 15.5871\n",
            "Epoch 59/100\n",
            "28/28 [==============================] - 0s 4ms/step - loss: 15.4123\n",
            "Epoch 60/100\n",
            "28/28 [==============================] - 0s 4ms/step - loss: 16.4388\n",
            "Epoch 61/100\n",
            "28/28 [==============================] - 0s 4ms/step - loss: 16.4287\n",
            "Epoch 62/100\n",
            "28/28 [==============================] - 0s 4ms/step - loss: 16.2002\n",
            "Epoch 63/100\n",
            "28/28 [==============================] - 0s 4ms/step - loss: 15.2075\n",
            "Epoch 64/100\n",
            "28/28 [==============================] - 0s 4ms/step - loss: 14.9736\n",
            "Epoch 65/100\n",
            "28/28 [==============================] - 0s 4ms/step - loss: 15.2369\n",
            "Epoch 66/100\n",
            "28/28 [==============================] - 0s 4ms/step - loss: 14.9646\n",
            "Epoch 67/100\n",
            "28/28 [==============================] - 0s 4ms/step - loss: 14.9421\n",
            "Epoch 68/100\n",
            "28/28 [==============================] - 0s 4ms/step - loss: 15.0211\n",
            "Epoch 69/100\n",
            "28/28 [==============================] - 0s 4ms/step - loss: 15.1179\n",
            "Epoch 70/100\n",
            "28/28 [==============================] - 0s 4ms/step - loss: 14.4579\n",
            "Epoch 71/100\n",
            "28/28 [==============================] - 0s 4ms/step - loss: 15.0138\n",
            "Epoch 72/100\n",
            "28/28 [==============================] - 0s 4ms/step - loss: 15.8350\n",
            "Epoch 73/100\n",
            "28/28 [==============================] - 0s 4ms/step - loss: 14.5171\n",
            "Epoch 74/100\n",
            "28/28 [==============================] - 0s 4ms/step - loss: 14.5578\n",
            "Epoch 75/100\n",
            "28/28 [==============================] - 0s 4ms/step - loss: 14.3351\n",
            "Epoch 76/100\n",
            "28/28 [==============================] - 0s 4ms/step - loss: 14.3215\n",
            "Epoch 77/100\n",
            "28/28 [==============================] - 0s 4ms/step - loss: 14.1769\n",
            "Epoch 78/100\n",
            "28/28 [==============================] - 0s 4ms/step - loss: 14.5657\n",
            "Epoch 79/100\n",
            "28/28 [==============================] - 0s 4ms/step - loss: 14.2412\n",
            "Epoch 80/100\n",
            "28/28 [==============================] - 0s 4ms/step - loss: 13.6262\n",
            "Epoch 81/100\n",
            "28/28 [==============================] - 0s 4ms/step - loss: 13.4919\n",
            "Epoch 82/100\n",
            "28/28 [==============================] - 0s 4ms/step - loss: 13.8161\n",
            "Epoch 83/100\n",
            "28/28 [==============================] - 0s 4ms/step - loss: 13.6691\n",
            "Epoch 84/100\n",
            "28/28 [==============================] - 0s 4ms/step - loss: 13.5509\n",
            "Epoch 85/100\n",
            "28/28 [==============================] - 0s 4ms/step - loss: 13.1103\n",
            "Epoch 86/100\n",
            "28/28 [==============================] - 0s 4ms/step - loss: 13.1089\n",
            "Epoch 87/100\n",
            "28/28 [==============================] - 0s 4ms/step - loss: 12.8522\n",
            "Epoch 88/100\n",
            "28/28 [==============================] - 0s 4ms/step - loss: 12.6703\n",
            "Epoch 89/100\n",
            "28/28 [==============================] - 0s 4ms/step - loss: 12.9532\n",
            "Epoch 90/100\n",
            "28/28 [==============================] - 0s 4ms/step - loss: 12.6499\n",
            "Epoch 91/100\n",
            "28/28 [==============================] - 0s 4ms/step - loss: 12.4417\n",
            "Epoch 92/100\n",
            "28/28 [==============================] - 0s 4ms/step - loss: 12.2698\n",
            "Epoch 93/100\n",
            "28/28 [==============================] - 0s 4ms/step - loss: 12.6262\n",
            "Epoch 94/100\n",
            "28/28 [==============================] - 0s 4ms/step - loss: 12.8262\n",
            "Epoch 95/100\n",
            "28/28 [==============================] - 0s 4ms/step - loss: 12.7511\n",
            "Epoch 96/100\n",
            "28/28 [==============================] - 0s 4ms/step - loss: 12.6830\n",
            "Epoch 97/100\n",
            "28/28 [==============================] - 0s 4ms/step - loss: 13.0471\n",
            "Epoch 98/100\n",
            "28/28 [==============================] - 0s 4ms/step - loss: 12.7122\n",
            "Epoch 99/100\n",
            "28/28 [==============================] - 0s 4ms/step - loss: 13.0068\n",
            "Epoch 100/100\n",
            "28/28 [==============================] - 0s 4ms/step - loss: 12.4351\n"
          ],
          "name": "stdout"
        },
        {
          "output_type": "execute_result",
          "data": {
            "text/plain": [
              "<tensorflow.python.keras.callbacks.History at 0x7f4928d736a0>"
            ]
          },
          "metadata": {
            "tags": []
          },
          "execution_count": 103
        }
      ]
    },
    {
      "cell_type": "code",
      "metadata": {
        "id": "HVwnDvHIgokR",
        "colab": {
          "base_uri": "https://localhost:8080/",
          "height": 330
        },
        "outputId": "f9a08361-0d2f-41af-bbaa-ee63096db18e"
      },
      "source": [
        "prediction_3 = model_2.predict(x_test)\n",
        "\n",
        "pred_range = np.arange(len(y_train), len(y_train) + len(prediction_3))\n",
        "\n",
        "plt.figure(figsize=(12, 5))\n",
        "plt.xlabel('Time')\n",
        "plt.ylabel('Value')\n",
        "plt.plot(pred_range, y_test.flatten(), color='orange', label='Groung Truth')\n",
        "plt.plot(pred_range, prediction_3.flatten(), color='blue', label='Model 3 Prediction')\n",
        "plt.legend()\n",
        "plt.show()"
      ],
      "execution_count": null,
      "outputs": [
        {
          "output_type": "display_data",
          "data": {
            "image/png": "[encoded data removed]",
            "text/plain": [
              "<Figure size 864x360 with 1 Axes>"
            ]
          },
          "metadata": {
            "tags": []
          }
        }
      ]
    },
    {
      "cell_type": "markdown",
      "metadata": {
        "id": "CrvtX4LrkhPI"
      },
      "source": [
        "# Conv1D \n",
        "\n",
        "- 텍스트 분류나 시계열 예측 같은 간단한 문제, 오디오 생성, 기계 번역 등의 문제에서 좋은 성능\n",
        "\n",
        "- 타임스텝의 순서에 민감하지 X\n",
        "\n",
        "\n",
        "- 2D Convolution\n",
        "  - 지역적 특징을 인식\n",
        "\n",
        "  <img src=\"https://missinglink.ai/wp-content/uploads/2019/03/2D-convolutional-example_2x-700x584.png\" width=\"500\">\n",
        "\n",
        "- 1D Convolution\n",
        "  - 문맥을 인식\n",
        "\n",
        "  <img src=\"https://missinglink.ai/wp-content/uploads/2019/03/1D-convolutional-example_2x.png\" width=\"500\">\n",
        "\n",
        "  <sub>출처: https://missinglink.ai/guides/keras/keras-conv1d-working-1d-convolutional-neural-networks-keras/</sub>"
      ]
    },
    {
      "cell_type": "markdown",
      "metadata": {
        "id": "aJNAI-aYnDuc"
      },
      "source": [
        "## Conv1D Layer\n",
        "- 입력: `(batch_size, timesteps, channels)`\n",
        "\n",
        "- 출력: `(batch_size, timesteps, filters)`\n",
        "\n",
        "- 필터의 사이즈가 커져도 모델이 급격히 증가하지 않기 때문에 다양한 크기를 사용할 수 있음\n",
        "- 데이터의 품질이 좋으면 굳이 크기를 달리하여 여러 개를 사용하지 않아도 될 수도 있음"
      ]
    },
    {
      "cell_type": "markdown",
      "metadata": {
        "id": "ADJZHPLJqTZa"
      },
      "source": [
        "## MaxPooling1D Layer\n",
        "- 다운 샘플링 효과\n",
        "\n",
        "- 단지 1차원형태로 바뀐 것 뿐"
      ]
    },
    {
      "cell_type": "markdown",
      "metadata": {
        "id": "wirZzwYJrNll"
      },
      "source": [
        "## GlovalMaxPooling Layer\n",
        "- 배치차원을 제외하고 2차원 형태를 1차원 형태로 바꾸어주는 레이어\n",
        "\n",
        "- Flatten layer로 대신 사용가능"
      ]
    },
    {
      "cell_type": "markdown",
      "metadata": {
        "id": "YQY_1IL9nQs2"
      },
      "source": [
        "## IMDB 데이터셋"
      ]
    },
    {
      "cell_type": "markdown",
      "metadata": {
        "id": "pl4Eu32qnUES"
      },
      "source": [
        "### 데이터 로드 및 전처리"
      ]
    },
    {
      "cell_type": "code",
      "metadata": {
        "id": "WcG-Hiltklbe"
      },
      "source": [
        "from tensorflow.keras.datasets import imdb\n",
        "from tensorflow.keras.preprocessing.sequence import pad_sequences\n",
        "from tensorflow.keras.models import Sequential\n",
        "from tensorflow.keras.optimizers import RMSprop\n",
        "from tensorflow.keras.layers import Dense, Embedding, Conv1D, MaxPooling1D, GlobalMaxPooling1D"
      ],
      "execution_count": null,
      "outputs": []
    },
    {
      "cell_type": "code",
      "metadata": {
        "id": "GGYaNT8hnec5",
        "colab": {
          "base_uri": "https://localhost:8080/",
          "height": 52
        },
        "outputId": "de4e3afb-72e8-4571-d0a6-9354e8adac6f"
      },
      "source": [
        "rum_words = 10000\n",
        "max_len = 500\n",
        "batch_size = 32\n",
        "\n",
        "(input_train, y_train), (input_test, y_test) = imdb.load_data(num_words=num_words)\n",
        "\n",
        "print(len(input_train))\n",
        "print(len(input_test))"
      ],
      "execution_count": null,
      "outputs": [
        {
          "output_type": "stream",
          "text": [
            "25000\n",
            "25000\n"
          ],
          "name": "stdout"
        }
      ]
    },
    {
      "cell_type": "code",
      "metadata": {
        "id": "nQBzp3ownpEK",
        "colab": {
          "base_uri": "https://localhost:8080/",
          "height": 52
        },
        "outputId": "3f043deb-a115-482b-bb19-0f1a3f614345"
      },
      "source": [
        "pad_x_train = pad_sequences(input_train, maxlen=max_len)\n",
        "pad_x_test = pad_sequences(input_test, maxlen=max_len)\n",
        "\n",
        "print(pad_x_train.shape)\n",
        "print(pad_x_test.shape)"
      ],
      "execution_count": null,
      "outputs": [
        {
          "output_type": "stream",
          "text": [
            "(25000, 500)\n",
            "(25000, 500)\n"
          ],
          "name": "stdout"
        }
      ]
    },
    {
      "cell_type": "markdown",
      "metadata": {
        "id": "j3E0hYiHoBO0"
      },
      "source": [
        "### 모델 구성"
      ]
    },
    {
      "cell_type": "code",
      "metadata": {
        "id": "PvKPr7N6nuHr"
      },
      "source": [
        "def build_model():\n",
        "  model = Sequential()\n",
        "\n",
        "  model.add(Embedding(input_dim=num_words, output_dim=32,\n",
        "                      input_length=max_len))\n",
        "  model.add(Conv1D(32, 7, activation='relu'))\n",
        "  model.add(MaxPooling1D(7))\n",
        "  model.add(Conv1D(32, 5, activation='relu'))\n",
        "  model.add(MaxPooling1D(5))\n",
        "  model.add(GlobalMaxPooling1D())\n",
        "  model.add(Dense(1, activation='sigmoid'))\n",
        "\n",
        "  model.compile(optimizer=RMSprop(learning_rate=1e-4),\n",
        "                loss='binary_crossentropy',\n",
        "                metrics=['accuracy'])\n",
        "  return model"
      ],
      "execution_count": null,
      "outputs": []
    },
    {
      "cell_type": "code",
      "metadata": {
        "id": "wwWZ47NHolB6"
      },
      "source": [
        "model = build_model()"
      ],
      "execution_count": null,
      "outputs": []
    },
    {
      "cell_type": "markdown",
      "metadata": {
        "id": "0qUbPGdmpHpQ"
      },
      "source": [
        "### 모델 학습"
      ]
    },
    {
      "cell_type": "code",
      "metadata": {
        "id": "xcCgjLHvonWB",
        "colab": {
          "base_uri": "https://localhost:8080/",
          "height": 1000
        },
        "outputId": "bf13b7fe-f788-4383-a959-f1d577bbfa5b"
      },
      "source": [
        "history = model.fit(pad_x_train, y_train,\n",
        "                    batch_size=128, epochs=30,\n",
        "                    validation_split=0.2)"
      ],
      "execution_count": null,
      "outputs": [
        {
          "output_type": "stream",
          "text": [
            "Epoch 1/30\n",
            "157/157 [==============================] - 2s 13ms/step - loss: 0.6928 - accuracy: 0.5131 - val_loss: 0.6928 - val_accuracy: 0.4962\n",
            "Epoch 2/30\n",
            "157/157 [==============================] - 2s 11ms/step - loss: 0.6904 - accuracy: 0.5838 - val_loss: 0.6906 - val_accuracy: 0.6136\n",
            "Epoch 3/30\n",
            "157/157 [==============================] - 2s 11ms/step - loss: 0.6863 - accuracy: 0.6917 - val_loss: 0.6858 - val_accuracy: 0.6156\n",
            "Epoch 4/30\n",
            "157/157 [==============================] - 2s 11ms/step - loss: 0.6767 - accuracy: 0.7386 - val_loss: 0.6712 - val_accuracy: 0.6914\n",
            "Epoch 5/30\n",
            "157/157 [==============================] - 2s 11ms/step - loss: 0.6514 - accuracy: 0.7678 - val_loss: 0.6334 - val_accuracy: 0.7548\n",
            "Epoch 6/30\n",
            "157/157 [==============================] - 2s 11ms/step - loss: 0.5954 - accuracy: 0.7917 - val_loss: 0.5618 - val_accuracy: 0.8036\n",
            "Epoch 7/30\n",
            "157/157 [==============================] - 2s 11ms/step - loss: 0.5107 - accuracy: 0.8242 - val_loss: 0.4759 - val_accuracy: 0.8240\n",
            "Epoch 8/30\n",
            "157/157 [==============================] - 2s 11ms/step - loss: 0.4274 - accuracy: 0.8436 - val_loss: 0.4140 - val_accuracy: 0.8330\n",
            "Epoch 9/30\n",
            "157/157 [==============================] - 2s 11ms/step - loss: 0.3689 - accuracy: 0.8582 - val_loss: 0.3778 - val_accuracy: 0.8442\n",
            "Epoch 10/30\n",
            "157/157 [==============================] - 2s 11ms/step - loss: 0.3302 - accuracy: 0.8715 - val_loss: 0.3572 - val_accuracy: 0.8460\n",
            "Epoch 11/30\n",
            "157/157 [==============================] - 2s 11ms/step - loss: 0.3031 - accuracy: 0.8820 - val_loss: 0.3451 - val_accuracy: 0.8514\n",
            "Epoch 12/30\n",
            "157/157 [==============================] - 2s 11ms/step - loss: 0.2824 - accuracy: 0.8921 - val_loss: 0.3369 - val_accuracy: 0.8544\n",
            "Epoch 13/30\n",
            "157/157 [==============================] - 2s 11ms/step - loss: 0.2650 - accuracy: 0.8982 - val_loss: 0.3332 - val_accuracy: 0.8580\n",
            "Epoch 14/30\n",
            "157/157 [==============================] - 2s 11ms/step - loss: 0.2501 - accuracy: 0.9048 - val_loss: 0.3311 - val_accuracy: 0.8614\n",
            "Epoch 15/30\n",
            "157/157 [==============================] - 2s 11ms/step - loss: 0.2368 - accuracy: 0.9093 - val_loss: 0.3264 - val_accuracy: 0.8622\n",
            "Epoch 16/30\n",
            "157/157 [==============================] - 2s 11ms/step - loss: 0.2250 - accuracy: 0.9161 - val_loss: 0.3261 - val_accuracy: 0.8624\n",
            "Epoch 17/30\n",
            "157/157 [==============================] - 2s 11ms/step - loss: 0.2142 - accuracy: 0.9213 - val_loss: 0.3259 - val_accuracy: 0.8642\n",
            "Epoch 18/30\n",
            "157/157 [==============================] - 2s 12ms/step - loss: 0.2047 - accuracy: 0.9243 - val_loss: 0.3265 - val_accuracy: 0.8638\n",
            "Epoch 19/30\n",
            "157/157 [==============================] - 2s 11ms/step - loss: 0.1956 - accuracy: 0.9270 - val_loss: 0.3299 - val_accuracy: 0.8646\n",
            "Epoch 20/30\n",
            "157/157 [==============================] - 2s 11ms/step - loss: 0.1873 - accuracy: 0.9330 - val_loss: 0.3297 - val_accuracy: 0.8636\n",
            "Epoch 21/30\n",
            "157/157 [==============================] - 2s 11ms/step - loss: 0.1798 - accuracy: 0.9354 - val_loss: 0.3319 - val_accuracy: 0.8620\n",
            "Epoch 22/30\n",
            "157/157 [==============================] - 2s 11ms/step - loss: 0.1728 - accuracy: 0.9384 - val_loss: 0.3345 - val_accuracy: 0.8626\n",
            "Epoch 23/30\n",
            "157/157 [==============================] - 2s 11ms/step - loss: 0.1660 - accuracy: 0.9414 - val_loss: 0.3375 - val_accuracy: 0.8632\n",
            "Epoch 24/30\n",
            "157/157 [==============================] - 2s 12ms/step - loss: 0.1598 - accuracy: 0.9440 - val_loss: 0.3483 - val_accuracy: 0.8618\n",
            "Epoch 25/30\n",
            "157/157 [==============================] - 2s 11ms/step - loss: 0.1537 - accuracy: 0.9458 - val_loss: 0.3461 - val_accuracy: 0.8630\n",
            "Epoch 26/30\n",
            "157/157 [==============================] - 2s 11ms/step - loss: 0.1482 - accuracy: 0.9484 - val_loss: 0.3489 - val_accuracy: 0.8620\n",
            "Epoch 27/30\n",
            "157/157 [==============================] - 2s 11ms/step - loss: 0.1428 - accuracy: 0.9516 - val_loss: 0.3576 - val_accuracy: 0.8620\n",
            "Epoch 28/30\n",
            "157/157 [==============================] - 2s 11ms/step - loss: 0.1380 - accuracy: 0.9531 - val_loss: 0.3576 - val_accuracy: 0.8616\n",
            "Epoch 29/30\n",
            "157/157 [==============================] - 2s 12ms/step - loss: 0.1327 - accuracy: 0.9550 - val_loss: 0.3610 - val_accuracy: 0.8616\n",
            "Epoch 30/30\n",
            "157/157 [==============================] - 2s 12ms/step - loss: 0.1282 - accuracy: 0.9584 - val_loss: 0.3666 - val_accuracy: 0.8636\n"
          ],
          "name": "stdout"
        }
      ]
    },
    {
      "cell_type": "markdown",
      "metadata": {
        "id": "n2yEkawIph4C"
      },
      "source": [
        "### 시각화"
      ]
    },
    {
      "cell_type": "code",
      "metadata": {
        "id": "BfKC0UOkpPmP",
        "colab": {
          "base_uri": "https://localhost:8080/",
          "height": 507
        },
        "outputId": "ec3e92fe-9e20-4310-a345-e1986d7927b0"
      },
      "source": [
        "loss = history.history['loss']\n",
        "val_loss = history.history['val_loss']\n",
        "acc = history.history['accuracy']\n",
        "val_acc = history.history['val_accuracy']\n",
        "\n",
        "epochs = range(1, len(loss) + 1)\n",
        "\n",
        "plt.plot(epochs, loss, 'b--', label='trianing loss')\n",
        "plt.plot(epochs, val_loss, 'r:', label='validation loss')\n",
        "plt.grid()\n",
        "plt.legend()\n",
        "\n",
        "plt.figure()\n",
        "plt.plot(epochs, acc, 'b--', label='trianing accuracy')\n",
        "plt.plot(epochs, val_acc, 'r:', label='validation accuracy')\n",
        "plt.grid()\n",
        "plt.legend()\n",
        "\n",
        "plt.show()"
      ],
      "execution_count": null,
      "outputs": [
        {
          "output_type": "display_data",
          "data": {
            "image/png": "[encoded data removed]",
            "text/plain": [
              "<Figure size 432x288 with 1 Axes>"
            ]
          },
          "metadata": {
            "tags": []
          }
        },
        {
          "output_type": "display_data",
          "data": {
            "image/png": "[encoded data removed]",
            "text/plain": [
              "<Figure size 432x288 with 1 Axes>"
            ]
          },
          "metadata": {
            "tags": []
          }
        }
      ]
    },
    {
      "cell_type": "markdown",
      "metadata": {
        "id": "npd7lwPGrbz9"
      },
      "source": [
        "- 과적합이 일어났지만, 다른 옵티마이저 사용, 규제화를 걸어보는 등 다양하게 시도해볼 수 있음"
      ]
    }
  ]
}