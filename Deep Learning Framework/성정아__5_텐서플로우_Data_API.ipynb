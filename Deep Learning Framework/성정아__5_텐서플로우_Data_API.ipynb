{
  "nbformat": 4,
  "nbformat_minor": 0,
  "metadata": {
    "colab": {
      "name": "성정아 - _5 텐서플로우 Data API.ipynb",
      "provenance": [],
      "collapsed_sections": []
    },
    "kernelspec": {
      "name": "python3",
      "display_name": "Python 3"
    },
    "widgets": {
      "application/vnd.jupyter.widget-state+json": {
        "6267a4a3892d4f57bfe33da76ed74450": {
          "model_module": "@jupyter-widgets/controls",
          "model_name": "HBoxModel",
          "model_module_version": "1.5.0",
          "state": {
            "_view_name": "HBoxView",
            "_dom_classes": [],
            "_model_name": "HBoxModel",
            "_view_module": "@jupyter-widgets/controls",
            "_model_module_version": "1.5.0",
            "_view_count": null,
            "_view_module_version": "1.5.0",
            "box_style": "",
            "layout": "IPY_MODEL_d0d050837a0d4ab5a7db33e84a61dc30",
            "_model_module": "@jupyter-widgets/controls",
            "children": [
              "IPY_MODEL_b57ebe5783514bfa88aa5f3c59c74d68",
              "IPY_MODEL_fe11743f6c964e8c8c7ed75cc9244dd9"
            ]
          }
        },
        "d0d050837a0d4ab5a7db33e84a61dc30": {
          "model_module": "@jupyter-widgets/base",
          "model_name": "LayoutModel",
          "model_module_version": "1.2.0",
          "state": {
            "_view_name": "LayoutView",
            "grid_template_rows": null,
            "right": null,
            "justify_content": null,
            "_view_module": "@jupyter-widgets/base",
            "overflow": null,
            "_model_module_version": "1.2.0",
            "_view_count": null,
            "flex_flow": null,
            "width": null,
            "min_width": null,
            "border": null,
            "align_items": null,
            "bottom": null,
            "_model_module": "@jupyter-widgets/base",
            "top": null,
            "grid_column": null,
            "overflow_y": null,
            "overflow_x": null,
            "grid_auto_flow": null,
            "grid_area": null,
            "grid_template_columns": null,
            "flex": null,
            "_model_name": "LayoutModel",
            "justify_items": null,
            "grid_row": null,
            "max_height": null,
            "align_content": null,
            "visibility": null,
            "align_self": null,
            "height": null,
            "min_height": null,
            "padding": null,
            "grid_auto_rows": null,
            "grid_gap": null,
            "max_width": null,
            "order": null,
            "_view_module_version": "1.2.0",
            "grid_template_areas": null,
            "object_position": null,
            "object_fit": null,
            "grid_auto_columns": null,
            "margin": null,
            "display": null,
            "left": null
          }
        },
        "b57ebe5783514bfa88aa5f3c59c74d68": {
          "model_module": "@jupyter-widgets/controls",
          "model_name": "FloatProgressModel",
          "model_module_version": "1.5.0",
          "state": {
            "_view_name": "ProgressView",
            "style": "IPY_MODEL_81545288258f41f3bf99b5060aff33b1",
            "_dom_classes": [],
            "description": "Dl Completed...: 100%",
            "_model_name": "FloatProgressModel",
            "bar_style": "success",
            "max": 1,
            "_view_module": "@jupyter-widgets/controls",
            "_model_module_version": "1.5.0",
            "value": 1,
            "_view_count": null,
            "_view_module_version": "1.5.0",
            "orientation": "horizontal",
            "min": 0,
            "description_tooltip": null,
            "_model_module": "@jupyter-widgets/controls",
            "layout": "IPY_MODEL_ded704d7aaa5443cb26b86e52d6f6ec3"
          }
        },
        "fe11743f6c964e8c8c7ed75cc9244dd9": {
          "model_module": "@jupyter-widgets/controls",
          "model_name": "HTMLModel",
          "model_module_version": "1.5.0",
          "state": {
            "_view_name": "HTMLView",
            "style": "IPY_MODEL_c6f761974221450da939d0d5e1a99251",
            "_dom_classes": [],
            "description": "",
            "_model_name": "HTMLModel",
            "placeholder": "​",
            "_view_module": "@jupyter-widgets/controls",
            "_model_module_version": "1.5.0",
            "value": " 1/1 [00:02&lt;00:00,  2.69s/ url]",
            "_view_count": null,
            "_view_module_version": "1.5.0",
            "description_tooltip": null,
            "_model_module": "@jupyter-widgets/controls",
            "layout": "IPY_MODEL_4741d8add504474da3cf379fb727af06"
          }
        },
        "81545288258f41f3bf99b5060aff33b1": {
          "model_module": "@jupyter-widgets/controls",
          "model_name": "ProgressStyleModel",
          "model_module_version": "1.5.0",
          "state": {
            "_view_name": "StyleView",
            "_model_name": "ProgressStyleModel",
            "description_width": "initial",
            "_view_module": "@jupyter-widgets/base",
            "_model_module_version": "1.5.0",
            "_view_count": null,
            "_view_module_version": "1.2.0",
            "bar_color": null,
            "_model_module": "@jupyter-widgets/controls"
          }
        },
        "ded704d7aaa5443cb26b86e52d6f6ec3": {
          "model_module": "@jupyter-widgets/base",
          "model_name": "LayoutModel",
          "model_module_version": "1.2.0",
          "state": {
            "_view_name": "LayoutView",
            "grid_template_rows": null,
            "right": null,
            "justify_content": null,
            "_view_module": "@jupyter-widgets/base",
            "overflow": null,
            "_model_module_version": "1.2.0",
            "_view_count": null,
            "flex_flow": null,
            "width": null,
            "min_width": null,
            "border": null,
            "align_items": null,
            "bottom": null,
            "_model_module": "@jupyter-widgets/base",
            "top": null,
            "grid_column": null,
            "overflow_y": null,
            "overflow_x": null,
            "grid_auto_flow": null,
            "grid_area": null,
            "grid_template_columns": null,
            "flex": null,
            "_model_name": "LayoutModel",
            "justify_items": null,
            "grid_row": null,
            "max_height": null,
            "align_content": null,
            "visibility": null,
            "align_self": null,
            "height": null,
            "min_height": null,
            "padding": null,
            "grid_auto_rows": null,
            "grid_gap": null,
            "max_width": null,
            "order": null,
            "_view_module_version": "1.2.0",
            "grid_template_areas": null,
            "object_position": null,
            "object_fit": null,
            "grid_auto_columns": null,
            "margin": null,
            "display": null,
            "left": null
          }
        },
        "c6f761974221450da939d0d5e1a99251": {
          "model_module": "@jupyter-widgets/controls",
          "model_name": "DescriptionStyleModel",
          "model_module_version": "1.5.0",
          "state": {
            "_view_name": "StyleView",
            "_model_name": "DescriptionStyleModel",
            "description_width": "",
            "_view_module": "@jupyter-widgets/base",
            "_model_module_version": "1.5.0",
            "_view_count": null,
            "_view_module_version": "1.2.0",
            "_model_module": "@jupyter-widgets/controls"
          }
        },
        "4741d8add504474da3cf379fb727af06": {
          "model_module": "@jupyter-widgets/base",
          "model_name": "LayoutModel",
          "model_module_version": "1.2.0",
          "state": {
            "_view_name": "LayoutView",
            "grid_template_rows": null,
            "right": null,
            "justify_content": null,
            "_view_module": "@jupyter-widgets/base",
            "overflow": null,
            "_model_module_version": "1.2.0",
            "_view_count": null,
            "flex_flow": null,
            "width": null,
            "min_width": null,
            "border": null,
            "align_items": null,
            "bottom": null,
            "_model_module": "@jupyter-widgets/base",
            "top": null,
            "grid_column": null,
            "overflow_y": null,
            "overflow_x": null,
            "grid_auto_flow": null,
            "grid_area": null,
            "grid_template_columns": null,
            "flex": null,
            "_model_name": "LayoutModel",
            "justify_items": null,
            "grid_row": null,
            "max_height": null,
            "align_content": null,
            "visibility": null,
            "align_self": null,
            "height": null,
            "min_height": null,
            "padding": null,
            "grid_auto_rows": null,
            "grid_gap": null,
            "max_width": null,
            "order": null,
            "_view_module_version": "1.2.0",
            "grid_template_areas": null,
            "object_position": null,
            "object_fit": null,
            "grid_auto_columns": null,
            "margin": null,
            "display": null,
            "left": null
          }
        },
        "348f3b37d80a4aa1a7e590725efc32b3": {
          "model_module": "@jupyter-widgets/controls",
          "model_name": "HBoxModel",
          "model_module_version": "1.5.0",
          "state": {
            "_view_name": "HBoxView",
            "_dom_classes": [],
            "_model_name": "HBoxModel",
            "_view_module": "@jupyter-widgets/controls",
            "_model_module_version": "1.5.0",
            "_view_count": null,
            "_view_module_version": "1.5.0",
            "box_style": "",
            "layout": "IPY_MODEL_6d259fb26543474e9147574bc18632c8",
            "_model_module": "@jupyter-widgets/controls",
            "children": [
              "IPY_MODEL_c6f58315c3684cae8a13824439d3e19c",
              "IPY_MODEL_b9940fa749ed44d5b64b4d5ff5a48c46"
            ]
          }
        },
        "6d259fb26543474e9147574bc18632c8": {
          "model_module": "@jupyter-widgets/base",
          "model_name": "LayoutModel",
          "model_module_version": "1.2.0",
          "state": {
            "_view_name": "LayoutView",
            "grid_template_rows": null,
            "right": null,
            "justify_content": null,
            "_view_module": "@jupyter-widgets/base",
            "overflow": null,
            "_model_module_version": "1.2.0",
            "_view_count": null,
            "flex_flow": null,
            "width": null,
            "min_width": null,
            "border": null,
            "align_items": null,
            "bottom": null,
            "_model_module": "@jupyter-widgets/base",
            "top": null,
            "grid_column": null,
            "overflow_y": null,
            "overflow_x": null,
            "grid_auto_flow": null,
            "grid_area": null,
            "grid_template_columns": null,
            "flex": null,
            "_model_name": "LayoutModel",
            "justify_items": null,
            "grid_row": null,
            "max_height": null,
            "align_content": null,
            "visibility": null,
            "align_self": null,
            "height": null,
            "min_height": null,
            "padding": null,
            "grid_auto_rows": null,
            "grid_gap": null,
            "max_width": null,
            "order": null,
            "_view_module_version": "1.2.0",
            "grid_template_areas": null,
            "object_position": null,
            "object_fit": null,
            "grid_auto_columns": null,
            "margin": null,
            "display": null,
            "left": null
          }
        },
        "c6f58315c3684cae8a13824439d3e19c": {
          "model_module": "@jupyter-widgets/controls",
          "model_name": "FloatProgressModel",
          "model_module_version": "1.5.0",
          "state": {
            "_view_name": "ProgressView",
            "style": "IPY_MODEL_e9729a6689bb41d29c1a57443704a7cf",
            "_dom_classes": [],
            "description": "Dl Size...: 100%",
            "_model_name": "FloatProgressModel",
            "bar_style": "success",
            "max": 1,
            "_view_module": "@jupyter-widgets/controls",
            "_model_module_version": "1.5.0",
            "value": 1,
            "_view_count": null,
            "_view_module_version": "1.5.0",
            "orientation": "horizontal",
            "min": 0,
            "description_tooltip": null,
            "_model_module": "@jupyter-widgets/controls",
            "layout": "IPY_MODEL_2ebd3240c5024cbe82e8feec15950f12"
          }
        },
        "b9940fa749ed44d5b64b4d5ff5a48c46": {
          "model_module": "@jupyter-widgets/controls",
          "model_name": "HTMLModel",
          "model_module_version": "1.5.0",
          "state": {
            "_view_name": "HTMLView",
            "style": "IPY_MODEL_c1022a284ea741128eac795bf622a1e5",
            "_dom_classes": [],
            "description": "",
            "_model_name": "HTMLModel",
            "placeholder": "​",
            "_view_module": "@jupyter-widgets/controls",
            "_model_module_version": "1.5.0",
            "value": " 80/80 [00:02&lt;00:00, 30.21 MiB/s]",
            "_view_count": null,
            "_view_module_version": "1.5.0",
            "description_tooltip": null,
            "_model_module": "@jupyter-widgets/controls",
            "layout": "IPY_MODEL_f2a4f04ce95144e39457f81acf8718ef"
          }
        },
        "e9729a6689bb41d29c1a57443704a7cf": {
          "model_module": "@jupyter-widgets/controls",
          "model_name": "ProgressStyleModel",
          "model_module_version": "1.5.0",
          "state": {
            "_view_name": "StyleView",
            "_model_name": "ProgressStyleModel",
            "description_width": "initial",
            "_view_module": "@jupyter-widgets/base",
            "_model_module_version": "1.5.0",
            "_view_count": null,
            "_view_module_version": "1.2.0",
            "bar_color": null,
            "_model_module": "@jupyter-widgets/controls"
          }
        },
        "2ebd3240c5024cbe82e8feec15950f12": {
          "model_module": "@jupyter-widgets/base",
          "model_name": "LayoutModel",
          "model_module_version": "1.2.0",
          "state": {
            "_view_name": "LayoutView",
            "grid_template_rows": null,
            "right": null,
            "justify_content": null,
            "_view_module": "@jupyter-widgets/base",
            "overflow": null,
            "_model_module_version": "1.2.0",
            "_view_count": null,
            "flex_flow": null,
            "width": null,
            "min_width": null,
            "border": null,
            "align_items": null,
            "bottom": null,
            "_model_module": "@jupyter-widgets/base",
            "top": null,
            "grid_column": null,
            "overflow_y": null,
            "overflow_x": null,
            "grid_auto_flow": null,
            "grid_area": null,
            "grid_template_columns": null,
            "flex": null,
            "_model_name": "LayoutModel",
            "justify_items": null,
            "grid_row": null,
            "max_height": null,
            "align_content": null,
            "visibility": null,
            "align_self": null,
            "height": null,
            "min_height": null,
            "padding": null,
            "grid_auto_rows": null,
            "grid_gap": null,
            "max_width": null,
            "order": null,
            "_view_module_version": "1.2.0",
            "grid_template_areas": null,
            "object_position": null,
            "object_fit": null,
            "grid_auto_columns": null,
            "margin": null,
            "display": null,
            "left": null
          }
        },
        "c1022a284ea741128eac795bf622a1e5": {
          "model_module": "@jupyter-widgets/controls",
          "model_name": "DescriptionStyleModel",
          "model_module_version": "1.5.0",
          "state": {
            "_view_name": "StyleView",
            "_model_name": "DescriptionStyleModel",
            "description_width": "",
            "_view_module": "@jupyter-widgets/base",
            "_model_module_version": "1.5.0",
            "_view_count": null,
            "_view_module_version": "1.2.0",
            "_model_module": "@jupyter-widgets/controls"
          }
        },
        "f2a4f04ce95144e39457f81acf8718ef": {
          "model_module": "@jupyter-widgets/base",
          "model_name": "LayoutModel",
          "model_module_version": "1.2.0",
          "state": {
            "_view_name": "LayoutView",
            "grid_template_rows": null,
            "right": null,
            "justify_content": null,
            "_view_module": "@jupyter-widgets/base",
            "overflow": null,
            "_model_module_version": "1.2.0",
            "_view_count": null,
            "flex_flow": null,
            "width": null,
            "min_width": null,
            "border": null,
            "align_items": null,
            "bottom": null,
            "_model_module": "@jupyter-widgets/base",
            "top": null,
            "grid_column": null,
            "overflow_y": null,
            "overflow_x": null,
            "grid_auto_flow": null,
            "grid_area": null,
            "grid_template_columns": null,
            "flex": null,
            "_model_name": "LayoutModel",
            "justify_items": null,
            "grid_row": null,
            "max_height": null,
            "align_content": null,
            "visibility": null,
            "align_self": null,
            "height": null,
            "min_height": null,
            "padding": null,
            "grid_auto_rows": null,
            "grid_gap": null,
            "max_width": null,
            "order": null,
            "_view_module_version": "1.2.0",
            "grid_template_areas": null,
            "object_position": null,
            "object_fit": null,
            "grid_auto_columns": null,
            "margin": null,
            "display": null,
            "left": null
          }
        },
        "9399830e0d564a9886742bd1999fc3e6": {
          "model_module": "@jupyter-widgets/controls",
          "model_name": "HBoxModel",
          "model_module_version": "1.5.0",
          "state": {
            "_view_name": "HBoxView",
            "_dom_classes": [],
            "_model_name": "HBoxModel",
            "_view_module": "@jupyter-widgets/controls",
            "_model_module_version": "1.5.0",
            "_view_count": null,
            "_view_module_version": "1.5.0",
            "box_style": "",
            "layout": "IPY_MODEL_1807e6d1a8f44bcc8c11884a690072bb",
            "_model_module": "@jupyter-widgets/controls",
            "children": [
              "IPY_MODEL_4bc67635b0d64b398d6095fb4641226d",
              "IPY_MODEL_ca49c19447f046e78fbc28858e998162"
            ]
          }
        },
        "1807e6d1a8f44bcc8c11884a690072bb": {
          "model_module": "@jupyter-widgets/base",
          "model_name": "LayoutModel",
          "model_module_version": "1.2.0",
          "state": {
            "_view_name": "LayoutView",
            "grid_template_rows": null,
            "right": null,
            "justify_content": null,
            "_view_module": "@jupyter-widgets/base",
            "overflow": null,
            "_model_module_version": "1.2.0",
            "_view_count": null,
            "flex_flow": null,
            "width": null,
            "min_width": null,
            "border": null,
            "align_items": null,
            "bottom": null,
            "_model_module": "@jupyter-widgets/base",
            "top": null,
            "grid_column": null,
            "overflow_y": null,
            "overflow_x": null,
            "grid_auto_flow": null,
            "grid_area": null,
            "grid_template_columns": null,
            "flex": null,
            "_model_name": "LayoutModel",
            "justify_items": null,
            "grid_row": null,
            "max_height": null,
            "align_content": null,
            "visibility": null,
            "align_self": null,
            "height": null,
            "min_height": null,
            "padding": null,
            "grid_auto_rows": null,
            "grid_gap": null,
            "max_width": null,
            "order": null,
            "_view_module_version": "1.2.0",
            "grid_template_areas": null,
            "object_position": null,
            "object_fit": null,
            "grid_auto_columns": null,
            "margin": null,
            "display": null,
            "left": null
          }
        },
        "4bc67635b0d64b398d6095fb4641226d": {
          "model_module": "@jupyter-widgets/controls",
          "model_name": "FloatProgressModel",
          "model_module_version": "1.5.0",
          "state": {
            "_view_name": "ProgressView",
            "style": "IPY_MODEL_0e9de8a28c9a4cdcba778b2a18f5cddb",
            "_dom_classes": [],
            "description": "",
            "_model_name": "FloatProgressModel",
            "bar_style": "info",
            "max": 1,
            "_view_module": "@jupyter-widgets/controls",
            "_model_module_version": "1.5.0",
            "value": 1,
            "_view_count": null,
            "_view_module_version": "1.5.0",
            "orientation": "horizontal",
            "min": 0,
            "description_tooltip": null,
            "_model_module": "@jupyter-widgets/controls",
            "layout": "IPY_MODEL_1ae0950f353945efbf5fe71a97f82c3b"
          }
        },
        "ca49c19447f046e78fbc28858e998162": {
          "model_module": "@jupyter-widgets/controls",
          "model_name": "HTMLModel",
          "model_module_version": "1.5.0",
          "state": {
            "_view_name": "HTMLView",
            "style": "IPY_MODEL_79e3923d00314a84a0012474c1b68887",
            "_dom_classes": [],
            "description": "",
            "_model_name": "HTMLModel",
            "placeholder": "​",
            "_view_module": "@jupyter-widgets/controls",
            "_model_module_version": "1.5.0",
            "value": " 25000/0 [00:17&lt;00:00, 2500.37 examples/s]",
            "_view_count": null,
            "_view_module_version": "1.5.0",
            "description_tooltip": null,
            "_model_module": "@jupyter-widgets/controls",
            "layout": "IPY_MODEL_4264ec95c6d0460fa8dc7399fc945aaf"
          }
        },
        "0e9de8a28c9a4cdcba778b2a18f5cddb": {
          "model_module": "@jupyter-widgets/controls",
          "model_name": "ProgressStyleModel",
          "model_module_version": "1.5.0",
          "state": {
            "_view_name": "StyleView",
            "_model_name": "ProgressStyleModel",
            "description_width": "initial",
            "_view_module": "@jupyter-widgets/base",
            "_model_module_version": "1.5.0",
            "_view_count": null,
            "_view_module_version": "1.2.0",
            "bar_color": null,
            "_model_module": "@jupyter-widgets/controls"
          }
        },
        "1ae0950f353945efbf5fe71a97f82c3b": {
          "model_module": "@jupyter-widgets/base",
          "model_name": "LayoutModel",
          "model_module_version": "1.2.0",
          "state": {
            "_view_name": "LayoutView",
            "grid_template_rows": null,
            "right": null,
            "justify_content": null,
            "_view_module": "@jupyter-widgets/base",
            "overflow": null,
            "_model_module_version": "1.2.0",
            "_view_count": null,
            "flex_flow": null,
            "width": null,
            "min_width": null,
            "border": null,
            "align_items": null,
            "bottom": null,
            "_model_module": "@jupyter-widgets/base",
            "top": null,
            "grid_column": null,
            "overflow_y": null,
            "overflow_x": null,
            "grid_auto_flow": null,
            "grid_area": null,
            "grid_template_columns": null,
            "flex": null,
            "_model_name": "LayoutModel",
            "justify_items": null,
            "grid_row": null,
            "max_height": null,
            "align_content": null,
            "visibility": null,
            "align_self": null,
            "height": null,
            "min_height": null,
            "padding": null,
            "grid_auto_rows": null,
            "grid_gap": null,
            "max_width": null,
            "order": null,
            "_view_module_version": "1.2.0",
            "grid_template_areas": null,
            "object_position": null,
            "object_fit": null,
            "grid_auto_columns": null,
            "margin": null,
            "display": null,
            "left": null
          }
        },
        "79e3923d00314a84a0012474c1b68887": {
          "model_module": "@jupyter-widgets/controls",
          "model_name": "DescriptionStyleModel",
          "model_module_version": "1.5.0",
          "state": {
            "_view_name": "StyleView",
            "_model_name": "DescriptionStyleModel",
            "description_width": "",
            "_view_module": "@jupyter-widgets/base",
            "_model_module_version": "1.5.0",
            "_view_count": null,
            "_view_module_version": "1.2.0",
            "_model_module": "@jupyter-widgets/controls"
          }
        },
        "4264ec95c6d0460fa8dc7399fc945aaf": {
          "model_module": "@jupyter-widgets/base",
          "model_name": "LayoutModel",
          "model_module_version": "1.2.0",
          "state": {
            "_view_name": "LayoutView",
            "grid_template_rows": null,
            "right": null,
            "justify_content": null,
            "_view_module": "@jupyter-widgets/base",
            "overflow": null,
            "_model_module_version": "1.2.0",
            "_view_count": null,
            "flex_flow": null,
            "width": null,
            "min_width": null,
            "border": null,
            "align_items": null,
            "bottom": null,
            "_model_module": "@jupyter-widgets/base",
            "top": null,
            "grid_column": null,
            "overflow_y": null,
            "overflow_x": null,
            "grid_auto_flow": null,
            "grid_area": null,
            "grid_template_columns": null,
            "flex": null,
            "_model_name": "LayoutModel",
            "justify_items": null,
            "grid_row": null,
            "max_height": null,
            "align_content": null,
            "visibility": null,
            "align_self": null,
            "height": null,
            "min_height": null,
            "padding": null,
            "grid_auto_rows": null,
            "grid_gap": null,
            "max_width": null,
            "order": null,
            "_view_module_version": "1.2.0",
            "grid_template_areas": null,
            "object_position": null,
            "object_fit": null,
            "grid_auto_columns": null,
            "margin": null,
            "display": null,
            "left": null
          }
        },
        "ddfcc9f9ebed4af0850d9b3d15d87686": {
          "model_module": "@jupyter-widgets/controls",
          "model_name": "HBoxModel",
          "model_module_version": "1.5.0",
          "state": {
            "_view_name": "HBoxView",
            "_dom_classes": [],
            "_model_name": "HBoxModel",
            "_view_module": "@jupyter-widgets/controls",
            "_model_module_version": "1.5.0",
            "_view_count": null,
            "_view_module_version": "1.5.0",
            "box_style": "",
            "layout": "IPY_MODEL_143ad5442f5846eeba3a57a50d83f9ff",
            "_model_module": "@jupyter-widgets/controls",
            "children": [
              "IPY_MODEL_b5aded2143714a538e12b82479f351d3",
              "IPY_MODEL_7e75dc9268ad4c28893ddc5618cec77e"
            ]
          }
        },
        "143ad5442f5846eeba3a57a50d83f9ff": {
          "model_module": "@jupyter-widgets/base",
          "model_name": "LayoutModel",
          "model_module_version": "1.2.0",
          "state": {
            "_view_name": "LayoutView",
            "grid_template_rows": null,
            "right": null,
            "justify_content": null,
            "_view_module": "@jupyter-widgets/base",
            "overflow": null,
            "_model_module_version": "1.2.0",
            "_view_count": null,
            "flex_flow": null,
            "width": null,
            "min_width": null,
            "border": null,
            "align_items": null,
            "bottom": null,
            "_model_module": "@jupyter-widgets/base",
            "top": null,
            "grid_column": null,
            "overflow_y": null,
            "overflow_x": null,
            "grid_auto_flow": null,
            "grid_area": null,
            "grid_template_columns": null,
            "flex": null,
            "_model_name": "LayoutModel",
            "justify_items": null,
            "grid_row": null,
            "max_height": null,
            "align_content": null,
            "visibility": null,
            "align_self": null,
            "height": null,
            "min_height": null,
            "padding": null,
            "grid_auto_rows": null,
            "grid_gap": null,
            "max_width": null,
            "order": null,
            "_view_module_version": "1.2.0",
            "grid_template_areas": null,
            "object_position": null,
            "object_fit": null,
            "grid_auto_columns": null,
            "margin": null,
            "display": null,
            "left": null
          }
        },
        "b5aded2143714a538e12b82479f351d3": {
          "model_module": "@jupyter-widgets/controls",
          "model_name": "FloatProgressModel",
          "model_module_version": "1.5.0",
          "state": {
            "_view_name": "ProgressView",
            "style": "IPY_MODEL_a822c97ea97e463f8f66aec4cc07ba5c",
            "_dom_classes": [],
            "description": " 33%",
            "_model_name": "FloatProgressModel",
            "bar_style": "danger",
            "max": 25000,
            "_view_module": "@jupyter-widgets/controls",
            "_model_module_version": "1.5.0",
            "value": 8349,
            "_view_count": null,
            "_view_module_version": "1.5.0",
            "orientation": "horizontal",
            "min": 0,
            "description_tooltip": null,
            "_model_module": "@jupyter-widgets/controls",
            "layout": "IPY_MODEL_dde20244ebc644a4bc84bafc54633f73"
          }
        },
        "7e75dc9268ad4c28893ddc5618cec77e": {
          "model_module": "@jupyter-widgets/controls",
          "model_name": "HTMLModel",
          "model_module_version": "1.5.0",
          "state": {
            "_view_name": "HTMLView",
            "style": "IPY_MODEL_7f17c574c1c44f72ac2efda05ee4477d",
            "_dom_classes": [],
            "description": "",
            "_model_name": "HTMLModel",
            "placeholder": "​",
            "_view_module": "@jupyter-widgets/controls",
            "_model_module_version": "1.5.0",
            "value": " 8349/25000 [00:00&lt;00:00, 83486.89 examples/s]",
            "_view_count": null,
            "_view_module_version": "1.5.0",
            "description_tooltip": null,
            "_model_module": "@jupyter-widgets/controls",
            "layout": "IPY_MODEL_7726bbd502434286b87349af8d70499e"
          }
        },
        "a822c97ea97e463f8f66aec4cc07ba5c": {
          "model_module": "@jupyter-widgets/controls",
          "model_name": "ProgressStyleModel",
          "model_module_version": "1.5.0",
          "state": {
            "_view_name": "StyleView",
            "_model_name": "ProgressStyleModel",
            "description_width": "initial",
            "_view_module": "@jupyter-widgets/base",
            "_model_module_version": "1.5.0",
            "_view_count": null,
            "_view_module_version": "1.2.0",
            "bar_color": null,
            "_model_module": "@jupyter-widgets/controls"
          }
        },
        "dde20244ebc644a4bc84bafc54633f73": {
          "model_module": "@jupyter-widgets/base",
          "model_name": "LayoutModel",
          "model_module_version": "1.2.0",
          "state": {
            "_view_name": "LayoutView",
            "grid_template_rows": null,
            "right": null,
            "justify_content": null,
            "_view_module": "@jupyter-widgets/base",
            "overflow": null,
            "_model_module_version": "1.2.0",
            "_view_count": null,
            "flex_flow": null,
            "width": null,
            "min_width": null,
            "border": null,
            "align_items": null,
            "bottom": null,
            "_model_module": "@jupyter-widgets/base",
            "top": null,
            "grid_column": null,
            "overflow_y": null,
            "overflow_x": null,
            "grid_auto_flow": null,
            "grid_area": null,
            "grid_template_columns": null,
            "flex": null,
            "_model_name": "LayoutModel",
            "justify_items": null,
            "grid_row": null,
            "max_height": null,
            "align_content": null,
            "visibility": null,
            "align_self": null,
            "height": null,
            "min_height": null,
            "padding": null,
            "grid_auto_rows": null,
            "grid_gap": null,
            "max_width": null,
            "order": null,
            "_view_module_version": "1.2.0",
            "grid_template_areas": null,
            "object_position": null,
            "object_fit": null,
            "grid_auto_columns": null,
            "margin": null,
            "display": null,
            "left": null
          }
        },
        "7f17c574c1c44f72ac2efda05ee4477d": {
          "model_module": "@jupyter-widgets/controls",
          "model_name": "DescriptionStyleModel",
          "model_module_version": "1.5.0",
          "state": {
            "_view_name": "StyleView",
            "_model_name": "DescriptionStyleModel",
            "description_width": "",
            "_view_module": "@jupyter-widgets/base",
            "_model_module_version": "1.5.0",
            "_view_count": null,
            "_view_module_version": "1.2.0",
            "_model_module": "@jupyter-widgets/controls"
          }
        },
        "7726bbd502434286b87349af8d70499e": {
          "model_module": "@jupyter-widgets/base",
          "model_name": "LayoutModel",
          "model_module_version": "1.2.0",
          "state": {
            "_view_name": "LayoutView",
            "grid_template_rows": null,
            "right": null,
            "justify_content": null,
            "_view_module": "@jupyter-widgets/base",
            "overflow": null,
            "_model_module_version": "1.2.0",
            "_view_count": null,
            "flex_flow": null,
            "width": null,
            "min_width": null,
            "border": null,
            "align_items": null,
            "bottom": null,
            "_model_module": "@jupyter-widgets/base",
            "top": null,
            "grid_column": null,
            "overflow_y": null,
            "overflow_x": null,
            "grid_auto_flow": null,
            "grid_area": null,
            "grid_template_columns": null,
            "flex": null,
            "_model_name": "LayoutModel",
            "justify_items": null,
            "grid_row": null,
            "max_height": null,
            "align_content": null,
            "visibility": null,
            "align_self": null,
            "height": null,
            "min_height": null,
            "padding": null,
            "grid_auto_rows": null,
            "grid_gap": null,
            "max_width": null,
            "order": null,
            "_view_module_version": "1.2.0",
            "grid_template_areas": null,
            "object_position": null,
            "object_fit": null,
            "grid_auto_columns": null,
            "margin": null,
            "display": null,
            "left": null
          }
        },
        "41f8c586f8054a47b8d8ea627a0c40c7": {
          "model_module": "@jupyter-widgets/controls",
          "model_name": "HBoxModel",
          "model_module_version": "1.5.0",
          "state": {
            "_view_name": "HBoxView",
            "_dom_classes": [],
            "_model_name": "HBoxModel",
            "_view_module": "@jupyter-widgets/controls",
            "_model_module_version": "1.5.0",
            "_view_count": null,
            "_view_module_version": "1.5.0",
            "box_style": "",
            "layout": "IPY_MODEL_6f94b30d05c24a61b95d3e1ba489f93b",
            "_model_module": "@jupyter-widgets/controls",
            "children": [
              "IPY_MODEL_751debbb7bcf4b3186d190f7d7ff80ca",
              "IPY_MODEL_2a81e4a7fb9a4d888fde00be8a5b974b"
            ]
          }
        },
        "6f94b30d05c24a61b95d3e1ba489f93b": {
          "model_module": "@jupyter-widgets/base",
          "model_name": "LayoutModel",
          "model_module_version": "1.2.0",
          "state": {
            "_view_name": "LayoutView",
            "grid_template_rows": null,
            "right": null,
            "justify_content": null,
            "_view_module": "@jupyter-widgets/base",
            "overflow": null,
            "_model_module_version": "1.2.0",
            "_view_count": null,
            "flex_flow": null,
            "width": null,
            "min_width": null,
            "border": null,
            "align_items": null,
            "bottom": null,
            "_model_module": "@jupyter-widgets/base",
            "top": null,
            "grid_column": null,
            "overflow_y": null,
            "overflow_x": null,
            "grid_auto_flow": null,
            "grid_area": null,
            "grid_template_columns": null,
            "flex": null,
            "_model_name": "LayoutModel",
            "justify_items": null,
            "grid_row": null,
            "max_height": null,
            "align_content": null,
            "visibility": null,
            "align_self": null,
            "height": null,
            "min_height": null,
            "padding": null,
            "grid_auto_rows": null,
            "grid_gap": null,
            "max_width": null,
            "order": null,
            "_view_module_version": "1.2.0",
            "grid_template_areas": null,
            "object_position": null,
            "object_fit": null,
            "grid_auto_columns": null,
            "margin": null,
            "display": null,
            "left": null
          }
        },
        "751debbb7bcf4b3186d190f7d7ff80ca": {
          "model_module": "@jupyter-widgets/controls",
          "model_name": "FloatProgressModel",
          "model_module_version": "1.5.0",
          "state": {
            "_view_name": "ProgressView",
            "style": "IPY_MODEL_8d3cae26cb474876aae4a31d6cda7ea8",
            "_dom_classes": [],
            "description": "",
            "_model_name": "FloatProgressModel",
            "bar_style": "info",
            "max": 1,
            "_view_module": "@jupyter-widgets/controls",
            "_model_module_version": "1.5.0",
            "value": 1,
            "_view_count": null,
            "_view_module_version": "1.5.0",
            "orientation": "horizontal",
            "min": 0,
            "description_tooltip": null,
            "_model_module": "@jupyter-widgets/controls",
            "layout": "IPY_MODEL_6a405e852994409392af6e49c3b8a6e1"
          }
        },
        "2a81e4a7fb9a4d888fde00be8a5b974b": {
          "model_module": "@jupyter-widgets/controls",
          "model_name": "HTMLModel",
          "model_module_version": "1.5.0",
          "state": {
            "_view_name": "HTMLView",
            "style": "IPY_MODEL_dae99c293a774479912a9e629ea75eb2",
            "_dom_classes": [],
            "description": "",
            "_model_name": "HTMLModel",
            "placeholder": "​",
            "_view_module": "@jupyter-widgets/controls",
            "_model_module_version": "1.5.0",
            "value": " 25000/0 [00:14&lt;00:00, 2964.40 examples/s]",
            "_view_count": null,
            "_view_module_version": "1.5.0",
            "description_tooltip": null,
            "_model_module": "@jupyter-widgets/controls",
            "layout": "IPY_MODEL_a2f18a28c3b748c6b15677e9e8341fe0"
          }
        },
        "8d3cae26cb474876aae4a31d6cda7ea8": {
          "model_module": "@jupyter-widgets/controls",
          "model_name": "ProgressStyleModel",
          "model_module_version": "1.5.0",
          "state": {
            "_view_name": "StyleView",
            "_model_name": "ProgressStyleModel",
            "description_width": "initial",
            "_view_module": "@jupyter-widgets/base",
            "_model_module_version": "1.5.0",
            "_view_count": null,
            "_view_module_version": "1.2.0",
            "bar_color": null,
            "_model_module": "@jupyter-widgets/controls"
          }
        },
        "6a405e852994409392af6e49c3b8a6e1": {
          "model_module": "@jupyter-widgets/base",
          "model_name": "LayoutModel",
          "model_module_version": "1.2.0",
          "state": {
            "_view_name": "LayoutView",
            "grid_template_rows": null,
            "right": null,
            "justify_content": null,
            "_view_module": "@jupyter-widgets/base",
            "overflow": null,
            "_model_module_version": "1.2.0",
            "_view_count": null,
            "flex_flow": null,
            "width": null,
            "min_width": null,
            "border": null,
            "align_items": null,
            "bottom": null,
            "_model_module": "@jupyter-widgets/base",
            "top": null,
            "grid_column": null,
            "overflow_y": null,
            "overflow_x": null,
            "grid_auto_flow": null,
            "grid_area": null,
            "grid_template_columns": null,
            "flex": null,
            "_model_name": "LayoutModel",
            "justify_items": null,
            "grid_row": null,
            "max_height": null,
            "align_content": null,
            "visibility": null,
            "align_self": null,
            "height": null,
            "min_height": null,
            "padding": null,
            "grid_auto_rows": null,
            "grid_gap": null,
            "max_width": null,
            "order": null,
            "_view_module_version": "1.2.0",
            "grid_template_areas": null,
            "object_position": null,
            "object_fit": null,
            "grid_auto_columns": null,
            "margin": null,
            "display": null,
            "left": null
          }
        },
        "dae99c293a774479912a9e629ea75eb2": {
          "model_module": "@jupyter-widgets/controls",
          "model_name": "DescriptionStyleModel",
          "model_module_version": "1.5.0",
          "state": {
            "_view_name": "StyleView",
            "_model_name": "DescriptionStyleModel",
            "description_width": "",
            "_view_module": "@jupyter-widgets/base",
            "_model_module_version": "1.5.0",
            "_view_count": null,
            "_view_module_version": "1.2.0",
            "_model_module": "@jupyter-widgets/controls"
          }
        },
        "a2f18a28c3b748c6b15677e9e8341fe0": {
          "model_module": "@jupyter-widgets/base",
          "model_name": "LayoutModel",
          "model_module_version": "1.2.0",
          "state": {
            "_view_name": "LayoutView",
            "grid_template_rows": null,
            "right": null,
            "justify_content": null,
            "_view_module": "@jupyter-widgets/base",
            "overflow": null,
            "_model_module_version": "1.2.0",
            "_view_count": null,
            "flex_flow": null,
            "width": null,
            "min_width": null,
            "border": null,
            "align_items": null,
            "bottom": null,
            "_model_module": "@jupyter-widgets/base",
            "top": null,
            "grid_column": null,
            "overflow_y": null,
            "overflow_x": null,
            "grid_auto_flow": null,
            "grid_area": null,
            "grid_template_columns": null,
            "flex": null,
            "_model_name": "LayoutModel",
            "justify_items": null,
            "grid_row": null,
            "max_height": null,
            "align_content": null,
            "visibility": null,
            "align_self": null,
            "height": null,
            "min_height": null,
            "padding": null,
            "grid_auto_rows": null,
            "grid_gap": null,
            "max_width": null,
            "order": null,
            "_view_module_version": "1.2.0",
            "grid_template_areas": null,
            "object_position": null,
            "object_fit": null,
            "grid_auto_columns": null,
            "margin": null,
            "display": null,
            "left": null
          }
        },
        "05e8cf6fb0cc422ba01fc2609e1506a5": {
          "model_module": "@jupyter-widgets/controls",
          "model_name": "HBoxModel",
          "model_module_version": "1.5.0",
          "state": {
            "_view_name": "HBoxView",
            "_dom_classes": [],
            "_model_name": "HBoxModel",
            "_view_module": "@jupyter-widgets/controls",
            "_model_module_version": "1.5.0",
            "_view_count": null,
            "_view_module_version": "1.5.0",
            "box_style": "",
            "layout": "IPY_MODEL_bbdaa32417fd426db2d294e59779f4c6",
            "_model_module": "@jupyter-widgets/controls",
            "children": [
              "IPY_MODEL_ccfd21eb50414c7986545bcb18e248c2",
              "IPY_MODEL_6b39ce64e0fe49f59c24ca44ccb3cee5"
            ]
          }
        },
        "bbdaa32417fd426db2d294e59779f4c6": {
          "model_module": "@jupyter-widgets/base",
          "model_name": "LayoutModel",
          "model_module_version": "1.2.0",
          "state": {
            "_view_name": "LayoutView",
            "grid_template_rows": null,
            "right": null,
            "justify_content": null,
            "_view_module": "@jupyter-widgets/base",
            "overflow": null,
            "_model_module_version": "1.2.0",
            "_view_count": null,
            "flex_flow": null,
            "width": null,
            "min_width": null,
            "border": null,
            "align_items": null,
            "bottom": null,
            "_model_module": "@jupyter-widgets/base",
            "top": null,
            "grid_column": null,
            "overflow_y": null,
            "overflow_x": null,
            "grid_auto_flow": null,
            "grid_area": null,
            "grid_template_columns": null,
            "flex": null,
            "_model_name": "LayoutModel",
            "justify_items": null,
            "grid_row": null,
            "max_height": null,
            "align_content": null,
            "visibility": null,
            "align_self": null,
            "height": null,
            "min_height": null,
            "padding": null,
            "grid_auto_rows": null,
            "grid_gap": null,
            "max_width": null,
            "order": null,
            "_view_module_version": "1.2.0",
            "grid_template_areas": null,
            "object_position": null,
            "object_fit": null,
            "grid_auto_columns": null,
            "margin": null,
            "display": null,
            "left": null
          }
        },
        "ccfd21eb50414c7986545bcb18e248c2": {
          "model_module": "@jupyter-widgets/controls",
          "model_name": "FloatProgressModel",
          "model_module_version": "1.5.0",
          "state": {
            "_view_name": "ProgressView",
            "style": "IPY_MODEL_6ffc2fa1c4094da782df23f0f9cbd8e6",
            "_dom_classes": [],
            "description": " 37%",
            "_model_name": "FloatProgressModel",
            "bar_style": "danger",
            "max": 25000,
            "_view_module": "@jupyter-widgets/controls",
            "_model_module_version": "1.5.0",
            "value": 9366,
            "_view_count": null,
            "_view_module_version": "1.5.0",
            "orientation": "horizontal",
            "min": 0,
            "description_tooltip": null,
            "_model_module": "@jupyter-widgets/controls",
            "layout": "IPY_MODEL_8e4774c1503140dc84f6be2a7d7fd5fc"
          }
        },
        "6b39ce64e0fe49f59c24ca44ccb3cee5": {
          "model_module": "@jupyter-widgets/controls",
          "model_name": "HTMLModel",
          "model_module_version": "1.5.0",
          "state": {
            "_view_name": "HTMLView",
            "style": "IPY_MODEL_596b3d6ae64d4efa8f89797fec95b04e",
            "_dom_classes": [],
            "description": "",
            "_model_name": "HTMLModel",
            "placeholder": "​",
            "_view_module": "@jupyter-widgets/controls",
            "_model_module_version": "1.5.0",
            "value": " 9366/25000 [00:00&lt;00:00, 93659.42 examples/s]",
            "_view_count": null,
            "_view_module_version": "1.5.0",
            "description_tooltip": null,
            "_model_module": "@jupyter-widgets/controls",
            "layout": "IPY_MODEL_932a470f2d404f6bab1c553a1e1069bd"
          }
        },
        "6ffc2fa1c4094da782df23f0f9cbd8e6": {
          "model_module": "@jupyter-widgets/controls",
          "model_name": "ProgressStyleModel",
          "model_module_version": "1.5.0",
          "state": {
            "_view_name": "StyleView",
            "_model_name": "ProgressStyleModel",
            "description_width": "initial",
            "_view_module": "@jupyter-widgets/base",
            "_model_module_version": "1.5.0",
            "_view_count": null,
            "_view_module_version": "1.2.0",
            "bar_color": null,
            "_model_module": "@jupyter-widgets/controls"
          }
        },
        "8e4774c1503140dc84f6be2a7d7fd5fc": {
          "model_module": "@jupyter-widgets/base",
          "model_name": "LayoutModel",
          "model_module_version": "1.2.0",
          "state": {
            "_view_name": "LayoutView",
            "grid_template_rows": null,
            "right": null,
            "justify_content": null,
            "_view_module": "@jupyter-widgets/base",
            "overflow": null,
            "_model_module_version": "1.2.0",
            "_view_count": null,
            "flex_flow": null,
            "width": null,
            "min_width": null,
            "border": null,
            "align_items": null,
            "bottom": null,
            "_model_module": "@jupyter-widgets/base",
            "top": null,
            "grid_column": null,
            "overflow_y": null,
            "overflow_x": null,
            "grid_auto_flow": null,
            "grid_area": null,
            "grid_template_columns": null,
            "flex": null,
            "_model_name": "LayoutModel",
            "justify_items": null,
            "grid_row": null,
            "max_height": null,
            "align_content": null,
            "visibility": null,
            "align_self": null,
            "height": null,
            "min_height": null,
            "padding": null,
            "grid_auto_rows": null,
            "grid_gap": null,
            "max_width": null,
            "order": null,
            "_view_module_version": "1.2.0",
            "grid_template_areas": null,
            "object_position": null,
            "object_fit": null,
            "grid_auto_columns": null,
            "margin": null,
            "display": null,
            "left": null
          }
        },
        "596b3d6ae64d4efa8f89797fec95b04e": {
          "model_module": "@jupyter-widgets/controls",
          "model_name": "DescriptionStyleModel",
          "model_module_version": "1.5.0",
          "state": {
            "_view_name": "StyleView",
            "_model_name": "DescriptionStyleModel",
            "description_width": "",
            "_view_module": "@jupyter-widgets/base",
            "_model_module_version": "1.5.0",
            "_view_count": null,
            "_view_module_version": "1.2.0",
            "_model_module": "@jupyter-widgets/controls"
          }
        },
        "932a470f2d404f6bab1c553a1e1069bd": {
          "model_module": "@jupyter-widgets/base",
          "model_name": "LayoutModel",
          "model_module_version": "1.2.0",
          "state": {
            "_view_name": "LayoutView",
            "grid_template_rows": null,
            "right": null,
            "justify_content": null,
            "_view_module": "@jupyter-widgets/base",
            "overflow": null,
            "_model_module_version": "1.2.0",
            "_view_count": null,
            "flex_flow": null,
            "width": null,
            "min_width": null,
            "border": null,
            "align_items": null,
            "bottom": null,
            "_model_module": "@jupyter-widgets/base",
            "top": null,
            "grid_column": null,
            "overflow_y": null,
            "overflow_x": null,
            "grid_auto_flow": null,
            "grid_area": null,
            "grid_template_columns": null,
            "flex": null,
            "_model_name": "LayoutModel",
            "justify_items": null,
            "grid_row": null,
            "max_height": null,
            "align_content": null,
            "visibility": null,
            "align_self": null,
            "height": null,
            "min_height": null,
            "padding": null,
            "grid_auto_rows": null,
            "grid_gap": null,
            "max_width": null,
            "order": null,
            "_view_module_version": "1.2.0",
            "grid_template_areas": null,
            "object_position": null,
            "object_fit": null,
            "grid_auto_columns": null,
            "margin": null,
            "display": null,
            "left": null
          }
        },
        "acdc4fbc7e24467eadd9b473e6b6fb5a": {
          "model_module": "@jupyter-widgets/controls",
          "model_name": "HBoxModel",
          "model_module_version": "1.5.0",
          "state": {
            "_view_name": "HBoxView",
            "_dom_classes": [],
            "_model_name": "HBoxModel",
            "_view_module": "@jupyter-widgets/controls",
            "_model_module_version": "1.5.0",
            "_view_count": null,
            "_view_module_version": "1.5.0",
            "box_style": "",
            "layout": "IPY_MODEL_6766f044f4ff470fbc262f8b025617e0",
            "_model_module": "@jupyter-widgets/controls",
            "children": [
              "IPY_MODEL_8e7ebefa16c04e6ca5ac9e092df9f35c",
              "IPY_MODEL_1188bfb70ad64b86ac3875a9e8991f60"
            ]
          }
        },
        "6766f044f4ff470fbc262f8b025617e0": {
          "model_module": "@jupyter-widgets/base",
          "model_name": "LayoutModel",
          "model_module_version": "1.2.0",
          "state": {
            "_view_name": "LayoutView",
            "grid_template_rows": null,
            "right": null,
            "justify_content": null,
            "_view_module": "@jupyter-widgets/base",
            "overflow": null,
            "_model_module_version": "1.2.0",
            "_view_count": null,
            "flex_flow": null,
            "width": null,
            "min_width": null,
            "border": null,
            "align_items": null,
            "bottom": null,
            "_model_module": "@jupyter-widgets/base",
            "top": null,
            "grid_column": null,
            "overflow_y": null,
            "overflow_x": null,
            "grid_auto_flow": null,
            "grid_area": null,
            "grid_template_columns": null,
            "flex": null,
            "_model_name": "LayoutModel",
            "justify_items": null,
            "grid_row": null,
            "max_height": null,
            "align_content": null,
            "visibility": null,
            "align_self": null,
            "height": null,
            "min_height": null,
            "padding": null,
            "grid_auto_rows": null,
            "grid_gap": null,
            "max_width": null,
            "order": null,
            "_view_module_version": "1.2.0",
            "grid_template_areas": null,
            "object_position": null,
            "object_fit": null,
            "grid_auto_columns": null,
            "margin": null,
            "display": null,
            "left": null
          }
        },
        "8e7ebefa16c04e6ca5ac9e092df9f35c": {
          "model_module": "@jupyter-widgets/controls",
          "model_name": "FloatProgressModel",
          "model_module_version": "1.5.0",
          "state": {
            "_view_name": "ProgressView",
            "style": "IPY_MODEL_f8e25a23f42f4b6ca675ef3faeba21eb",
            "_dom_classes": [],
            "description": "",
            "_model_name": "FloatProgressModel",
            "bar_style": "info",
            "max": 1,
            "_view_module": "@jupyter-widgets/controls",
            "_model_module_version": "1.5.0",
            "value": 1,
            "_view_count": null,
            "_view_module_version": "1.5.0",
            "orientation": "horizontal",
            "min": 0,
            "description_tooltip": null,
            "_model_module": "@jupyter-widgets/controls",
            "layout": "IPY_MODEL_7bbc56c3d8724708a14e81ece55d27d7"
          }
        },
        "1188bfb70ad64b86ac3875a9e8991f60": {
          "model_module": "@jupyter-widgets/controls",
          "model_name": "HTMLModel",
          "model_module_version": "1.5.0",
          "state": {
            "_view_name": "HTMLView",
            "style": "IPY_MODEL_1ae4b4e2f67e4a6aa30a7a1e4e0a4244",
            "_dom_classes": [],
            "description": "",
            "_model_name": "HTMLModel",
            "placeholder": "​",
            "_view_module": "@jupyter-widgets/controls",
            "_model_module_version": "1.5.0",
            "value": " 50000/0 [00:22&lt;00:00, 2952.10 examples/s]",
            "_view_count": null,
            "_view_module_version": "1.5.0",
            "description_tooltip": null,
            "_model_module": "@jupyter-widgets/controls",
            "layout": "IPY_MODEL_ccaf27a658344fa89804dcad5b473897"
          }
        },
        "f8e25a23f42f4b6ca675ef3faeba21eb": {
          "model_module": "@jupyter-widgets/controls",
          "model_name": "ProgressStyleModel",
          "model_module_version": "1.5.0",
          "state": {
            "_view_name": "StyleView",
            "_model_name": "ProgressStyleModel",
            "description_width": "initial",
            "_view_module": "@jupyter-widgets/base",
            "_model_module_version": "1.5.0",
            "_view_count": null,
            "_view_module_version": "1.2.0",
            "bar_color": null,
            "_model_module": "@jupyter-widgets/controls"
          }
        },
        "7bbc56c3d8724708a14e81ece55d27d7": {
          "model_module": "@jupyter-widgets/base",
          "model_name": "LayoutModel",
          "model_module_version": "1.2.0",
          "state": {
            "_view_name": "LayoutView",
            "grid_template_rows": null,
            "right": null,
            "justify_content": null,
            "_view_module": "@jupyter-widgets/base",
            "overflow": null,
            "_model_module_version": "1.2.0",
            "_view_count": null,
            "flex_flow": null,
            "width": null,
            "min_width": null,
            "border": null,
            "align_items": null,
            "bottom": null,
            "_model_module": "@jupyter-widgets/base",
            "top": null,
            "grid_column": null,
            "overflow_y": null,
            "overflow_x": null,
            "grid_auto_flow": null,
            "grid_area": null,
            "grid_template_columns": null,
            "flex": null,
            "_model_name": "LayoutModel",
            "justify_items": null,
            "grid_row": null,
            "max_height": null,
            "align_content": null,
            "visibility": null,
            "align_self": null,
            "height": null,
            "min_height": null,
            "padding": null,
            "grid_auto_rows": null,
            "grid_gap": null,
            "max_width": null,
            "order": null,
            "_view_module_version": "1.2.0",
            "grid_template_areas": null,
            "object_position": null,
            "object_fit": null,
            "grid_auto_columns": null,
            "margin": null,
            "display": null,
            "left": null
          }
        },
        "1ae4b4e2f67e4a6aa30a7a1e4e0a4244": {
          "model_module": "@jupyter-widgets/controls",
          "model_name": "DescriptionStyleModel",
          "model_module_version": "1.5.0",
          "state": {
            "_view_name": "StyleView",
            "_model_name": "DescriptionStyleModel",
            "description_width": "",
            "_view_module": "@jupyter-widgets/base",
            "_model_module_version": "1.5.0",
            "_view_count": null,
            "_view_module_version": "1.2.0",
            "_model_module": "@jupyter-widgets/controls"
          }
        },
        "ccaf27a658344fa89804dcad5b473897": {
          "model_module": "@jupyter-widgets/base",
          "model_name": "LayoutModel",
          "model_module_version": "1.2.0",
          "state": {
            "_view_name": "LayoutView",
            "grid_template_rows": null,
            "right": null,
            "justify_content": null,
            "_view_module": "@jupyter-widgets/base",
            "overflow": null,
            "_model_module_version": "1.2.0",
            "_view_count": null,
            "flex_flow": null,
            "width": null,
            "min_width": null,
            "border": null,
            "align_items": null,
            "bottom": null,
            "_model_module": "@jupyter-widgets/base",
            "top": null,
            "grid_column": null,
            "overflow_y": null,
            "overflow_x": null,
            "grid_auto_flow": null,
            "grid_area": null,
            "grid_template_columns": null,
            "flex": null,
            "_model_name": "LayoutModel",
            "justify_items": null,
            "grid_row": null,
            "max_height": null,
            "align_content": null,
            "visibility": null,
            "align_self": null,
            "height": null,
            "min_height": null,
            "padding": null,
            "grid_auto_rows": null,
            "grid_gap": null,
            "max_width": null,
            "order": null,
            "_view_module_version": "1.2.0",
            "grid_template_areas": null,
            "object_position": null,
            "object_fit": null,
            "grid_auto_columns": null,
            "margin": null,
            "display": null,
            "left": null
          }
        },
        "b3e8e38d7d914931bcd27c6867bda910": {
          "model_module": "@jupyter-widgets/controls",
          "model_name": "HBoxModel",
          "model_module_version": "1.5.0",
          "state": {
            "_view_name": "HBoxView",
            "_dom_classes": [],
            "_model_name": "HBoxModel",
            "_view_module": "@jupyter-widgets/controls",
            "_model_module_version": "1.5.0",
            "_view_count": null,
            "_view_module_version": "1.5.0",
            "box_style": "",
            "layout": "IPY_MODEL_63a475be8f75414b813fd7d2928747a7",
            "_model_module": "@jupyter-widgets/controls",
            "children": [
              "IPY_MODEL_fc8ef2dfb3c74edaa741533c26617fa9",
              "IPY_MODEL_291ca86bcbe0474bb17c1e7c89628390"
            ]
          }
        },
        "63a475be8f75414b813fd7d2928747a7": {
          "model_module": "@jupyter-widgets/base",
          "model_name": "LayoutModel",
          "model_module_version": "1.2.0",
          "state": {
            "_view_name": "LayoutView",
            "grid_template_rows": null,
            "right": null,
            "justify_content": null,
            "_view_module": "@jupyter-widgets/base",
            "overflow": null,
            "_model_module_version": "1.2.0",
            "_view_count": null,
            "flex_flow": null,
            "width": null,
            "min_width": null,
            "border": null,
            "align_items": null,
            "bottom": null,
            "_model_module": "@jupyter-widgets/base",
            "top": null,
            "grid_column": null,
            "overflow_y": null,
            "overflow_x": null,
            "grid_auto_flow": null,
            "grid_area": null,
            "grid_template_columns": null,
            "flex": null,
            "_model_name": "LayoutModel",
            "justify_items": null,
            "grid_row": null,
            "max_height": null,
            "align_content": null,
            "visibility": null,
            "align_self": null,
            "height": null,
            "min_height": null,
            "padding": null,
            "grid_auto_rows": null,
            "grid_gap": null,
            "max_width": null,
            "order": null,
            "_view_module_version": "1.2.0",
            "grid_template_areas": null,
            "object_position": null,
            "object_fit": null,
            "grid_auto_columns": null,
            "margin": null,
            "display": null,
            "left": null
          }
        },
        "fc8ef2dfb3c74edaa741533c26617fa9": {
          "model_module": "@jupyter-widgets/controls",
          "model_name": "FloatProgressModel",
          "model_module_version": "1.5.0",
          "state": {
            "_view_name": "ProgressView",
            "style": "IPY_MODEL_38850a3b4e234d6cbfe45d114d083414",
            "_dom_classes": [],
            "description": " 72%",
            "_model_name": "FloatProgressModel",
            "bar_style": "danger",
            "max": 50000,
            "_view_module": "@jupyter-widgets/controls",
            "_model_module_version": "1.5.0",
            "value": 35923,
            "_view_count": null,
            "_view_module_version": "1.5.0",
            "orientation": "horizontal",
            "min": 0,
            "description_tooltip": null,
            "_model_module": "@jupyter-widgets/controls",
            "layout": "IPY_MODEL_fccef73324c9415db3677ae4f884e07c"
          }
        },
        "291ca86bcbe0474bb17c1e7c89628390": {
          "model_module": "@jupyter-widgets/controls",
          "model_name": "HTMLModel",
          "model_module_version": "1.5.0",
          "state": {
            "_view_name": "HTMLView",
            "style": "IPY_MODEL_d7f1287b8b2a4ad8bf5fd3da2860f372",
            "_dom_classes": [],
            "description": "",
            "_model_name": "HTMLModel",
            "placeholder": "​",
            "_view_module": "@jupyter-widgets/controls",
            "_model_module_version": "1.5.0",
            "value": " 35923/50000 [00:00&lt;12:50, 18.26 examples/s]",
            "_view_count": null,
            "_view_module_version": "1.5.0",
            "description_tooltip": null,
            "_model_module": "@jupyter-widgets/controls",
            "layout": "IPY_MODEL_51251f9b0c1b48d0b590efd7ec1f859f"
          }
        },
        "38850a3b4e234d6cbfe45d114d083414": {
          "model_module": "@jupyter-widgets/controls",
          "model_name": "ProgressStyleModel",
          "model_module_version": "1.5.0",
          "state": {
            "_view_name": "StyleView",
            "_model_name": "ProgressStyleModel",
            "description_width": "initial",
            "_view_module": "@jupyter-widgets/base",
            "_model_module_version": "1.5.0",
            "_view_count": null,
            "_view_module_version": "1.2.0",
            "bar_color": null,
            "_model_module": "@jupyter-widgets/controls"
          }
        },
        "fccef73324c9415db3677ae4f884e07c": {
          "model_module": "@jupyter-widgets/base",
          "model_name": "LayoutModel",
          "model_module_version": "1.2.0",
          "state": {
            "_view_name": "LayoutView",
            "grid_template_rows": null,
            "right": null,
            "justify_content": null,
            "_view_module": "@jupyter-widgets/base",
            "overflow": null,
            "_model_module_version": "1.2.0",
            "_view_count": null,
            "flex_flow": null,
            "width": null,
            "min_width": null,
            "border": null,
            "align_items": null,
            "bottom": null,
            "_model_module": "@jupyter-widgets/base",
            "top": null,
            "grid_column": null,
            "overflow_y": null,
            "overflow_x": null,
            "grid_auto_flow": null,
            "grid_area": null,
            "grid_template_columns": null,
            "flex": null,
            "_model_name": "LayoutModel",
            "justify_items": null,
            "grid_row": null,
            "max_height": null,
            "align_content": null,
            "visibility": null,
            "align_self": null,
            "height": null,
            "min_height": null,
            "padding": null,
            "grid_auto_rows": null,
            "grid_gap": null,
            "max_width": null,
            "order": null,
            "_view_module_version": "1.2.0",
            "grid_template_areas": null,
            "object_position": null,
            "object_fit": null,
            "grid_auto_columns": null,
            "margin": null,
            "display": null,
            "left": null
          }
        },
        "d7f1287b8b2a4ad8bf5fd3da2860f372": {
          "model_module": "@jupyter-widgets/controls",
          "model_name": "DescriptionStyleModel",
          "model_module_version": "1.5.0",
          "state": {
            "_view_name": "StyleView",
            "_model_name": "DescriptionStyleModel",
            "description_width": "",
            "_view_module": "@jupyter-widgets/base",
            "_model_module_version": "1.5.0",
            "_view_count": null,
            "_view_module_version": "1.2.0",
            "_model_module": "@jupyter-widgets/controls"
          }
        },
        "51251f9b0c1b48d0b590efd7ec1f859f": {
          "model_module": "@jupyter-widgets/base",
          "model_name": "LayoutModel",
          "model_module_version": "1.2.0",
          "state": {
            "_view_name": "LayoutView",
            "grid_template_rows": null,
            "right": null,
            "justify_content": null,
            "_view_module": "@jupyter-widgets/base",
            "overflow": null,
            "_model_module_version": "1.2.0",
            "_view_count": null,
            "flex_flow": null,
            "width": null,
            "min_width": null,
            "border": null,
            "align_items": null,
            "bottom": null,
            "_model_module": "@jupyter-widgets/base",
            "top": null,
            "grid_column": null,
            "overflow_y": null,
            "overflow_x": null,
            "grid_auto_flow": null,
            "grid_area": null,
            "grid_template_columns": null,
            "flex": null,
            "_model_name": "LayoutModel",
            "justify_items": null,
            "grid_row": null,
            "max_height": null,
            "align_content": null,
            "visibility": null,
            "align_self": null,
            "height": null,
            "min_height": null,
            "padding": null,
            "grid_auto_rows": null,
            "grid_gap": null,
            "max_width": null,
            "order": null,
            "_view_module_version": "1.2.0",
            "grid_template_areas": null,
            "object_position": null,
            "object_fit": null,
            "grid_auto_columns": null,
            "margin": null,
            "display": null,
            "left": null
          }
        }
      }
    }
  },
  "cells": [
    {
      "cell_type": "markdown",
      "metadata": {
        "id": "pvT4Kena44U-"
      },
      "source": [
        "# Data API\n",
        "\n",
        "- `tf.data`: https://www.tensorflow.org/api_docs/python/tf/data\n",
        "- `tf.data.datasets`\n",
        "\n"
      ]
    },
    {
      "cell_type": "markdown",
      "metadata": {
        "id": "qMJ7xx8N882t"
      },
      "source": [
        "## tf.data.datasets"
      ]
    },
    {
      "cell_type": "code",
      "metadata": {
        "id": "uA_5y-rv5K0x"
      },
      "source": [
        "import tensorflow as tf\n",
        "import tensorflow_datasets as tfds"
      ],
      "execution_count": null,
      "outputs": []
    },
    {
      "cell_type": "code",
      "metadata": {
        "id": "_77BigY5g3hd",
        "colab": {
          "base_uri": "https://localhost:8080/",
          "height": 55
        },
        "outputId": "2dfeb90a-e2d3-4b97-8f8f-aa4083287c4f"
      },
      "source": [
        "builders = tfds.list_builders()\n",
        "print(builders)"
      ],
      "execution_count": null,
      "outputs": [
        {
          "output_type": "stream",
          "text": [
            "['abstract_reasoning', 'aeslc', 'aflw2k3d', 'amazon_us_reviews', 'arc', 'bair_robot_pushing_small', 'beans', 'big_patent', 'bigearthnet', 'billsum', 'binarized_mnist', 'binary_alpha_digits', 'c4', 'caltech101', 'caltech_birds2010', 'caltech_birds2011', 'cars196', 'cassava', 'cats_vs_dogs', 'celeb_a', 'celeb_a_hq', 'cfq', 'chexpert', 'cifar10', 'cifar100', 'cifar10_1', 'cifar10_corrupted', 'citrus_leaves', 'cityscapes', 'civil_comments', 'clevr', 'cmaterdb', 'cnn_dailymail', 'coco', 'coil100', 'colorectal_histology', 'colorectal_histology_large', 'cos_e', 'curated_breast_imaging_ddsm', 'cycle_gan', 'deep_weeds', 'definite_pronoun_resolution', 'diabetic_retinopathy_detection', 'div2k', 'dmlab', 'downsampled_imagenet', 'dsprites', 'dtd', 'duke_ultrasound', 'dummy_dataset_shared_generator', 'dummy_mnist', 'emnist', 'eraser_multi_rc', 'esnli', 'eurosat', 'fashion_mnist', 'flic', 'flores', 'food101', 'gap', 'gigaword', 'glue', 'groove', 'higgs', 'horses_or_humans', 'i_naturalist2017', 'image_label_folder', 'imagenet2012', 'imagenet2012_corrupted', 'imagenet_resized', 'imagenette', 'imagewang', 'imdb_reviews', 'iris', 'kitti', 'kmnist', 'lfw', 'librispeech', 'librispeech_lm', 'libritts', 'lm1b', 'lost_and_found', 'lsun', 'malaria', 'math_dataset', 'mnist', 'mnist_corrupted', 'movie_rationales', 'moving_mnist', 'multi_news', 'multi_nli', 'multi_nli_mismatch', 'natural_questions', 'newsroom', 'nsynth', 'omniglot', 'open_images_v4', 'opinosis', 'oxford_flowers102', 'oxford_iiit_pet', 'para_crawl', 'patch_camelyon', 'pet_finder', 'places365_small', 'plant_leaves', 'plant_village', 'plantae_k', 'qa4mre', 'quickdraw_bitmap', 'reddit_tifu', 'resisc45', 'rock_paper_scissors', 'rock_you', 'scan', 'scene_parse150', 'scicite', 'scientific_papers', 'shapes3d', 'smallnorb', 'snli', 'so2sat', 'speech_commands', 'squad', 'stanford_dogs', 'stanford_online_products', 'starcraft_video', 'sun397', 'super_glue', 'svhn_cropped', 'ted_hrlr_translate', 'ted_multi_translate', 'tf_flowers', 'the300w_lp', 'tiny_shakespeare', 'titanic', 'trivia_qa', 'uc_merced', 'ucf101', 'vgg_face2', 'visual_domain_decathlon', 'voc', 'wider_face', 'wikihow', 'wikipedia', 'wmt14_translate', 'wmt15_translate', 'wmt16_translate', 'wmt17_translate', 'wmt18_translate', 'wmt19_translate', 'wmt_t2t_translate', 'wmt_translate', 'xnli', 'xsum', 'yelp_polarity_reviews']\n"
          ],
          "name": "stdout"
        }
      ]
    },
    {
      "cell_type": "code",
      "metadata": {
        "id": "wmRzwmofg3ef"
      },
      "source": [
        "data, info = tfds.load('mnist', with_info=True)\n",
        "train_data, test_data = data['train'], data['test']"
      ],
      "execution_count": null,
      "outputs": []
    },
    {
      "cell_type": "code",
      "metadata": {
        "id": "PgvmOxeYg3bi",
        "colab": {
          "base_uri": "https://localhost:8080/",
          "height": 461
        },
        "outputId": "bad9879e-2bb5-4cdc-9a0f-b7876b095b57"
      },
      "source": [
        "print(info)"
      ],
      "execution_count": null,
      "outputs": [
        {
          "output_type": "stream",
          "text": [
            "tfds.core.DatasetInfo(\n",
            "    name='mnist',\n",
            "    version=3.0.0,\n",
            "    description='The MNIST database of handwritten digits.',\n",
            "    homepage='http://yann.lecun.com/exdb/mnist/',\n",
            "    features=FeaturesDict({\n",
            "        'image': Image(shape=(28, 28, 1), dtype=tf.uint8),\n",
            "        'label': ClassLabel(shape=(), dtype=tf.int64, num_classes=10),\n",
            "    }),\n",
            "    total_num_examples=70000,\n",
            "    splits={\n",
            "        'test': 10000,\n",
            "        'train': 60000,\n",
            "    },\n",
            "    supervised_keys=('image', 'label'),\n",
            "    citation=\"\"\"@article{lecun2010mnist,\n",
            "      title={MNIST handwritten digit database},\n",
            "      author={LeCun, Yann and Cortes, Corinna and Burges, CJ},\n",
            "      journal={ATT Labs [Online]. Available: http://yann. lecun. com/exdb/mnist},\n",
            "      volume={2},\n",
            "      year={2010}\n",
            "    }\"\"\",\n",
            "    redistribution_info=,\n",
            ")\n",
            "\n"
          ],
          "name": "stdout"
        }
      ]
    },
    {
      "cell_type": "markdown",
      "metadata": {
        "id": "adN6woERhQrO"
      },
      "source": [
        "## tf.data\n",
        "\n",
        "- 생성\n",
        "  - `from_tensor_slices()`: 개별 또는 다중 넘파이를 받고, 배치를 지원\n",
        "\n",
        "  - `from_tensors()`: 배치를 지원하지 않음\n",
        "\n",
        "  - `from_generator()`: 생성자 함수에서 입력을 취함\n",
        "\n",
        "- 변환\n",
        "\n",
        "  - `batch()`: 순차적으로 지정한 배치사이즈로 데이터셋을 분할\n",
        "\n",
        "  - `repeat()`: 데이터를 복제\n",
        "\n",
        "  - `shuffle()`: 데이터를 무작위로 섞음\n",
        "\n",
        "  - `map()`: 데이터에 함수를 적용\n",
        "\n",
        "  - `filter()`: 데이터를 거르고자 할 때 사용\n",
        "- 반복\n",
        "  - `next_batch = iterator.get_next()` 사용"
      ]
    },
    {
      "cell_type": "markdown",
      "metadata": {
        "id": "51d2wkdMhTBn"
      },
      "source": [
        "### from_tensor_slices"
      ]
    },
    {
      "cell_type": "code",
      "metadata": {
        "id": "HWzGguIUg3Yi"
      },
      "source": [
        "import numpy as np"
      ],
      "execution_count": null,
      "outputs": []
    },
    {
      "cell_type": "code",
      "metadata": {
        "id": "aaO5aOqsg3Vf"
      },
      "source": [
        "num_items = 20\n",
        "num_list = np.arange(num_items)"
      ],
      "execution_count": null,
      "outputs": []
    },
    {
      "cell_type": "code",
      "metadata": {
        "id": "rFKz4nK2g3Sd"
      },
      "source": [
        "num_list_dataset = tf.data.Dataset.from_tensor_slices(num_list)"
      ],
      "execution_count": null,
      "outputs": []
    },
    {
      "cell_type": "code",
      "metadata": {
        "id": "gzqeoFS6g3Pg",
        "colab": {
          "base_uri": "https://localhost:8080/",
          "height": 35
        },
        "outputId": "e1a9b4e0-c44a-43fc-ae49-91c771a8090b"
      },
      "source": [
        "num_list_dataset"
      ],
      "execution_count": null,
      "outputs": [
        {
          "output_type": "execute_result",
          "data": {
            "text/plain": [
              "<TensorSliceDataset shapes: (), types: tf.int64>"
            ]
          },
          "metadata": {
            "tags": []
          },
          "execution_count": 11
        }
      ]
    },
    {
      "cell_type": "code",
      "metadata": {
        "id": "oBK4nAS7lpBJ",
        "colab": {
          "base_uri": "https://localhost:8080/",
          "height": 372
        },
        "outputId": "d8c0c0e6-1bc3-47ca-a593-be56f118f8eb"
      },
      "source": [
        "for item in num_list_dataset:\n",
        "  print(item)"
      ],
      "execution_count": null,
      "outputs": [
        {
          "output_type": "stream",
          "text": [
            "tf.Tensor(0, shape=(), dtype=int64)\n",
            "tf.Tensor(1, shape=(), dtype=int64)\n",
            "tf.Tensor(2, shape=(), dtype=int64)\n",
            "tf.Tensor(3, shape=(), dtype=int64)\n",
            "tf.Tensor(4, shape=(), dtype=int64)\n",
            "tf.Tensor(5, shape=(), dtype=int64)\n",
            "tf.Tensor(6, shape=(), dtype=int64)\n",
            "tf.Tensor(7, shape=(), dtype=int64)\n",
            "tf.Tensor(8, shape=(), dtype=int64)\n",
            "tf.Tensor(9, shape=(), dtype=int64)\n",
            "tf.Tensor(10, shape=(), dtype=int64)\n",
            "tf.Tensor(11, shape=(), dtype=int64)\n",
            "tf.Tensor(12, shape=(), dtype=int64)\n",
            "tf.Tensor(13, shape=(), dtype=int64)\n",
            "tf.Tensor(14, shape=(), dtype=int64)\n",
            "tf.Tensor(15, shape=(), dtype=int64)\n",
            "tf.Tensor(16, shape=(), dtype=int64)\n",
            "tf.Tensor(17, shape=(), dtype=int64)\n",
            "tf.Tensor(18, shape=(), dtype=int64)\n",
            "tf.Tensor(19, shape=(), dtype=int64)\n"
          ],
          "name": "stdout"
        }
      ]
    },
    {
      "cell_type": "markdown",
      "metadata": {
        "id": "8oSVGyqAsJz3"
      },
      "source": [
        "### from_generator()\n",
        "- 해당 클래스 메서드를 사용하면 생성자에서 데이터셋 생성 가능\n",
        "- output_types, output_shapes 인수로 출력 자료형과 크기를 지정해주어야 함"
      ]
    },
    {
      "cell_type": "code",
      "metadata": {
        "id": "5LEG6TzOsOAB",
        "colab": {
          "base_uri": "https://localhost:8080/",
          "height": 35
        },
        "outputId": "5badbc60-98a6-4d9a-d171-d639a2ce9c81"
      },
      "source": [
        "import itertools\n",
        "\n",
        "def gen():\n",
        "  for i in itertools.count(1):\n",
        "    yield (i, [1] * i)\n",
        "\n",
        "dataset = tf.data.Dataset.from_generator(\n",
        "    gen,\n",
        "    (tf.int64, tf.int64),\n",
        "    (tf.TensorShape([]), tf.TensorShape([None]))\n",
        ")\n",
        "\n",
        "list(dataset.take(3).as_numpy_iterator())"
      ],
      "execution_count": null,
      "outputs": [
        {
          "output_type": "execute_result",
          "data": {
            "text/plain": [
              "[(1, array([1])), (2, array([1, 1])), (3, array([1, 1, 1]))]"
            ]
          },
          "metadata": {
            "tags": []
          },
          "execution_count": 14
        }
      ]
    },
    {
      "cell_type": "code",
      "metadata": {
        "id": "P8X1Mn56sODk",
        "colab": {
          "base_uri": "https://localhost:8080/",
          "height": 106
        },
        "outputId": "fe28c9fc-bc76-42e6-a9e3-af4a2de1da4a"
      },
      "source": [
        "def gen(stop):\n",
        "  for i in itertools.count(1):\n",
        "    if i < stop:\n",
        "      yield (i, [1] * i)\n",
        "\n",
        "dataset = tf.data.Dataset.from_generator(\n",
        "    gen, args=[10],\n",
        "    output_types = (tf.int64, tf.int64),\n",
        "    output_shapes=(tf.TensorShape([]), tf.TensorShape([None]))\n",
        ")\n",
        "\n",
        "list(dataset.take(5).as_numpy_iterator())"
      ],
      "execution_count": null,
      "outputs": [
        {
          "output_type": "execute_result",
          "data": {
            "text/plain": [
              "[(1, array([1])),\n",
              " (2, array([1, 1])),\n",
              " (3, array([1, 1, 1])),\n",
              " (4, array([1, 1, 1, 1])),\n",
              " (5, array([1, 1, 1, 1, 1]))]"
            ]
          },
          "metadata": {
            "tags": []
          },
          "execution_count": 15
        }
      ]
    },
    {
      "cell_type": "code",
      "metadata": {
        "id": "taha_e5QsN2U"
      },
      "source": [
        "#for item in dataset:\n",
        "#  print(item)"
      ],
      "execution_count": null,
      "outputs": []
    },
    {
      "cell_type": "code",
      "metadata": {
        "id": "FnEctz8ud2Ha",
        "colab": {
          "base_uri": "https://localhost:8080/",
          "height": 106
        },
        "outputId": "ae655951-f89f-46ec-d172-5cc0da1a50fd"
      },
      "source": [
        "def gen(stop):\n",
        "  for i in itertools.count(1):\n",
        "    if i < stop:\n",
        "      yield (i, [1]*i)\n",
        "\n",
        "dataset = tf.data.Dataset.from_generator(\n",
        "    gen, args=[10],\n",
        "    output_types = (tf.int64, tf.int64),\n",
        "    output_shapes=(tf.TensorShape([]), tf.TensorShape([None]))\n",
        ")\n",
        "\n",
        "list(dataset.take(5).as_numpy_iterator())"
      ],
      "execution_count": null,
      "outputs": [
        {
          "output_type": "execute_result",
          "data": {
            "text/plain": [
              "[(1, array([1])),\n",
              " (2, array([1, 1])),\n",
              " (3, array([1, 1, 1])),\n",
              " (4, array([1, 1, 1, 1])),\n",
              " (5, array([1, 1, 1, 1, 1]))]"
            ]
          },
          "metadata": {
            "tags": []
          },
          "execution_count": 16
        }
      ]
    },
    {
      "cell_type": "markdown",
      "metadata": {
        "id": "IQUCMAdilyA1"
      },
      "source": [
        "### batch, repeat\n",
        "- `batch()`: 배치 사이즈 크기\n",
        "- `repeat()`: 반복 횟수"
      ]
    },
    {
      "cell_type": "code",
      "metadata": {
        "id": "qJunKghtl0Mk"
      },
      "source": [
        "dataset = num_list_dataset.repeat(3).batch(7)"
      ],
      "execution_count": null,
      "outputs": []
    },
    {
      "cell_type": "code",
      "metadata": {
        "id": "EwNlE6d2l0Qy",
        "colab": {
          "base_uri": "https://localhost:8080/",
          "height": 177
        },
        "outputId": "404de5c0-0c1b-42d1-9a3c-2d90322c24b1"
      },
      "source": [
        "for item in dataset:\n",
        "  print(item)"
      ],
      "execution_count": null,
      "outputs": [
        {
          "output_type": "stream",
          "text": [
            "tf.Tensor([0 1 2 3 4 5 6], shape=(7,), dtype=int64)\n",
            "tf.Tensor([ 7  8  9 10 11 12 13], shape=(7,), dtype=int64)\n",
            "tf.Tensor([14 15 16 17 18 19  0], shape=(7,), dtype=int64)\n",
            "tf.Tensor([1 2 3 4 5 6 7], shape=(7,), dtype=int64)\n",
            "tf.Tensor([ 8  9 10 11 12 13 14], shape=(7,), dtype=int64)\n",
            "tf.Tensor([15 16 17 18 19  0  1], shape=(7,), dtype=int64)\n",
            "tf.Tensor([2 3 4 5 6 7 8], shape=(7,), dtype=int64)\n",
            "tf.Tensor([ 9 10 11 12 13 14 15], shape=(7,), dtype=int64)\n",
            "tf.Tensor([16 17 18 19], shape=(4,), dtype=int64)\n"
          ],
          "name": "stdout"
        }
      ]
    },
    {
      "cell_type": "code",
      "metadata": {
        "id": "cul1bFvImVxN"
      },
      "source": [
        "dataset = num_list_dataset.repeat(3).batch(7, drop_remainder=True)"
      ],
      "execution_count": null,
      "outputs": []
    },
    {
      "cell_type": "code",
      "metadata": {
        "id": "IHZ8JHIBmt_f",
        "colab": {
          "base_uri": "https://localhost:8080/",
          "height": 159
        },
        "outputId": "1efbba2c-bcaa-4800-9d4a-3908c4c9ffd9"
      },
      "source": [
        "for item in dataset:\n",
        "  print(item)"
      ],
      "execution_count": null,
      "outputs": [
        {
          "output_type": "stream",
          "text": [
            "tf.Tensor([0 1 2 3 4 5 6], shape=(7,), dtype=int64)\n",
            "tf.Tensor([ 7  8  9 10 11 12 13], shape=(7,), dtype=int64)\n",
            "tf.Tensor([14 15 16 17 18 19  0], shape=(7,), dtype=int64)\n",
            "tf.Tensor([1 2 3 4 5 6 7], shape=(7,), dtype=int64)\n",
            "tf.Tensor([ 8  9 10 11 12 13 14], shape=(7,), dtype=int64)\n",
            "tf.Tensor([15 16 17 18 19  0  1], shape=(7,), dtype=int64)\n",
            "tf.Tensor([2 3 4 5 6 7 8], shape=(7,), dtype=int64)\n",
            "tf.Tensor([ 9 10 11 12 13 14 15], shape=(7,), dtype=int64)\n"
          ],
          "name": "stdout"
        }
      ]
    },
    {
      "cell_type": "markdown",
      "metadata": {
        "id": "xCAFfO6hmDDS"
      },
      "source": [
        "### map, filter\n",
        "- 전처리 단계에서 시행하여 원하지 않는 데이터를 거를 수 있음\n",
        "\n",
        "- `tf.Tensor` 자료형을 다룸"
      ]
    },
    {
      "cell_type": "code",
      "metadata": {
        "id": "lw37RX7KvN-K"
      },
      "source": [
        "from tensorflow.data import Dataset"
      ],
      "execution_count": null,
      "outputs": []
    },
    {
      "cell_type": "code",
      "metadata": {
        "id": "ubOuEgxal0Hv",
        "colab": {
          "base_uri": "https://localhost:8080/",
          "height": 35
        },
        "outputId": "c10847e2-f4bc-4f50-cd30-3bbb8c1cd444"
      },
      "source": [
        "dataset = Dataset.range(1, 6)\n",
        "dataset = dataset.map(lambda x:x * 2)\n",
        "list(dataset.as_numpy_iterator())"
      ],
      "execution_count": null,
      "outputs": [
        {
          "output_type": "execute_result",
          "data": {
            "text/plain": [
              "[2, 4, 6, 8, 10]"
            ]
          },
          "metadata": {
            "tags": []
          },
          "execution_count": 22
        }
      ]
    },
    {
      "cell_type": "code",
      "metadata": {
        "id": "jwxn37JRuzjV",
        "colab": {
          "base_uri": "https://localhost:8080/",
          "height": 35
        },
        "outputId": "fe225689-db2e-48bf-90d6-fedb36206068"
      },
      "source": [
        "dataset = Dataset.range(5)\n",
        "\n",
        "result = dataset.map(lambda x:x + 1)\n",
        "\n",
        "result"
      ],
      "execution_count": null,
      "outputs": [
        {
          "output_type": "execute_result",
          "data": {
            "text/plain": [
              "<MapDataset shapes: (), types: tf.int64>"
            ]
          },
          "metadata": {
            "tags": []
          },
          "execution_count": 23
        }
      ]
    },
    {
      "cell_type": "code",
      "metadata": {
        "id": "FcwzArdpuzad",
        "colab": {
          "base_uri": "https://localhost:8080/",
          "height": 35
        },
        "outputId": "3e43bdf0-0d07-4975-88d8-dc50826cb6fe"
      },
      "source": [
        "elements = [(1, 'one'), (2, 'two'), (3, 'three')]\n",
        "dataset = Dataset.from_generator(lambda: elements, (tf.int32, tf.string))\n",
        "\n",
        "result = dataset.map(lambda x_int, y_str: x_int)\n",
        "list(result.as_numpy_iterator())"
      ],
      "execution_count": null,
      "outputs": [
        {
          "output_type": "execute_result",
          "data": {
            "text/plain": [
              "[1, 2, 3]"
            ]
          },
          "metadata": {
            "tags": []
          },
          "execution_count": 24
        }
      ]
    },
    {
      "cell_type": "code",
      "metadata": {
        "id": "Tleeqc_GuzUX",
        "colab": {
          "base_uri": "https://localhost:8080/",
          "height": 52
        },
        "outputId": "3a189285-02f8-413b-d899-f742f11ec9ea"
      },
      "source": [
        "dataset = Dataset.range(3)\n",
        "\n",
        "def g(x):\n",
        "  return tf.constant(10.5), tf.constant([\"One\", \"Two\", \"Three\"])\n",
        "\n",
        "result = dataset.map(g)\n",
        "result.element_spec"
      ],
      "execution_count": null,
      "outputs": [
        {
          "output_type": "execute_result",
          "data": {
            "text/plain": [
              "(TensorSpec(shape=(), dtype=tf.float32, name=None),\n",
              " TensorSpec(shape=(3,), dtype=tf.string, name=None))"
            ]
          },
          "metadata": {
            "tags": []
          },
          "execution_count": 25
        }
      ]
    },
    {
      "cell_type": "code",
      "metadata": {
        "id": "0aRvH0yR0H1H",
        "colab": {
          "base_uri": "https://localhost:8080/",
          "height": 70
        },
        "outputId": "33bbb919-d7ea-4adc-c775-3917f9a53146"
      },
      "source": [
        "def h(x):\n",
        "  return 10.5, [\"One\", \"Two\", \"Three\"], np.array([1.0, 2.0], dtype=np.float64)\n",
        "\n",
        "result = dataset.map(h)\n",
        "result.element_spec"
      ],
      "execution_count": null,
      "outputs": [
        {
          "output_type": "execute_result",
          "data": {
            "text/plain": [
              "(TensorSpec(shape=(), dtype=tf.float32, name=None),\n",
              " TensorSpec(shape=(3,), dtype=tf.string, name=None),\n",
              " TensorSpec(shape=(2,), dtype=tf.float64, name=None))"
            ]
          },
          "metadata": {
            "tags": []
          },
          "execution_count": 27
        }
      ]
    },
    {
      "cell_type": "code",
      "metadata": {
        "id": "YxvOUl4u0HxH",
        "colab": {
          "base_uri": "https://localhost:8080/",
          "height": 88
        },
        "outputId": "d912f17f-2e8d-4889-cedb-59b578691970"
      },
      "source": [
        "def i(x):\n",
        "  return (10.5, [12.5, 11.1]), \"One\", \"Two\"\n",
        "\n",
        "result = dataset.map(i)\n",
        "result.element_spec"
      ],
      "execution_count": null,
      "outputs": [
        {
          "output_type": "execute_result",
          "data": {
            "text/plain": [
              "((TensorSpec(shape=(), dtype=tf.float32, name=None),\n",
              "  TensorSpec(shape=(2,), dtype=tf.float32, name=None)),\n",
              " TensorSpec(shape=(), dtype=tf.string, name=None),\n",
              " TensorSpec(shape=(), dtype=tf.string, name=None))"
            ]
          },
          "metadata": {
            "tags": []
          },
          "execution_count": 28
        }
      ]
    },
    {
      "cell_type": "code",
      "metadata": {
        "id": "LeKdClAA0Vjy",
        "colab": {
          "base_uri": "https://localhost:8080/",
          "height": 35
        },
        "outputId": "873dd89a-7076-44dc-e71b-a084890abf2e"
      },
      "source": [
        "dataset = Dataset.from_tensor_slices([1, 2, 3, 4, 5, 6, 7, 8, 9])\n",
        "dataset = dataset.filter(lambda x:x <5)\n",
        "list(dataset.as_numpy_iterator())"
      ],
      "execution_count": null,
      "outputs": [
        {
          "output_type": "execute_result",
          "data": {
            "text/plain": [
              "[1, 2]"
            ]
          },
          "metadata": {
            "tags": []
          },
          "execution_count": 29
        }
      ]
    },
    {
      "cell_type": "code",
      "metadata": {
        "id": "mnMR0g6Y0X8g",
        "colab": {
          "base_uri": "https://localhost:8080/",
          "height": 35
        },
        "outputId": "a2c7ac08-b7b5-42e2-cbb4-829f7525558c"
      },
      "source": [
        "def filter_fn(x):\n",
        "  return tf.math.equal(x, 1)\n",
        "\n",
        "dataset = dataset.filter(filter_fn)\n",
        "list(dataset.as_numpy_iterator())"
      ],
      "execution_count": null,
      "outputs": [
        {
          "output_type": "execute_result",
          "data": {
            "text/plain": [
              "[1]"
            ]
          },
          "metadata": {
            "tags": []
          },
          "execution_count": 30
        }
      ]
    },
    {
      "cell_type": "markdown",
      "metadata": {
        "id": "MZlHtx9HiBnw"
      },
      "source": [
        "### shuffle, take"
      ]
    },
    {
      "cell_type": "code",
      "metadata": {
        "id": "yVjGXd0Zg3MV",
        "colab": {
          "base_uri": "https://localhost:8080/",
          "height": 357,
          "referenced_widgets": [
            "6267a4a3892d4f57bfe33da76ed74450",
            "d0d050837a0d4ab5a7db33e84a61dc30",
            "b57ebe5783514bfa88aa5f3c59c74d68",
            "fe11743f6c964e8c8c7ed75cc9244dd9",
            "81545288258f41f3bf99b5060aff33b1",
            "ded704d7aaa5443cb26b86e52d6f6ec3",
            "c6f761974221450da939d0d5e1a99251",
            "4741d8add504474da3cf379fb727af06",
            "348f3b37d80a4aa1a7e590725efc32b3",
            "6d259fb26543474e9147574bc18632c8",
            "c6f58315c3684cae8a13824439d3e19c",
            "b9940fa749ed44d5b64b4d5ff5a48c46",
            "e9729a6689bb41d29c1a57443704a7cf",
            "2ebd3240c5024cbe82e8feec15950f12",
            "c1022a284ea741128eac795bf622a1e5",
            "f2a4f04ce95144e39457f81acf8718ef",
            "9399830e0d564a9886742bd1999fc3e6",
            "1807e6d1a8f44bcc8c11884a690072bb",
            "4bc67635b0d64b398d6095fb4641226d",
            "ca49c19447f046e78fbc28858e998162",
            "0e9de8a28c9a4cdcba778b2a18f5cddb",
            "1ae0950f353945efbf5fe71a97f82c3b",
            "79e3923d00314a84a0012474c1b68887",
            "4264ec95c6d0460fa8dc7399fc945aaf",
            "ddfcc9f9ebed4af0850d9b3d15d87686",
            "143ad5442f5846eeba3a57a50d83f9ff",
            "b5aded2143714a538e12b82479f351d3",
            "7e75dc9268ad4c28893ddc5618cec77e",
            "a822c97ea97e463f8f66aec4cc07ba5c",
            "dde20244ebc644a4bc84bafc54633f73",
            "7f17c574c1c44f72ac2efda05ee4477d",
            "7726bbd502434286b87349af8d70499e",
            "41f8c586f8054a47b8d8ea627a0c40c7",
            "6f94b30d05c24a61b95d3e1ba489f93b",
            "751debbb7bcf4b3186d190f7d7ff80ca",
            "2a81e4a7fb9a4d888fde00be8a5b974b",
            "8d3cae26cb474876aae4a31d6cda7ea8",
            "6a405e852994409392af6e49c3b8a6e1",
            "dae99c293a774479912a9e629ea75eb2",
            "a2f18a28c3b748c6b15677e9e8341fe0",
            "05e8cf6fb0cc422ba01fc2609e1506a5",
            "bbdaa32417fd426db2d294e59779f4c6",
            "ccfd21eb50414c7986545bcb18e248c2",
            "6b39ce64e0fe49f59c24ca44ccb3cee5",
            "6ffc2fa1c4094da782df23f0f9cbd8e6",
            "8e4774c1503140dc84f6be2a7d7fd5fc",
            "596b3d6ae64d4efa8f89797fec95b04e",
            "932a470f2d404f6bab1c553a1e1069bd",
            "acdc4fbc7e24467eadd9b473e6b6fb5a",
            "6766f044f4ff470fbc262f8b025617e0",
            "8e7ebefa16c04e6ca5ac9e092df9f35c",
            "1188bfb70ad64b86ac3875a9e8991f60",
            "f8e25a23f42f4b6ca675ef3faeba21eb",
            "7bbc56c3d8724708a14e81ece55d27d7",
            "1ae4b4e2f67e4a6aa30a7a1e4e0a4244",
            "ccaf27a658344fa89804dcad5b473897",
            "b3e8e38d7d914931bcd27c6867bda910",
            "63a475be8f75414b813fd7d2928747a7",
            "fc8ef2dfb3c74edaa741533c26617fa9",
            "291ca86bcbe0474bb17c1e7c89628390",
            "38850a3b4e234d6cbfe45d114d083414",
            "fccef73324c9415db3677ae4f884e07c",
            "d7f1287b8b2a4ad8bf5fd3da2860f372",
            "51251f9b0c1b48d0b590efd7ec1f859f"
          ]
        },
        "outputId": "554ff4bc-ba9d-437a-a6fe-16e431c35bed"
      },
      "source": [
        "dataset, info = tfds.load('imdb_reviews', with_info=True, as_supervised=True)"
      ],
      "execution_count": null,
      "outputs": [
        {
          "output_type": "stream",
          "text": [
            "\u001b[1mDownloading and preparing dataset imdb_reviews/plain_text/1.0.0 (download: 80.23 MiB, generated: Unknown size, total: 80.23 MiB) to /root/tensorflow_datasets/imdb_reviews/plain_text/1.0.0...\u001b[0m\n"
          ],
          "name": "stdout"
        },
        {
          "output_type": "display_data",
          "data": {
            "application/vnd.jupyter.widget-view+json": {
              "model_id": "6267a4a3892d4f57bfe33da76ed74450",
              "version_minor": 0,
              "version_major": 2
            },
            "text/plain": [
              "HBox(children=(FloatProgress(value=1.0, bar_style='info', description='Dl Completed...', max=1.0, style=Progre…"
            ]
          },
          "metadata": {
            "tags": []
          }
        },
        {
          "output_type": "display_data",
          "data": {
            "application/vnd.jupyter.widget-view+json": {
              "model_id": "348f3b37d80a4aa1a7e590725efc32b3",
              "version_minor": 0,
              "version_major": 2
            },
            "text/plain": [
              "HBox(children=(FloatProgress(value=1.0, bar_style='info', description='Dl Size...', max=1.0, style=ProgressSty…"
            ]
          },
          "metadata": {
            "tags": []
          }
        },
        {
          "output_type": "stream",
          "text": [
            "\n",
            "\n",
            "\n",
            "\n"
          ],
          "name": "stdout"
        },
        {
          "output_type": "display_data",
          "data": {
            "application/vnd.jupyter.widget-view+json": {
              "model_id": "9399830e0d564a9886742bd1999fc3e6",
              "version_minor": 0,
              "version_major": 2
            },
            "text/plain": [
              "HBox(children=(FloatProgress(value=1.0, bar_style='info', max=1.0), HTML(value='')))"
            ]
          },
          "metadata": {
            "tags": []
          }
        },
        {
          "output_type": "stream",
          "text": [
            "\rShuffling and writing examples to /root/tensorflow_datasets/imdb_reviews/plain_text/1.0.0.incomplete5YE21F/imdb_reviews-train.tfrecord\n"
          ],
          "name": "stdout"
        },
        {
          "output_type": "display_data",
          "data": {
            "application/vnd.jupyter.widget-view+json": {
              "model_id": "ddfcc9f9ebed4af0850d9b3d15d87686",
              "version_minor": 0,
              "version_major": 2
            },
            "text/plain": [
              "HBox(children=(FloatProgress(value=0.0, max=25000.0), HTML(value='')))"
            ]
          },
          "metadata": {
            "tags": []
          }
        },
        {
          "output_type": "stream",
          "text": [
            "\r"
          ],
          "name": "stdout"
        },
        {
          "output_type": "display_data",
          "data": {
            "application/vnd.jupyter.widget-view+json": {
              "model_id": "41f8c586f8054a47b8d8ea627a0c40c7",
              "version_minor": 0,
              "version_major": 2
            },
            "text/plain": [
              "HBox(children=(FloatProgress(value=1.0, bar_style='info', max=1.0), HTML(value='')))"
            ]
          },
          "metadata": {
            "tags": []
          }
        },
        {
          "output_type": "stream",
          "text": [
            "\rShuffling and writing examples to /root/tensorflow_datasets/imdb_reviews/plain_text/1.0.0.incomplete5YE21F/imdb_reviews-test.tfrecord\n"
          ],
          "name": "stdout"
        },
        {
          "output_type": "display_data",
          "data": {
            "application/vnd.jupyter.widget-view+json": {
              "model_id": "05e8cf6fb0cc422ba01fc2609e1506a5",
              "version_minor": 0,
              "version_major": 2
            },
            "text/plain": [
              "HBox(children=(FloatProgress(value=0.0, max=25000.0), HTML(value='')))"
            ]
          },
          "metadata": {
            "tags": []
          }
        },
        {
          "output_type": "stream",
          "text": [
            "\r"
          ],
          "name": "stdout"
        },
        {
          "output_type": "display_data",
          "data": {
            "application/vnd.jupyter.widget-view+json": {
              "model_id": "acdc4fbc7e24467eadd9b473e6b6fb5a",
              "version_minor": 0,
              "version_major": 2
            },
            "text/plain": [
              "HBox(children=(FloatProgress(value=1.0, bar_style='info', max=1.0), HTML(value='')))"
            ]
          },
          "metadata": {
            "tags": []
          }
        },
        {
          "output_type": "stream",
          "text": [
            "\rShuffling and writing examples to /root/tensorflow_datasets/imdb_reviews/plain_text/1.0.0.incomplete5YE21F/imdb_reviews-unsupervised.tfrecord\n"
          ],
          "name": "stdout"
        },
        {
          "output_type": "display_data",
          "data": {
            "application/vnd.jupyter.widget-view+json": {
              "model_id": "b3e8e38d7d914931bcd27c6867bda910",
              "version_minor": 0,
              "version_major": 2
            },
            "text/plain": [
              "HBox(children=(FloatProgress(value=0.0, max=50000.0), HTML(value='')))"
            ]
          },
          "metadata": {
            "tags": []
          }
        },
        {
          "output_type": "stream",
          "text": [
            "\u001b[1mDataset imdb_reviews downloaded and prepared to /root/tensorflow_datasets/imdb_reviews/plain_text/1.0.0. Subsequent calls will reuse this data.\u001b[0m\n",
            "\r"
          ],
          "name": "stdout"
        }
      ]
    },
    {
      "cell_type": "code",
      "metadata": {
        "id": "aIYeC8XMg3JR",
        "colab": {
          "base_uri": "https://localhost:8080/",
          "height": 286
        },
        "outputId": "f16ab962-f140-451b-bf94-4e052be0f107"
      },
      "source": [
        "train_dataset = dataset['train']\n",
        "train_dataset = train_dataset.batch(5).shuffle(5).take(2)\n",
        "\n",
        "for data in train_dataset:\n",
        "  print(data)"
      ],
      "execution_count": null,
      "outputs": [
        {
          "output_type": "stream",
          "text": [
            "(<tf.Tensor: shape=(5,), dtype=string, numpy=\n",
            "array([b\"This was an absolutely terrible movie. Don't be lured in by Christopher Walken or Michael Ironside. Both are great actors, but this must simply be their worst role in history. Even their great acting could not redeem this movie's ridiculous storyline. This movie is an early nineties US propaganda piece. The most pathetic scenes were those when the Columbian rebels were making their cases for revolutions. Maria Conchita Alonso appeared phony, and her pseudo-love affair with Walken was nothing but a pathetic emotional plug in a movie that was devoid of any real meaning. I am disappointed that there are movies like this, ruining actor's like Christopher Walken's good name. I could barely sit through it.\",\n",
            "       b'I have been known to fall asleep during films, but this is usually due to a combination of things including, really tired, being warm and comfortable on the sette and having just eaten a lot. However on this occasion I fell asleep because the film was rubbish. The plot development was constant. Constantly slow and boring. Things seemed to happen, but with no explanation of what was causing them or why. I admit, I may have missed part of the film, but i watched the majority of it and everything just seemed to happen of its own accord without any real concern for anything else. I cant recommend this film at all.',\n",
            "       b'Mann photographs the Alberta Rocky Mountains in a superb fashion, and Jimmy Stewart and Walter Brennan give enjoyable performances as they always seem to do. <br /><br />But come on Hollywood - a Mountie telling the people of Dawson City, Yukon to elect themselves a marshal (yes a marshal!) and to enforce the law themselves, then gunfighters battling it out on the streets for control of the town? <br /><br />Nothing even remotely resembling that happened on the Canadian side of the border during the Klondike gold rush. Mr. Mann and company appear to have mistaken Dawson City for Deadwood, the Canadian North for the American Wild West.<br /><br />Canadian viewers be prepared for a Reefer Madness type of enjoyable howl with this ludicrous plot, or, to shake your head in disgust.',\n",
            "       b'This is the kind of film for a snowy Sunday afternoon when the rest of the world can go ahead with its own business as you descend into a big arm-chair and mellow for a couple of hours. Wonderful performances from Cher and Nicolas Cage (as always) gently row the plot along. There are no rapids to cross, no dangerous waters, just a warm and witty paddle through New York life at its best. A family film in every sense and one that deserves the praise it received.',\n",
            "       b'As others have mentioned, all the women that go nude in this film are mostly absolutely gorgeous. The plot very ably shows the hypocrisy of the female libido. When men are around they want to be pursued, but when no \"men\" are around, they become the pursuers of a 14 year old boy. And the boy becomes a man really fast (we should all be so lucky at this age!). He then gets up the courage to pursue his true love.'],\n",
            "      dtype=object)>, <tf.Tensor: shape=(5,), dtype=int64, numpy=array([0, 0, 0, 1, 1])>)\n",
            "(<tf.Tensor: shape=(5,), dtype=string, numpy=\n",
            "array([b'During a sleepless night, I was switching through the channels & found this embarrassment of a movie. What were they thinking?<br /><br />If this is life after \"Remote Control\" for Kari (Wuhrer) Salin, no wonder she\\'s gone nowhere.<br /><br />And why did David Keith take this role? It\\'s pathetic!<br /><br />Anyway, I turned on the movie near the end, so I didn\\'t get much of the plot. But this must\\'ve been the best part. This nerdy college kid brings home this dominatrix-ish girl...this scene is straight out of the comic books -- or the cheap porn movies. She calls the mother anal retentive and kisses the father \"Oh, I didn\\'t expect tongue!\" Great lines!<br /><br />After this, I had to see how it ended..<br /><br />Well, of course, this bitch from hell has a helluva past, so the SWAT team is upstairs. And yes...they surround her! And YES YES! The kid blows her brains out!!!! AHAHHAHAHAHA!!<br /><br />This is must-see TV. <br /><br />',\n",
            "       b'Cute film about three lively sisters from Switzerland (often seen running about in matching outfits) who want to get their parents back together (seems mom is still carrying the torch for dad) - so they sail off to New York to stop the dad from marrying a blonde gold-digger he calls \"Precious\". Dad hasn\\'t seen his daughters in ten years, they (oddly enough) don\\'t seem to mind and think he\\'s wonderful, and meanwhile Precious seems to lead a life mainly run by her overbearing mother (Alice Brady), a woman who just wants to see to it her daughter marries a rich man. The sisters get the idea of pushing Precious into the path of a drunken Hungarian count, tricking the two gold-digging women into thinking he is one of the richest men in Europe. But a case of mistaken identity makes the girls think the count is good-looking Ray Milland, who goes along with the scheme \\'cause he has a crush on sister Kay.<br /><br />This film is enjoyable, light fare. Barbara Read as Kay comes across as sweet and pretty, Ray Milland looks oh so young and handsome here (though, unfortunately, is given little to do), Alice Brady is quite good as the scheming mother - but it is Deanna Durbin, a real charmer and cute as a button playing youngest sister Penny, who pretty much steals the show. With absolutely beautiful vocals, she sings several songs throughout the film, though I actually would have liked to have seen them feature her even more in this. The plot in this film is a bit silly, but nevertheless, I found the film to be entertaining and fun.',\n",
            "       b\"This 1984 version of the Dickens' classic `A Christmas Carol,' directed by Clive Donner, stars George C. Scott as Ebenezer Scrooge. By this time around, the challenge for the filmmaker was to take such familiar material and make it seem fresh and new again; and, happily to say, with this film Donner not only met the challenge but surpassed any expectations anyone might have had for it. He tells the story with precision and an eye to detail, and extracts performances from his actors that are nothing less than superlative, especially Scott. One could argue that the definitive portrayal of Scrooge-- one of the best known characters in literary fiction, ever-- was created by Alastair Sim in the 1951 film; but I think with his performance here, Scott has now achieved that distinction. There is such a purity and honesty in his Scrooge that it becomes difficult to even consider anyone else in the role once you've seen Scott do it; simply put, he IS Scrooge. And what a tribute it is to such a gifted actor; to be able to take such a well known figure and make it so uniquely his own is quite miraculous. It is truly a joy to see an actor ply his trade so well, to be able to make a character so real, from every word he utters down to the finest expression of his face, and to make it all ring so true. It's a study in perfection.<br /><br />The other members of the cast are splendid as well, but then again they have to be in order to maintain the integrity of Scott's performance; and they do. Frank Finlay is the Ghost of Jacob Marley; a notable turn, though not as memorable, perhaps, as the one by Alec Guinness (as Marley) in the film, `Scrooge.' Angela Pleasence is a welcome visage as the Spirit of Christmas Past; Edward Woodward, grand and boisterous, and altogether convincing as the Spirit of Christmas Present; and Michael Carter, grim and menacing as the Spirit of Christmas Yet To Come.<br /><br />David Warner hits just the right mark with his Bob Cratchit, bringing a sincerity to the role that measures up well to the standard of quality set by Scott's Scrooge, and Susannah York fares just as well as Mrs. Cratchit. The real gem to be found here, though, is the performance of young Anthony Walters as Tiny Tim; it's heartfelt without ever becoming maudlin, and simply one of the best interpretations-- and the most real-- ever presented on film.<br /><br />The excellent supporting cast includes Roger Rees (Fred Holywell, and also the narrator of the film), Caroline Langrishe (Janet Holywell), Lucy Gutteridge (Belle), Michael Gough (Mr. Poole) and Joanne Whalley (Fan). A flawless presentation, this version of `A Christmas Carol' sets the standard against which all others must be gauged; no matter how many versions you may have seen, watching this one is like seeing it for the first time ever. And forever after, whenever you think of Scrooge, the image your mind will conjure up will be that of George C. Scott. A thoroughly entertaining and satisfying experience, this film demands a place in the annual schedule of the holiday festivities of every home. I rate this one 10/10.\",\n",
            "       b'Put the blame on executive producer Wes Craven and financiers the Weinsteins for this big-budget debacle: a thrash-metal updating of \"Dracula\", with a condescending verbal jab at Bram Stoker (who probably wouldn\\'t want his name on this thing anyway) and nothing much for the rest of us except slasher-styled jolts and gore. Christopher Plummer looks winded as Van Helsing in the modern-day--not just a descendant of Van Helsing but the real thing; he keeps himself going with leeches obtained from Count Dracula\\'s corpse, which is exhumed from its coffin after being stolen from Van Helsing\\'s vault and flown to New Orleans. This is just what New Orleans needs in the 21st Century! The film, well-produced but without a single original idea (except for multi-racial victims), is both repulsive and lazy, and after about an hour starts repeating itself. * from ****',\n",
            "       b'Hilarious, evocative, confusing, brilliant film. Reminds me of Bunuel\\'s L\\'Age D\\'Or or Jodorowsky\\'s Holy Mountain-- lots of strange characters mucking about and looking for..... what is it? I laughed almost the whole way through, all the while keeping a peripheral eye on the bewildered and occasionally horrified reactions of the audience that surrounded me in the theatre. Entertaining through and through, from the beginning to the guts and poisoned entrails all the way to the end, if it was an end. I only wish i could remember every detail. It haunts me sometimes.<br /><br />Honestly, though, i have only the most positive recollections of this film. As it doesn\\'t seem to be available to take home and watch, i suppose i\\'ll have to wait a few more years until Crispin Glover comes my way again with his Big Slide Show (and subsequent \"What is it?\" screening)... I saw this film in Atlanta almost directly after being involved in a rather devastating car crash, so i was slightly dazed at the time, which was perhaps a very good state of mind to watch the prophetic talking arthropods and the retards in the superhero costumes and godlike Glover in his appropriate burly-Q setting, scantily clad girlies rising out of the floor like a magnificent DADAist wet dream.<br /><br />Is it a statement on Life As We Know It? Of course everyone EXPECTS art to be just that. I rather think that the truth is more evident in the absences and in the negative space. What you don\\'t tell us is what we must deduce, but is far more valid than the lies that other people feed us day in and day out. Rather one \"WHAT IS IT?\" than 5000 movies like \"Titanic\" or \"Sleepless in Seattle\" (shudder, gag, groan).<br /><br />Thank you, Mr. Glover (additionally a fun man to watch on screen or at his Big Slide Show-- smart, funny, quirky, and outrageously hot). Make more films, write more books, keep the nightmare alive.'],\n",
            "      dtype=object)>, <tf.Tensor: shape=(5,), dtype=int64, numpy=array([0, 1, 1, 0, 1])>)\n"
          ],
          "name": "stdout"
        }
      ]
    },
    {
      "cell_type": "markdown",
      "metadata": {
        "id": "4OqOaYk6k7wy"
      },
      "source": [
        "### get_next()"
      ]
    },
    {
      "cell_type": "code",
      "metadata": {
        "id": "m57rjJsskp8t",
        "colab": {
          "base_uri": "https://localhost:8080/",
          "height": 52
        },
        "outputId": "553e1c18-3fed-4846-9efe-3e1157662f1c"
      },
      "source": [
        "dataset = Dataset.range(2)\n",
        "for element in dataset:\n",
        "  print(element)"
      ],
      "execution_count": null,
      "outputs": [
        {
          "output_type": "stream",
          "text": [
            "tf.Tensor(0, shape=(), dtype=int64)\n",
            "tf.Tensor(1, shape=(), dtype=int64)\n"
          ],
          "name": "stdout"
        }
      ]
    },
    {
      "cell_type": "code",
      "metadata": {
        "id": "vitlC-JCkp4U",
        "colab": {
          "base_uri": "https://localhost:8080/",
          "height": 70
        },
        "outputId": "4733df07-b707-4d91-cf8a-f5d4ab97ec94"
      },
      "source": [
        "dataset = Dataset.range(2)\n",
        "iterator = iter(dataset)\n",
        "\n",
        "print(dataset)\n",
        "print(iterator.get_next())\n",
        "print(iterator.get_next())"
      ],
      "execution_count": null,
      "outputs": [
        {
          "output_type": "stream",
          "text": [
            "<RangeDataset shapes: (), types: tf.int64>\n",
            "tf.Tensor(0, shape=(), dtype=int64)\n",
            "tf.Tensor(1, shape=(), dtype=int64)\n"
          ],
          "name": "stdout"
        }
      ]
    },
    {
      "cell_type": "code",
      "metadata": {
        "id": "6o4XRcpLg3Fm",
        "colab": {
          "base_uri": "https://localhost:8080/",
          "height": 70
        },
        "outputId": "73bcf0bf-02bc-466f-b351-889ca31d13ed"
      },
      "source": [
        "a = np.random.randint(0, 10, size=(2, 3))\n",
        "print(a)\n",
        "\n",
        "dataset = Dataset.from_tensor_slices(a)\n",
        "iterator = iter(dataset)\n",
        "\n",
        "print(iterator.get_next())"
      ],
      "execution_count": null,
      "outputs": [
        {
          "output_type": "stream",
          "text": [
            "[[6 7 5]\n",
            " [9 8 7]]\n",
            "tf.Tensor([6 7 5], shape=(3,), dtype=int64)\n"
          ],
          "name": "stdout"
        }
      ]
    },
    {
      "cell_type": "markdown",
      "metadata": {
        "id": "oAK97VN4JObZ"
      },
      "source": [
        "## tf.dataset을 이용한 Fashion-MNIST 분류"
      ]
    },
    {
      "cell_type": "markdown",
      "metadata": {
        "id": "8FyGWr9h5s9m"
      },
      "source": [
        "### modules import"
      ]
    },
    {
      "cell_type": "code",
      "metadata": {
        "id": "wtumZQhkobI5"
      },
      "source": [
        "import matplotlib.pyplot as plt\n",
        "plt.style.use('seaborn-white')\n",
        "\n",
        "import tensorflow as tf\n",
        "from tensorflow.keras.layers import Dense, Input, Flatten, Dropout, Activation, BatchNormalization\n",
        "from tensorflow.keras.models import Model\n",
        "from tensorflow.keras.datasets.fashion_mnist import load_data"
      ],
      "execution_count": null,
      "outputs": []
    },
    {
      "cell_type": "markdown",
      "metadata": {
        "id": "VOTtgNwc3R6f"
      },
      "source": [
        "### 데이터 로드"
      ]
    },
    {
      "cell_type": "code",
      "metadata": {
        "id": "8434sHHjob1L",
        "colab": {
          "base_uri": "https://localhost:8080/",
          "height": 159
        },
        "outputId": "feec1f4f-f529-4013-f1b7-40ff779cd178"
      },
      "source": [
        "(x_train, y_train), (x_test, y_test) = load_data()"
      ],
      "execution_count": null,
      "outputs": [
        {
          "output_type": "stream",
          "text": [
            "Downloading data from https://storage.googleapis.com/tensorflow/tf-keras-datasets/train-labels-idx1-ubyte.gz\n",
            "32768/29515 [=================================] - 0s 0us/step\n",
            "Downloading data from https://storage.googleapis.com/tensorflow/tf-keras-datasets/train-images-idx3-ubyte.gz\n",
            "26427392/26421880 [==============================] - 0s 0us/step\n",
            "Downloading data from https://storage.googleapis.com/tensorflow/tf-keras-datasets/t10k-labels-idx1-ubyte.gz\n",
            "8192/5148 [===============================================] - 0s 0us/step\n",
            "Downloading data from https://storage.googleapis.com/tensorflow/tf-keras-datasets/t10k-images-idx3-ubyte.gz\n",
            "4423680/4422102 [==============================] - 0s 0us/step\n"
          ],
          "name": "stdout"
        }
      ]
    },
    {
      "cell_type": "code",
      "metadata": {
        "id": "bfxxi0TJ3kwq",
        "colab": {
          "base_uri": "https://localhost:8080/",
          "height": 88
        },
        "outputId": "f9209743-e477-4ed8-8971-65325820fd09"
      },
      "source": [
        "print(x_train.shape)\n",
        "print(y_train.shape)\n",
        "print(x_test.shape)\n",
        "print(y_test.shape)"
      ],
      "execution_count": null,
      "outputs": [
        {
          "output_type": "stream",
          "text": [
            "(60000, 28, 28)\n",
            "(60000,)\n",
            "(10000, 28, 28)\n",
            "(10000,)\n"
          ],
          "name": "stdout"
        }
      ]
    },
    {
      "cell_type": "markdown",
      "metadata": {
        "id": "PPR9OD1w3mBQ"
      },
      "source": [
        "### 데이터 전처리"
      ]
    },
    {
      "cell_type": "code",
      "metadata": {
        "id": "U3W43mhxob4P"
      },
      "source": [
        "x_train = x_train / 255.\n",
        "x_test = x_test / 255."
      ],
      "execution_count": null,
      "outputs": []
    },
    {
      "cell_type": "markdown",
      "metadata": {
        "id": "nm8NM-QX32sf"
      },
      "source": [
        "### tf.data 이용"
      ]
    },
    {
      "cell_type": "code",
      "metadata": {
        "id": "VC9howR-obaW"
      },
      "source": [
        "train_ds = Dataset.from_tensor_slices((x_train, y_train))\n",
        "train_ds = train_ds.shuffle(1000)\n",
        "train_ds = train_ds.batch(32)\n",
        "\n",
        "test_ds = Dataset.from_tensor_slices((x_test, y_test))\n",
        "test_ds = test_ds.batch(32)"
      ],
      "execution_count": null,
      "outputs": []
    },
    {
      "cell_type": "code",
      "metadata": {
        "id": "FkbVvnrU5Idc"
      },
      "source": [
        "class_names = ['T-shirt/top', 'Trouser', 'Pullover', 'Dress', 'Coat',\n",
        "               'Sendal', 'Shirt', 'Sneaker', 'Bag', \"Ankle boot\"]"
      ],
      "execution_count": null,
      "outputs": []
    },
    {
      "cell_type": "markdown",
      "metadata": {
        "id": "aXJEB1qg4eB0"
      },
      "source": [
        "### 데이터 확인"
      ]
    },
    {
      "cell_type": "code",
      "metadata": {
        "id": "COlETHf2obVD",
        "colab": {
          "base_uri": "https://localhost:8080/",
          "height": 537
        },
        "outputId": "80da80f2-4e27-4da2-aad0-20be7005f54d"
      },
      "source": [
        "for image, label in train_ds.take(2):\n",
        "  plt.title(\"{}\".format(class_names[label[0]]))\n",
        "  plt.imshow(image[0, :, :], cmap='gray')\n",
        "  plt.show()"
      ],
      "execution_count": null,
      "outputs": [
        {
          "output_type": "display_data",
          "data": {
            "image/png": "[encoded data removed]",
            "text/plain": [
              "<Figure size 432x288 with 1 Axes>"
            ]
          },
          "metadata": {
            "tags": []
          }
        },
        {
          "output_type": "display_data",
          "data": {
            "image/png": "[encoded data removed]",
            "text/plain": [
              "<Figure size 432x288 with 1 Axes>"
            ]
          },
          "metadata": {
            "tags": []
          }
        }
      ]
    },
    {
      "cell_type": "markdown",
      "metadata": {
        "id": "-2PTjY1D5g4L"
      },
      "source": [
        "### 모델 생성\n",
        "- 임의의 모델"
      ]
    },
    {
      "cell_type": "code",
      "metadata": {
        "id": "g29WUBIKobRN"
      },
      "source": [
        "def build_model():\n",
        "  input = Input(shape=(28, 28), name='input')\n",
        "  flatten = Flatten(input_shape=[28, 28], name='flatten')(input)\n",
        "  hidden1 = Dense(256, kernel_initializer='he_normal', name='hidden1')(flatten)\n",
        "  hidden1 = BatchNormalization()(hidden1)\n",
        "  hidden1 = Activation('relu')(hidden1)\n",
        "  dropout1 = Dropout(0.5)(hidden1)\n",
        "\n",
        "  hidden2 = Dense(100, kernel_initializer='he_normal', name='hidden2')(dropout1)\n",
        "  hidden2 = BatchNormalization()(hidden2)\n",
        "  hidden2 = Activation('relu')(hidden2)\n",
        "  dropout2 = Dropout(0.5)(hidden2)\n",
        "\n",
        "  hidden3 = Dense(100, kernel_initializer='he_normal', name='hidden3')(dropout2)\n",
        "  hidden3 = BatchNormalization()(hidden3)\n",
        "  hidden3 = Activation('relu')(hidden3)\n",
        "  dropout3 = Dropout(0.5)(hidden3)\n",
        "\n",
        "  hidden4 = Dense(50, kernel_initializer='he_normal', name='hidden4')(dropout3)\n",
        "  hidden4 = BatchNormalization()(hidden4)\n",
        "  hidden4 = Activation('relu')(hidden4)\n",
        "  dropout4 = Dropout(0.5)(hidden4)\n",
        "\n",
        "  output = Dense(10, activation='softmax', name='output')(dropout4)\n",
        "\n",
        "  model = Model(inputs=[input], outputs=output)\n",
        "\n",
        "  return model"
      ],
      "execution_count": null,
      "outputs": []
    },
    {
      "cell_type": "code",
      "metadata": {
        "id": "q7YYIDZq8iRN"
      },
      "source": [
        "model = build_model()"
      ],
      "execution_count": null,
      "outputs": []
    },
    {
      "cell_type": "code",
      "metadata": {
        "id": "qNlPrHBT9w-G",
        "colab": {
          "base_uri": "https://localhost:8080/",
          "height": 835
        },
        "outputId": "3ba41e43-a085-48b7-e377-bae68b7467de"
      },
      "source": [
        "model.summary()"
      ],
      "execution_count": null,
      "outputs": [
        {
          "output_type": "stream",
          "text": [
            "Model: \"functional_1\"\n",
            "_________________________________________________________________\n",
            "Layer (type)                 Output Shape              Param #   \n",
            "=================================================================\n",
            "input (InputLayer)           [(None, 28, 28)]          0         \n",
            "_________________________________________________________________\n",
            "flatten (Flatten)            (None, 784)               0         \n",
            "_________________________________________________________________\n",
            "hidden1 (Dense)              (None, 256)               200960    \n",
            "_________________________________________________________________\n",
            "batch_normalization (BatchNo (None, 256)               1024      \n",
            "_________________________________________________________________\n",
            "activation (Activation)      (None, 256)               0         \n",
            "_________________________________________________________________\n",
            "dropout (Dropout)            (None, 256)               0         \n",
            "_________________________________________________________________\n",
            "hidden2 (Dense)              (None, 100)               25700     \n",
            "_________________________________________________________________\n",
            "batch_normalization_1 (Batch (None, 100)               400       \n",
            "_________________________________________________________________\n",
            "activation_1 (Activation)    (None, 100)               0         \n",
            "_________________________________________________________________\n",
            "dropout_1 (Dropout)          (None, 100)               0         \n",
            "_________________________________________________________________\n",
            "hidden3 (Dense)              (None, 100)               10100     \n",
            "_________________________________________________________________\n",
            "batch_normalization_2 (Batch (None, 100)               400       \n",
            "_________________________________________________________________\n",
            "activation_2 (Activation)    (None, 100)               0         \n",
            "_________________________________________________________________\n",
            "dropout_2 (Dropout)          (None, 100)               0         \n",
            "_________________________________________________________________\n",
            "hidden4 (Dense)              (None, 50)                5050      \n",
            "_________________________________________________________________\n",
            "batch_normalization_3 (Batch (None, 50)                200       \n",
            "_________________________________________________________________\n",
            "activation_3 (Activation)    (None, 50)                0         \n",
            "_________________________________________________________________\n",
            "dropout_3 (Dropout)          (None, 50)                0         \n",
            "_________________________________________________________________\n",
            "output (Dense)               (None, 10)                510       \n",
            "=================================================================\n",
            "Total params: 244,344\n",
            "Trainable params: 243,332\n",
            "Non-trainable params: 1,012\n",
            "_________________________________________________________________\n"
          ],
          "name": "stdout"
        }
      ]
    },
    {
      "cell_type": "markdown",
      "metadata": {
        "id": "8noHcg8C6xMM"
      },
      "source": [
        "### 모델 컴파일\n",
        "- 평가(metrics)방식의 다른 방법\n",
        "  - `tf.keras.metrics.Mean`\n",
        "  - `tf.keras.metrics.SparseCategoricalAccuracy`\n",
        "\n",
        "- 위 두 방식을 사용하여 loss값을 좀 더 smooth하게 만들기(평균을 내는 방식)"
      ]
    },
    {
      "cell_type": "code",
      "metadata": {
        "id": "gpjwC1pa7pvI"
      },
      "source": [
        "loss_object = tf.keras.losses.SparseCategoricalCrossentropy()\n",
        "optimizer = tf.keras.optimizers.Adam()"
      ],
      "execution_count": null,
      "outputs": []
    },
    {
      "cell_type": "code",
      "metadata": {
        "id": "DSA2H53-6967"
      },
      "source": [
        "train_loss = tf.keras.metrics.Mean(name='train_loss')\n",
        "train_accuracy = tf.keras.metrics.SparseCategoricalAccuracy(name='train_accuracy')\n",
        "\n",
        "test_loss = tf.keras.metrics.Mean(name='test_loss')\n",
        "test_accuracy = tf.keras.metrics.SparseCategoricalAccuracy(name='test_accuracy')"
      ],
      "execution_count": null,
      "outputs": []
    },
    {
      "cell_type": "markdown",
      "metadata": {
        "id": "1uC7KjrU6WqL"
      },
      "source": [
        "### 모델 학습"
      ]
    },
    {
      "cell_type": "markdown",
      "metadata": {
        "id": "ZTF2mvFYRoj_"
      },
      "source": [
        "@tf.function 으로 인해 학습이 시작되면 그래프를 생성하여 속도가 빠름\n"
      ]
    },
    {
      "cell_type": "code",
      "metadata": {
        "id": "rRw0DDmqobEv"
      },
      "source": [
        "@tf.function\n",
        "def train_step(images, labels):\n",
        "  with tf.GradientTape() as tape:\n",
        "    predictions = model(images)\n",
        "    loss = loss_object(labels, predictions)\n",
        "\n",
        "  gradients = tape.gradient(loss, model.trainable_veriables)\n",
        "  optimizer.apply_gradients(zip(gradients, model.trainable_variables))\n",
        "\n",
        "  train_loss(loss)\n",
        "  train_accuracy(labels, predictions)"
      ],
      "execution_count": null,
      "outputs": []
    },
    {
      "cell_type": "code",
      "metadata": {
        "id": "rKoMJ7iJobB_"
      },
      "source": [
        "@tf.function\n",
        "def test_step(images, labels):\n",
        "  predictions = model(images)\n",
        "  t_loss = loss_object(labels, predictions)\n",
        "\n",
        "  test_loss(t_loss)\n",
        "  test_accuracy(labels, predictions)"
      ],
      "execution_count": null,
      "outputs": []
    },
    {
      "cell_type": "code",
      "metadata": {
        "id": "L77nLbM0zhtD"
      },
      "source": [
        "epochs = 20\n",
        "\n",
        "for epoch in range(epochs):\n",
        "  for images, labels in train_ds:\n",
        "    train_step(images, labels)\n",
        "\n",
        "  for test_images, test_labels in test_ds:\n",
        "    test_step(test_images, test_labels)\n",
        "\n",
        "  template = \"Epochs: {:3d}\\tLoss: {:.4f}\\tAccuracy: {:.4f}\\tTest Loss: {:.4f}\\tTest Accuracy: {:.4f}\\t\"\n",
        "  print(template.format(epoch+1,\n",
        "                        train_loss.result(),\n",
        "                        train_accuracy.result()*100,\n",
        "                        test_loss.result(),\n",
        "                        test_accuracy.result()*100\n",
        "                        ))"
      ],
      "execution_count": null,
      "outputs": []
    },
    {
      "cell_type": "markdown",
      "metadata": {
        "id": "ZEUXDyCMKWRo"
      },
      "source": [
        "### 모델 학습 : 2번째 방법 (Keras)"
      ]
    },
    {
      "cell_type": "code",
      "metadata": {
        "id": "TRlqurJ_Mz6v"
      },
      "source": [
        "from sklearn.model_selection import train_test_split"
      ],
      "execution_count": null,
      "outputs": []
    },
    {
      "cell_type": "code",
      "metadata": {
        "id": "XGLv1B6-KiWK",
        "colab": {
          "base_uri": "https://localhost:8080/",
          "height": 941
        },
        "outputId": "4b4fef3e-07fc-42d1-af92-7152fb7d9e75"
      },
      "source": [
        "(x_train_full, y_train_full), (x_test, y_test) = load_data()\n",
        "\n",
        "x_train, x_val, y_train, y_val = train_test_split(x_train_full, y_train_full,\n",
        "                                                  test_size=0.3,\n",
        "                                                  random_state=777)\n",
        "\n",
        "x_train = x_train / 255.\n",
        "x_val = x_val / 255.\n",
        "x_test = x_test / 255.\n",
        "\n",
        "print(x_train.shape)\n",
        "print(y_train.shape)\n",
        "print(x_val.shape)\n",
        "print(y_val.shape)\n",
        "print(x_test.shape)\n",
        "print(y_test.shape)\n",
        "\n",
        "model = build_model()\n",
        "model.compile(optimizer='sgd',\n",
        "             loss='sparse_categorical_crossentropy',\n",
        "             metrics=['accuracy'])\n",
        "\n",
        "model.summary()"
      ],
      "execution_count": null,
      "outputs": [
        {
          "output_type": "stream",
          "text": [
            "(42000, 28, 28)\n",
            "(42000,)\n",
            "(18000, 28, 28)\n",
            "(18000,)\n",
            "(10000, 28, 28)\n",
            "(10000,)\n",
            "Model: \"functional_7\"\n",
            "_________________________________________________________________\n",
            "Layer (type)                 Output Shape              Param #   \n",
            "=================================================================\n",
            "input (InputLayer)           [(None, 28, 28)]          0         \n",
            "_________________________________________________________________\n",
            "flatten (Flatten)            (None, 784)               0         \n",
            "_________________________________________________________________\n",
            "hidden1 (Dense)              (None, 256)               200960    \n",
            "_________________________________________________________________\n",
            "batch_normalization_12 (Batc (None, 256)               1024      \n",
            "_________________________________________________________________\n",
            "activation_12 (Activation)   (None, 256)               0         \n",
            "_________________________________________________________________\n",
            "dropout_12 (Dropout)         (None, 256)               0         \n",
            "_________________________________________________________________\n",
            "hidden2 (Dense)              (None, 100)               25700     \n",
            "_________________________________________________________________\n",
            "batch_normalization_13 (Batc (None, 100)               400       \n",
            "_________________________________________________________________\n",
            "activation_13 (Activation)   (None, 100)               0         \n",
            "_________________________________________________________________\n",
            "dropout_13 (Dropout)         (None, 100)               0         \n",
            "_________________________________________________________________\n",
            "hidden3 (Dense)              (None, 100)               10100     \n",
            "_________________________________________________________________\n",
            "batch_normalization_14 (Batc (None, 100)               400       \n",
            "_________________________________________________________________\n",
            "activation_14 (Activation)   (None, 100)               0         \n",
            "_________________________________________________________________\n",
            "dropout_14 (Dropout)         (None, 100)               0         \n",
            "_________________________________________________________________\n",
            "hidden4 (Dense)              (None, 50)                5050      \n",
            "_________________________________________________________________\n",
            "batch_normalization_15 (Batc (None, 50)                200       \n",
            "_________________________________________________________________\n",
            "activation_15 (Activation)   (None, 50)                0         \n",
            "_________________________________________________________________\n",
            "dropout_15 (Dropout)         (None, 50)                0         \n",
            "_________________________________________________________________\n",
            "output (Dense)               (None, 10)                510       \n",
            "=================================================================\n",
            "Total params: 244,344\n",
            "Trainable params: 243,332\n",
            "Non-trainable params: 1,012\n",
            "_________________________________________________________________\n"
          ],
          "name": "stdout"
        }
      ]
    },
    {
      "cell_type": "markdown",
      "metadata": {
        "id": "xBBuYErFFj0b"
      },
      "source": [
        "5~6분 소요"
      ]
    },
    {
      "cell_type": "code",
      "metadata": {
        "id": "32TtgSsWLT-0"
      },
      "source": [
        "from tensorflow.keras.callbacks import EarlyStopping"
      ],
      "execution_count": null,
      "outputs": []
    },
    {
      "cell_type": "code",
      "metadata": {
        "id": "TYEmlqkGKZbH",
        "colab": {
          "base_uri": "https://localhost:8080/",
          "height": 1000
        },
        "outputId": "e70344d4-ec75-406b-cd7c-62c32531bd0c"
      },
      "source": [
        "early_stopping_cb = EarlyStopping(patience=3, monitor='val_loss',\n",
        "                                  restore_best_weights=True)\n",
        "\n",
        "history = model.fit(x_train, y_train,\n",
        "                    batch_size=256,\n",
        "                    epochs=200,\n",
        "                    shuffle=True,\n",
        "                    validation_data=(x_val, y_val),\n",
        "                    callbacks=[early_stopping_cb])"
      ],
      "execution_count": null,
      "outputs": [
        {
          "output_type": "stream",
          "text": [
            "Epoch 1/200\n",
            "165/165 [==============================] - 3s 15ms/step - loss: 2.5942 - accuracy: 0.1431 - val_loss: 1.9476 - val_accuracy: 0.4581\n",
            "Epoch 2/200\n",
            "165/165 [==============================] - 2s 14ms/step - loss: 2.2279 - accuracy: 0.2140 - val_loss: 1.6687 - val_accuracy: 0.5158\n",
            "Epoch 3/200\n",
            "165/165 [==============================] - 2s 14ms/step - loss: 2.0206 - accuracy: 0.2739 - val_loss: 1.4954 - val_accuracy: 0.5538\n",
            "Epoch 4/200\n",
            "165/165 [==============================] - 2s 14ms/step - loss: 1.8662 - accuracy: 0.3268 - val_loss: 1.3658 - val_accuracy: 0.5796\n",
            "Epoch 5/200\n",
            "165/165 [==============================] - 2s 14ms/step - loss: 1.7392 - accuracy: 0.3711 - val_loss: 1.2655 - val_accuracy: 0.6134\n",
            "Epoch 6/200\n",
            "165/165 [==============================] - 2s 14ms/step - loss: 1.6371 - accuracy: 0.4049 - val_loss: 1.1752 - val_accuracy: 0.6401\n",
            "Epoch 7/200\n",
            "165/165 [==============================] - 2s 14ms/step - loss: 1.5529 - accuracy: 0.4310 - val_loss: 1.1017 - val_accuracy: 0.6677\n",
            "Epoch 8/200\n",
            "165/165 [==============================] - 2s 14ms/step - loss: 1.4776 - accuracy: 0.4573 - val_loss: 1.0401 - val_accuracy: 0.6835\n",
            "Epoch 9/200\n",
            "165/165 [==============================] - 2s 14ms/step - loss: 1.4129 - accuracy: 0.4799 - val_loss: 0.9794 - val_accuracy: 0.6942\n",
            "Epoch 10/200\n",
            "165/165 [==============================] - 2s 14ms/step - loss: 1.3581 - accuracy: 0.4957 - val_loss: 0.9344 - val_accuracy: 0.7062\n",
            "Epoch 11/200\n",
            "165/165 [==============================] - 2s 14ms/step - loss: 1.3102 - accuracy: 0.5135 - val_loss: 0.8942 - val_accuracy: 0.7101\n",
            "Epoch 12/200\n",
            "165/165 [==============================] - 2s 14ms/step - loss: 1.2683 - accuracy: 0.5260 - val_loss: 0.8621 - val_accuracy: 0.7190\n",
            "Epoch 13/200\n",
            "165/165 [==============================] - 2s 14ms/step - loss: 1.2373 - accuracy: 0.5374 - val_loss: 0.8385 - val_accuracy: 0.7258\n",
            "Epoch 14/200\n",
            "165/165 [==============================] - 2s 14ms/step - loss: 1.2021 - accuracy: 0.5501 - val_loss: 0.8145 - val_accuracy: 0.7293\n",
            "Epoch 15/200\n",
            "165/165 [==============================] - 2s 14ms/step - loss: 1.1795 - accuracy: 0.5588 - val_loss: 0.7945 - val_accuracy: 0.7277\n",
            "Epoch 16/200\n",
            "165/165 [==============================] - 2s 14ms/step - loss: 1.1488 - accuracy: 0.5682 - val_loss: 0.7771 - val_accuracy: 0.7339\n",
            "Epoch 17/200\n",
            "165/165 [==============================] - 2s 14ms/step - loss: 1.1247 - accuracy: 0.5777 - val_loss: 0.7624 - val_accuracy: 0.7388\n",
            "Epoch 18/200\n",
            "165/165 [==============================] - 2s 14ms/step - loss: 1.0999 - accuracy: 0.5813 - val_loss: 0.7490 - val_accuracy: 0.7436\n",
            "Epoch 19/200\n",
            "165/165 [==============================] - 3s 15ms/step - loss: 1.0854 - accuracy: 0.5908 - val_loss: 0.7369 - val_accuracy: 0.7432\n",
            "Epoch 20/200\n",
            "165/165 [==============================] - 3s 16ms/step - loss: 1.0635 - accuracy: 0.5972 - val_loss: 0.7258 - val_accuracy: 0.7486\n",
            "Epoch 21/200\n",
            "165/165 [==============================] - 2s 15ms/step - loss: 1.0528 - accuracy: 0.6031 - val_loss: 0.7156 - val_accuracy: 0.7549\n",
            "Epoch 22/200\n",
            "165/165 [==============================] - 2s 14ms/step - loss: 1.0408 - accuracy: 0.6072 - val_loss: 0.7081 - val_accuracy: 0.7544\n",
            "Epoch 23/200\n",
            "165/165 [==============================] - 2s 14ms/step - loss: 1.0266 - accuracy: 0.6122 - val_loss: 0.7004 - val_accuracy: 0.7567\n",
            "Epoch 24/200\n",
            "165/165 [==============================] - 2s 14ms/step - loss: 1.0100 - accuracy: 0.6177 - val_loss: 0.6913 - val_accuracy: 0.7612\n",
            "Epoch 25/200\n",
            "165/165 [==============================] - 2s 14ms/step - loss: 0.9969 - accuracy: 0.6207 - val_loss: 0.6821 - val_accuracy: 0.7652\n",
            "Epoch 26/200\n",
            "165/165 [==============================] - 2s 14ms/step - loss: 0.9914 - accuracy: 0.6255 - val_loss: 0.6768 - val_accuracy: 0.7668\n",
            "Epoch 27/200\n",
            "165/165 [==============================] - 2s 14ms/step - loss: 0.9789 - accuracy: 0.6271 - val_loss: 0.6673 - val_accuracy: 0.7656\n",
            "Epoch 28/200\n",
            "165/165 [==============================] - 2s 14ms/step - loss: 0.9676 - accuracy: 0.6335 - val_loss: 0.6615 - val_accuracy: 0.7693\n",
            "Epoch 29/200\n",
            "165/165 [==============================] - 2s 14ms/step - loss: 0.9613 - accuracy: 0.6353 - val_loss: 0.6545 - val_accuracy: 0.7718\n",
            "Epoch 30/200\n",
            "165/165 [==============================] - 2s 14ms/step - loss: 0.9496 - accuracy: 0.6394 - val_loss: 0.6490 - val_accuracy: 0.7718\n",
            "Epoch 31/200\n",
            "165/165 [==============================] - 2s 14ms/step - loss: 0.9408 - accuracy: 0.6437 - val_loss: 0.6437 - val_accuracy: 0.7723\n",
            "Epoch 32/200\n",
            "165/165 [==============================] - 2s 14ms/step - loss: 0.9295 - accuracy: 0.6463 - val_loss: 0.6371 - val_accuracy: 0.7757\n",
            "Epoch 33/200\n",
            "165/165 [==============================] - 2s 14ms/step - loss: 0.9253 - accuracy: 0.6513 - val_loss: 0.6332 - val_accuracy: 0.7786\n",
            "Epoch 34/200\n",
            "165/165 [==============================] - 2s 14ms/step - loss: 0.9173 - accuracy: 0.6548 - val_loss: 0.6279 - val_accuracy: 0.7776\n",
            "Epoch 35/200\n",
            "165/165 [==============================] - 2s 14ms/step - loss: 0.9076 - accuracy: 0.6592 - val_loss: 0.6232 - val_accuracy: 0.7824\n",
            "Epoch 36/200\n",
            "165/165 [==============================] - 2s 14ms/step - loss: 0.8990 - accuracy: 0.6630 - val_loss: 0.6184 - val_accuracy: 0.7808\n",
            "Epoch 37/200\n",
            "165/165 [==============================] - 2s 14ms/step - loss: 0.8924 - accuracy: 0.6657 - val_loss: 0.6138 - val_accuracy: 0.7824\n",
            "Epoch 38/200\n",
            "165/165 [==============================] - 2s 14ms/step - loss: 0.8882 - accuracy: 0.6674 - val_loss: 0.6091 - val_accuracy: 0.7832\n",
            "Epoch 39/200\n",
            "165/165 [==============================] - 2s 14ms/step - loss: 0.8827 - accuracy: 0.6700 - val_loss: 0.6069 - val_accuracy: 0.7832\n",
            "Epoch 40/200\n",
            "165/165 [==============================] - 2s 14ms/step - loss: 0.8739 - accuracy: 0.6729 - val_loss: 0.6009 - val_accuracy: 0.7852\n",
            "Epoch 41/200\n",
            "165/165 [==============================] - 2s 14ms/step - loss: 0.8682 - accuracy: 0.6734 - val_loss: 0.5978 - val_accuracy: 0.7867\n",
            "Epoch 42/200\n",
            "165/165 [==============================] - 2s 14ms/step - loss: 0.8642 - accuracy: 0.6777 - val_loss: 0.5954 - val_accuracy: 0.7881\n",
            "Epoch 43/200\n",
            "165/165 [==============================] - 2s 14ms/step - loss: 0.8533 - accuracy: 0.6796 - val_loss: 0.5921 - val_accuracy: 0.7873\n",
            "Epoch 44/200\n",
            "165/165 [==============================] - 2s 14ms/step - loss: 0.8547 - accuracy: 0.6801 - val_loss: 0.5868 - val_accuracy: 0.7908\n",
            "Epoch 45/200\n",
            "165/165 [==============================] - 2s 14ms/step - loss: 0.8478 - accuracy: 0.6808 - val_loss: 0.5842 - val_accuracy: 0.7912\n",
            "Epoch 46/200\n",
            "165/165 [==============================] - 2s 14ms/step - loss: 0.8417 - accuracy: 0.6867 - val_loss: 0.5819 - val_accuracy: 0.7915\n",
            "Epoch 47/200\n",
            "165/165 [==============================] - 2s 14ms/step - loss: 0.8348 - accuracy: 0.6899 - val_loss: 0.5793 - val_accuracy: 0.7927\n",
            "Epoch 48/200\n",
            "165/165 [==============================] - 2s 14ms/step - loss: 0.8305 - accuracy: 0.6930 - val_loss: 0.5755 - val_accuracy: 0.7930\n",
            "Epoch 49/200\n",
            "165/165 [==============================] - 2s 14ms/step - loss: 0.8340 - accuracy: 0.6877 - val_loss: 0.5733 - val_accuracy: 0.7939\n",
            "Epoch 50/200\n",
            "165/165 [==============================] - 2s 14ms/step - loss: 0.8227 - accuracy: 0.6949 - val_loss: 0.5707 - val_accuracy: 0.7955\n",
            "Epoch 51/200\n",
            "165/165 [==============================] - 2s 14ms/step - loss: 0.8189 - accuracy: 0.6985 - val_loss: 0.5669 - val_accuracy: 0.7939\n",
            "Epoch 52/200\n",
            "165/165 [==============================] - 2s 14ms/step - loss: 0.8122 - accuracy: 0.6991 - val_loss: 0.5649 - val_accuracy: 0.7958\n",
            "Epoch 53/200\n",
            "165/165 [==============================] - 2s 14ms/step - loss: 0.8149 - accuracy: 0.6998 - val_loss: 0.5632 - val_accuracy: 0.7979\n",
            "Epoch 54/200\n",
            "165/165 [==============================] - 2s 14ms/step - loss: 0.8040 - accuracy: 0.7042 - val_loss: 0.5595 - val_accuracy: 0.7968\n",
            "Epoch 55/200\n",
            "165/165 [==============================] - 2s 14ms/step - loss: 0.7989 - accuracy: 0.7064 - val_loss: 0.5579 - val_accuracy: 0.7992\n",
            "Epoch 56/200\n",
            "165/165 [==============================] - 2s 14ms/step - loss: 0.7932 - accuracy: 0.7085 - val_loss: 0.5561 - val_accuracy: 0.7972\n",
            "Epoch 57/200\n",
            "165/165 [==============================] - 2s 14ms/step - loss: 0.7938 - accuracy: 0.7106 - val_loss: 0.5523 - val_accuracy: 0.7996\n",
            "Epoch 58/200\n",
            "165/165 [==============================] - 2s 14ms/step - loss: 0.7861 - accuracy: 0.7124 - val_loss: 0.5496 - val_accuracy: 0.8011\n",
            "Epoch 59/200\n",
            "165/165 [==============================] - 2s 14ms/step - loss: 0.7916 - accuracy: 0.7089 - val_loss: 0.5499 - val_accuracy: 0.8011\n",
            "Epoch 60/200\n",
            "165/165 [==============================] - 2s 14ms/step - loss: 0.7815 - accuracy: 0.7146 - val_loss: 0.5451 - val_accuracy: 0.8038\n",
            "Epoch 61/200\n",
            "165/165 [==============================] - 2s 14ms/step - loss: 0.7804 - accuracy: 0.7148 - val_loss: 0.5427 - val_accuracy: 0.8026\n",
            "Epoch 62/200\n",
            "165/165 [==============================] - 2s 14ms/step - loss: 0.7746 - accuracy: 0.7178 - val_loss: 0.5407 - val_accuracy: 0.8049\n",
            "Epoch 63/200\n",
            "165/165 [==============================] - 2s 14ms/step - loss: 0.7774 - accuracy: 0.7178 - val_loss: 0.5367 - val_accuracy: 0.8075\n",
            "Epoch 64/200\n",
            "165/165 [==============================] - 2s 14ms/step - loss: 0.7751 - accuracy: 0.7191 - val_loss: 0.5370 - val_accuracy: 0.8051\n",
            "Epoch 65/200\n",
            "165/165 [==============================] - 2s 14ms/step - loss: 0.7699 - accuracy: 0.7210 - val_loss: 0.5342 - val_accuracy: 0.8081\n",
            "Epoch 66/200\n",
            "165/165 [==============================] - 2s 14ms/step - loss: 0.7596 - accuracy: 0.7239 - val_loss: 0.5312 - val_accuracy: 0.8058\n",
            "Epoch 67/200\n",
            "165/165 [==============================] - 2s 14ms/step - loss: 0.7610 - accuracy: 0.7226 - val_loss: 0.5303 - val_accuracy: 0.8102\n",
            "Epoch 68/200\n",
            "165/165 [==============================] - 2s 14ms/step - loss: 0.7604 - accuracy: 0.7227 - val_loss: 0.5277 - val_accuracy: 0.8098\n",
            "Epoch 69/200\n",
            "165/165 [==============================] - 2s 14ms/step - loss: 0.7519 - accuracy: 0.7291 - val_loss: 0.5248 - val_accuracy: 0.8126\n",
            "Epoch 70/200\n",
            "165/165 [==============================] - 2s 14ms/step - loss: 0.7549 - accuracy: 0.7302 - val_loss: 0.5243 - val_accuracy: 0.8121\n",
            "Epoch 71/200\n",
            "165/165 [==============================] - 2s 14ms/step - loss: 0.7481 - accuracy: 0.7291 - val_loss: 0.5211 - val_accuracy: 0.8108\n",
            "Epoch 72/200\n",
            "165/165 [==============================] - 2s 14ms/step - loss: 0.7432 - accuracy: 0.7344 - val_loss: 0.5220 - val_accuracy: 0.8126\n",
            "Epoch 73/200\n",
            "165/165 [==============================] - 2s 14ms/step - loss: 0.7450 - accuracy: 0.7322 - val_loss: 0.5181 - val_accuracy: 0.8140\n",
            "Epoch 74/200\n",
            "165/165 [==============================] - 2s 14ms/step - loss: 0.7405 - accuracy: 0.7322 - val_loss: 0.5170 - val_accuracy: 0.8142\n",
            "Epoch 75/200\n",
            "165/165 [==============================] - 2s 14ms/step - loss: 0.7386 - accuracy: 0.7361 - val_loss: 0.5153 - val_accuracy: 0.8166\n",
            "Epoch 76/200\n",
            "165/165 [==============================] - 2s 14ms/step - loss: 0.7362 - accuracy: 0.7375 - val_loss: 0.5134 - val_accuracy: 0.8167\n",
            "Epoch 77/200\n",
            "165/165 [==============================] - 2s 14ms/step - loss: 0.7331 - accuracy: 0.7372 - val_loss: 0.5111 - val_accuracy: 0.8168\n",
            "Epoch 78/200\n",
            "165/165 [==============================] - 3s 16ms/step - loss: 0.7303 - accuracy: 0.7398 - val_loss: 0.5094 - val_accuracy: 0.8193\n",
            "Epoch 79/200\n",
            "165/165 [==============================] - 3s 16ms/step - loss: 0.7297 - accuracy: 0.7410 - val_loss: 0.5091 - val_accuracy: 0.8191\n",
            "Epoch 80/200\n",
            "165/165 [==============================] - 3s 16ms/step - loss: 0.7218 - accuracy: 0.7421 - val_loss: 0.5053 - val_accuracy: 0.8203\n",
            "Epoch 81/200\n",
            "165/165 [==============================] - 3s 16ms/step - loss: 0.7234 - accuracy: 0.7448 - val_loss: 0.5049 - val_accuracy: 0.8201\n",
            "Epoch 82/200\n",
            "165/165 [==============================] - 2s 15ms/step - loss: 0.7210 - accuracy: 0.7451 - val_loss: 0.5020 - val_accuracy: 0.8201\n",
            "Epoch 83/200\n",
            "165/165 [==============================] - 2s 14ms/step - loss: 0.7222 - accuracy: 0.7450 - val_loss: 0.5007 - val_accuracy: 0.8211\n",
            "Epoch 84/200\n",
            "165/165 [==============================] - 2s 14ms/step - loss: 0.7171 - accuracy: 0.7476 - val_loss: 0.5008 - val_accuracy: 0.8234\n",
            "Epoch 85/200\n",
            "165/165 [==============================] - 2s 14ms/step - loss: 0.7126 - accuracy: 0.7470 - val_loss: 0.4979 - val_accuracy: 0.8240\n",
            "Epoch 86/200\n",
            "165/165 [==============================] - 2s 14ms/step - loss: 0.7161 - accuracy: 0.7475 - val_loss: 0.4969 - val_accuracy: 0.8241\n",
            "Epoch 87/200\n",
            "165/165 [==============================] - 2s 14ms/step - loss: 0.7030 - accuracy: 0.7538 - val_loss: 0.4940 - val_accuracy: 0.8243\n",
            "Epoch 88/200\n",
            "165/165 [==============================] - 2s 14ms/step - loss: 0.7076 - accuracy: 0.7514 - val_loss: 0.4934 - val_accuracy: 0.8251\n",
            "Epoch 89/200\n",
            "165/165 [==============================] - 2s 14ms/step - loss: 0.7094 - accuracy: 0.7514 - val_loss: 0.4918 - val_accuracy: 0.8270\n",
            "Epoch 90/200\n",
            "165/165 [==============================] - 2s 14ms/step - loss: 0.6998 - accuracy: 0.7537 - val_loss: 0.4902 - val_accuracy: 0.8268\n",
            "Epoch 91/200\n",
            "165/165 [==============================] - 2s 14ms/step - loss: 0.6928 - accuracy: 0.7558 - val_loss: 0.4888 - val_accuracy: 0.8275\n",
            "Epoch 92/200\n",
            "165/165 [==============================] - 2s 14ms/step - loss: 0.7008 - accuracy: 0.7545 - val_loss: 0.4871 - val_accuracy: 0.8281\n",
            "Epoch 93/200\n",
            "165/165 [==============================] - 2s 14ms/step - loss: 0.6970 - accuracy: 0.7553 - val_loss: 0.4855 - val_accuracy: 0.8297\n",
            "Epoch 94/200\n",
            "165/165 [==============================] - 2s 14ms/step - loss: 0.6938 - accuracy: 0.7564 - val_loss: 0.4841 - val_accuracy: 0.8292\n",
            "Epoch 95/200\n",
            "165/165 [==============================] - 2s 14ms/step - loss: 0.6928 - accuracy: 0.7567 - val_loss: 0.4854 - val_accuracy: 0.8294\n",
            "Epoch 96/200\n",
            "165/165 [==============================] - 2s 14ms/step - loss: 0.6915 - accuracy: 0.7576 - val_loss: 0.4826 - val_accuracy: 0.8302\n",
            "Epoch 97/200\n",
            "165/165 [==============================] - 2s 14ms/step - loss: 0.6872 - accuracy: 0.7612 - val_loss: 0.4798 - val_accuracy: 0.8307\n",
            "Epoch 98/200\n",
            "165/165 [==============================] - 2s 14ms/step - loss: 0.6881 - accuracy: 0.7608 - val_loss: 0.4803 - val_accuracy: 0.8314\n",
            "Epoch 99/200\n",
            "165/165 [==============================] - 2s 14ms/step - loss: 0.6841 - accuracy: 0.7629 - val_loss: 0.4768 - val_accuracy: 0.8348\n",
            "Epoch 100/200\n",
            "165/165 [==============================] - 2s 14ms/step - loss: 0.6801 - accuracy: 0.7619 - val_loss: 0.4772 - val_accuracy: 0.8322\n",
            "Epoch 101/200\n",
            "165/165 [==============================] - 2s 14ms/step - loss: 0.6814 - accuracy: 0.7632 - val_loss: 0.4767 - val_accuracy: 0.8332\n",
            "Epoch 102/200\n",
            "165/165 [==============================] - 2s 14ms/step - loss: 0.6741 - accuracy: 0.7667 - val_loss: 0.4740 - val_accuracy: 0.8356\n",
            "Epoch 103/200\n",
            "165/165 [==============================] - 2s 14ms/step - loss: 0.6771 - accuracy: 0.7663 - val_loss: 0.4738 - val_accuracy: 0.8346\n",
            "Epoch 104/200\n",
            "165/165 [==============================] - 2s 14ms/step - loss: 0.6767 - accuracy: 0.7662 - val_loss: 0.4730 - val_accuracy: 0.8355\n",
            "Epoch 105/200\n",
            "165/165 [==============================] - 2s 14ms/step - loss: 0.6704 - accuracy: 0.7668 - val_loss: 0.4706 - val_accuracy: 0.8346\n",
            "Epoch 106/200\n",
            "165/165 [==============================] - 2s 14ms/step - loss: 0.6704 - accuracy: 0.7703 - val_loss: 0.4728 - val_accuracy: 0.8343\n",
            "Epoch 107/200\n",
            "165/165 [==============================] - 2s 14ms/step - loss: 0.6742 - accuracy: 0.7669 - val_loss: 0.4725 - val_accuracy: 0.8341\n",
            "Epoch 108/200\n",
            "165/165 [==============================] - 2s 14ms/step - loss: 0.6685 - accuracy: 0.7686 - val_loss: 0.4683 - val_accuracy: 0.8374\n",
            "Epoch 109/200\n",
            "165/165 [==============================] - 2s 14ms/step - loss: 0.6694 - accuracy: 0.7703 - val_loss: 0.4674 - val_accuracy: 0.8383\n",
            "Epoch 110/200\n",
            "165/165 [==============================] - 2s 14ms/step - loss: 0.6614 - accuracy: 0.7707 - val_loss: 0.4650 - val_accuracy: 0.8392\n",
            "Epoch 111/200\n",
            "165/165 [==============================] - 2s 14ms/step - loss: 0.6700 - accuracy: 0.7712 - val_loss: 0.4650 - val_accuracy: 0.8385\n",
            "Epoch 112/200\n",
            "165/165 [==============================] - 2s 14ms/step - loss: 0.6630 - accuracy: 0.7713 - val_loss: 0.4636 - val_accuracy: 0.8406\n",
            "Epoch 113/200\n",
            "165/165 [==============================] - 2s 14ms/step - loss: 0.6553 - accuracy: 0.7745 - val_loss: 0.4623 - val_accuracy: 0.8407\n",
            "Epoch 114/200\n",
            "165/165 [==============================] - 2s 14ms/step - loss: 0.6672 - accuracy: 0.7716 - val_loss: 0.4614 - val_accuracy: 0.8418\n",
            "Epoch 115/200\n",
            "165/165 [==============================] - 2s 14ms/step - loss: 0.6561 - accuracy: 0.7757 - val_loss: 0.4614 - val_accuracy: 0.8397\n",
            "Epoch 116/200\n",
            "165/165 [==============================] - 2s 14ms/step - loss: 0.6588 - accuracy: 0.7759 - val_loss: 0.4608 - val_accuracy: 0.8401\n",
            "Epoch 117/200\n",
            "165/165 [==============================] - 2s 14ms/step - loss: 0.6633 - accuracy: 0.7746 - val_loss: 0.4625 - val_accuracy: 0.8384\n",
            "Epoch 118/200\n",
            "165/165 [==============================] - 2s 14ms/step - loss: 0.6458 - accuracy: 0.7773 - val_loss: 0.4578 - val_accuracy: 0.8414\n",
            "Epoch 119/200\n",
            "165/165 [==============================] - 2s 14ms/step - loss: 0.6554 - accuracy: 0.7746 - val_loss: 0.4577 - val_accuracy: 0.8420\n",
            "Epoch 120/200\n",
            "165/165 [==============================] - 2s 14ms/step - loss: 0.6433 - accuracy: 0.7769 - val_loss: 0.4577 - val_accuracy: 0.8418\n",
            "Epoch 121/200\n",
            "165/165 [==============================] - 2s 14ms/step - loss: 0.6501 - accuracy: 0.7771 - val_loss: 0.4563 - val_accuracy: 0.8437\n",
            "Epoch 122/200\n",
            "165/165 [==============================] - 2s 14ms/step - loss: 0.6463 - accuracy: 0.7788 - val_loss: 0.4540 - val_accuracy: 0.8438\n",
            "Epoch 123/200\n",
            "165/165 [==============================] - 2s 14ms/step - loss: 0.6485 - accuracy: 0.7792 - val_loss: 0.4542 - val_accuracy: 0.8439\n",
            "Epoch 124/200\n",
            "165/165 [==============================] - 2s 14ms/step - loss: 0.6428 - accuracy: 0.7812 - val_loss: 0.4520 - val_accuracy: 0.8439\n",
            "Epoch 125/200\n",
            "165/165 [==============================] - 2s 14ms/step - loss: 0.6426 - accuracy: 0.7804 - val_loss: 0.4530 - val_accuracy: 0.8434\n",
            "Epoch 126/200\n",
            "165/165 [==============================] - 2s 14ms/step - loss: 0.6482 - accuracy: 0.7787 - val_loss: 0.4505 - val_accuracy: 0.8448\n",
            "Epoch 127/200\n",
            "165/165 [==============================] - 2s 14ms/step - loss: 0.6437 - accuracy: 0.7799 - val_loss: 0.4524 - val_accuracy: 0.8447\n",
            "Epoch 128/200\n",
            "165/165 [==============================] - 2s 14ms/step - loss: 0.6406 - accuracy: 0.7837 - val_loss: 0.4500 - val_accuracy: 0.8455\n",
            "Epoch 129/200\n",
            "165/165 [==============================] - 2s 14ms/step - loss: 0.6393 - accuracy: 0.7823 - val_loss: 0.4500 - val_accuracy: 0.8446\n",
            "Epoch 130/200\n",
            "165/165 [==============================] - 2s 14ms/step - loss: 0.6404 - accuracy: 0.7816 - val_loss: 0.4473 - val_accuracy: 0.8462\n",
            "Epoch 131/200\n",
            "165/165 [==============================] - 2s 14ms/step - loss: 0.6330 - accuracy: 0.7861 - val_loss: 0.4490 - val_accuracy: 0.8452\n",
            "Epoch 132/200\n",
            "165/165 [==============================] - 2s 14ms/step - loss: 0.6337 - accuracy: 0.7863 - val_loss: 0.4486 - val_accuracy: 0.8453\n",
            "Epoch 133/200\n",
            "165/165 [==============================] - 2s 14ms/step - loss: 0.6321 - accuracy: 0.7864 - val_loss: 0.4469 - val_accuracy: 0.8466\n",
            "Epoch 134/200\n",
            "165/165 [==============================] - 2s 14ms/step - loss: 0.6313 - accuracy: 0.7881 - val_loss: 0.4483 - val_accuracy: 0.8452\n",
            "Epoch 135/200\n",
            "165/165 [==============================] - 2s 14ms/step - loss: 0.6292 - accuracy: 0.7855 - val_loss: 0.4448 - val_accuracy: 0.8477\n",
            "Epoch 136/200\n",
            "165/165 [==============================] - 2s 14ms/step - loss: 0.6328 - accuracy: 0.7850 - val_loss: 0.4431 - val_accuracy: 0.8456\n",
            "Epoch 137/200\n",
            "165/165 [==============================] - 2s 14ms/step - loss: 0.6202 - accuracy: 0.7880 - val_loss: 0.4440 - val_accuracy: 0.8465\n",
            "Epoch 138/200\n",
            "165/165 [==============================] - 2s 14ms/step - loss: 0.6259 - accuracy: 0.7879 - val_loss: 0.4424 - val_accuracy: 0.8482\n",
            "Epoch 139/200\n",
            "165/165 [==============================] - 2s 14ms/step - loss: 0.6228 - accuracy: 0.7902 - val_loss: 0.4430 - val_accuracy: 0.8474\n",
            "Epoch 140/200\n",
            "165/165 [==============================] - 2s 14ms/step - loss: 0.6316 - accuracy: 0.7888 - val_loss: 0.4420 - val_accuracy: 0.8483\n",
            "Epoch 141/200\n",
            "165/165 [==============================] - 2s 14ms/step - loss: 0.6241 - accuracy: 0.7906 - val_loss: 0.4403 - val_accuracy: 0.8488\n",
            "Epoch 142/200\n",
            "165/165 [==============================] - 2s 14ms/step - loss: 0.6215 - accuracy: 0.7889 - val_loss: 0.4396 - val_accuracy: 0.8499\n",
            "Epoch 143/200\n",
            "165/165 [==============================] - 2s 14ms/step - loss: 0.6250 - accuracy: 0.7886 - val_loss: 0.4387 - val_accuracy: 0.8495\n",
            "Epoch 144/200\n",
            "165/165 [==============================] - 2s 14ms/step - loss: 0.6169 - accuracy: 0.7915 - val_loss: 0.4378 - val_accuracy: 0.8498\n",
            "Epoch 145/200\n",
            "165/165 [==============================] - 2s 14ms/step - loss: 0.6218 - accuracy: 0.7907 - val_loss: 0.4393 - val_accuracy: 0.8482\n",
            "Epoch 146/200\n",
            "165/165 [==============================] - 2s 14ms/step - loss: 0.6251 - accuracy: 0.7899 - val_loss: 0.4398 - val_accuracy: 0.8486\n",
            "Epoch 147/200\n",
            "165/165 [==============================] - 2s 14ms/step - loss: 0.6207 - accuracy: 0.7947 - val_loss: 0.4362 - val_accuracy: 0.8501\n",
            "Epoch 148/200\n",
            "165/165 [==============================] - 2s 14ms/step - loss: 0.6206 - accuracy: 0.7920 - val_loss: 0.4346 - val_accuracy: 0.8512\n",
            "Epoch 149/200\n",
            "165/165 [==============================] - 2s 14ms/step - loss: 0.6122 - accuracy: 0.7936 - val_loss: 0.4344 - val_accuracy: 0.8503\n",
            "Epoch 150/200\n",
            "165/165 [==============================] - 2s 15ms/step - loss: 0.6146 - accuracy: 0.7926 - val_loss: 0.4353 - val_accuracy: 0.8504\n",
            "Epoch 151/200\n",
            "165/165 [==============================] - 3s 16ms/step - loss: 0.6144 - accuracy: 0.7921 - val_loss: 0.4338 - val_accuracy: 0.8501\n",
            "Epoch 152/200\n",
            "165/165 [==============================] - 3s 16ms/step - loss: 0.6146 - accuracy: 0.7939 - val_loss: 0.4327 - val_accuracy: 0.8509\n",
            "Epoch 153/200\n",
            "165/165 [==============================] - 2s 14ms/step - loss: 0.6069 - accuracy: 0.7958 - val_loss: 0.4314 - val_accuracy: 0.8527\n",
            "Epoch 154/200\n",
            "165/165 [==============================] - 2s 14ms/step - loss: 0.6138 - accuracy: 0.7960 - val_loss: 0.4323 - val_accuracy: 0.8521\n",
            "Epoch 155/200\n",
            "165/165 [==============================] - 2s 14ms/step - loss: 0.6115 - accuracy: 0.7936 - val_loss: 0.4312 - val_accuracy: 0.8519\n",
            "Epoch 156/200\n",
            "165/165 [==============================] - 2s 14ms/step - loss: 0.6082 - accuracy: 0.7975 - val_loss: 0.4459 - val_accuracy: 0.8422\n",
            "Epoch 157/200\n",
            "165/165 [==============================] - 2s 14ms/step - loss: 0.6120 - accuracy: 0.7948 - val_loss: 0.4338 - val_accuracy: 0.8503\n",
            "Epoch 158/200\n",
            "165/165 [==============================] - 2s 14ms/step - loss: 0.6016 - accuracy: 0.7986 - val_loss: 0.4283 - val_accuracy: 0.8530\n",
            "Epoch 159/200\n",
            "165/165 [==============================] - 2s 14ms/step - loss: 0.6015 - accuracy: 0.8004 - val_loss: 0.4288 - val_accuracy: 0.8515\n",
            "Epoch 160/200\n",
            "165/165 [==============================] - 2s 14ms/step - loss: 0.6035 - accuracy: 0.7998 - val_loss: 0.4291 - val_accuracy: 0.8531\n",
            "Epoch 161/200\n",
            "165/165 [==============================] - 2s 14ms/step - loss: 0.6053 - accuracy: 0.7990 - val_loss: 0.4316 - val_accuracy: 0.8524\n"
          ],
          "name": "stdout"
        }
      ]
    },
    {
      "cell_type": "code",
      "metadata": {
        "id": "RaeHz1VFKZVM",
        "colab": {
          "base_uri": "https://localhost:8080/",
          "height": 35
        },
        "outputId": "0f1ac216-2ed6-487e-a7de-659857ca823d"
      },
      "source": [
        "history.history.keys()"
      ],
      "execution_count": null,
      "outputs": [
        {
          "output_type": "execute_result",
          "data": {
            "text/plain": [
              "dict_keys(['loss', 'accuracy', 'val_loss', 'val_accuracy'])"
            ]
          },
          "metadata": {
            "tags": []
          },
          "execution_count": 105
        }
      ]
    },
    {
      "cell_type": "markdown",
      "metadata": {
        "id": "5pJ6MDW9CcwX"
      },
      "source": [
        "### 모델 평가"
      ]
    },
    {
      "cell_type": "code",
      "metadata": {
        "id": "e4MxgLKOCeL9",
        "colab": {
          "base_uri": "https://localhost:8080/",
          "height": 52
        },
        "outputId": "1e363596-1360-4557-9275-5a3d392cab45"
      },
      "source": [
        "model.evaluate(x_test, y_test, batch_size=100)"
      ],
      "execution_count": null,
      "outputs": [
        {
          "output_type": "stream",
          "text": [
            "100/100 [==============================] - 0s 3ms/step - loss: 0.4562 - accuracy: 0.8385\n"
          ],
          "name": "stdout"
        },
        {
          "output_type": "execute_result",
          "data": {
            "text/plain": [
              "[0.45618778467178345, 0.8385000228881836]"
            ]
          },
          "metadata": {
            "tags": []
          },
          "execution_count": 107
        }
      ]
    },
    {
      "cell_type": "markdown",
      "metadata": {
        "id": "8McnnarjV2Tf"
      },
      "source": [
        "### 결과 확인"
      ]
    },
    {
      "cell_type": "code",
      "metadata": {
        "id": "7zHvs2FICeHD",
        "colab": {
          "base_uri": "https://localhost:8080/",
          "height": 35
        },
        "outputId": "63cea9f2-2798-4bab-a623-080e305a0150"
      },
      "source": [
        "test_img = x_test[0, :, :]\n",
        "print(test_img.shape)"
      ],
      "execution_count": null,
      "outputs": [
        {
          "output_type": "stream",
          "text": [
            "(28, 28)\n"
          ],
          "name": "stdout"
        }
      ]
    },
    {
      "cell_type": "code",
      "metadata": {
        "id": "L9TlZb73CeEj",
        "colab": {
          "base_uri": "https://localhost:8080/",
          "height": 277
        },
        "outputId": "c26fe160-a408-4d6c-d7ab-6665dd9865a7"
      },
      "source": [
        "plt.title(class_names[y_test[0]])\n",
        "plt.imshow(test_img, cmap='gray')\n",
        "plt.show()"
      ],
      "execution_count": null,
      "outputs": [
        {
          "output_type": "display_data",
          "data": {
            "image/png": "[encoded data removed]",
            "text/plain": [
              "<Figure size 432x288 with 1 Axes>"
            ]
          },
          "metadata": {
            "tags": []
          }
        }
      ]
    },
    {
      "cell_type": "code",
      "metadata": {
        "id": "tLU39hstWLfh"
      },
      "source": [
        "pred = model.predict(test_img.reshape(1, 28, 28))"
      ],
      "execution_count": null,
      "outputs": []
    },
    {
      "cell_type": "code",
      "metadata": {
        "id": "VvN3dvdZWXRd",
        "colab": {
          "base_uri": "https://localhost:8080/",
          "height": 35
        },
        "outputId": "08e7d7a6-5617-465e-8fb6-6443d81145f7"
      },
      "source": [
        "pred.shape"
      ],
      "execution_count": null,
      "outputs": [
        {
          "output_type": "execute_result",
          "data": {
            "text/plain": [
              "(1, 10)"
            ]
          },
          "metadata": {
            "tags": []
          },
          "execution_count": 111
        }
      ]
    },
    {
      "cell_type": "code",
      "metadata": {
        "id": "gXCeb-f2WYm1",
        "colab": {
          "base_uri": "https://localhost:8080/",
          "height": 70
        },
        "outputId": "de7f7ea2-91fe-4060-db95-f999d5fd7dce"
      },
      "source": [
        "pred"
      ],
      "execution_count": null,
      "outputs": [
        {
          "output_type": "execute_result",
          "data": {
            "text/plain": [
              "array([[1.07571395e-04, 1.96537090e-04, 6.92292670e-05, 3.29884497e-05,\n",
              "        2.64607934e-05, 6.43099472e-02, 2.09242862e-05, 1.78995416e-01,\n",
              "        6.14901655e-04, 7.55626082e-01]], dtype=float32)"
            ]
          },
          "metadata": {
            "tags": []
          },
          "execution_count": 112
        }
      ]
    },
    {
      "cell_type": "code",
      "metadata": {
        "id": "E_7gFZNAWZip",
        "colab": {
          "base_uri": "https://localhost:8080/",
          "height": 35
        },
        "outputId": "ad251fe5-4249-4bdb-f376-1f6449f0cbbc"
      },
      "source": [
        "class_names[np.argmax(pred)]"
      ],
      "execution_count": null,
      "outputs": [
        {
          "output_type": "execute_result",
          "data": {
            "application/vnd.google.colaboratory.intrinsic+json": {
              "type": "string"
            },
            "text/plain": [
              "'Ankle boot'"
            ]
          },
          "metadata": {
            "tags": []
          },
          "execution_count": 113
        }
      ]
    },
    {
      "cell_type": "markdown",
      "metadata": {
        "id": "MJL5wVZiWqtw"
      },
      "source": [
        "### Test Batch Dataset"
      ]
    },
    {
      "cell_type": "code",
      "metadata": {
        "id": "joaO3OqrWxIp",
        "colab": {
          "base_uri": "https://localhost:8080/",
          "height": 35
        },
        "outputId": "3f76922c-f729-4a76-fe5c-164e7cb50cca"
      },
      "source": [
        "test_batch = x_test[:32, :, :]\n",
        "test_batch_y = y_test[:32]\n",
        "print(test_batch.shape)"
      ],
      "execution_count": null,
      "outputs": [
        {
          "output_type": "stream",
          "text": [
            "(32, 28, 28)\n"
          ],
          "name": "stdout"
        }
      ]
    },
    {
      "cell_type": "code",
      "metadata": {
        "id": "OxqBhlqXWmXl",
        "colab": {
          "base_uri": "https://localhost:8080/",
          "height": 35
        },
        "outputId": "f26adc1c-03f1-4aaf-9bae-43cd6df01645"
      },
      "source": [
        "preds = model.predict(test_batch)\n",
        "preds.shape"
      ],
      "execution_count": null,
      "outputs": [
        {
          "output_type": "execute_result",
          "data": {
            "text/plain": [
              "(32, 10)"
            ]
          },
          "metadata": {
            "tags": []
          },
          "execution_count": 115
        }
      ]
    },
    {
      "cell_type": "code",
      "metadata": {
        "id": "5Pgwy4yXW2dt"
      },
      "source": [
        "preds_arg = np.argmax(preds, -1)"
      ],
      "execution_count": null,
      "outputs": []
    },
    {
      "cell_type": "code",
      "metadata": {
        "id": "53xdFvATW85m",
        "colab": {
          "base_uri": "https://localhost:8080/",
          "height": 603
        },
        "outputId": "c961ee02-6abc-42d1-8850-e6c8530e8bc0"
      },
      "source": [
        "num_rows=8\n",
        "num_cols=4\n",
        "num_images = num_rows * num_cols\n",
        "\n",
        "plt.figure(figsize=(16, 10))\n",
        "\n",
        "for idx in range(1, 33, 1):\n",
        "  plt.subplot(num_rows, num_cols, idx)\n",
        "  plt.title(\"Predicted: {}, True: {}\".format(class_names[preds_arg[idx-1]],\n",
        "                                             class_names[test_batch_y[idx-1]]))\n",
        "  plt.imshow(test_batch[idx-1], cmap='gray')"
      ],
      "execution_count": null,
      "outputs": [
        {
          "output_type": "display_data",
          "data": {
            "image/png": "[encoded data removed]",
            "text/plain": [
              "<Figure size 1152x720 with 32 Axes>"
            ]
          },
          "metadata": {
            "tags": []
          }
        }
      ]
    }
  ]
}