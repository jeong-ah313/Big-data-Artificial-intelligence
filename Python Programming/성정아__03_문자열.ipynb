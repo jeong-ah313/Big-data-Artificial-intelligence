{
  "nbformat": 4,
  "nbformat_minor": 0,
  "metadata": {
    "colab": {
      "name": "성정아 - _03 문자열.ipynb",
      "provenance": [],
      "collapsed_sections": []
    },
    "kernelspec": {
      "name": "python3",
      "display_name": "Python 3"
    }
  },
  "cells": [
    {
      "cell_type": "markdown",
      "metadata": {
        "id": "bg5ZXMV2sn1M"
      },
      "source": [
        "# 문자열(String)"
      ]
    },
    {
      "cell_type": "markdown",
      "metadata": {
        "id": "Lj_iZPKnCRP0"
      },
      "source": [
        "\n",
        "\n",
        "---\n",
        "\n"
      ]
    },
    {
      "cell_type": "markdown",
      "metadata": {
        "id": "E3Cd7WwAxDxm"
      },
      "source": [
        "## 문자열 정의\n"
      ]
    },
    {
      "cell_type": "code",
      "metadata": {
        "id": "YLGtw6y5iHPK",
        "colab": {
          "base_uri": "https://localhost:8080/",
          "height": 148
        },
        "outputId": "04aa9406-34cb-442a-f445-37f4de5d7df4"
      },
      "source": [
        "s=\"String\"\n",
        "print(s)\n",
        "print(s[0])\n",
        "print(s[1]) #개별요소만 출력하고 싶을 때/ 인덱스를 붙여서 출력 가능\n",
        "print(s[2])\n",
        "print(s[3])\n",
        "print(s[4])\n",
        "print(s[5])"
      ],
      "execution_count": null,
      "outputs": [
        {
          "output_type": "stream",
          "text": [
            "String\n",
            "S\n",
            "t\n",
            "r\n",
            "i\n",
            "n\n",
            "g\n"
          ],
          "name": "stdout"
        }
      ]
    },
    {
      "cell_type": "code",
      "metadata": {
        "id": "1t41e-64iKjc",
        "colab": {
          "base_uri": "https://localhost:8080/",
          "height": 92
        },
        "outputId": "8d73350b-5593-4ef7-c6c9-c9c7e1b7e579"
      },
      "source": [
        "s=\"문자열\"\n",
        "print(s)\n",
        "print(s[0])\n",
        "print(s[1])\n",
        "print(s[2])"
      ],
      "execution_count": null,
      "outputs": [
        {
          "output_type": "stream",
          "text": [
            "문자열\n",
            "문\n",
            "자\n",
            "열\n"
          ],
          "name": "stdout"
        }
      ]
    },
    {
      "cell_type": "markdown",
      "metadata": {
        "id": "aKsMBDZohTu4"
      },
      "source": [
        "## 문자열 생성\n",
        "\n",
        "* 파이썬에서 문자열은 작은따옴표(') 또는 큰 따옴표(\")로 표현\n"
      ]
    },
    {
      "cell_type": "code",
      "metadata": {
        "id": "qLh1E-1_hxR_",
        "colab": {
          "base_uri": "https://localhost:8080/",
          "height": 92
        },
        "outputId": "93d25702-06d3-49ac-ed40-cce291b3deef"
      },
      "source": [
        "print('Hello')\n",
        "print(\"파이썬은 재미있다.\")\n",
        "print('''파이썬은 심플하다''')\n",
        "print(\"\"\"파이썬은 문자열 처리가 뛰어나다\"\"\")"
      ],
      "execution_count": null,
      "outputs": [
        {
          "output_type": "stream",
          "text": [
            "Hello\n",
            "파이썬은 재미있다.\n",
            "파이썬은 심플하다\n",
            "파이썬은 문자열 처리가 뛰어나다\n"
          ],
          "name": "stdout"
        }
      ]
    },
    {
      "cell_type": "markdown",
      "metadata": {
        "id": "z250OOXBirgb"
      },
      "source": [
        "### 따옴표가 있는 문자열 생성\n",
        "\n",
        "* 문자열에 작은따옴표가 있을 경우, 큰따옴표로 둘러싸서 표현\n",
        "* 문자열에 큰따옴표가 있을 경우, 작은따옴표로 둘러싸서 표현\n",
        "* 이스케이프 코드 \\를 이용하여 작은따옴표(‘)와 큰따옴표(“)를 문자열에 포함"
      ]
    },
    {
      "cell_type": "code",
      "metadata": {
        "id": "JYNKaVT0i0aF",
        "colab": {
          "base_uri": "https://localhost:8080/",
          "height": 92
        },
        "outputId": "bbbe0bb4-a111-4895-9185-8e1e52380ba5"
      },
      "source": [
        "string=\"Python's built-in string classes\" #문장에 '가 있으면 그 문자열을 표현할때는 \"을 사용한다.\n",
        "print(string)\n",
        "string='모두가 \"파이썬을 매우 쉽다.\"라고 말한다.' #반대인 경우\n",
        "print(string)\n",
        "string= 'Python\\'s built-in string classes' #백슬러시 \\를 사용할 수도 있다.\n",
        "print(string)\n",
        "string=\"모두가 \\\"파이썬을 매우 쉽다.\\\"라고 말한다.\"\n",
        "print(string)"
      ],
      "execution_count": null,
      "outputs": [
        {
          "output_type": "stream",
          "text": [
            "Python's built-in string classes\n",
            "모두가 \"파이썬을 매우 쉽다.\"라고 말한다.\n",
            "Python's built-in string classes\n",
            "모두가 \"파이썬을 매우 쉽다.\"라고 말한다.\n"
          ],
          "name": "stdout"
        }
      ]
    },
    {
      "cell_type": "markdown",
      "metadata": {
        "id": "rM5rFj7nnx6Z"
      },
      "source": [
        "### 여러 줄이 있는 문자열 생성\n",
        "\n",
        "* 이스케이프 문자(\\\\n)를 이용하여 여러 줄이 있는 문자열 생성 가능"
      ]
    },
    {
      "cell_type": "code",
      "metadata": {
        "id": "XWqwisIai6ot",
        "colab": {
          "base_uri": "https://localhost:8080/",
          "height": 92
        },
        "outputId": "28e9db36-fb3f-4468-8230-62d64855f8a6"
      },
      "source": [
        "text=\"동해물과 백두산이 마르고 닳도록\\n하느님이 보우하사 우리나라 만세\\n무궁화 삼천리 화려강산\\n대한사람, 대한으로 길이 보전하세.\"\n",
        "print(text)"
      ],
      "execution_count": null,
      "outputs": [
        {
          "output_type": "stream",
          "text": [
            "동해물과 백두산이 마르고 닳도록\n",
            "하느님이 보우하사 우리나라 만세\n",
            "무궁화 삼천리 화려강산\n",
            "대한사람, 대한으로 길이 보전하세.\n"
          ],
          "name": "stdout"
        }
      ]
    },
    {
      "cell_type": "markdown",
      "metadata": {
        "id": "IKC5jvDpoGAT"
      },
      "source": [
        "* 작은 따옴표 3개 또는 큰 따옴표 3개를 이용하여 여러 줄이 있는 문자열 생성"
      ]
    },
    {
      "cell_type": "code",
      "metadata": {
        "id": "pgxgO7QwoDH8",
        "colab": {
          "base_uri": "https://localhost:8080/",
          "height": 92
        },
        "outputId": "dc4cc6b8-ecc8-437e-9079-2e7813744b5d"
      },
      "source": [
        "text=\"\"\"동해물과 백두산이 마르고 닳도록\n",
        "하느님이 보우하사 우리나라 만세.\n",
        "무궁화 삼천리 화려강산\n",
        "대한사람, 대한으로 길이 보전하세\"\"\"\n",
        "print(text)"
      ],
      "execution_count": null,
      "outputs": [
        {
          "output_type": "stream",
          "text": [
            "동해물과 백두산이 마르고 닳도록\n",
            "하느님이 보우하사 우리나라 만세.\n",
            "무궁화 삼천리 화려강산\n",
            "대한사람, 대한으로 길이 보전하세\n"
          ],
          "name": "stdout"
        }
      ]
    },
    {
      "cell_type": "markdown",
      "metadata": {
        "id": "PzXHy8FxoW5l"
      },
      "source": [
        "\n",
        "\n",
        "---\n",
        "\n"
      ]
    },
    {
      "cell_type": "markdown",
      "metadata": {
        "id": "d38eO6_roX5E"
      },
      "source": [
        "## 문자열 연산(String Operators)"
      ]
    },
    {
      "cell_type": "markdown",
      "metadata": {
        "id": "SP7ztoZhXRV4"
      },
      "source": [
        "### 문자열 더하기\n",
        "\n",
        "+ 연산자를 사용하여 문자열 연결\n"
      ]
    },
    {
      "cell_type": "code",
      "metadata": {
        "id": "ZuecZ1D2oPnq",
        "colab": {
          "base_uri": "https://localhost:8080/",
          "height": 36
        },
        "outputId": "fc497e36-dbf0-4131-d08d-9bd549f6136e"
      },
      "source": [
        "s1=\"동해물과\"\n",
        "s2=\" 백두산이\"\n",
        "print(s1 + s2)"
      ],
      "execution_count": null,
      "outputs": [
        {
          "output_type": "stream",
          "text": [
            "동해물과 백두산이\n"
          ],
          "name": "stdout"
        }
      ]
    },
    {
      "cell_type": "markdown",
      "metadata": {
        "id": "0CPt-XMbvjWx"
      },
      "source": [
        "### 문자열 곱하기\n",
        "\n",
        "* \\* 연산자를 사용하여 문자열 반복\n"
      ]
    },
    {
      "cell_type": "code",
      "metadata": {
        "id": "tmpi5CMDolHd",
        "colab": {
          "base_uri": "https://localhost:8080/",
          "height": 36
        },
        "outputId": "3a1db790-ca13-4829-cd5e-20b8df92646d"
      },
      "source": [
        "s=\"String \"\n",
        "print(s*3) #문자열의 반복을 의미한다."
      ],
      "execution_count": null,
      "outputs": [
        {
          "output_type": "stream",
          "text": [
            "String String String \n"
          ],
          "name": "stdout"
        }
      ]
    },
    {
      "cell_type": "markdown",
      "metadata": {
        "id": "pjKywfKlvvp5"
      },
      "source": [
        "### 문자열 길이(length)\n",
        "\n",
        "* 문자열 길이를 구하는 `len()` 함수"
      ]
    },
    {
      "cell_type": "code",
      "metadata": {
        "id": "vKff0qQdvtqh",
        "colab": {
          "base_uri": "https://localhost:8080/",
          "height": 55
        },
        "outputId": "f0fcf4d4-48ee-42c4-8211-ebabe961c717"
      },
      "source": [
        "s=\"String\"\n",
        "print(len(s))\n",
        "print(len(s*3)) #문자열의 길이를 반환"
      ],
      "execution_count": null,
      "outputs": [
        {
          "output_type": "stream",
          "text": [
            "6\n",
            "18\n"
          ],
          "name": "stdout"
        }
      ]
    },
    {
      "cell_type": "markdown",
      "metadata": {
        "id": "QaeVCcgnv_lD"
      },
      "source": [
        "### 문자열 인덱싱(indexing)\n",
        "\n",
        "* 문자열은 리스트처럼 문자 하나하나가 상대적인 주소(offset)를 가짐\n",
        "* 이 주소를 사용해 할당된 값을 가져오는 인덱싱을 사용"
      ]
    },
    {
      "cell_type": "code",
      "metadata": {
        "id": "yuYQOYe3v5iF",
        "colab": {
          "base_uri": "https://localhost:8080/",
          "height": 148
        },
        "outputId": "89441b9c-b422-4a83-a6d8-72d6e03321ac"
      },
      "source": [
        "s=\"String\"\n",
        "print(s)\n",
        "print(s[-6]) #뒤에서 부터 셈\n",
        "print(s[-5])\n",
        "print(s[-4])\n",
        "print(s[-3])\n",
        "print(s[-2])\n",
        "print(s[-1]) #뒤에서 첫번째 -> g임"
      ],
      "execution_count": null,
      "outputs": [
        {
          "output_type": "stream",
          "text": [
            "String\n",
            "S\n",
            "t\n",
            "r\n",
            "i\n",
            "n\n",
            "g\n"
          ],
          "name": "stdout"
        }
      ]
    },
    {
      "cell_type": "markdown",
      "metadata": {
        "id": "zcTUuycAw7np"
      },
      "source": [
        "### 문자열 슬라이싱(slicing)\n",
        "\n",
        "* 문자열의 주소를 이용하여 문자열을 조각(부분)을 추출"
      ]
    },
    {
      "cell_type": "code",
      "metadata": {
        "id": "JJUbjwcgw6PG",
        "colab": {
          "base_uri": "https://localhost:8080/",
          "height": 129
        },
        "outputId": "352c96ef-fb57-46ca-a387-3dbcc0559ec4"
      },
      "source": [
        "#여기서 주소라는 것은 인덱스\n",
        "s=\"정아 - 정아 computer laboratort\"\n",
        "print(s)\n",
        "print(s[0:7]) #0~7번째까지만 출력된다.\n",
        "print(s[:7])\n",
        "print(s[8:])\n",
        "print(s[-10:])\n",
        "print(s[-19:-11])"
      ],
      "execution_count": null,
      "outputs": [
        {
          "output_type": "stream",
          "text": [
            "정아 - 정아 computer laboratort\n",
            "정아 - 정아\n",
            "정아 - 정아\n",
            "computer laboratort\n",
            "laboratort\n",
            "computer\n"
          ],
          "name": "stdout"
        }
      ]
    },
    {
      "cell_type": "markdown",
      "metadata": {
        "id": "-drrAXi3xY3y"
      },
      "source": [
        "\n",
        "\n",
        "---\n",
        "\n"
      ]
    },
    {
      "cell_type": "markdown",
      "metadata": {
        "id": "ZYyzer0TxVll"
      },
      "source": [
        "## 문자열 메소드(String Methods)\n"
      ]
    },
    {
      "cell_type": "markdown",
      "metadata": {
        "id": "5VO3DGMAyxHc"
      },
      "source": [
        "### capitalize() / casefold()\n",
        "\n",
        "* 문자열 \"string\"에 대해 `capitalize()`를 실행하면, 첫 문자가 대문자인 \"String\" 문자열로 변환\n",
        "* 문자열 \"String\"에 대해 `casefold()`를 실행하면, 모든 문자가 소문자인 \"string\" 문자열로 변환"
      ]
    },
    {
      "cell_type": "code",
      "metadata": {
        "id": "cXTaqtYbxNb3",
        "colab": {
          "base_uri": "https://localhost:8080/",
          "height": 73
        },
        "outputId": "055b9910-52a8-4e39-9c96-b8370d7f1637"
      },
      "source": [
        "s=\"string\"\n",
        "print(s)\n",
        "s=s.capitalize()\n",
        "print(s)\n",
        "s=s.casefold()\n",
        "print(s)"
      ],
      "execution_count": null,
      "outputs": [
        {
          "output_type": "stream",
          "text": [
            "string\n",
            "String\n",
            "string\n"
          ],
          "name": "stdout"
        }
      ]
    },
    {
      "cell_type": "markdown",
      "metadata": {
        "id": "XE4t6o1f0haA"
      },
      "source": [
        "### count()\n",
        "\n",
        "* 문자열 \"string string\"에 포함된 문자 's'의 갯수를 반환하도록 `count()`를 실행\n",
        "* 문자 's'가 총 2개 존재하므로 2를 반환\n",
        "* 부분 문자열 \"str\"이 몇개인지 반환하는 것도 가능하고, 부분 문자열 \"str\"이 총 2개 존재하므로 2를 반환"
      ]
    },
    {
      "cell_type": "code",
      "metadata": {
        "id": "4o34mT_N0UDY",
        "colab": {
          "base_uri": "https://localhost:8080/",
          "height": 73
        },
        "outputId": "0d64a424-e2a6-46af-9868-8a28528f5184"
      },
      "source": [
        "#갯수\n",
        "s=\"string string\"\n",
        "print(s)\n",
        "print(s.count('s'))\n",
        "print(s.count(\"str\")) #str라는게 몇개 들어 있는지"
      ],
      "execution_count": null,
      "outputs": [
        {
          "output_type": "stream",
          "text": [
            "string string\n",
            "2\n",
            "2\n"
          ],
          "name": "stdout"
        }
      ]
    },
    {
      "cell_type": "markdown",
      "metadata": {
        "id": "8k0mftqo0yVe"
      },
      "source": [
        "### find() / rfind()\n",
        "\n",
        "* 문자열 \"string string\"에서 문자 's'의 해당 위치를 `find()`를 통해 반환\n",
        "* 문자열 \"string string\"에서 부분 문자열 \"ing\"의 해당 위치를 `find()`를 통해 반환\n",
        "* 문자열 \"string string\"에서 문자 's'를 해당 위치를 `rfind()`를 통해 오른쪽부터 탐색하여 가장 큰 인덱스를 반환\n",
        "* 문자열 \"string string\"에서 부분 문자열 \"ring\"를 해당 위치를 `rfind()`를 통해 오른쪽부터 탐색하여 가장 큰 인덱스를 반환"
      ]
    },
    {
      "cell_type": "code",
      "metadata": {
        "id": "1TDT5Akz0nQn",
        "colab": {
          "base_uri": "https://localhost:8080/",
          "height": 92
        },
        "outputId": "074a5bf2-37b6-45d5-bdac-c180210726af"
      },
      "source": [
        "s=\"string string\"\n",
        "print(s.find('s')) #왼쪽부터\n",
        "print(s.find('ing'))\n",
        "print(s.rfind('s')) #오른쪽부터\n",
        "print(s.rfind('ring'))"
      ],
      "execution_count": null,
      "outputs": [
        {
          "output_type": "stream",
          "text": [
            "0\n",
            "3\n",
            "7\n",
            "9\n"
          ],
          "name": "stdout"
        }
      ]
    },
    {
      "cell_type": "markdown",
      "metadata": {
        "id": "T9p8ylMq1-u7"
      },
      "source": [
        "### index() / rindex()\n",
        "\n",
        "* 문자열 \"string string\"에서 문자 's'의 해당 위치를 `index()`를 통해 반환\n",
        "* 문자열 \"string string\"에서 부분 문자열 \"ing\"의 해당 위치를 `index()`를 통해 반환\n",
        "* 문자열 \"string string\"에서 문자 's'를 해당 위치를 `rindex()`를 통해 오른쪽부터 탐색하여 가장 큰 인덱스를 반환\n",
        "* 문자열 \"string string\"에서 부분 문자열 \"ring\"를 해당 위치를 `rindex()`를 통해 오른쪽부터 탐색하여 가장 큰 인덱스를 반환\n",
        "* 문자열 \"string string\"에서 문자 'z'를 해당 위치를 `rindex()` 함수를 통해 오른쪽부터 탐색하지만 찾을 수 없어서 'ValueError' 발생"
      ]
    },
    {
      "cell_type": "code",
      "metadata": {
        "id": "tzp-p20519Bv"
      },
      "source": [
        "s=\"string string\"\n",
        "#index는 find와 똑같지만, 못찾으면 value error를 발생시킨다.\n",
        "print(s.index('s')) #왼쪽부터\n",
        "print(s.index('ing'))\n",
        "print(s.rindex('s')) #오른쪽부터\n",
        "print(s.rindex('ring'))"
      ],
      "execution_count": null,
      "outputs": []
    },
    {
      "cell_type": "markdown",
      "metadata": {
        "id": "prav01jjje_G"
      },
      "source": [
        "### isalnum()\n",
        "\n",
        "* `isalnum()`은 문자열에 알파벳이나 숫자가 1개 이상 있으면 True 반환\n",
        "* 문자열 \"string\"은 알파벳으로 구성 되었으므로 True 반환\n",
        "* 문자열 \"한글\"은 알파벳으로 구성 되어있으므로 True 반환\n",
        "* 문자열 \"!@#\"은 특수기호로 구성 되어있으므로 False 반환\n",
        "* 문자열 \"123\"은 숫자들로 구성 되어있으므로 True 반환"
      ]
    },
    {
      "cell_type": "code",
      "metadata": {
        "id": "6H6gBF44DIke",
        "colab": {
          "base_uri": "https://localhost:8080/",
          "height": 92
        },
        "outputId": "b81fb626-830c-419f-a53e-59cff7998124"
      },
      "source": [
        "print(\"string\".isalnum())\n",
        "print(\"문자열\".isalnum())\n",
        "print(\"!!@@\".isalnum()) #특수기호는 알파벳도 숫자로 아님으로 false를 반환할것이다.\n",
        "print(\"123\".isalnum())"
      ],
      "execution_count": null,
      "outputs": [
        {
          "output_type": "stream",
          "text": [
            "True\n",
            "True\n",
            "False\n",
            "True\n"
          ],
          "name": "stdout"
        }
      ]
    },
    {
      "cell_type": "markdown",
      "metadata": {
        "id": "eHIt6rNFYCGE"
      },
      "source": [
        "### isalpha()\n",
        "\n",
        "* `isalpha()`는 문자열에 알파벳이 1개 이상 있으면 True 반환\n",
        "* 문자열 \"string\"은 알파벳으로 구성 되었으므로 True 반환\n",
        "* 문자열 \"한글\"은 알파벳으로 구성 되어있으므로 True 반환\n",
        "* 문자열 \"!@#\"은 특수기호로 구성 되어있으므로 False 반환\n",
        "* 문자열 \"123\"은 숫자들로 구성 되어있으므로 Flase 반환"
      ]
    },
    {
      "cell_type": "code",
      "metadata": {
        "id": "_dFo8ynlmd_B",
        "colab": {
          "base_uri": "https://localhost:8080/",
          "height": 92
        },
        "outputId": "0e290101-dd6e-4a26-9e23-e9252a77ef41"
      },
      "source": [
        "print(\"string\".isalpha())\n",
        "print(\"문자열\".isalpha())\n",
        "print(\"!!@@\".isalpha())\n",
        "print(\"123\".isalpha())\n",
        "#isalpha는 알파벳만 true를 반환한다.(특수문자 숫자 false 반환함)"
      ],
      "execution_count": null,
      "outputs": [
        {
          "output_type": "stream",
          "text": [
            "True\n",
            "True\n",
            "False\n",
            "False\n"
          ],
          "name": "stdout"
        }
      ]
    },
    {
      "cell_type": "markdown",
      "metadata": {
        "id": "_WGNBgfilCZg"
      },
      "source": [
        "### isdecimal()\n",
        "\n",
        "* `isdecimal()`는 문자열의 모든 문자가 10진수 문자이면 True 반환\n",
        "* 문자열 \"123\"은 모두 10진수 문자열이므로 True 반환\n",
        "* 문자열 \"1.23\"은 실수형 문자열이므로 False 반환"
      ]
    },
    {
      "cell_type": "code",
      "metadata": {
        "id": "E2kVKYNHjtlN",
        "colab": {
          "base_uri": "https://localhost:8080/",
          "height": 55
        },
        "outputId": "a7ed31d7-48c1-49a2-ee31-87eeb0a9f056"
      },
      "source": [
        "#10진수이면 true 반환\n",
        "print(\"123\". isdecimal())\n",
        "print(\"1.23\". isdecimal()) #실수임으로 false 반환"
      ],
      "execution_count": null,
      "outputs": [
        {
          "output_type": "stream",
          "text": [
            "True\n",
            "False\n"
          ],
          "name": "stdout"
        }
      ]
    },
    {
      "cell_type": "markdown",
      "metadata": {
        "id": "J0pJ-8T_Yhlx"
      },
      "source": [
        "### isdigit()\n",
        "\n",
        "* `isdigit()`는 문자열의 모든 문자가 숫자일 때 True 반환\n",
        "* 문자열 \"123\"은 모든 문자가 숫자에 해당하므로 True 반환\n",
        "* 문자열 \"1.23\"은 문자 중 숫자에 해당안되는 . 이 존재하여 False"
      ]
    },
    {
      "cell_type": "code",
      "metadata": {
        "id": "oOsCWfMhmjHo",
        "colab": {
          "base_uri": "https://localhost:8080/",
          "height": 55
        },
        "outputId": "d896c2be-901a-452e-d4d1-fcaf5b8af492"
      },
      "source": [
        "print(\"123\". isdigit())\n",
        "print(\"1.23\". isdigit())"
      ],
      "execution_count": null,
      "outputs": [
        {
          "output_type": "stream",
          "text": [
            "True\n",
            "False\n"
          ],
          "name": "stdout"
        }
      ]
    },
    {
      "cell_type": "markdown",
      "metadata": {
        "id": "2jPib-Z8ZAlj"
      },
      "source": [
        "### isnumeric()\n",
        "\n",
        "* `isnumeric()`는 문자열의 모든 문자가 수치형일 때 True 반환\n",
        "* 문자열 \"123\"은 모든 문자가 숫자에 해당하므로 True 반환\n",
        "* 문자열 \"1.23\"은 문자 중 수치형에 해당안되는 . 이 존재하여 False"
      ]
    },
    {
      "cell_type": "code",
      "metadata": {
        "id": "J5EsHyjfpidQ",
        "colab": {
          "base_uri": "https://localhost:8080/",
          "height": 55
        },
        "outputId": "6a9aa896-8a93-468b-f5fe-6a153918fa77"
      },
      "source": [
        "print(\"123\". isnumeric())\n",
        "print(\"1.23\". isnumeric()) #.은 수치형에 해당 안된다."
      ],
      "execution_count": null,
      "outputs": [
        {
          "output_type": "stream",
          "text": [
            "True\n",
            "False\n"
          ],
          "name": "stdout"
        }
      ]
    },
    {
      "cell_type": "markdown",
      "metadata": {
        "id": "krM9QrrEp5TB"
      },
      "source": [
        "### isidentifier()\n",
        "\n",
        "* `isidentifier()`는 문자열이 파이썬에서 사용하는 식별자인 경우 True 반환\n",
        "* 문자열 \"123\"은 식별자로 사용되지 않는 문자열이라서 False 반환\n",
        "* 문자열 \"True\"는 식별자로 사용되기 때문에 True 반환\n",
        "* 문자열 \"print\"는 식별자로 사용되기 때문에 True 반환"
      ]
    },
    {
      "cell_type": "code",
      "metadata": {
        "id": "ir5WknFUpO7r",
        "colab": {
          "base_uri": "https://localhost:8080/",
          "height": 73
        },
        "outputId": "e084a2d3-e3e3-432d-c54e-ecca306f389e"
      },
      "source": [
        "print(\"123\". isidentifier())\n",
        "print(\"True\". isidentifier())\n",
        "print(\"print\". isidentifier())"
      ],
      "execution_count": null,
      "outputs": [
        {
          "output_type": "stream",
          "text": [
            "False\n",
            "True\n",
            "True\n"
          ],
          "name": "stdout"
        }
      ]
    },
    {
      "cell_type": "markdown",
      "metadata": {
        "id": "jHm6aRyAlypa"
      },
      "source": [
        "### isspace()\n",
        "\n",
        "* 문자열 \" \"은 문자열 내에 공백 문자가 있어서 True 반환\n",
        "* 문자열 \" 1 \"은 문자열 내에 공백 아닌 문자가 있어서 False 반환"
      ]
    },
    {
      "cell_type": "code",
      "metadata": {
        "id": "x0Nmi2NtqQpI",
        "colab": {
          "base_uri": "https://localhost:8080/",
          "height": 55
        },
        "outputId": "ba71c690-e3aa-43e8-b9b6-e3239266f0f5"
      },
      "source": [
        "#space = 공백\n",
        "print(\" \".isspace())\n",
        "print(\" 1 \".isspace()) #공백이 양쪽에 있으나, 공백이 아닌 문자가 포함되어 있으므로 fals"
      ],
      "execution_count": null,
      "outputs": [
        {
          "output_type": "stream",
          "text": [
            "True\n",
            "False\n"
          ],
          "name": "stdout"
        }
      ]
    },
    {
      "cell_type": "markdown",
      "metadata": {
        "id": "SG3Odc9fIHpT"
      },
      "source": [
        "### istitle()\n",
        "\n",
        "* 문자열 \"String\"은 문자열 내에 제목과 같이 첫 글자가 대문자여서 True 반환\n",
        "* 문자열 \"STRING\"은 모든 문자가 대문자이기 때문에 False 반환"
      ]
    },
    {
      "cell_type": "code",
      "metadata": {
        "id": "c7eht5HErgrr",
        "colab": {
          "base_uri": "https://localhost:8080/",
          "height": 55
        },
        "outputId": "84f36f16-e864-44f7-c42f-00577c36cafa"
      },
      "source": [
        "#맨앞 문자가 대문자이면\n",
        "print(\"String\".istitle())\n",
        "print(\"STRING\".istitle())"
      ],
      "execution_count": null,
      "outputs": [
        {
          "output_type": "stream",
          "text": [
            "True\n",
            "False\n"
          ],
          "name": "stdout"
        }
      ]
    },
    {
      "cell_type": "markdown",
      "metadata": {
        "id": "ctZKMIrHI8-A"
      },
      "source": [
        "### islower()\n",
        "\n",
        "* 문자열 \"string\"은 모든 문자가 소문자여서 True 반환\n",
        "* 문자열 \"String\"은 첫 문자가 대문자여서 False 반환"
      ]
    },
    {
      "cell_type": "code",
      "metadata": {
        "id": "xznSyZT9lzp5",
        "colab": {
          "base_uri": "https://localhost:8080/",
          "height": 55
        },
        "outputId": "38f59e97-4156-44c7-ef54-b665d9951ba3"
      },
      "source": [
        "print(\"string\".islower())\n",
        "print(\"sTRING\".islower())\n",
        "#모든 문자가 소문자여야 함"
      ],
      "execution_count": null,
      "outputs": [
        {
          "output_type": "stream",
          "text": [
            "True\n",
            "False\n"
          ],
          "name": "stdout"
        }
      ]
    },
    {
      "cell_type": "markdown",
      "metadata": {
        "id": "KVnECEUXI_MN"
      },
      "source": [
        "### isupper() 함수\n",
        "\n",
        "* 문자열 \"STRING\"은 모든 문자가 대문자여서 True 반환\n",
        "* 문자열 \"String\"은 첫 문자만 대문자여서 False 반환"
      ]
    },
    {
      "cell_type": "code",
      "metadata": {
        "id": "ZAmXy2lCqIbi",
        "colab": {
          "base_uri": "https://localhost:8080/",
          "height": 55
        },
        "outputId": "82105f55-2e27-417f-f701-39125ac1fbac"
      },
      "source": [
        "print(\"STIRNG\".isupper())\n",
        "print(\"Stirng\".isupper())"
      ],
      "execution_count": null,
      "outputs": [
        {
          "output_type": "stream",
          "text": [
            "True\n",
            "False\n"
          ],
          "name": "stdout"
        }
      ]
    },
    {
      "cell_type": "markdown",
      "metadata": {
        "id": "mGdbqGsSr8Ee"
      },
      "source": [
        "### join()\n",
        "\n",
        "* 문자열 \"String\"에 대해서 `join()`으로 공백 문자 ' '를 문자 사이마다 추가한 문자열 \"S t r i n g\"을 반환\n",
        "* 문자열 \"String\"에 대해서 `join()` 으로 공백 문자 '_'를 문자 사이마다 추가한 문자열 \"S_t_r_i_n_g\"을 반환\n",
        "* 문자열 \"String\"에 대해서 `join()` 으로 공백 문자 '|'를 문자 사이마다 추가한 문자열 \"S|t|r|i|n|g\"을 반환"
      ]
    },
    {
      "cell_type": "code",
      "metadata": {
        "id": "A8tTe2l3rwLw",
        "colab": {
          "base_uri": "https://localhost:8080/",
          "height": 73
        },
        "outputId": "d7b474c7-17f4-44f0-89ab-002f85796042"
      },
      "source": [
        "s=\"string\"\n",
        "print(' '.join(s))\n",
        "print('_'.join(s))\n",
        "print('|'.join(s))"
      ],
      "execution_count": null,
      "outputs": [
        {
          "output_type": "stream",
          "text": [
            "s t r i n g\n",
            "s_t_r_i_n_g\n",
            "s|t|r|i|n|g\n"
          ],
          "name": "stdout"
        }
      ]
    },
    {
      "cell_type": "markdown",
      "metadata": {
        "id": "zDmq0ExIsdtu"
      },
      "source": [
        "### center() / ljust() / rjust()\n",
        "\n",
        "* 문자열 \"String\"에 대해서 `center()`를 사용하여 너비 10에 해당하는 문자열 길이에 가운데 정렬한 문자열 '  String  '로 변환\n",
        "* 문자열 \"String\"에 대해서 `ljust()`를 사용하여 너비 10에 해당하는 문자열 길이에 왼쪽 정렬한 문자열 'String    '로 변환\n",
        "* 문자열 \"String\"에 대해서 `rjust()`를 사용하여 너비 10에 해당하는 문자열 길이에 오른쪽 정렬한 문자열 '    String'로 변환"
      ]
    },
    {
      "cell_type": "code",
      "metadata": {
        "id": "sFA02kX3sf2q",
        "colab": {
          "base_uri": "https://localhost:8080/",
          "height": 73
        },
        "outputId": "56f075d6-9c2a-4b35-d0ea-bf6819669af9"
      },
      "source": [
        "print(\"'\"+\"String\".center(10)+\"'\")\n",
        "print(\"'\"+\"String\".ljust(10)+\"'\")\n",
        "print(\"'\"+\"String\". rjust(10)+\"'\")"
      ],
      "execution_count": null,
      "outputs": [
        {
          "output_type": "stream",
          "text": [
            "'  String  '\n",
            "'String    '\n",
            "'    String'\n"
          ],
          "name": "stdout"
        }
      ]
    },
    {
      "cell_type": "markdown",
      "metadata": {
        "id": "-iP2QrFn0kWZ"
      },
      "source": [
        "### lower() / upper() / title() / swapcase()\n",
        "\n",
        "* 문자열 \"String\"을 `lower()`를 이용하여 모든 문자가 소문자로 변환된 \"string\" 반환\n",
        "* 문자열 \"String\"을 `upper()`를 이용하여 모든 문자가 대문자로 변환된 \"STRING\" 반환\n",
        "* 문자열 \"string\"을 `title()`를 이용하여 첫 문자가 대문자로 변환된 \"String\" 반환\n",
        "* 문자열 \"String\"을 `swapcase()`를 이용하여 대문자는 소문자로 변환되고 소문자는 대문자로 변환된 \"sTRING\" 반환\n"
      ]
    },
    {
      "cell_type": "code",
      "metadata": {
        "id": "K8JmvhjC0j-e",
        "colab": {
          "base_uri": "https://localhost:8080/",
          "height": 92
        },
        "outputId": "1e692e34-8a27-47bf-d3a0-94b22e6200f5"
      },
      "source": [
        "print(\"String\".lower())\n",
        "print(\"String\".upper())\n",
        "print(\"String\".title())\n",
        "print(\"String\".swapcase())"
      ],
      "execution_count": null,
      "outputs": [
        {
          "output_type": "stream",
          "text": [
            "string\n",
            "STRING\n",
            "String\n",
            "sTRING\n"
          ],
          "name": "stdout"
        }
      ]
    },
    {
      "cell_type": "markdown",
      "metadata": {
        "id": "oyk35mDo1d2M"
      },
      "source": [
        "### strip() / lstrip() / rstrip()\n",
        "\n",
        "* 양쪽 공백이 포함된 문자열 \"  String  \"을 `strip()`를 통해 공백 제거\n",
        "* 양쪽 공백이 포함된 문자열 \"  String  \"을 `lstrip()`를 통해 왼쪽 공백 제거\n",
        "* 양쪽 공백이 포함된 문자열 \"  String  \"을 `rstrip()`를 통해 오른쪽 공백 제거"
      ]
    },
    {
      "cell_type": "code",
      "metadata": {
        "id": "Y8D90szl1YOa",
        "colab": {
          "base_uri": "https://localhost:8080/",
          "height": 73
        },
        "outputId": "8ec3a37d-0e90-4e92-8637-99c21bd9effa"
      },
      "source": [
        "print(\"   String   \".strip())\n",
        "print(\"   String   \".lstrip())\n",
        "print(\"   String   \".rstrip())"
      ],
      "execution_count": null,
      "outputs": [
        {
          "output_type": "stream",
          "text": [
            "String\n",
            "String   \n",
            "   String\n"
          ],
          "name": "stdout"
        }
      ]
    },
    {
      "cell_type": "markdown",
      "metadata": {
        "id": "zPLZHaXu7OYj"
      },
      "source": [
        "### partition() / rpartition()\n",
        "\n",
        "* 문자열 \"String\"을 `partition()`를 이용하여 문자 't' 기준으로 분할\n",
        "* 문자열 \"String String\"을 `rpartition()`를 이용하여 마지막 문자 'S'를 기준으로 분할"
      ]
    },
    {
      "cell_type": "code",
      "metadata": {
        "id": "fhmrvPHl4I6Q",
        "colab": {
          "base_uri": "https://localhost:8080/",
          "height": 55
        },
        "outputId": "f112bb4f-c1aa-4c31-ec41-ac36e33e291b"
      },
      "source": [
        "#파티션은 분활하는 기능인데, 3개로 나눠준다. 특정한 기능을 사용해서 3개로 나눠준다.\n",
        "print(\"String\".partition('t'))\n",
        "print(\"String String\".rpartition(' ')) #공백을 기준으로 나누어줘 봤다!"
      ],
      "execution_count": null,
      "outputs": [
        {
          "output_type": "stream",
          "text": [
            "('S', 't', 'ring')\n",
            "('String', ' ', 'String')\n"
          ],
          "name": "stdout"
        }
      ]
    },
    {
      "cell_type": "markdown",
      "metadata": {
        "id": "8YF_Rheq7fe6"
      },
      "source": [
        "### replace()\n",
        "\n",
        "* 문자열 \"String\"을 `replace()`를 이용해 문자열 \"Str\"을 문자 'R'로 교체"
      ]
    },
    {
      "cell_type": "code",
      "metadata": {
        "id": "nNuELc1q7Wwf",
        "colab": {
          "base_uri": "https://localhost:8080/",
          "height": 36
        },
        "outputId": "132517b9-f4fa-45f8-db65-ded524d341e7"
      },
      "source": [
        "print(\"String\".replace(\"Str\",'R'))"
      ],
      "execution_count": null,
      "outputs": [
        {
          "output_type": "stream",
          "text": [
            "Ring\n"
          ],
          "name": "stdout"
        }
      ]
    },
    {
      "cell_type": "markdown",
      "metadata": {
        "id": "rIP8GXbM7p3w"
      },
      "source": [
        "### split() / rsplit() / splitlines()\n",
        "\n",
        "* 문자열 \"1 2 3\"을 `split()`의 기본 구분자를 이용하여 '1', '2', '3' 으로 구분\n",
        "* 문자열 \"1_2_3\"을 `split()`으로 구분자 '_'를 이용하여 '1', '2', '3' 으로 구분\n",
        "* 문자열 \"1 2 3\"을 `rsplit()`으로 구분자 '_'를 이용하여 오른쪽부터 1번만 구분하여 '1_2', '3' 으로 구분\n",
        "* 문자열 \"123\\n123\\n123\\n\"을 `splitlines()` 함수를 이용하여 라인 단위로 구분하여 '123, '123, '123 반환"
      ]
    },
    {
      "cell_type": "code",
      "metadata": {
        "id": "Ns3ZMQJ17mv7",
        "colab": {
          "base_uri": "https://localhost:8080/",
          "height": 92
        },
        "outputId": "83fa42aa-4865-4e06-c53d-086273ae6f71"
      },
      "source": [
        "#구분\n",
        "print(\"1 2 3\".split())\n",
        "print(\"1_2_3\".split('_'))\n",
        "print(\"1_2_3\".rsplit('_'),1) #몇번 구분해줄지도 숫자로 정할 수 있다.\n",
        "print(\"123\\n123\\n123\\n\".splitlines()) #라인단위로 구분"
      ],
      "execution_count": null,
      "outputs": [
        {
          "output_type": "stream",
          "text": [
            "['1', '2', '3']\n",
            "['1', '2', '3']\n",
            "['1', '2', '3'] 1\n",
            "['123', '123', '123']\n"
          ],
          "name": "stdout"
        }
      ]
    },
    {
      "cell_type": "markdown",
      "metadata": {
        "id": "tx8dAOPm8DTv"
      },
      "source": [
        "### startswith() / endswith()\n",
        "\n",
        "* 문자열 \"String\"에서 시작 문자가 'S'인지 `startswith()`를 통해 확인\n",
        "* 문자열 \"String\"에서 마지막 문자가 'g'인지 `endswith()`를 통해 확인"
      ]
    },
    {
      "cell_type": "code",
      "metadata": {
        "id": "dNB3Da_x7587",
        "colab": {
          "base_uri": "https://localhost:8080/",
          "height": 55
        },
        "outputId": "71f01f25-206a-4ec8-89bf-c8d854afc175"
      },
      "source": [
        "print(\"String\".startswith('S'))\n",
        "print(\"String\".endswith('g'))"
      ],
      "execution_count": null,
      "outputs": [
        {
          "output_type": "stream",
          "text": [
            "True\n",
            "True\n"
          ],
          "name": "stdout"
        }
      ]
    },
    {
      "cell_type": "markdown",
      "metadata": {
        "id": "OZatwJSe8Svd"
      },
      "source": [
        "### zfill()\n",
        "\n",
        "* 문자열 \"123\"에서 너비 8만큼으로 늘리고 비어있는 부분에 '0'이 채워진 문자열 \"00000123\" 반환"
      ]
    },
    {
      "cell_type": "code",
      "metadata": {
        "id": "rWqlvXJV8MJF",
        "colab": {
          "base_uri": "https://localhost:8080/",
          "height": 36
        },
        "outputId": "14d14ed7-dfac-49d7-f38a-184f32da8a85"
      },
      "source": [
        "print(\"123\".zfill(8))"
      ],
      "execution_count": null,
      "outputs": [
        {
          "output_type": "stream",
          "text": [
            "00000123\n"
          ],
          "name": "stdout"
        }
      ]
    },
    {
      "cell_type": "markdown",
      "metadata": {
        "id": "yjsh7OcA8fIu"
      },
      "source": [
        "\n",
        "\n",
        "---\n",
        "\n"
      ]
    },
    {
      "cell_type": "markdown",
      "metadata": {
        "id": "Og91a1bd8gd-"
      },
      "source": [
        "## 문자열 서식(String Format)\n"
      ]
    },
    {
      "cell_type": "markdown",
      "metadata": {
        "id": "U7QLYGjk8qbO"
      },
      "source": [
        "### 문자열 포맷팅(String Formatting)\n",
        "\n",
        "* 문자열 내에서 서식에 맞추어 특정 값을 삽입 또는 변경\n",
        "* 기호 % 뒤에 있는 값이 문자열 내의 서식에 순서대로 매핑"
      ]
    },
    {
      "cell_type": "code",
      "metadata": {
        "id": "_z3A1Rmu8Wex",
        "colab": {
          "base_uri": "https://localhost:8080/",
          "height": 73
        },
        "outputId": "7cad77d8-7784-4352-d3db-4896aed66d3e"
      },
      "source": [
        "print(\"나는 사과가 %d개 있다.\"%2) #% 뒤에 나올 값을 매핑해줌\n",
        "print(\"나는 사과가 %s 있다.\" %\"두개\") #%s는 문자열일때\n",
        "print(\"나는 %s가 %d개 있다.\"%(\"사과\",2))"
      ],
      "execution_count": null,
      "outputs": [
        {
          "output_type": "stream",
          "text": [
            "나는 사과가 2개 있다.\n",
            "나는 사과가 두개 있다.\n",
            "나는 사과가 2개 있다.\n"
          ],
          "name": "stdout"
        }
      ]
    },
    {
      "cell_type": "markdown",
      "metadata": {
        "id": "PP32b9L3-eVL"
      },
      "source": [
        "### 정렬, 공백, 소수점 포맷\n",
        "\n",
        "* 포맷 문자 앞에 숫자는 길이를 의미\n",
        "* -는 왼쪽 정렬을 의미\n",
        "* 소수점 ‘.’ 뒤에 숫자는 소숫점 이하 개수를 의미"
      ]
    },
    {
      "cell_type": "code",
      "metadata": {
        "id": "uG9qhf2L9K_A",
        "colab": {
          "base_uri": "https://localhost:8080/",
          "height": 111
        },
        "outputId": "f294b441-70a3-40ef-866a-c4b0ec7fe04b"
      },
      "source": [
        "print(\"%8s\" %\"Hello\")\n",
        "print(\"%-8sPython\"%\"Hello\")\n",
        "print(\"%0.2f\" %3.1415926535)\n",
        "print(\"%8.2f\" %3.1415926535)\n",
        "print(\"%-8.2f\" %3.1415926535)"
      ],
      "execution_count": null,
      "outputs": [
        {
          "output_type": "stream",
          "text": [
            "   Hello\n",
            "Hello   Python\n",
            "3.14\n",
            "    3.14\n",
            "3.14    \n"
          ],
          "name": "stdout"
        }
      ]
    },
    {
      "cell_type": "markdown",
      "metadata": {
        "id": "SrIx3mkM_C8G"
      },
      "source": [
        "### 문자열 format 메소드\n",
        "\n",
        "* 문자열 `format()`의 인덱스를 이용한 고급 포맷팅\n",
        "* 인덱스 번호에 따라 `format()` 함수의 각 값들이 매핑"
      ]
    },
    {
      "cell_type": "code",
      "metadata": {
        "id": "uf469Z6l-6E0",
        "colab": {
          "base_uri": "https://localhost:8080/",
          "height": 73
        },
        "outputId": "3e1e5ad2-3cc1-4649-e134-0fa8c72b1c20"
      },
      "source": [
        "print(\"나는 사과가 {0}개 있다.\".format(2))\n",
        "print(\"나는 사과가 {0}개 있다.\".format(\"두\"))\n",
        "print(\"나는 {0}가 {1}개 있다.\".format(\"사과\",2))"
      ],
      "execution_count": null,
      "outputs": [
        {
          "output_type": "stream",
          "text": [
            "나는 사과가 2개 있다.\n",
            "나는 사과가 두개 있다.\n",
            "나는 사과가 2개 있다.\n"
          ],
          "name": "stdout"
        }
      ]
    },
    {
      "cell_type": "markdown",
      "metadata": {
        "id": "0pTK7FHW_jIn"
      },
      "source": [
        "* 문자열 `format()` 메소드의 인덱스와 변수 이름을 이용한 포맷팅\n",
        "* 변수 이름 s와 n을 지정하여 \"사과\"와 숫자 2를 매핑"
      ]
    },
    {
      "cell_type": "code",
      "metadata": {
        "id": "Bwx0XnkE_Yvn",
        "colab": {
          "base_uri": "https://localhost:8080/",
          "height": 73
        },
        "outputId": "331cf115-4dc7-4e7a-c135-9ee5640c52b1"
      },
      "source": [
        "print(\"나는 사과가 {n}개 있다.\".format(n=2))\n",
        "print(\"나는 사과가 {s}개 있다.\".format(s=\"두\"))\n",
        "print(\"나는 {s}가 {n}개 있다.\".format(s=\"사과\",n=2))"
      ],
      "execution_count": null,
      "outputs": [
        {
          "output_type": "stream",
          "text": [
            "나는 사과가 2개 있다.\n",
            "나는 사과가 두개 있다.\n",
            "나는 사과가 2개 있다.\n"
          ],
          "name": "stdout"
        }
      ]
    },
    {
      "cell_type": "markdown",
      "metadata": {
        "id": "0yErNkKPAA2F"
      },
      "source": [
        "* 문자열 `format()` 함수의 정렬, 공백, 소수점\n"
      ]
    },
    {
      "cell_type": "code",
      "metadata": {
        "id": "Nfi9kAeD_z3p",
        "colab": {
          "base_uri": "https://localhost:8080/",
          "height": 167
        },
        "outputId": "479c416e-dc74-4c0b-9fa6-7a3009ad9358"
      },
      "source": [
        "print(\"{0:8}\".format(\"Hello\"))\n",
        "print(\"{0:<8}\".format(\"Hello\"))\n",
        "print(\"{0:>8}\".format(\"Hello\"))\n",
        "print(\"{0:^8}\".format(\"Hello\"))\n",
        "print(\"{0:~<8}\".format(\"Hello\"))\n",
        "print(\"{0:-<8}\".format(\"Hello\"))\n",
        "print(\"{0:8.4f}\".format(3.141592))\n",
        "print(\"{{}}\".format())"
      ],
      "execution_count": null,
      "outputs": [
        {
          "output_type": "stream",
          "text": [
            "Hello   \n",
            "Hello   \n",
            "   Hello\n",
            " Hello  \n",
            "Hello~~~\n",
            "Hello---\n",
            "  3.1416\n",
            "{}\n"
          ],
          "name": "stdout"
        }
      ]
    },
    {
      "cell_type": "markdown",
      "metadata": {
        "id": "1GS_wR86BmtE"
      },
      "source": [
        "### f 문자열 포맷팅\n",
        "\n",
        "* 문자열 포맷팅을 위해 새롭게 나온 기능으로 문자열 앞에 f를 붙여서 구분\n",
        "* 변수 s와 n에 대해서 문자열에 포함된 이름으로 매핑하여 사용 가능"
      ]
    },
    {
      "cell_type": "code",
      "metadata": {
        "id": "3ffhQ807BYLf",
        "colab": {
          "base_uri": "https://localhost:8080/",
          "height": 55
        },
        "outputId": "6101da6d-f826-4508-e834-70d97ff62a00"
      },
      "source": [
        "#문자열 포멧팅을 위해 새로 나옴\n",
        "s=\"사과\"\n",
        "n=2\n",
        "print(f\"나는 사과가 {n}개 있다.\")\n",
        "print(f\"나는 {s}가 {n}개 있다.\")"
      ],
      "execution_count": null,
      "outputs": [
        {
          "output_type": "stream",
          "text": [
            "나는 사과가 2개 있다.\n",
            "나는 사과가 2개 있다.\n"
          ],
          "name": "stdout"
        }
      ]
    },
    {
      "cell_type": "markdown",
      "metadata": {
        "id": "9zQ6zYkRR_dt"
      },
      "source": [
        "* 기존의 문자열 포맷을 문자열 다음 기호 : 뒤에 표현하여 그대로 사용 가능"
      ]
    },
    {
      "cell_type": "code",
      "metadata": {
        "id": "UOYcnlERBxhy",
        "colab": {
          "base_uri": "https://localhost:8080/",
          "height": 167
        },
        "outputId": "b524c7ee-d24d-4167-87cd-2f3662e261e8"
      },
      "source": [
        "print(f'{\"Hello\":8}')\n",
        "print(f'{\"Hello\":<8}')\n",
        "print(f'{\"Hello\":>8}')\n",
        "print(f'{\"Hello\":^8}')\n",
        "print(f'{\"Hello\":~<8}')\n",
        "print(f'{\"Hello\":-<8}')\n",
        "print(f'{3.141592:8.4f}')\n",
        "print(f'{{중괄호}}')"
      ],
      "execution_count": null,
      "outputs": [
        {
          "output_type": "stream",
          "text": [
            "Hello   \n",
            "Hello   \n",
            "   Hello\n",
            " Hello  \n",
            "Hello~~~\n",
            "Hello---\n",
            "  3.1416\n",
            "{중괄호}\n"
          ],
          "name": "stdout"
        }
      ]
    },
    {
      "cell_type": "code",
      "metadata": {
        "id": "OEBuE2vk_jDp"
      },
      "source": [
        ""
      ],
      "execution_count": null,
      "outputs": []
    }
  ]
}