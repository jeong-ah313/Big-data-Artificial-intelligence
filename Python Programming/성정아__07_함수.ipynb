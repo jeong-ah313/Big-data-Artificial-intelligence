{
  "nbformat": 4,
  "nbformat_minor": 0,
  "metadata": {
    "colab": {
      "name": "성정아 - _07 함수.ipynb",
      "provenance": [],
      "collapsed_sections": []
    },
    "kernelspec": {
      "name": "python3",
      "display_name": "Python 3"
    }
  },
  "cells": [
    {
      "cell_type": "markdown",
      "metadata": {
        "id": "bg5ZXMV2sn1M"
      },
      "source": [
        "# 함수(Function)"
      ]
    },
    {
      "cell_type": "markdown",
      "metadata": {
        "id": "Lj_iZPKnCRP0"
      },
      "source": [
        "\n",
        "\n",
        "---\n",
        "\n"
      ]
    },
    {
      "cell_type": "markdown",
      "metadata": {
        "id": "zXbENjlMCrkU"
      },
      "source": [
        "## 함수 기본"
      ]
    },
    {
      "cell_type": "markdown",
      "metadata": {
        "id": "GWTyreZRzzmW"
      },
      "source": [
        "### 함수 선언\n",
        "\n"
      ]
    },
    {
      "cell_type": "markdown",
      "metadata": {
        "id": "qQc_0nwV1YyE"
      },
      "source": [
        "### 매개변수와 반환값이 없는 함수\n",
        "\n",
        "* 함수에 매개변수와 반환값이 없이 사용 가능\n",
        "* 함수를 호출하면 함수의 수행문이 실행"
      ]
    },
    {
      "cell_type": "code",
      "metadata": {
        "id": "VIauKM25w6Aw",
        "colab": {
          "base_uri": "https://localhost:8080/",
          "height": 36
        },
        "outputId": "f1cfb4b0-50b8-4ff7-90cc-f85f37630287"
      },
      "source": [
        "# def 함수명(매개변수):\n",
        "#   <수행문>\n",
        "#   return <반환값>\n",
        "\n",
        "def hello():\n",
        "  print(\"Hello Python\")\n",
        "\n",
        "hello()"
      ],
      "execution_count": null,
      "outputs": [
        {
          "output_type": "stream",
          "text": [
            "Hello Python\n"
          ],
          "name": "stdout"
        }
      ]
    },
    {
      "cell_type": "markdown",
      "metadata": {
        "id": "eeldN6Kq20h4"
      },
      "source": [
        "### 매개변수만 있는 함수\n",
        "\n",
        "* 문자열 매개변수를 사용한 함수"
      ]
    },
    {
      "cell_type": "code",
      "metadata": {
        "id": "DhVqlr5f24Px",
        "colab": {
          "base_uri": "https://localhost:8080/",
          "height": 36
        },
        "outputId": "217b6ee1-10c8-4793-a96e-827674b235eb"
      },
      "source": [
        "def hello(string):\n",
        "  print(\"Hello\", string)\n",
        "\n",
        "hello(\"Python\")"
      ],
      "execution_count": null,
      "outputs": [
        {
          "output_type": "stream",
          "text": [
            "Hello Python\n"
          ],
          "name": "stdout"
        }
      ]
    },
    {
      "cell_type": "markdown",
      "metadata": {
        "id": "mmzbeJNq3uMA"
      },
      "source": [
        "### 반환 값만 있는 함수\n",
        "\n",
        "* 문자열 반환 값을 사용한 함수"
      ]
    },
    {
      "cell_type": "code",
      "metadata": {
        "id": "hv7QPvAN33bB",
        "colab": {
          "base_uri": "https://localhost:8080/",
          "height": 36
        },
        "outputId": "0c40c47d-e5e6-4eb3-81e1-45eb38349811"
      },
      "source": [
        "def hello():\n",
        "  return \"Heloo Python\"\n",
        "\n",
        "hello()"
      ],
      "execution_count": null,
      "outputs": [
        {
          "output_type": "execute_result",
          "data": {
            "application/vnd.google.colaboratory.intrinsic": {
              "type": "string"
            },
            "text/plain": [
              "'Heloo Python'"
            ]
          },
          "metadata": {
            "tags": []
          },
          "execution_count": 3
        }
      ]
    },
    {
      "cell_type": "markdown",
      "metadata": {
        "id": "KY_pW4pZ4CbM"
      },
      "source": [
        "### 매개변수와 반환 값이 있는 함수\n",
        "\n",
        "* 정수형 매개변수와 반환 값을 사용한 함수"
      ]
    },
    {
      "cell_type": "code",
      "metadata": {
        "id": "c3aDaQLX4Hwf",
        "colab": {
          "base_uri": "https://localhost:8080/",
          "height": 36
        },
        "outputId": "d25babc2-93b6-4d39-ba92-0a98862ee584"
      },
      "source": [
        "def square(num):\n",
        "  return num * num\n",
        "\n",
        "square(5)"
      ],
      "execution_count": null,
      "outputs": [
        {
          "output_type": "execute_result",
          "data": {
            "text/plain": [
              "25"
            ]
          },
          "metadata": {
            "tags": []
          },
          "execution_count": 5
        }
      ]
    },
    {
      "cell_type": "markdown",
      "metadata": {
        "id": "BY9mQXbf4TRK"
      },
      "source": [
        "### 매개변수가 여러개 있는 함수\n",
        "\n",
        "* 정수형 매개변수 여러개를 사용한 함수\n",
        "* 매개변수를 지정하여 호출 가능"
      ]
    },
    {
      "cell_type": "code",
      "metadata": {
        "id": "DBc8hUNE4YKr",
        "colab": {
          "base_uri": "https://localhost:8080/",
          "height": 55
        },
        "outputId": "aff272c0-7c4d-442d-a92b-a5af5cdd4c3c"
      },
      "source": [
        "def add(n1, n2):\n",
        "  return n1+n2\n",
        "\n",
        "print(add(5,8))\n",
        "print(add(n2=5,n1=8))"
      ],
      "execution_count": null,
      "outputs": [
        {
          "output_type": "stream",
          "text": [
            "13\n",
            "13\n"
          ],
          "name": "stdout"
        }
      ]
    },
    {
      "cell_type": "markdown",
      "metadata": {
        "id": "meUZXmUR4knx"
      },
      "source": [
        "### 키워드 매개변수\n",
        "\n",
        "* 함수의 매개변수를 변수명을 지정하여 호출 가능"
      ]
    },
    {
      "cell_type": "code",
      "metadata": {
        "id": "k0FipvNp4pXl",
        "colab": {
          "base_uri": "https://localhost:8080/",
          "height": 36
        },
        "outputId": "e43fae2f-2e24-4fff-e2c4-087a12862c77"
      },
      "source": [
        "def add(n1, n2):\n",
        "  return n1+n2\n",
        "\n",
        "print(add(n2=5,n1=8))"
      ],
      "execution_count": null,
      "outputs": [
        {
          "output_type": "stream",
          "text": [
            "13\n"
          ],
          "name": "stdout"
        }
      ]
    },
    {
      "cell_type": "markdown",
      "metadata": {
        "id": "3f_8Jxyh5EKA"
      },
      "source": [
        "### 가변 매개변수\n",
        "\n",
        "* 매개변수가 몇 개인지 알 수 없을 때 사용\n",
        "* 매개변수 앞에 '*'을 표시"
      ]
    },
    {
      "cell_type": "code",
      "metadata": {
        "id": "uVpBRKq65JLe",
        "colab": {
          "base_uri": "https://localhost:8080/",
          "height": 55
        },
        "outputId": "a9461835-1e8d-4e2a-ad4f-2da5b32e94c4"
      },
      "source": [
        "def sum(*args):\n",
        "  result=0\n",
        "  for i in args:\n",
        "    result=result+i\n",
        "  return result\n",
        "\n",
        "print(sum(1,2,3))\n",
        "print(sum(1,2,3,4,5))"
      ],
      "execution_count": null,
      "outputs": [
        {
          "output_type": "stream",
          "text": [
            "6\n",
            "15\n"
          ],
          "name": "stdout"
        }
      ]
    },
    {
      "cell_type": "markdown",
      "metadata": {
        "id": "czo-wmdL5YRR"
      },
      "source": [
        "### 가변 키워드 매개변수\n",
        "\n",
        "* 매개변수의 이름을 따로 지정하지 않고 사용\n",
        "* 매개변수 앞에 '**'을 표시"
      ]
    },
    {
      "cell_type": "code",
      "metadata": {
        "id": "jcPIBpWF5d9N",
        "colab": {
          "base_uri": "https://localhost:8080/",
          "height": 55
        },
        "outputId": "af5dfb98-9dc6-4f46-e14a-eb512892fb4e"
      },
      "source": [
        "def print_kwargs(**kwargs):\n",
        "  print(kwargs)\n",
        "\n",
        "print_kwargs(n1=5,n2=8)\n",
        "print_kwargs(id=\"suan\",pw=\"1234\")"
      ],
      "execution_count": null,
      "outputs": [
        {
          "output_type": "stream",
          "text": [
            "{'n1': 5, 'n2': 8}\n",
            "{'id': 'suan', 'pw': '1234'}\n"
          ],
          "name": "stdout"
        }
      ]
    },
    {
      "cell_type": "markdown",
      "metadata": {
        "id": "BcE5o1GR5ugB"
      },
      "source": [
        "### 초기값 매개변수\n",
        "\n",
        "* 매개변수에 초기값을 설정하여 사용\n",
        "* 함수에 매개변수를 사용하지 않을 때 초기값을 사용"
      ]
    },
    {
      "cell_type": "code",
      "metadata": {
        "id": "Wdsz0tcZ50s_",
        "colab": {
          "base_uri": "https://localhost:8080/",
          "height": 92
        },
        "outputId": "25f5672d-fbc9-46b5-b32c-eeece87ff105"
      },
      "source": [
        "def power(b=2,n=2):\n",
        "  return pow(b,n)\n",
        "\n",
        "print(power())\n",
        "print(power(3))\n",
        "print(power(5,2))\n",
        "print(power(n=3))"
      ],
      "execution_count": null,
      "outputs": [
        {
          "output_type": "stream",
          "text": [
            "4\n",
            "9\n",
            "25\n",
            "8\n"
          ],
          "name": "stdout"
        }
      ]
    },
    {
      "cell_type": "markdown",
      "metadata": {
        "id": "zEmGFAyv6ARs"
      },
      "source": [
        "### 여러 반환 값이 있는 함수\n",
        "\n",
        "* 함수의 반환값은 하나\n",
        "* 여러 반환값을 사용할 경우 튜플 형태로 반환"
      ]
    },
    {
      "cell_type": "code",
      "metadata": {
        "id": "4uA_PmQR6FW5",
        "colab": {
          "base_uri": "https://localhost:8080/",
          "height": 55
        },
        "outputId": "b77b45be-9694-4d9e-b457-228dd1226568"
      },
      "source": [
        "def plus_and_minus(n1,n2):\n",
        "  return n1+n2, n1-n2\n",
        "\n",
        "result=plus_and_minus(8,5)\n",
        "print(result)\n",
        "\n",
        "result1, result2 = plus_and_minus(8,5)\n",
        "print(result1,result2)"
      ],
      "execution_count": null,
      "outputs": [
        {
          "output_type": "stream",
          "text": [
            "(13, 3)\n",
            "13 3\n"
          ],
          "name": "stdout"
        }
      ]
    },
    {
      "cell_type": "markdown",
      "metadata": {
        "id": "XM8NFJC96cX7"
      },
      "source": [
        "### [Lab] 계산기 함수\n",
        "\n",
        "* 두 수에 대해서 덧셈, 뺄셈, 곱셈, 나눗셈을 수행하는 함수"
      ]
    },
    {
      "cell_type": "code",
      "metadata": {
        "id": "XDXeVHIJ6gpm",
        "colab": {
          "base_uri": "https://localhost:8080/",
          "height": 55
        },
        "outputId": "9d55612f-0236-4715-c70c-65292e02aac7"
      },
      "source": [
        "def calc(op, n1,n2):\n",
        "  result=0\n",
        "  if op == '+':\n",
        "    result = n1 + n2\n",
        "  elif op == '-':\n",
        "    result = n1 - n2\n",
        "  elif op == '*':\n",
        "    result = n1 * n2\n",
        "  elif op == '/':\n",
        "    result = n1 / n2\n",
        "\n",
        "  return result\n",
        "\n",
        "print(calc('+',8,5))\n",
        "print(calc('*',8,5))"
      ],
      "execution_count": null,
      "outputs": [
        {
          "output_type": "stream",
          "text": [
            "13\n",
            "40\n"
          ],
          "name": "stdout"
        }
      ]
    },
    {
      "cell_type": "markdown",
      "metadata": {
        "id": "GXfPMgdV696x"
      },
      "source": [
        "### [Lab] 가변 매개변수의 평균값 계산\n",
        "\n",
        "* 가변 매개변수로 들어오는 모든 수의 평균값 계산"
      ]
    },
    {
      "cell_type": "code",
      "metadata": {
        "id": "xgVFwpIm7CPY",
        "colab": {
          "base_uri": "https://localhost:8080/",
          "height": 36
        },
        "outputId": "0f98c738-9299-4dc5-d5be-5f936e69b64f"
      },
      "source": [
        "def avg(*args):\n",
        "  sum = 0\n",
        "  for i in args:\n",
        "    sum += i\n",
        "  return (sum/len(args))\n",
        "\n",
        "print(avg(1,2,3,4,5))"
      ],
      "execution_count": null,
      "outputs": [
        {
          "output_type": "stream",
          "text": [
            "3.0\n"
          ],
          "name": "stdout"
        }
      ]
    },
    {
      "cell_type": "markdown",
      "metadata": {
        "id": "G8OTXx4aw7mY"
      },
      "source": [
        "\n",
        "\n",
        "---\n",
        "\n"
      ]
    },
    {
      "cell_type": "markdown",
      "metadata": {
        "id": "4y7j6wwPw9zd"
      },
      "source": [
        "## 변수의 유효범위\n"
      ]
    },
    {
      "cell_type": "markdown",
      "metadata": {
        "id": "UjzGwc9D7b9d"
      },
      "source": [
        "### 유효 범위\n",
        "\n",
        "* 변수는 유효한 범위가 존재\n",
        "* 함수 안에서 선언된 변수는 함수 내부에서 유효함"
      ]
    },
    {
      "cell_type": "code",
      "metadata": {
        "id": "vvew4Dhq7gYv",
        "colab": {
          "base_uri": "https://localhost:8080/",
          "height": 36
        },
        "outputId": "f292659c-5482-47ce-f0d5-67e99c257d15"
      },
      "source": [
        "def var_scope(a):\n",
        "  a=a+1\n",
        "\n",
        "a=10\n",
        "var_scope(a)\n",
        "print(a)\n",
        "\n",
        "#똑같은 변수 이름을 갖더라도 함수안에서만 작동"
      ],
      "execution_count": null,
      "outputs": [
        {
          "output_type": "stream",
          "text": [
            "10\n"
          ],
          "name": "stdout"
        }
      ]
    },
    {
      "cell_type": "markdown",
      "metadata": {
        "id": "7O3U3dYT7nXD"
      },
      "source": [
        "### 변수의 종류\n",
        "\n",
        "* 지역 변수: 한정된 지역에서만 사용되는 변수\n",
        "* 전역 변수: 프로그램 전체에서 사용되는 변수"
      ]
    },
    {
      "cell_type": "code",
      "metadata": {
        "id": "dhTOG0Uj7tOL",
        "colab": {
          "base_uri": "https://localhost:8080/",
          "height": 55
        },
        "outputId": "c46a78c3-6f61-480a-9ff5-0942d1072d52"
      },
      "source": [
        "a=10\n",
        "def func1():\n",
        "  a=20\n",
        "  print(a)\n",
        "\n",
        "def func2():\n",
        "  print(a)\n",
        "\n",
        "func1()\n",
        "func2()\n",
        "\n",
        "#20은 지역변수, 10은 지역변수"
      ],
      "execution_count": null,
      "outputs": [
        {
          "output_type": "stream",
          "text": [
            "20\n",
            "10\n"
          ],
          "name": "stdout"
        }
      ]
    },
    {
      "cell_type": "markdown",
      "metadata": {
        "id": "3-OF8own71vk"
      },
      "source": [
        "### 전역 변수 사용 global\n",
        "\n",
        "* 함수 내부에서 전역 변수를 사용하기 위한 `global` 키워드"
      ]
    },
    {
      "cell_type": "code",
      "metadata": {
        "id": "J_P_WGSr75jp",
        "colab": {
          "base_uri": "https://localhost:8080/",
          "height": 55
        },
        "outputId": "40420fbf-e2c9-41f3-e389-97d8ecddcd82"
      },
      "source": [
        "a=10\n",
        "def func1():\n",
        "  global a\n",
        "  a=20\n",
        "  print(a)\n",
        "\n",
        "def func2():\n",
        "  print(a)\n",
        "\n",
        "func1()\n",
        "func2()\n",
        "\n",
        "#위의 실행에서 바뀐건 global a밖에 없음"
      ],
      "execution_count": null,
      "outputs": [
        {
          "output_type": "stream",
          "text": [
            "20\n",
            "20\n"
          ],
          "name": "stdout"
        }
      ]
    },
    {
      "cell_type": "markdown",
      "metadata": {
        "id": "NxjgnIKoxGkH"
      },
      "source": [
        "\n",
        "\n",
        "---\n",
        "\n"
      ]
    },
    {
      "cell_type": "markdown",
      "metadata": {
        "id": "8x-oWtbBxCpE"
      },
      "source": [
        "## 함수 심화"
      ]
    },
    {
      "cell_type": "markdown",
      "metadata": {
        "id": "GbFr5qM78B41"
      },
      "source": [
        "### 내부 함수(Nested Function)\n",
        "\n",
        "* 함수 안에 함수가 존재\n",
        "* 내부 함수는 외부에서 호출 불가"
      ]
    },
    {
      "cell_type": "code",
      "metadata": {
        "id": "6aBHDw7x8Gr5",
        "colab": {
          "base_uri": "https://localhost:8080/",
          "height": 36
        },
        "outputId": "ae9feb14-4f01-4212-bbe0-dc07e3109063"
      },
      "source": [
        "def func1(n1, n2):\n",
        "  def func2(num1,num2):\n",
        "    return num1+num2\n",
        "  return func2(n1,n2)\n",
        "\n",
        "print(func1(5, 8))"
      ],
      "execution_count": null,
      "outputs": [
        {
          "output_type": "stream",
          "text": [
            "13\n"
          ],
          "name": "stdout"
        }
      ]
    },
    {
      "cell_type": "markdown",
      "metadata": {
        "id": "RMlNesEi87cD"
      },
      "source": [
        "### 재귀 함수(Recursive Function)\n",
        "\n",
        "* 함수가 자기 자신을 다시 부르는 함수\n",
        "* `count()` 함수 내부에서 `count()` 함수를 호출\n",
        "* 재귀적으로 카운트 수를 출력"
      ]
    },
    {
      "cell_type": "code",
      "metadata": {
        "id": "ATwXBqDH9Fuk",
        "colab": {
          "base_uri": "https://localhost:8080/",
          "height": 36
        },
        "outputId": "0e4417b9-02c0-49e1-d2e1-5514f919a52a"
      },
      "source": [
        "def count(n):\n",
        "  if n>= 1:\n",
        "    print(n,end=' ')\n",
        "    count(n-1)\n",
        "  else:\n",
        "    return\n",
        "\n",
        "count(10)"
      ],
      "execution_count": null,
      "outputs": [
        {
          "output_type": "stream",
          "text": [
            "10 9 8 7 6 5 4 3 2 1 "
          ],
          "name": "stdout"
        }
      ]
    },
    {
      "cell_type": "markdown",
      "metadata": {
        "id": "8GTG0ukpIfRm"
      },
      "source": [
        "#### [Lab] 재귀 함수를 이용한 합계\n",
        "\n",
        "* `sum()` 함수 내부에서 `sum()` 함수를 호출\n",
        "* 재귀적으로 합계를 계산"
      ]
    },
    {
      "cell_type": "code",
      "metadata": {
        "id": "5oIubHWwHj_j",
        "colab": {
          "base_uri": "https://localhost:8080/",
          "height": 55
        },
        "outputId": "04872a8e-d43d-419a-bc23-ba159cd9d6ce"
      },
      "source": [
        "def sum(n):\n",
        "  if n==1:\n",
        "    return 1\n",
        "  else:\n",
        "    return n + sum(n-1)\n",
        "\n",
        "print(sum(10))\n",
        "print(sum(100))"
      ],
      "execution_count": null,
      "outputs": [
        {
          "output_type": "stream",
          "text": [
            "55\n",
            "5050\n"
          ],
          "name": "stdout"
        }
      ]
    },
    {
      "cell_type": "markdown",
      "metadata": {
        "id": "fB5LHNGv9v_U"
      },
      "source": [
        "#### [Lab] 팩토리얼 함수(Factorial Function)\n",
        "\n",
        "* 팩토리얼(factorial) 함수는 대표적인 재귀 함수\n",
        "* 팩토리얼 함수: $n!=1 \\times 2 \\times 3 \\dots (n-2) \\times (n-1) \\times n = n! = n \\times (n-1)!$"
      ]
    },
    {
      "cell_type": "code",
      "metadata": {
        "id": "Mh_3nSfC9ggl",
        "colab": {
          "base_uri": "https://localhost:8080/",
          "height": 73
        },
        "outputId": "d5c19760-03db-4c71-c450-c9a6d1c89b78"
      },
      "source": [
        "def factorial(n):\n",
        "  if n == 1:\n",
        "    return 1\n",
        "  else:\n",
        "    return n * factorial(n-1)\n",
        "\n",
        "print(factorial(3))\n",
        "print(factorial(5))\n",
        "print(factorial(10))"
      ],
      "execution_count": null,
      "outputs": [
        {
          "output_type": "stream",
          "text": [
            "6\n",
            "120\n",
            "3628800\n"
          ],
          "name": "stdout"
        }
      ]
    },
    {
      "cell_type": "markdown",
      "metadata": {
        "id": "zxfnzzyh_CVn"
      },
      "source": [
        "### 람다 함수(Lambda Function)\n",
        "\n",
        "* 함수를 한 줄로 간결하게 만들어 사용"
      ]
    },
    {
      "cell_type": "code",
      "metadata": {
        "id": "Dm05soHF-7O1",
        "colab": {
          "base_uri": "https://localhost:8080/",
          "height": 55
        },
        "outputId": "d638ba80-9b31-4ce8-8bdd-c128c0bdbbf2"
      },
      "source": [
        "def add(n1,n2):\n",
        "  return n1+n2\n",
        "\n",
        "print(add(5,8))\n",
        "\n",
        "add2=lambda n1,n2 : n1 + n2\n",
        "print(add2(5,8))"
      ],
      "execution_count": null,
      "outputs": [
        {
          "output_type": "stream",
          "text": [
            "13\n",
            "13\n"
          ],
          "name": "stdout"
        }
      ]
    },
    {
      "cell_type": "markdown",
      "metadata": {
        "id": "Rwi3kI22_tMu"
      },
      "source": [
        "#### map()\n",
        "\n",
        "* `map()`: built-in 함수로 list 나 dictionary 와 같은 iterable 한 데이터를 인자로 받아 list 안의 개별 item을 함수의 인자로 전달하여 결과를 list로 형태로 반환해 주는 함수\n",
        "* 람다 함수와 `map()` 함수를 이용한 리스트 계산"
      ]
    },
    {
      "cell_type": "code",
      "metadata": {
        "id": "1TajyYRT_Sld",
        "colab": {
          "base_uri": "https://localhost:8080/",
          "height": 36
        },
        "outputId": "10c378b7-cf68-4837-8e1e-7724a9982844"
      },
      "source": [
        "li = [1,2,3,4,5]\n",
        "square = lambda n : n*n\n",
        "li = list(map(square, li))\n",
        "print(li)"
      ],
      "execution_count": null,
      "outputs": [
        {
          "output_type": "stream",
          "text": [
            "[1, 4, 9, 16, 25]\n"
          ],
          "name": "stdout"
        }
      ]
    },
    {
      "cell_type": "code",
      "metadata": {
        "id": "tSiiIydTABWe",
        "colab": {
          "base_uri": "https://localhost:8080/",
          "height": 36
        },
        "outputId": "31256344-2011-4e60-a2ce-5019dfbf7e55"
      },
      "source": [
        "li_1=[1,2,3,4,5]\n",
        "li_2=[6,7,8,9,10]\n",
        "li=list(map(lambda n_1,n_2 : n_1 + n_2, li_1, li_2))\n",
        "print(li)"
      ],
      "execution_count": null,
      "outputs": [
        {
          "output_type": "stream",
          "text": [
            "[7, 9, 11, 13, 15]\n"
          ],
          "name": "stdout"
        }
      ]
    },
    {
      "cell_type": "markdown",
      "metadata": {
        "id": "GjjDPmSgGST7"
      },
      "source": [
        "### filter()\n",
        "\n",
        "* `filter()` 함수: iterable 한 데이터를 인자로 개별 item을 특정 조건에 해당하는 값으로만 필터링\n",
        "* 람다 함수와 `filter()` 함수를 이용한 리스트 필터링"
      ]
    },
    {
      "cell_type": "code",
      "metadata": {
        "id": "Uplpmb0kGMVt",
        "colab": {
          "base_uri": "https://localhost:8080/",
          "height": 55
        },
        "outputId": "a02fc0aa-da5f-4f26-f7de-80468d86b61d"
      },
      "source": [
        "li = list(range(10))\n",
        "print(li)\n",
        "evens = filter(lambda n:n % 2 is 0, li)\n",
        "print(list(evens))"
      ],
      "execution_count": null,
      "outputs": [
        {
          "output_type": "stream",
          "text": [
            "[0, 1, 2, 3, 4, 5, 6, 7, 8, 9]\n",
            "[0, 2, 4, 6, 8]\n"
          ],
          "name": "stdout"
        }
      ]
    },
    {
      "cell_type": "markdown",
      "metadata": {
        "id": "upgP4WxEG347"
      },
      "source": [
        "### reduce()\n",
        "\n",
        "* reduce() 함수: iterable 한 데이터를 인자로 받아 개별 item을 축약하여 하나의 값으로 만들어 가는 과정\n",
        "* 람다 함수와 reduce() 함수를 이용한 리스트 계산"
      ]
    },
    {
      "cell_type": "code",
      "metadata": {
        "id": "7-O3VyyYGexM",
        "colab": {
          "base_uri": "https://localhost:8080/",
          "height": 55
        },
        "outputId": "f2c5083a-85b2-4226-982b-10baa39f0a2e"
      },
      "source": [
        "import functools\n",
        "li = list(range(10))\n",
        "print(li)\n",
        "sum=functools.reduce(lambda x,y: x+y,li)\n",
        "print(sum)\n",
        "len = functools.reduce(lambda x,y:x+1, li,0)"
      ],
      "execution_count": null,
      "outputs": [
        {
          "output_type": "stream",
          "text": [
            "[0, 1, 2, 3, 4, 5, 6, 7, 8, 9]\n",
            "45\n"
          ],
          "name": "stdout"
        }
      ]
    },
    {
      "cell_type": "markdown",
      "metadata": {
        "id": "QJg6wYdSHKFh"
      },
      "source": [
        "## 제너레이터(generator)와 yield\n",
        "\n",
        "* 함수 안에서 yield를 사용하면 제너레이터\n",
        "* yield: 함수를 끝내지 않고 값을 계속 반환"
      ]
    },
    {
      "cell_type": "code",
      "metadata": {
        "id": "iI142ekSHH5z",
        "colab": {
          "base_uri": "https://localhost:8080/",
          "height": 55
        },
        "outputId": "cfd4d3a4-b10a-41c8-d92d-4f7513cc2376"
      },
      "source": [
        "def gen():\n",
        "  yield 1\n",
        "  yield 2\n",
        "  yield 3\n",
        "\n",
        "print(gen())\n",
        "print(list(gen()))"
      ],
      "execution_count": null,
      "outputs": [
        {
          "output_type": "stream",
          "text": [
            "<generator object gen at 0x7f56b82bb888>\n",
            "[1, 2, 3]\n"
          ],
          "name": "stdout"
        }
      ]
    },
    {
      "cell_type": "code",
      "metadata": {
        "id": "aVpEaM_jHX0_",
        "colab": {
          "base_uri": "https://localhost:8080/",
          "height": 73
        },
        "outputId": "94718bd8-e0f5-441f-f408-a97bae164e04"
      },
      "source": [
        "for i in gen():\n",
        "  print(i)"
      ],
      "execution_count": null,
      "outputs": [
        {
          "output_type": "stream",
          "text": [
            "1\n",
            "2\n",
            "3\n"
          ],
          "name": "stdout"
        }
      ]
    },
    {
      "cell_type": "code",
      "metadata": {
        "id": "phpfTn9gHeUy",
        "colab": {
          "base_uri": "https://localhost:8080/",
          "height": 73
        },
        "outputId": "153fd59d-f33e-4ae8-8132-8852094a5d7f"
      },
      "source": [
        "g = gen()\n",
        "print(next(g))\n",
        "print(next(g))\n",
        "print(next(g))"
      ],
      "execution_count": null,
      "outputs": [
        {
          "output_type": "stream",
          "text": [
            "1\n",
            "2\n",
            "3\n"
          ],
          "name": "stdout"
        }
      ]
    },
    {
      "cell_type": "markdown",
      "metadata": {
        "id": "vCwxB_lyIv5D"
      },
      "source": [
        "### [Lab] 짝수만 생성하는 제너레이터\n",
        "\n",
        "* 0 ~ n개의 숫자 중에서 짝수만 생성하는 제너레이터 함수 생성"
      ]
    },
    {
      "cell_type": "code",
      "metadata": {
        "id": "U3T8U0tpItDl",
        "colab": {
          "base_uri": "https://localhost:8080/",
          "height": 111
        },
        "outputId": "962ab0b1-9727-4810-9332-2dadf03e91e9"
      },
      "source": [
        "def gen_even(n):\n",
        "  for i in range(n):\n",
        "    if i % 2 == 0:\n",
        "      yield i\n",
        "\n",
        "for i in gen_even(10):\n",
        "  print(i)"
      ],
      "execution_count": null,
      "outputs": [
        {
          "output_type": "stream",
          "text": [
            "0\n",
            "2\n",
            "4\n",
            "6\n",
            "8\n"
          ],
          "name": "stdout"
        }
      ]
    }
  ]
}