{
  "nbformat": 4,
  "nbformat_minor": 0,
  "metadata": {
    "colab": {
      "name": "성정아 - _01 파이썬 프로그래밍 언어.ipynb",
      "provenance": [],
      "collapsed_sections": []
    },
    "kernelspec": {
      "name": "python3",
      "display_name": "Python 3"
    }
  },
  "cells": [
    {
      "cell_type": "markdown",
      "metadata": {
        "id": "bg5ZXMV2sn1M"
      },
      "source": [
        "# 파이썬 프로그래밍 언어(Python Programming Language)"
      ]
    },
    {
      "cell_type": "markdown",
      "metadata": {
        "id": "Lj_iZPKnCRP0"
      },
      "source": [
        "\n",
        "\n",
        "---\n",
        "\n"
      ]
    },
    {
      "cell_type": "markdown",
      "metadata": {
        "id": "qHumj4Amv_r0"
      },
      "source": [
        "## 파이썬 시작하기\n",
        "\n",
        "* 프로그래밍 언어를 배울 때 보통 가장 먼저 하는 것은 인사\n",
        "* 가장 기본이 되는 화면 출력 함수인 `print()`를 이용해서 문자열 \"Hello Python\"을 출력"
      ]
    },
    {
      "cell_type": "code",
      "metadata": {
        "id": "wGQsH_uNlSbS",
        "colab": {
          "base_uri": "https://localhost:8080/",
          "height": 36
        },
        "outputId": "8a2129c5-d50a-4bfc-9d59-0c3d4c79ce9e"
      },
      "source": [
        "print(\"Hello Python\")"
      ],
      "execution_count": null,
      "outputs": [
        {
          "output_type": "stream",
          "text": [
            "Hello Python\n"
          ],
          "name": "stdout"
        }
      ]
    },
    {
      "cell_type": "markdown",
      "metadata": {
        "id": "6LUMthH9Lf9Z"
      },
      "source": [
        "## 파이썬으로 계산하기"
      ]
    },
    {
      "cell_type": "markdown",
      "metadata": {
        "id": "zImoFsf6T4U9"
      },
      "source": [
        "### 사칙연산\n",
        "\n",
        "* 파이썬에서는 기본적인 산술 연산을 바로 수행 가능\n",
        "* 더하기, 빼기, 곱하기, 나누기 같은 간단한 산술연산 예제"
      ]
    },
    {
      "cell_type": "code",
      "metadata": {
        "id": "VaRaodRLF6N_",
        "colab": {
          "base_uri": "https://localhost:8080/",
          "height": 36
        },
        "outputId": "da994dca-1c8e-4c7d-fe64-11228c687c1c"
      },
      "source": [
        "1+1"
      ],
      "execution_count": null,
      "outputs": [
        {
          "output_type": "execute_result",
          "data": {
            "text/plain": [
              "2"
            ]
          },
          "metadata": {
            "tags": []
          },
          "execution_count": 2
        }
      ]
    },
    {
      "cell_type": "code",
      "metadata": {
        "id": "zpBz_0y9H_7I",
        "colab": {
          "base_uri": "https://localhost:8080/",
          "height": 36
        },
        "outputId": "cac5941e-0bc5-4da1-a13c-0f4231510939"
      },
      "source": [
        "5-1"
      ],
      "execution_count": null,
      "outputs": [
        {
          "output_type": "execute_result",
          "data": {
            "text/plain": [
              "4"
            ]
          },
          "metadata": {
            "tags": []
          },
          "execution_count": 4
        }
      ]
    },
    {
      "cell_type": "code",
      "metadata": {
        "id": "PLTZwXWFHPmv",
        "colab": {
          "base_uri": "https://localhost:8080/",
          "height": 36
        },
        "outputId": "c8d38558-0707-4b09-9185-c10fa2127191"
      },
      "source": [
        "4*3"
      ],
      "execution_count": null,
      "outputs": [
        {
          "output_type": "execute_result",
          "data": {
            "text/plain": [
              "12"
            ]
          },
          "metadata": {
            "tags": []
          },
          "execution_count": 5
        }
      ]
    },
    {
      "cell_type": "code",
      "metadata": {
        "id": "8BFrh9HmHVkz",
        "colab": {
          "base_uri": "https://localhost:8080/",
          "height": 36
        },
        "outputId": "7ac7cea5-60a0-4e98-a359-a4e75b41f5e1"
      },
      "source": [
        "3/5"
      ],
      "execution_count": null,
      "outputs": [
        {
          "output_type": "execute_result",
          "data": {
            "text/plain": [
              "0.6"
            ]
          },
          "metadata": {
            "tags": []
          },
          "execution_count": 6
        }
      ]
    },
    {
      "cell_type": "markdown",
      "metadata": {
        "id": "G3WJblW4KKLh"
      },
      "source": [
        "### 실수 사칙연산\n",
        "\n",
        "* 실수에 대해서도 사칙연산 가능"
      ]
    },
    {
      "cell_type": "code",
      "metadata": {
        "id": "SUWi_GcFKSH5",
        "colab": {
          "base_uri": "https://localhost:8080/",
          "height": 36
        },
        "outputId": "b798f0b2-47cc-41b7-c1bc-ccd14dc2ef20"
      },
      "source": [
        " 1.1+2.4"
      ],
      "execution_count": null,
      "outputs": [
        {
          "output_type": "execute_result",
          "data": {
            "text/plain": [
              "3.5"
            ]
          },
          "metadata": {
            "tags": []
          },
          "execution_count": 9
        }
      ]
    },
    {
      "cell_type": "code",
      "metadata": {
        "id": "CqBZeD9oKU72",
        "colab": {
          "base_uri": "https://localhost:8080/",
          "height": 36
        },
        "outputId": "b37673ea-ad06-4780-8e32-2425d867bb16"
      },
      "source": [
        "4.2-1.2"
      ],
      "execution_count": null,
      "outputs": [
        {
          "output_type": "execute_result",
          "data": {
            "text/plain": [
              "3.0"
            ]
          },
          "metadata": {
            "tags": []
          },
          "execution_count": 10
        }
      ]
    },
    {
      "cell_type": "code",
      "metadata": {
        "id": "s1xyEhRJKXZL",
        "colab": {
          "base_uri": "https://localhost:8080/",
          "height": 36
        },
        "outputId": "f4071357-a204-46b6-cda6-367e04aab486"
      },
      "source": [
        "1.2*2.2"
      ],
      "execution_count": null,
      "outputs": [
        {
          "output_type": "execute_result",
          "data": {
            "text/plain": [
              "2.64"
            ]
          },
          "metadata": {
            "tags": []
          },
          "execution_count": 11
        }
      ]
    },
    {
      "cell_type": "code",
      "metadata": {
        "id": "XKz3Ahc6KZwu",
        "colab": {
          "base_uri": "https://localhost:8080/",
          "height": 36
        },
        "outputId": "503dafb5-b3bf-48fb-8983-caff2710c43d"
      },
      "source": [
        "5.4/2.7"
      ],
      "execution_count": null,
      "outputs": [
        {
          "output_type": "execute_result",
          "data": {
            "text/plain": [
              "2.0"
            ]
          },
          "metadata": {
            "tags": []
          },
          "execution_count": 12
        }
      ]
    },
    {
      "cell_type": "markdown",
      "metadata": {
        "id": "2g1kd0ReKnvh"
      },
      "source": [
        "### 복잡한 연산\n",
        "\n",
        "* 여러 산술연산들이 포함된 복잡한 연산들도 가능"
      ]
    },
    {
      "cell_type": "code",
      "metadata": {
        "id": "06Tq0A94KvqH",
        "colab": {
          "base_uri": "https://localhost:8080/",
          "height": 36
        },
        "outputId": "1909d5f6-26d6-4a81-e898-e98736f1aa6b"
      },
      "source": [
        "1+2+3/3*2"
      ],
      "execution_count": null,
      "outputs": [
        {
          "output_type": "execute_result",
          "data": {
            "text/plain": [
              "5.0"
            ]
          },
          "metadata": {
            "tags": []
          },
          "execution_count": 13
        }
      ]
    },
    {
      "cell_type": "code",
      "metadata": {
        "id": "zODjpBPxKyKy",
        "colab": {
          "base_uri": "https://localhost:8080/",
          "height": 36
        },
        "outputId": "f2a99125-c528-4dff-f7fa-7722509563b3"
      },
      "source": [
        "4/2*2-10/4"
      ],
      "execution_count": null,
      "outputs": [
        {
          "output_type": "execute_result",
          "data": {
            "text/plain": [
              "1.5"
            ]
          },
          "metadata": {
            "tags": []
          },
          "execution_count": 14
        }
      ]
    },
    {
      "cell_type": "code",
      "metadata": {
        "id": "yCDpG51AK6Vm",
        "colab": {
          "base_uri": "https://localhost:8080/",
          "height": 36
        },
        "outputId": "0626fb22-3d18-40ea-f738-6a49cc4964ee"
      },
      "source": [
        "(10-2+4)/(1+2)*(10*4)"
      ],
      "execution_count": null,
      "outputs": [
        {
          "output_type": "execute_result",
          "data": {
            "text/plain": [
              "160.0"
            ]
          },
          "metadata": {
            "tags": []
          },
          "execution_count": 16
        }
      ]
    },
    {
      "cell_type": "markdown",
      "metadata": {
        "id": "dI2C7NDyQ_Uq"
      },
      "source": [
        "\n",
        "\n",
        "---\n",
        "\n"
      ]
    },
    {
      "cell_type": "markdown",
      "metadata": {
        "id": "FiUzzSZOVuIK"
      },
      "source": [
        "## 파이썬 문법(Python Syntax)\n"
      ]
    },
    {
      "cell_type": "markdown",
      "metadata": {
        "id": "Ia0eyXfzV5b7"
      },
      "source": [
        "### 들여쓰기(Indentation)\n",
        "\n",
        "* 코드 라인의 시작 부분에 들여쓰기\n",
        "* 파이썬은 들여쓰기로 코드의 블록을 표시"
      ]
    },
    {
      "cell_type": "code",
      "metadata": {
        "id": "jDZmAkxVV32c",
        "colab": {
          "base_uri": "https://localhost:8080/",
          "height": 36
        },
        "outputId": "1cc6445a-b04b-4e9e-e651-21002dc2ca27"
      },
      "source": [
        "if 2>1:\n",
        "  print(2)"
      ],
      "execution_count": null,
      "outputs": [
        {
          "output_type": "stream",
          "text": [
            "2\n"
          ],
          "name": "stdout"
        }
      ]
    },
    {
      "cell_type": "markdown",
      "metadata": {
        "id": "XmkeU7cUWy2A"
      },
      "source": [
        "### 주석(Comments)\n",
        "\n",
        "* 코드에 대해 설명하는데 사용하고 가독성 증가\n",
        "* 일부 코드를 주석처리하여 실행 방지 가능"
      ]
    },
    {
      "cell_type": "code",
      "metadata": {
        "id": "qw9MLmHrW16P"
      },
      "source": [
        "###산업공학과\n",
        "##201811944\n",
        "#성정아"
      ],
      "execution_count": null,
      "outputs": []
    },
    {
      "cell_type": "code",
      "metadata": {
        "id": "epiqAD2rSWyn",
        "colab": {
          "base_uri": "https://localhost:8080/",
          "height": 139
        },
        "outputId": "1fbe7be6-56e7-4f29-ebe4-0f7af835865b"
      },
      "source": [
        "# if 2>1: \n",
        "#  print(2)"
      ],
      "execution_count": null,
      "outputs": [
        {
          "output_type": "error",
          "ename": "IndentationError",
          "evalue": "ignored",
          "traceback": [
            "\u001b[0;36m  File \u001b[0;32m\"<ipython-input-24-39c6f13a210b>\"\u001b[0;36m, line \u001b[0;32m2\u001b[0m\n\u001b[0;31m    print(2)\u001b[0m\n\u001b[0m    ^\u001b[0m\n\u001b[0;31mIndentationError\u001b[0m\u001b[0;31m:\u001b[0m unexpected indent\n"
          ]
        }
      ]
    }
  ]
}