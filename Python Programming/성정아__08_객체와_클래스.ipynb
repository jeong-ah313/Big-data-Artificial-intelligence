{
  "nbformat": 4,
  "nbformat_minor": 0,
  "metadata": {
    "colab": {
      "name": "성정아 - _08 객체와 클래스.ipynb",
      "provenance": [],
      "collapsed_sections": []
    },
    "kernelspec": {
      "name": "python3",
      "display_name": "Python 3"
    }
  },
  "cells": [
    {
      "cell_type": "markdown",
      "metadata": {
        "id": "bg5ZXMV2sn1M"
      },
      "source": [
        "# 객체와 클래스"
      ]
    },
    {
      "cell_type": "markdown",
      "metadata": {
        "id": "Lj_iZPKnCRP0"
      },
      "source": [
        "\n",
        "\n",
        "---\n",
        "\n"
      ]
    },
    {
      "cell_type": "markdown",
      "metadata": {
        "id": "zXbENjlMCrkU"
      },
      "source": [
        "## 객체(Object)\n",
        "\n"
      ]
    },
    {
      "cell_type": "markdown",
      "metadata": {
        "id": "41GeF0a5KMPU"
      },
      "source": [
        "### 객체 지향 프로그래밍(Object Oriented Programming)\n",
        "\n"
      ]
    },
    {
      "cell_type": "markdown",
      "metadata": {
        "id": "qQc_0nwV1YyE"
      },
      "source": [
        "## 클래스(Class)\n",
        "\n"
      ]
    },
    {
      "cell_type": "markdown",
      "metadata": {
        "id": "u91KX7n6K1Qx"
      },
      "source": [
        "### Book 클래스 정의\n",
        "\n",
        "* 클래스 이름: Book\n",
        "* 속성\n",
        "  + 저자: author\n",
        "  + 책 이름: name\n",
        "  + 출판사: publisher\n",
        "  + 발행일: date\n",
        "\n"
      ]
    },
    {
      "cell_type": "code",
      "metadata": {
        "id": "VIauKM25w6Aw"
      },
      "source": [
        "class Book(object):\n",
        "  author=\"\"\n",
        "  title=\"\"\n",
        "  publisher=\"\"\n",
        "  date=\"\""
      ],
      "execution_count": null,
      "outputs": []
    },
    {
      "cell_type": "code",
      "metadata": {
        "id": "oboUm_0ZmkwC",
        "colab": {
          "base_uri": "https://localhost:8080/",
          "height": 55
        },
        "outputId": "311db451-c9a5-4089-a718-fe5d80d3f413"
      },
      "source": [
        "book = Book()\n",
        "book.author=\"jeongah\"\n",
        "print(book.author)\n",
        "book.title=\"Python Programming\"\n",
        "print(book.title)"
      ],
      "execution_count": null,
      "outputs": [
        {
          "output_type": "stream",
          "text": [
            "jeongah\n",
            "Python Programming\n"
          ],
          "name": "stdout"
        }
      ]
    },
    {
      "cell_type": "markdown",
      "metadata": {
        "id": "b0ybpBx4B-NI"
      },
      "source": [
        "### Book 클래스 메소드 정의\n",
        "\n",
        "* 메소드\n",
        "  + 책 정보 출력: `print_info(self)`\n",
        "  + `self`가 있어야만 실제로 인스턴스가 사용할 수 있는 메소드로 선언\n",
        "  + `print_info(self)`에서 `self`는 실제적으로 `book` 인스턴스를 의미\n",
        "  + 메소드 안에서 속성 값을 사용하지 않을 경우에는 `self` 생략 가능"
      ]
    },
    {
      "cell_type": "code",
      "metadata": {
        "id": "bvq4rgKACKGh"
      },
      "source": [
        "class Book(object):\n",
        "  author= \"\"\n",
        "  title= \"\"\n",
        "  publisher= \"\"\n",
        "  date= \"\"\n",
        "\n",
        "  def print_info(self):\n",
        "    print(\"Author:\",self.author)\n",
        "    print(\"Title:\",self.title)"
      ],
      "execution_count": null,
      "outputs": []
    },
    {
      "cell_type": "code",
      "metadata": {
        "id": "QLYRU__lmoQx",
        "colab": {
          "base_uri": "https://localhost:8080/",
          "height": 55
        },
        "outputId": "1fe363a2-2459-4a9d-d633-2a052f24b53c"
      },
      "source": [
        "book = Book()\n",
        "book.author=\"jeong ah\"\n",
        "book.title=\"Python Programming\"\n",
        "book.print_info()"
      ],
      "execution_count": null,
      "outputs": [
        {
          "output_type": "stream",
          "text": [
            "Author: jeong ah\n",
            "Title: Python Programming\n"
          ],
          "name": "stdout"
        }
      ]
    },
    {
      "cell_type": "markdown",
      "metadata": {
        "id": "8x-oWtbBxCpE"
      },
      "source": [
        "## 인스턴스 속성(Instance Attribute)\n",
        "\n",
        "* 인스턴스 속성은 객체로부터 인스턴스가 생성된 후에 인스턴스에서 활용하는 속성\n",
        "\n",
        "\n"
      ]
    },
    {
      "cell_type": "markdown",
      "metadata": {
        "id": "GbFr5qM78B41"
      },
      "source": [
        "### Book 인스턴스 속성\n",
        "\n",
        "* `Book` 클래스에서 생성된 인스턴스 `b1`에서 속성을 활용"
      ]
    },
    {
      "cell_type": "code",
      "metadata": {
        "id": "A25zZg3vjmk0"
      },
      "source": [
        "class Book(object):\n",
        "  author=\"\"\n",
        "  title=\"\"\n",
        "  publisher=\"\"\n",
        "  date=\"\"\n",
        "\n",
        "  def print_info(self):\n",
        "    print(\"Author:\", self.author)\n",
        "    print(\"Tiltle:\", self.title)\n",
        "    print(\"Publisher:\", self.publisher)\n",
        "    print(\"Date:\", self.date)"
      ],
      "execution_count": null,
      "outputs": []
    },
    {
      "cell_type": "code",
      "metadata": {
        "id": "h-Ja0er-oZpe",
        "colab": {
          "base_uri": "https://localhost:8080/",
          "height": 92
        },
        "outputId": "07f213bd-d3e6-4759-9eec-aadee5f81798"
      },
      "source": [
        "b1=Book()\n",
        "b1.author=\"jeong ah\"\n",
        "b1.title=\"Python Programming\"\n",
        "b1.publisher = \"Colab\"\n",
        "b1.date=\"2020\"\n",
        "b1.print_info()"
      ],
      "execution_count": null,
      "outputs": [
        {
          "output_type": "stream",
          "text": [
            "Author: jeong ah\n",
            "Tiltle: Python Programming\n",
            "Publisher: Colab\n",
            "Date: 2020\n"
          ],
          "name": "stdout"
        }
      ]
    },
    {
      "cell_type": "markdown",
      "metadata": {
        "id": "QJg6wYdSHKFh"
      },
      "source": [
        "## 클래스 속성(Class Attribute)\n",
        "\n",
        "* 클래스 속성은 클래스 자체에서 사용되는 속성\n",
        "\n",
        "\n"
      ]
    },
    {
      "cell_type": "markdown",
      "metadata": {
        "id": "vCwxB_lyIv5D"
      },
      "source": [
        "### Book 클래스 속성\n",
        "\n",
        "* Book 클래스 자체에서 사용되는 속성"
      ]
    },
    {
      "cell_type": "code",
      "metadata": {
        "id": "YH4BbYHookXd"
      },
      "source": [
        "class Book(object):\n",
        "  author=\"\"\n",
        "  title=\"\"\n",
        "  publisher=\"\"\n",
        "  date=\"\"\n",
        "\n",
        "  def print_info(self):\n",
        "    print(\"Author:\", self.author)\n",
        "    print(\"Tiltle:\", self.title)\n",
        "    print(\"Publisher:\", self.publisher)\n",
        "    print(\"Date:\", self.date)"
      ],
      "execution_count": null,
      "outputs": []
    },
    {
      "cell_type": "code",
      "metadata": {
        "id": "YBLwbRcrogBc",
        "colab": {
          "base_uri": "https://localhost:8080/",
          "height": 92
        },
        "outputId": "17c15d80-8937-428c-ec24-c6729fc9a017"
      },
      "source": [
        "b1=Book()\n",
        "Book.author=\"jeong ah\"\n",
        "Book.title=\"Python Programming\"\n",
        "Book.publisher = \"Colab\"\n",
        "Book.date=\"2020\"\n",
        "b1.print_info()"
      ],
      "execution_count": null,
      "outputs": [
        {
          "output_type": "stream",
          "text": [
            "Author: jeong ah\n",
            "Tiltle: Python Programming\n",
            "Publisher: Colab\n",
            "Date: 2020\n"
          ],
          "name": "stdout"
        }
      ]
    },
    {
      "cell_type": "markdown",
      "metadata": {
        "id": "5rb7_sHfotYO"
      },
      "source": [
        "## 인스턴스 속성와 클래스 속성의 활용\n",
        "\n",
        "* 인스턴스 속성과 클래스 속성을 목적에 맞도록 나누어서 활용\n",
        "\n"
      ]
    },
    {
      "cell_type": "markdown",
      "metadata": {
        "id": "jp55uMrGpYsv"
      },
      "source": [
        "### Book 인스턴스 속성과 클래스 속성\n",
        "\n",
        "* 인스턴스 속성\n",
        "  + 저자: author\n",
        "  + 제목: title\n",
        "  + 출판사: publisher\n",
        "  + 발행일: date\n",
        "* 클래스 속성\n",
        "  + 수량: count"
      ]
    },
    {
      "cell_type": "code",
      "metadata": {
        "id": "6FJ2zFwepLrv"
      },
      "source": [
        "class Book(object):\n",
        "  author=\"\"\n",
        "  title=\"\"\n",
        "  publisher=\"\"\n",
        "  date=\"\"\n",
        "  count=0\n",
        "\n",
        "  def print_info(self):\n",
        "    print(\"Author:\", self.author)\n",
        "    print(\"Tiltle:\", self.title)\n",
        "    print(\"Publisher:\", self.publisher)\n",
        "    print(\"Date:\", self.date)"
      ],
      "execution_count": null,
      "outputs": []
    },
    {
      "cell_type": "code",
      "metadata": {
        "id": "QidaPjC2pthz",
        "colab": {
          "base_uri": "https://localhost:8080/",
          "height": 111
        },
        "outputId": "ef6bf3e3-a524-41c9-9125-a0a4d75aac6d"
      },
      "source": [
        "b1=Book()\n",
        "Book.count += 1\n",
        "b1.author=\"jeong ah\"\n",
        "b1.title=\"Python Programming\"\n",
        "b1.publisher = \"Colab\"\n",
        "b1.date=\"2020\"\n",
        "b1.print_info()\n",
        "print(\"Number of Books:\", str(Book.count))"
      ],
      "execution_count": null,
      "outputs": [
        {
          "output_type": "stream",
          "text": [
            "Author: jeong ah\n",
            "Tiltle: Python Programming\n",
            "Publisher: Colab\n",
            "Date: 2020\n",
            "Number of Books: 1\n"
          ],
          "name": "stdout"
        }
      ]
    },
    {
      "cell_type": "markdown",
      "metadata": {
        "id": "wfmzBAGRBtWi"
      },
      "source": [
        "## 클래스 매직 메소드(Class Masic Methods)\n"
      ]
    },
    {
      "cell_type": "markdown",
      "metadata": {
        "id": "EZwYD92qt4gh"
      },
      "source": [
        "### `__init__()`\n",
        "\n",
        "* `__init__()` 메소드를 이용하여 클래스의 속성들을 초기화"
      ]
    },
    {
      "cell_type": "code",
      "metadata": {
        "id": "_nq6-s-qBwio"
      },
      "source": [
        "class Book(object):\n",
        "  count=0\n",
        "\n",
        "  def __init__(self, author, title, publisher, date):\n",
        "    self.author=author\n",
        "    self.title=title\n",
        "    self.publisher=publisher\n",
        "    self.date=date\n",
        "    Book.count += 1\n",
        "  \n",
        "  def print_info(self):\n",
        "    print(\"Author:\", self.author)\n",
        "    print(\"Tiltle:\", self.title)\n",
        "    print(\"Publisher:\", self.publisher)\n",
        "    print(\"Date:\", self.date)"
      ],
      "execution_count": null,
      "outputs": []
    },
    {
      "cell_type": "code",
      "metadata": {
        "id": "oQknTy7Mul4a",
        "colab": {
          "base_uri": "https://localhost:8080/",
          "height": 111
        },
        "outputId": "0a49b99e-0103-4500-e05b-b198f572475a"
      },
      "source": [
        "book = Book(\"jeong ah\", \"Python Programming\", \"Colab\",\"2020\")\n",
        "book.print_info()\n",
        "print(\"Number of Books:\", str(Book.count))"
      ],
      "execution_count": null,
      "outputs": [
        {
          "output_type": "stream",
          "text": [
            "Author: jeong ah\n",
            "Tiltle: Python Programming\n",
            "Publisher: Colab\n",
            "Date: 2020\n",
            "Number of Books: 3\n"
          ],
          "name": "stdout"
        }
      ]
    },
    {
      "cell_type": "markdown",
      "metadata": {
        "id": "gTRPQI5cu_vU"
      },
      "source": [
        "### `__str__()`\n",
        "\n",
        "* `__str__()` 메소드를 이용하여 인스턴스 출력"
      ]
    },
    {
      "cell_type": "code",
      "metadata": {
        "id": "QYd5z8z2vIq2"
      },
      "source": [
        "class Book(object):\n",
        "  count=0\n",
        "\n",
        "  def __init__(self, author, title, publisher, date):\n",
        "    self.author=author\n",
        "    self.title=title\n",
        "    self.publisher=publisher\n",
        "    self.date=date\n",
        "    Book.count += 1\n",
        "  \n",
        "  def ___str___(self):\n",
        "    return (\"Author:\" + self.author + \\\n",
        "      \"\\nTiltle:\" + self.title + \\\n",
        "      \"\\nPublisher:\" + self.publisher + \\\n",
        "      \"\\nDate:\"+ self.date)"
      ],
      "execution_count": null,
      "outputs": []
    },
    {
      "cell_type": "code",
      "metadata": {
        "id": "eECQWpfkvimX",
        "colab": {
          "base_uri": "https://localhost:8080/",
          "height": 55
        },
        "outputId": "6e738ba5-f73f-42cd-e45a-af93c0979167"
      },
      "source": [
        "book = Book(\"jeong ah\", \"Python Programming\", \"Colab\",\"2020\")\n",
        "print(book)\n",
        "print(\"Number of Books:\", str(Book.count))"
      ],
      "execution_count": null,
      "outputs": [
        {
          "output_type": "stream",
          "text": [
            "<__main__.Book object at 0x7f49b9f22f98>\n",
            "Number of Books: 3\n"
          ],
          "name": "stdout"
        }
      ]
    },
    {
      "cell_type": "markdown",
      "metadata": {
        "id": "400E5EtqwBq3"
      },
      "source": [
        "### 매직 메소드 예제\n",
        "\n",
        "* Line 클래스"
      ]
    },
    {
      "cell_type": "code",
      "metadata": {
        "id": "XFXm9WwCwcUD"
      },
      "source": [
        "class Line(object):\n",
        "  length = 0\n",
        "\n",
        "  def __init__(self, length):\n",
        "    self.length=length\n",
        "    print(self.length,\"길이의 선 생성\")\n",
        "\n",
        "  def __del__(self):\n",
        "    print(self.length,\"길이의 선 제거\")\n",
        "\n",
        "  def __repr__(self):\n",
        "    return str(self.length)\n",
        "\n",
        "  def __add__(self, other):\n",
        "    return self.length + other.length\n",
        "\n",
        "  def __lt__(self, other):\n",
        "    return self.length < other.length\n",
        "\n",
        "  def __le__(self, other):\n",
        "    return self.length <= other.length\n",
        "\n",
        "  def __gt__(self,other):\n",
        "    return self.length > other.length\n",
        "\n",
        "  def __ge__(self,other):\n",
        "    return self.length >= other.length\n",
        "\n",
        "  def __eq__(self, other):\n",
        "    return self.length == other.length\n",
        "\n",
        "  def __ne__(self, other):\n",
        "    return self.length != other.length"
      ],
      "execution_count": null,
      "outputs": []
    },
    {
      "cell_type": "code",
      "metadata": {
        "id": "nFThopZjxPRK",
        "colab": {
          "base_uri": "https://localhost:8080/",
          "height": 204
        },
        "outputId": "82fa388a-8c4c-437f-bb5a-05c82bfbc821"
      },
      "source": [
        "l1 = Line(20)\n",
        "print(l1)\n",
        "\n",
        "l2 = Line(20)\n",
        "print(l2)\n",
        "\n",
        "print(\"선의 합:\", l1+l2)\n",
        "\n",
        "if l1<l2:\n",
        "  print(l1, '<', l2)\n",
        "elif l1 <= l2:\n",
        "  print(l1,'<=',l2)\n",
        "elif l1 > l2:\n",
        "  print(l1,'>',l2)\n",
        "elif l1 >= l2:\n",
        "  print(l1,'>=',l2)\n",
        "elif l1 == l2:\n",
        "  print(l1,'==',l2)\n",
        "elif l1 != l2:\n",
        "  print(l1,'!=',l2)\n",
        "else:\n",
        "  pass\n",
        "\n",
        "del(l1)\n",
        "del(l2)"
      ],
      "execution_count": null,
      "outputs": [
        {
          "output_type": "stream",
          "text": [
            "20 길이의 선 생성\n",
            "20 길이의 선 제거\n",
            "20\n",
            "20 길이의 선 생성\n",
            "20 길이의 선 제거\n",
            "20\n",
            "선의 합: 40\n",
            "20 <= 20\n",
            "20 길이의 선 제거\n",
            "20 길이의 선 제거\n"
          ],
          "name": "stdout"
        }
      ]
    },
    {
      "cell_type": "markdown",
      "metadata": {
        "id": "7rnSGoFCxvKK"
      },
      "source": [
        "### 가시성 예제\n",
        "\n",
        "* `__items` 속성은 Box 객체 외부에서 보이지 않도록 캡슐화와 정보 은닉이 가능\n",
        "* 외부에서 `__items` 속성에 접근하면 속성 오류 발생"
      ]
    },
    {
      "cell_type": "code",
      "metadata": {
        "id": "DTrIbq53x3ZI"
      },
      "source": [
        "class Box(object):\n",
        "  def __init__(self, name):\n",
        "    self.name=name\n",
        "    self.__items=[]\n",
        "\n",
        "  def add_item(self, item):\n",
        "    self.__items.append(item)\n",
        "    print(\"아이템 추가\")\n",
        "\n",
        "  def get_number_of_items(self):\n",
        "    return len(self.__items)"
      ],
      "execution_count": null,
      "outputs": []
    },
    {
      "cell_type": "code",
      "metadata": {
        "id": "AU5wHppgyLbh",
        "colab": {
          "base_uri": "https://localhost:8080/",
          "height": 92
        },
        "outputId": "08a57466-06f0-4b6b-a82f-afb6cfad5fac"
      },
      "source": [
        "box = Box(\"Box\")\n",
        "box.add_item(\"Item1\")\n",
        "box.add_item(\"Item2\")\n",
        "print(box.name)\n",
        "print(box.get_number_of_items())\n",
        "#print(box.__items)"
      ],
      "execution_count": null,
      "outputs": [
        {
          "output_type": "stream",
          "text": [
            "아이템 추가\n",
            "아이템 추가\n",
            "Box\n",
            "2\n"
          ],
          "name": "stdout"
        }
      ]
    },
    {
      "cell_type": "markdown",
      "metadata": {
        "id": "Gid0aLGUBx9D"
      },
      "source": [
        "## 클래스 상속(Class Inheritance)\n"
      ]
    },
    {
      "cell_type": "code",
      "metadata": {
        "id": "QFIEB2XP1XsW"
      },
      "source": [
        "class SuperClass(object):\n",
        "  pass\n",
        "\n",
        "class SubClass(SuperClass):\n",
        "  pass"
      ],
      "execution_count": null,
      "outputs": []
    },
    {
      "cell_type": "markdown",
      "metadata": {
        "id": "YILvez-k05pV"
      },
      "source": [
        "### 메소드 오버라이딩(Method Overriding)\n",
        "\n",
        "\n"
      ]
    },
    {
      "cell_type": "code",
      "metadata": {
        "id": "np_aylDHzSXs"
      },
      "source": [
        "class SuperClass(object):\n",
        "  def method(self):\n",
        "    pass\n",
        "\n",
        "class SubClass1(SuperClass):\n",
        "  def method(self):\n",
        "    print(\"Method Overriding\")\n",
        "\n",
        "class SubClass2(SuperClass):\n",
        "  pass"
      ],
      "execution_count": null,
      "outputs": []
    },
    {
      "cell_type": "code",
      "metadata": {
        "id": "HCPloTpu2tJf",
        "colab": {
          "base_uri": "https://localhost:8080/",
          "height": 36
        },
        "outputId": "94c684af-51fb-42f6-f665-8ce0048faaa2"
      },
      "source": [
        "sub1=SubClass1()\n",
        "sub2=SubClass2()\n",
        "\n",
        "sub1.method()\n",
        "sub2.method()"
      ],
      "execution_count": null,
      "outputs": [
        {
          "output_type": "stream",
          "text": [
            "Method Overriding\n"
          ],
          "name": "stdout"
        }
      ]
    },
    {
      "cell_type": "markdown",
      "metadata": {
        "id": "5JcJXHiUyqmt"
      },
      "source": [
        "### 클래스 상속, 메소드 오버라이딩 예제\n",
        "\n",
        "* Vehicle 클래스를 상속받아 Car 클래스와 Truck 클래스 생성\n",
        "* Car 클래스와 Truck 클래스는 up_speed 메소드를 오버라이딩\n",
        "* Car 클래스는 속도가 240 초과되면 240으로 조정\n",
        "* Truck 클래스는 속도가 180 초과되면 180으로 조정"
      ]
    },
    {
      "cell_type": "code",
      "metadata": {
        "id": "WAQOF_BcB2ww"
      },
      "source": [
        "class Vehicle(object):\n",
        "  speed = 0\n",
        "  def up_speed(self, value):\n",
        "    self.speed += value\n",
        "\n",
        "  def down_speed(self, value):\n",
        "    self.speed -= value\n",
        "\n",
        "  def print_speed(self):\n",
        "    print(\"Speed:\",str(self.speed))\n",
        "\n",
        "class Car(Vehicle):\n",
        "  def up_speed(self,value):\n",
        "    self.speed += value\n",
        "    if self.speed > 240: self.speed =240\n",
        "\n",
        "class Truck(Vehicle):\n",
        "  def up_speed(self, value):\n",
        "    self.speed += value\n",
        "    if self.speed > 180: self.speed =180"
      ],
      "execution_count": null,
      "outputs": []
    },
    {
      "cell_type": "code",
      "metadata": {
        "id": "xjlG-ZDM3tXw",
        "colab": {
          "base_uri": "https://localhost:8080/",
          "height": 55
        },
        "outputId": "b67a9879-ea06-4bde-c1ef-972f523c2029"
      },
      "source": [
        "car = Car()\n",
        "car.up_speed(300)\n",
        "car.print_speed()\n",
        "\n",
        "truck = Truck()\n",
        "truck.up_speed(200)\n",
        "truck.print_speed()"
      ],
      "execution_count": null,
      "outputs": [
        {
          "output_type": "stream",
          "text": [
            "Speed: 240\n",
            "Speed: 180\n"
          ],
          "name": "stdout"
        }
      ]
    }
  ]
}