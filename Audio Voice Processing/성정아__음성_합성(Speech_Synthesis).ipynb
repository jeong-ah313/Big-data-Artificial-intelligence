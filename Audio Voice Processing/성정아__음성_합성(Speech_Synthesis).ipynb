{
  "nbformat": 4,
  "nbformat_minor": 0,
  "metadata": {
    "colab": {
      "name": "성정아 - _음성 합성(Speech Synthesis).ipynb",
      "provenance": [],
      "collapsed_sections": []
    },
    "kernelspec": {
      "name": "python3",
      "display_name": "Python 3"
    },
    "accelerator": "GPU"
  },
  "cells": [
    {
      "cell_type": "markdown",
      "metadata": {
        "id": "UexUP_fOsGi1"
      },
      "source": [
        "# 음성 합성(Speech Synthesis)\n",
        "\n",
        "* https://github.com/NVIDIA/DeepLearningExamples/tree/master/PyTorch/SpeechSynthesis/Tacotron2"
      ]
    },
    {
      "cell_type": "markdown",
      "metadata": {
        "id": "gK3N_ZvK49AP"
      },
      "source": [
        "## Tacotron 2\n",
        "\n",
        "* 텍스트에서 멜 스펙트로그램 생성\n",
        "\n",
        "* https://pytorch.org/hub/nvidia_deeplearningexamples_tacotron2/\n",
        "\n",
        "<img src=\"https://pytorch.org/assets/images/tacotron2_diagram.png\" alt=\"alt\" width=\"50%\"/>"
      ]
    },
    {
      "cell_type": "markdown",
      "metadata": {
        "id": "V2Tbh3nisMBg"
      },
      "source": [
        "## WaveGlow\n",
        "\n",
        "* 멜 스펙트로그램에서 음성 생성\n",
        "\n",
        "* https://pytorch.org/hub/nvidia_deeplearningexamples_waveglow/\n",
        "\n",
        "<img src=\"https://pytorch.org/assets/images/waveglow_diagram.png\" alt=\"alt\" width=\"50%\"/>"
      ]
    },
    {
      "cell_type": "code",
      "metadata": {
        "id": "9g3onRgH49AR",
        "colab": {
          "base_uri": "https://localhost:8080/",
          "height": 343
        },
        "outputId": "822e4dcc-f190-4958-afd5-d888245434a3"
      },
      "source": [
        "!pip install numpy scipy librosa unicode inflect "
      ],
      "execution_count": null,
      "outputs": [
        {
          "output_type": "stream",
          "text": [
            "Requirement already satisfied: numpy in /usr/local/lib/python3.6/dist-packages (1.18.5)\n",
            "Requirement already satisfied: scipy in /usr/local/lib/python3.6/dist-packages (1.4.1)\n",
            "Requirement already satisfied: librosa in /usr/local/lib/python3.6/dist-packages (0.6.3)\n",
            "Collecting unicode\n",
            "  Downloading https://files.pythonhosted.org/packages/bd/e8/d30276462ce627d1fd2c547cdf64a7eccec20e86f4fcaa145e1ea8758641/unicode-2.7-py2.py3-none-any.whl\n",
            "Requirement already satisfied: inflect in /usr/local/lib/python3.6/dist-packages (2.1.0)\n",
            "Requirement already satisfied: numba>=0.38.0 in /usr/local/lib/python3.6/dist-packages (from librosa) (0.48.0)\n",
            "Requirement already satisfied: joblib>=0.12 in /usr/local/lib/python3.6/dist-packages (from librosa) (0.16.0)\n",
            "Requirement already satisfied: resampy>=0.2.0 in /usr/local/lib/python3.6/dist-packages (from librosa) (0.2.2)\n",
            "Requirement already satisfied: decorator>=3.0.0 in /usr/local/lib/python3.6/dist-packages (from librosa) (4.4.2)\n",
            "Requirement already satisfied: audioread>=2.0.0 in /usr/local/lib/python3.6/dist-packages (from librosa) (2.1.8)\n",
            "Requirement already satisfied: six>=1.3 in /usr/local/lib/python3.6/dist-packages (from librosa) (1.15.0)\n",
            "Requirement already satisfied: scikit-learn!=0.19.0,>=0.14.0 in /usr/local/lib/python3.6/dist-packages (from librosa) (0.22.2.post1)\n",
            "Requirement already satisfied: setuptools in /usr/local/lib/python3.6/dist-packages (from numba>=0.38.0->librosa) (50.3.0)\n",
            "Requirement already satisfied: llvmlite<0.32.0,>=0.31.0dev0 in /usr/local/lib/python3.6/dist-packages (from numba>=0.38.0->librosa) (0.31.0)\n",
            "Installing collected packages: unicode\n",
            "Successfully installed unicode-2.7\n"
          ],
          "name": "stdout"
        }
      ]
    },
    {
      "cell_type": "markdown",
      "metadata": {
        "id": "iQAuqqCkFZDi"
      },
      "source": [
        "* LJ Speech dataset에서 사전 학습된 Tacotron2와 WaveGlow 모델 로드"
      ]
    },
    {
      "cell_type": "code",
      "metadata": {
        "id": "Zer_hm18ZY6Y"
      },
      "source": [
        "import torch\n",
        "\n",
        "tacotron2 = torch.hub.load('nvidia/DeepLeaningExamples:torchhub', 'nvidia_tacotron2') \n",
        "#페이지가 찾을 수 없는 Not Found로 나옴(해당 링크가 삭제된거 같음)\n",
        "waveglow = torch.hub.load('nvidia/DeepLeaningExamples:torchhub', 'nvidia_waveglow')"
      ],
      "execution_count": null,
      "outputs": []
    },
    {
      "cell_type": "code",
      "metadata": {
        "id": "uFBHVu_Q49At"
      },
      "source": [
        "tacotron2 = tacotron2.to('cuda')\n",
        "tacotrpn2.eval()"
      ],
      "execution_count": null,
      "outputs": []
    },
    {
      "cell_type": "code",
      "metadata": {
        "id": "H4flKaBn49A5"
      },
      "source": [
        "waveglow = waveglow.remove_weightnorm(waveglow)\n",
        "waveglow = waveglow.to('cuda')\n",
        "waveglow.eval()"
      ],
      "execution_count": null,
      "outputs": []
    },
    {
      "cell_type": "markdown",
      "metadata": {
        "id": "52Ue4xcgwRdK"
      },
      "source": [
        "## Text To Speech(TTS)"
      ]
    },
    {
      "cell_type": "code",
      "metadata": {
        "id": "WZlgX-H-xCKu"
      },
      "source": [
        "import numpy as np\n",
        "\n",
        "import matplotlib.pyplot as plt\n",
        "plt.style.use('seaborn-white')\n",
        "\n",
        "def plot_data(data, figsize=(16, 4)):\n",
        "  fig, axes = plt.subplots(1, len(data), figsize=figsize)\n",
        "  for i in range(len(data)):\n",
        "    axes[i].imshow(data[i], aspect='auto', origin='bottom',\n",
        "                   interpolation='none', cmap='viridis')\n",
        "\n",
        "def TTS(text):\n",
        "\n",
        "  sampling_rate = 22050\n",
        "\n",
        "  sequence = np.array(tacotron2.text_to_sequence(text, ['english_cleaners']))[None, :]\n",
        "  sequence = torch.from_numpy(sequence).to(device='cuda', dtypq=torch.int64)\n",
        "\n",
        "  with torch.no_grad():\n",
        "    mel_outputs, mel_outputs_postnet, _, alignments = tacotron2.infer(sequence)\n",
        "    #여기서 tacotron2이 쓰였는데 현재 이게 없어서 실행 안됨.\n",
        "    audio = waveglow.infer(mel_outputs_postnet)\n",
        "\n",
        "  mel_output = mel_outputs.data.cpu().numpy()[0]\n",
        "  mel_output_postnet = mel_outputs_postnet.data.cpu().numpy()[0]\n",
        "  alignment = alignments.data.cpu().numpy()[0].T\n",
        "  audio_np = audio[0].data.cpu().numpy()\n",
        "\n",
        "  return mel_output, mel_output_postnent, alignment, audio_np, sampling_rate"
      ],
      "execution_count": null,
      "outputs": []
    },
    {
      "cell_type": "code",
      "metadata": {
        "id": "PvnkJ1vrZbeg"
      },
      "source": [
        "import librosa.display\n",
        "from IPython.display import Audio\n",
        "\n",
        "text = \"Hello, how are you?\"\n",
        "mel_output, mel_output_postnent, alignment, audio_np, sampling_rate = TTS(text)\n",
        "\n",
        "fig = plt.figure(figsize=(14, 4))\n",
        "librosa.display.waveplot(audio_np, sr=sampling_rate)\n",
        "plot_data((mel_output, mel_output_postnent, alignment))\n",
        "Audio(audio_np, rate=sampling_rate)"
      ],
      "execution_count": null,
      "outputs": []
    },
    {
      "cell_type": "code",
      "metadata": {
        "id": "6ezu_Pp3xhxf"
      },
      "source": [
        "text = \"I'll get better if I learn a lot of data.\"\n",
        "mel_output, mel_output_postnent, alignment, audio_np, sampling_rate = TTS(text)\n",
        "\n",
        "fig = plt.figure(figsize=(14, 4))\n",
        "librosa.display.waveplot(audio_np, sr=sampling_rate)\n",
        "plot_data((mel_output, mel_output_postnent, alignment))\n",
        "Audio(audio_np, rate=sampling_rate)"
      ],
      "execution_count": null,
      "outputs": []
    },
    {
      "cell_type": "code",
      "metadata": {
        "id": "g96i7uGLzKbw"
      },
      "source": [
        ""
      ],
      "execution_count": null,
      "outputs": []
    }
  ]
}