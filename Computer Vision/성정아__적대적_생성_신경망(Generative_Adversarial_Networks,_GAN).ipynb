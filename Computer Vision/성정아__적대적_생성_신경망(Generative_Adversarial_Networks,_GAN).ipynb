{
  "nbformat": 4,
  "nbformat_minor": 0,
  "metadata": {
    "colab": {
      "name": "성정아 - _적대적 생성 신경망(Generative Adversarial Networks, GAN).ipynb",
      "provenance": [],
      "collapsed_sections": []
    },
    "kernelspec": {
      "name": "python3",
      "display_name": "Python 3"
    },
    "accelerator": "GPU"
  },
  "cells": [
    {
      "cell_type": "markdown",
      "metadata": {
        "id": "N4bgoCUp5Vnu"
      },
      "source": [
        "- 내용 및 코드 참조 \n",
        "\n",
        "  - 케라스 창시자로부터 배우는 딥러닝\n",
        "\n",
        "  - 미술관에 GAN 딥러닝 실전 프로젝트 "
      ]
    },
    {
      "cell_type": "markdown",
      "metadata": {
        "id": "PeLTZPP-sQ5x"
      },
      "source": [
        "# 적대적 생성 신경망(Generative Adversarial Networks, GAN)\n",
        "\n",
        "- 2014년, Ian Goodfellow 소개\n",
        "\n",
        "- VAE와는 다른 방법으로 이미지 잠재 공간을 학습\n",
        "\n",
        "- 직관적으로 이해하는 방법\n",
        "\n",
        "  - 가짜 피카소 그림을 그리는 위조범과 이를 판별하는 판매상의 관계\n",
        "\n",
        "  - 위조품과 진짜 그림을 섞어서 판매상에게 보여주며  \n",
        "    그림이 진짜인지 가짜인지 판매상은 판별하고 이를 위조범에게 피드백\n",
        "\n",
        "  - 처음에는 형편없는 그림을 그리다가 점점 피카소의 스타일을 모방하게 되고  \n",
        "    판매상은 위조품을 구분하는데 점점 더 전문가가 되어감\n",
        "\n",
        "- GAN의 네트워크\n",
        "\n",
        "  - 생성자 네트워크(generator network)\n",
        "\n",
        "    - 랜덤 벡터(잠재 공간의 무작위한 포인트)를 입력으로 받아 이를 합성된 이미지로 디코딩\n",
        "\n",
        "  - 판별자 네트워크(discriminator netowrk)\n",
        "\n",
        "    - 이미지(실제 또는 가짜 이미지)를 입력으로 받아 훈련 세트에서 온 이미지인지 생성자가 만든 이미지인지 판별\n",
        "\n",
        "- GAN은 최적화의 최솟값이 고정되어 있지 않음\n",
        "\n",
        "  - 보통의 경사하강법은 **고정된 손실공간**에서 언덕을 내려오는 훈련 방법이지만  \n",
        "    GAN은 매 단계가 조금씩 전체 공간을 바꾸기 때문에 최적화 과정이 최솟값을 찾는 것이 어려움\n",
        "\n",
        "  - 두 힘간의 평형점을 찾는 시스템\n",
        "\n",
        "  - 따라서, 학습과정이 매우 어려움  \n",
        "    즉, 적절한 파라미터를 찾고 조정해야함\n",
        "  \n",
        "  <img src=\"https://paperswithcode.com/media/methods/gan.jpeg\">\n",
        "\n",
        "  <sub>[이미지 출처] https://paperswithcode.com/method/gan</sub>"
      ]
    },
    {
      "cell_type": "markdown",
      "metadata": {
        "id": "yHhtFZ1huWoB"
      },
      "source": [
        "## GAN의 구현 (DCGAN)\n",
        "\n",
        "- CIFAR10 데이터셋 사용\n",
        "\n",
        "- generator 네트워크는 (latent_dim,) 크기의 벡터를 (32, 32, 3) 크기의 이미지로 매핑\n",
        "\n",
        "- discriminator 네트워크는 (32, 32, 3) 크기의 이미지가 진짜일 확률을 추정하여 이진값으로 매핑\n",
        "\n",
        "- 생성자와 판별자를 연결하는 gan 네트워크를 만듬  \n",
        "  \n",
        "  - gan(x) = discriminator(generator(x))\n",
        "\n",
        "- 진짜/가짜 레이블과 함께 진짜 이미지와 가짜 이미지 샘플을 사용하여 판별자를 훈련 (일반적인 이미지 분류 모델 훈련과 동일)\n",
        "\n",
        "- 생성자를 훈련하려면 gan 모델의 손실에 대한 생성자 가중치의 그래디언트를 사용\n",
        "\n",
        "  - 매 단계마다 생성자에 의해 디코딩된 이미지를 판별자가 \"진짜\"로 분류하도록 만다는 방향으로 생성자의 가중치를 이동\n",
        "\n",
        "  - 판별자를 속이도록 생성자를 훈련한다는 말\n"
      ]
    },
    {
      "cell_type": "markdown",
      "metadata": {
        "id": "Rb4JHajh1gXx"
      },
      "source": [
        "## 학습 방법\n",
        "\n",
        "- 마지막 활성화 함수로 sigmoid 대신 tanh함수 사용\n",
        "\n",
        "- 균등분포가 아니고 정규 분포(가우시안 분포)를 사용하여 잠재 공간에서 포인트를 샘플링\n",
        "\n",
        "- 무작위성을 주입\n",
        "\n",
        "  - 판별자에 드롭아웃을 사용\n",
        "\n",
        "  - 판별자를 위해 레이블에 랜덤 노이즈를 추가\n",
        "\n",
        "- 희소한 그래디언트는 GAN 훈련에 방해가 될 수 있음\n",
        "\n",
        "  - 최대 풀링 대신 스트라이드 합성곱을 사용하여 다운샘플링\n",
        "\n",
        "  - ReLU 대신 LeakyReLU 사용\n",
        "\n",
        "- 생성자에서 픽셀 공간을 균일하게 다루지 못하여 생성된 이미지에서 체스판 모양이 종종 나타남.  \n",
        "  이를 위해 생성자와 판별자에서 스트라이드 Conv2DTranpose나 Conv2D를 사용할 때 스트라이드 크기로 나누어 질 수 있는 커널 크기 사용\n",
        "\n",
        "  - 커널 크기가 스트라이드의 배수가 아니면 픽셀이 공평하게 합성곱 되지 않음  \n",
        "    커널 크기를 스트라이드로 나누었을 때 나머지 크기에 해당하는 픽셀이 더 많이 업샘플링에 참여하게 됨"
      ]
    },
    {
      "cell_type": "markdown",
      "metadata": {
        "id": "PiIV25ew2SDq"
      },
      "source": [
        "### GAN 생성자 네트워크\n"
      ]
    },
    {
      "cell_type": "code",
      "metadata": {
        "id": "z-y52HdbXSkq"
      },
      "source": [
        "#위조를 정밀하게 하는.. 판별을 정확하게 하는\n",
        "#랜덤\n",
        "#생성자가 만든 이미지: 가짜\n",
        "#경사하강법\n",
        "#GAN은 매 단계가 조금씩 공간을 바꾸기 때문에 최적화 과정이 최소값을 찾는데 어려움\n",
        "#노이즈를 추가해서 \n",
        "\n",
        "#지짜냐 가짜냐니까 이진으로 판별(진짜 아님 가짜)\n",
        "#노이즈 추가->무작위성 주입~"
      ],
      "execution_count": null,
      "outputs": []
    },
    {
      "cell_type": "code",
      "metadata": {
        "id": "KKIT0YV8FRo6"
      },
      "source": [
        "import tensorflow as tf\n",
        "from tensorflow.keras.layers import Input, Dense, LeakyReLU, Reshape, Conv2D, Conv2DTranspose, Flatten, Dropout\n",
        "from tensorflow.keras.models import Model\n",
        "import numpy as np"
      ],
      "execution_count": null,
      "outputs": []
    },
    {
      "cell_type": "code",
      "metadata": {
        "id": "YkWJCAGF2o0r"
      },
      "source": [
        "latent_dim = 32\n",
        "height = 32\n",
        "width = 32\n",
        "channels = 3"
      ],
      "execution_count": null,
      "outputs": []
    },
    {
      "cell_type": "code",
      "metadata": {
        "id": "HVp1CdYG2tu0"
      },
      "source": [
        "generator_input = Input(shape=(latent_dim, ))"
      ],
      "execution_count": null,
      "outputs": []
    },
    {
      "cell_type": "code",
      "metadata": {
        "id": "ZI2bVCCz2wgh"
      },
      "source": [
        "x = Dense(128 * 16 * 16)(generator_input)\n",
        "x = LeakyReLU()(x)\n",
        "x = Reshape((16, 16, 128))(x)\n",
        "\n",
        "x = Conv2D(256, 5, padding='same')(x)\n",
        "x = LeakyReLU()(x)\n",
        "\n",
        "x = Conv2DTranspose(256, 4, strides=2, padding='same')(x)\n",
        "x = LeakyReLU()(x)\n",
        "\n",
        "#합성곱 층 추가\n",
        "x = Conv2D(256, 5, padding='same')(x)\n",
        "x = LeakyReLU()(x)\n",
        "x = Conv2D(256, 5, padding='same')(x)\n",
        "x = LeakyReLU()(x)\n",
        "\n",
        "x = Conv2D(channels, 7, activation='tanh', padding='same')(x)"
      ],
      "execution_count": null,
      "outputs": []
    },
    {
      "cell_type": "code",
      "metadata": {
        "id": "ZXH3m1bG26mC",
        "colab": {
          "base_uri": "https://localhost:8080/"
        },
        "outputId": "ca5f194d-6310-4859-fab4-3bf271c9efb9"
      },
      "source": [
        "generator  = Model(generator_input, x)\n",
        "generator.summary()"
      ],
      "execution_count": null,
      "outputs": [
        {
          "output_type": "stream",
          "text": [
            "Model: \"functional_1\"\n",
            "_________________________________________________________________\n",
            "Layer (type)                 Output Shape              Param #   \n",
            "=================================================================\n",
            "input_3 (InputLayer)         [(None, 32)]              0         \n",
            "_________________________________________________________________\n",
            "dense_1 (Dense)              (None, 32768)             1081344   \n",
            "_________________________________________________________________\n",
            "leaky_re_lu_1 (LeakyReLU)    (None, 32768)             0         \n",
            "_________________________________________________________________\n",
            "reshape_1 (Reshape)          (None, 16, 16, 128)       0         \n",
            "_________________________________________________________________\n",
            "conv2d (Conv2D)              (None, 16, 16, 256)       819456    \n",
            "_________________________________________________________________\n",
            "leaky_re_lu_2 (LeakyReLU)    (None, 16, 16, 256)       0         \n",
            "_________________________________________________________________\n",
            "conv2d_transpose (Conv2DTran (None, 32, 32, 256)       1048832   \n",
            "_________________________________________________________________\n",
            "leaky_re_lu_3 (LeakyReLU)    (None, 32, 32, 256)       0         \n",
            "_________________________________________________________________\n",
            "conv2d_1 (Conv2D)            (None, 32, 32, 256)       1638656   \n",
            "_________________________________________________________________\n",
            "leaky_re_lu_4 (LeakyReLU)    (None, 32, 32, 256)       0         \n",
            "_________________________________________________________________\n",
            "conv2d_2 (Conv2D)            (None, 32, 32, 256)       1638656   \n",
            "_________________________________________________________________\n",
            "leaky_re_lu_5 (LeakyReLU)    (None, 32, 32, 256)       0         \n",
            "_________________________________________________________________\n",
            "conv2d_3 (Conv2D)            (None, 32, 32, 3)         37635     \n",
            "=================================================================\n",
            "Total params: 6,264,579\n",
            "Trainable params: 6,264,579\n",
            "Non-trainable params: 0\n",
            "_________________________________________________________________\n"
          ],
          "name": "stdout"
        }
      ]
    },
    {
      "cell_type": "markdown",
      "metadata": {
        "id": "UnRjKuGy3By9"
      },
      "source": [
        "### GAN 판별자 네트워크\n"
      ]
    },
    {
      "cell_type": "code",
      "metadata": {
        "id": "A0rd_EYq3Epn"
      },
      "source": [
        "discriminator_input = Input(shape=(height, width, channels))"
      ],
      "execution_count": null,
      "outputs": []
    },
    {
      "cell_type": "code",
      "metadata": {
        "id": "pcJ8iXrO3BXO"
      },
      "source": [
        "x = Conv2D(128, 3)(discriminator_input)\n",
        "x = LeakyReLU()(x)\n",
        "x = Conv2D(128, 4, strides=2)(x)\n",
        "x = LeakyReLU()(x)\n",
        "x = Conv2D(128, 4, strides=2)(x)\n",
        "x = LeakyReLU()(x)\n",
        "x = Conv2D(128, 4, strides=2)(x)\n",
        "x = LeakyReLU()(x)\n",
        "x = Flatten()(x)\n",
        "x = Dropout(0.4)(x)\n",
        "x = Dense(1, activation='sigmoid')(x)"
      ],
      "execution_count": null,
      "outputs": []
    },
    {
      "cell_type": "code",
      "metadata": {
        "id": "QTOcKzW92-Nf",
        "colab": {
          "base_uri": "https://localhost:8080/"
        },
        "outputId": "eef39ec0-6891-4edd-e846-b918f1ec7005"
      },
      "source": [
        "discriminator = Model(discriminator_input, x)\n",
        "discriminator.summary()"
      ],
      "execution_count": null,
      "outputs": [
        {
          "output_type": "stream",
          "text": [
            "Model: \"functional_3\"\n",
            "_________________________________________________________________\n",
            "Layer (type)                 Output Shape              Param #   \n",
            "=================================================================\n",
            "input_4 (InputLayer)         [(None, 32, 32, 3)]       0         \n",
            "_________________________________________________________________\n",
            "conv2d_4 (Conv2D)            (None, 30, 30, 128)       3584      \n",
            "_________________________________________________________________\n",
            "leaky_re_lu_6 (LeakyReLU)    (None, 30, 30, 128)       0         \n",
            "_________________________________________________________________\n",
            "conv2d_5 (Conv2D)            (None, 14, 14, 128)       262272    \n",
            "_________________________________________________________________\n",
            "leaky_re_lu_7 (LeakyReLU)    (None, 14, 14, 128)       0         \n",
            "_________________________________________________________________\n",
            "conv2d_6 (Conv2D)            (None, 6, 6, 128)         262272    \n",
            "_________________________________________________________________\n",
            "leaky_re_lu_8 (LeakyReLU)    (None, 6, 6, 128)         0         \n",
            "_________________________________________________________________\n",
            "conv2d_7 (Conv2D)            (None, 2, 2, 128)         262272    \n",
            "_________________________________________________________________\n",
            "leaky_re_lu_9 (LeakyReLU)    (None, 2, 2, 128)         0         \n",
            "_________________________________________________________________\n",
            "flatten (Flatten)            (None, 512)               0         \n",
            "_________________________________________________________________\n",
            "dropout (Dropout)            (None, 512)               0         \n",
            "_________________________________________________________________\n",
            "dense_2 (Dense)              (None, 1)                 513       \n",
            "=================================================================\n",
            "Total params: 790,913\n",
            "Trainable params: 790,913\n",
            "Non-trainable params: 0\n",
            "_________________________________________________________________\n"
          ],
          "name": "stdout"
        }
      ]
    },
    {
      "cell_type": "code",
      "metadata": {
        "id": "WQuMOoH_3WbY"
      },
      "source": [
        "from tensorflow.keras.optimizers import RMSprop"
      ],
      "execution_count": null,
      "outputs": []
    },
    {
      "cell_type": "code",
      "metadata": {
        "id": "H3zZbyx13TGi"
      },
      "source": [
        "discriminator_optimizer = RMSprop(lr=0.0008, clipvalue=1.0, decay=1e-8)\n",
        "discriminator.compile(optimizer=discriminator_optimizer, loss='binary_crossentropy')"
      ],
      "execution_count": null,
      "outputs": []
    },
    {
      "cell_type": "markdown",
      "metadata": {
        "id": "ayIotK_Q3iE7"
      },
      "source": [
        "### 적대적 네트워크\n",
        "- 생성자와 판별자를 연결\n",
        "\n",
        "- 훈련할 때 생성자가 판별자를 속이는 능력이 커지도록 학습\n",
        "\n",
        "- 잠재 공간의 포인트를 진짜 또는 가짜의 분류 결정으로 변환\n",
        "\n",
        "- 훈련에 사용되는 target label은 항상 \"진짜 이미지\"\n",
        "\n",
        "- 훈련하는 동안 판별자를 동결(학습되지 않도록)하는 것이 매우 중요!\n",
        "\n",
        "  - 판별자의 가중치가 훈련하는 동안 업데이트되면 판별자는 항상 진짜를 예측하도록 훈련됨"
      ]
    },
    {
      "cell_type": "code",
      "metadata": {
        "id": "eerQWi8_3auo"
      },
      "source": [
        "#겐에서 네트워크로 묶어주는데, 생성자와 판별자는 연결해주는 역할\n",
        "#훈련하는 동안에 학습이 되지 않도록 주의\n",
        "\n",
        "discriminator.trainable = False\n",
        "\n",
        "gan_input = Input(shape=(latent_dim, ))\n",
        "gan_output = discriminator(generator(gan_input))\n",
        "gan = Model(gan_input, gan_output)\n",
        "\n",
        "gan_optimizer = RMSprop(lr=0.0004, clipvalue=1.0, decay=1e-8)\n",
        "gan.compile(optimizer=gan_optimizer, loss='binary_crossentropy')"
      ],
      "execution_count": null,
      "outputs": []
    },
    {
      "cell_type": "markdown",
      "metadata": {
        "id": "oP5cjQs74G5Q"
      },
      "source": [
        "### GAN 훈련 구현\n",
        "\n",
        "- DCGAN 구현\n",
        "\n",
        "- 매 반복마다 아래의 과정 수행\n",
        "\n",
        "  1. 잠재 공간에서 무작위로 포인트를 뽑음(랜덤 노이즈)\n",
        "\n",
        "  2. 랜덤 노이즈를 사용하여 generator에서 이미지를 생성\n",
        "\n",
        "  3. 생성된 이미지와 진짜 이미지를 섞음\n",
        "\n",
        "  4. 진짜와 가짜가 섞인 이미지와 이에 대응하는 타깃을 사용하여 discriminator를 훈련  \n",
        "    타킷은 진짜 또는 가짜\n",
        "\n",
        "  5. 잠재 공간에서 무작위로 새로운 포인트를 뽑음\n",
        "\n",
        "  6. 랜덤 벡터를 사용하여 gan을 훈련.  \n",
        "    모든 타깃은 진짜로 설정. \n",
        "    - 판별자가 생성된 이미지를 모두 \"진짜 이미지\"라고 예측하도록 생성자의 가중치를 업데이트.  \n",
        "      (판별자는 동결되기 때문에 생성자만 업데이트)"
      ]
    },
    {
      "cell_type": "code",
      "metadata": {
        "id": "GimAaUDC4u-P"
      },
      "source": [
        "import os\n",
        "from tensorflow.keras.datasets import cifar10\n",
        "from tensorflow.keras.preprocessing import image"
      ],
      "execution_count": null,
      "outputs": []
    },
    {
      "cell_type": "markdown",
      "metadata": {
        "id": "MLrdG7a84yFE"
      },
      "source": [
        "#### CIFAR10 데이터 로드"
      ]
    },
    {
      "cell_type": "code",
      "metadata": {
        "id": "siDPaZ-J3nSk",
        "colab": {
          "base_uri": "https://localhost:8080/"
        },
        "outputId": "c53a289f-5d51-4958-a5a2-b6d8933e5537"
      },
      "source": [
        "(x_train, y_train), (_, _) = cifar10.load_data()"
      ],
      "execution_count": null,
      "outputs": [
        {
          "output_type": "stream",
          "text": [
            "Downloading data from https://www.cs.toronto.edu/~kriz/cifar-10-python.tar.gz\n",
            "170500096/170498071 [==============================] - 4s 0us/step\n"
          ],
          "name": "stdout"
        }
      ]
    },
    {
      "cell_type": "markdown",
      "metadata": {
        "id": "LgzNpE6O4-ik"
      },
      "source": [
        "#### 개구리 이미지를 선택"
      ]
    },
    {
      "cell_type": "code",
      "metadata": {
        "id": "MBF8XEbj41ZU"
      },
      "source": [
        "x_train = x_train[y_train.flatten() == 6]"
      ],
      "execution_count": null,
      "outputs": []
    },
    {
      "cell_type": "markdown",
      "metadata": {
        "id": "be7fKh6-5BMn"
      },
      "source": [
        "#### 데이터 정규화"
      ]
    },
    {
      "cell_type": "code",
      "metadata": {
        "id": "JI3Jz1SE49Mp"
      },
      "source": [
        "x_train = x_train.reshape((x_train.shape[0], ) + (height, width, channels)).astype('float32') / 255."
      ],
      "execution_count": null,
      "outputs": []
    },
    {
      "cell_type": "code",
      "metadata": {
        "id": "b12T22Sh5FQa"
      },
      "source": [
        "#겐이 사사ㅣㄹ 학습이 잘 안됨. 그래서 오랫동안 학습을 해줘야하는데\n",
        "iterations = 10000\n",
        "batch_size = 20\n",
        "\n",
        "save_dir = '/content/gan_images/'\n",
        "if not os.path.exists(save_dir):\n",
        "  os.mkdir(save_dir)"
      ],
      "execution_count": null,
      "outputs": []
    },
    {
      "cell_type": "markdown",
      "metadata": {
        "id": "iIfCHuXQ7HOJ"
      },
      "source": [
        "#### 학습"
      ]
    },
    {
      "cell_type": "code",
      "metadata": {
        "id": "puOujZ3F5D2f",
        "colab": {
          "base_uri": "https://localhost:8080/"
        },
        "outputId": "5200c818-ec88-404e-80f1-7a73f3cc47c6"
      },
      "source": [
        "start = 0\n",
        "for step in range(iterations):\n",
        "  random_latent_vectors = np.random.normal(size=(batch_size, latent_dim))\n",
        "  generated_images = generator.predict(random_latent_vectors)\n",
        "\n",
        "  stop = start + batch_size\n",
        "  real_images = x_train[start:stop] #슬라이싱\n",
        "  combined_images = np.concatenate([generated_images, real_images])\n",
        "\n",
        "  labels = np.concatenate([np.ones((batch_size, 1)),\n",
        "                         np.zeros((batch_size, 1))])\n",
        "  \n",
        "  labels += 0.05 * np.random.random(labels.shape) #랜덤 노이즈 추가(사실 중요!)\n",
        "\n",
        "  d_loss = discriminator.train_on_batch(combined_images, labels)\n",
        "\n",
        "  random_latent_vectors = np.random.normal(size=(batch_size, latent_dim))\n",
        "  misleading_targets = np.zeros((batch_size, 1))\n",
        "\n",
        "  a_loss = gan.train_on_batch(random_latent_vectors, misleading_targets)\n",
        "\n",
        "  start += batch_size\n",
        "  if start > len(x_train) - batch_size:\n",
        "    start = 0\n",
        "\n",
        "  if step % 100 == 0:\n",
        "    gan.save_weights('gan.h5')\n",
        "\n",
        "    print('\\nstep: {}'.format(step))\n",
        "    print(' discrimivator loss: {}'.format(d_loss))\n",
        "    print(' adversarial loss: {}',format(a_loss))\n",
        "\n",
        "    img = image.array_to_img(generated_images[0] * 255., scale=False)\n",
        "    img.save(os.path.join(save_dir, 'generated_frog' + str(step) + '.png'))\n",
        "\n",
        "    img = image.array_to_img(real_images[0] * 255., scale=False)\n",
        "    img.save(os.path.join(save_dir, 'real_frog' + str(step) + '.png'))"
      ],
      "execution_count": null,
      "outputs": [
        {
          "output_type": "stream",
          "text": [
            "\n",
            "step: 0\n",
            " discrimivator loss: 10.965431213378906\n",
            " adversarial loss: {} 1.0607185363769531\n",
            "\n",
            "step: 100\n",
            " discrimivator loss: 0.6910783648490906\n",
            " adversarial loss: {} 2.623157024383545\n",
            "\n",
            "step: 200\n",
            " discrimivator loss: 0.6919974088668823\n",
            " adversarial loss: {} 0.8007192611694336\n",
            "\n",
            "step: 300\n",
            " discrimivator loss: 0.707201361656189\n",
            " adversarial loss: {} 1.0751125812530518\n",
            "\n",
            "step: 400\n",
            " discrimivator loss: 0.7101792097091675\n",
            " adversarial loss: {} 0.7768222093582153\n",
            "\n",
            "step: 500\n",
            " discrimivator loss: 0.7027691006660461\n",
            " adversarial loss: {} 0.7368241548538208\n",
            "\n",
            "step: 600\n",
            " discrimivator loss: 0.6847845315933228\n",
            " adversarial loss: {} 1.5900996923446655\n",
            "\n",
            "step: 700\n",
            " discrimivator loss: 0.6876772046089172\n",
            " adversarial loss: {} 0.7637452483177185\n",
            "\n",
            "step: 800\n",
            " discrimivator loss: 0.6908624768257141\n",
            " adversarial loss: {} 0.742030918598175\n",
            "\n",
            "step: 900\n",
            " discrimivator loss: 0.7097926735877991\n",
            " adversarial loss: {} 0.7470834851264954\n",
            "\n",
            "step: 1000\n",
            " discrimivator loss: 0.6997076869010925\n",
            " adversarial loss: {} 0.7494219541549683\n",
            "\n",
            "step: 1100\n",
            " discrimivator loss: 0.7042847871780396\n",
            " adversarial loss: {} 0.7341142892837524\n",
            "\n",
            "step: 1200\n",
            " discrimivator loss: 0.71013343334198\n",
            " adversarial loss: {} 0.7631677389144897\n",
            "\n",
            "step: 1300\n",
            " discrimivator loss: 0.7383363246917725\n",
            " adversarial loss: {} 0.7109127044677734\n",
            "\n",
            "step: 1400\n",
            " discrimivator loss: 0.681969165802002\n",
            " adversarial loss: {} 0.7525105476379395\n",
            "\n",
            "step: 1500\n",
            " discrimivator loss: 0.6975058913230896\n",
            " adversarial loss: {} 0.6628850102424622\n",
            "\n",
            "step: 1600\n",
            " discrimivator loss: 0.704645574092865\n",
            " adversarial loss: {} 0.8018916249275208\n",
            "\n",
            "step: 1700\n",
            " discrimivator loss: 0.683104932308197\n",
            " adversarial loss: {} 0.7483569383621216\n",
            "\n",
            "step: 1800\n",
            " discrimivator loss: 0.6952559351921082\n",
            " adversarial loss: {} 0.7012518644332886\n",
            "\n",
            "step: 1900\n",
            " discrimivator loss: 0.7055126428604126\n",
            " adversarial loss: {} 0.7522005438804626\n",
            "\n",
            "step: 2000\n",
            " discrimivator loss: 0.6960315108299255\n",
            " adversarial loss: {} 0.7430285215377808\n",
            "\n",
            "step: 2100\n",
            " discrimivator loss: 0.6763141751289368\n",
            " adversarial loss: {} 0.7422256469726562\n",
            "\n",
            "step: 2200\n",
            " discrimivator loss: 0.6920793652534485\n",
            " adversarial loss: {} 0.7352428436279297\n",
            "\n",
            "step: 2300\n",
            " discrimivator loss: 0.6824778318405151\n",
            " adversarial loss: {} 0.7328495979309082\n",
            "\n",
            "step: 2400\n",
            " discrimivator loss: 0.6909976005554199\n",
            " adversarial loss: {} 0.7711623311042786\n",
            "\n",
            "step: 2500\n",
            " discrimivator loss: 0.6954724192619324\n",
            " adversarial loss: {} 0.7436019778251648\n",
            "\n",
            "step: 2600\n",
            " discrimivator loss: 0.723389744758606\n",
            " adversarial loss: {} 0.7710466384887695\n",
            "\n",
            "step: 2700\n",
            " discrimivator loss: 0.7079818844795227\n",
            " adversarial loss: {} 0.746834933757782\n",
            "\n",
            "step: 2800\n",
            " discrimivator loss: 0.7018168568611145\n",
            " adversarial loss: {} 0.7354857921600342\n",
            "\n",
            "step: 2900\n",
            " discrimivator loss: 0.7067169547080994\n",
            " adversarial loss: {} 0.9369930028915405\n",
            "\n",
            "step: 3000\n",
            " discrimivator loss: 0.6965200304985046\n",
            " adversarial loss: {} 0.7517118453979492\n",
            "\n",
            "step: 3100\n",
            " discrimivator loss: 0.7000289559364319\n",
            " adversarial loss: {} 0.735931932926178\n",
            "\n",
            "step: 3200\n",
            " discrimivator loss: 0.744735836982727\n",
            " adversarial loss: {} 0.7608885169029236\n",
            "\n",
            "step: 3300\n",
            " discrimivator loss: 0.7127584218978882\n",
            " adversarial loss: {} 0.7756170034408569\n",
            "\n",
            "step: 3400\n",
            " discrimivator loss: 0.7060407400131226\n",
            " adversarial loss: {} 0.73100745677948\n",
            "\n",
            "step: 3500\n",
            " discrimivator loss: 0.6899906992912292\n",
            " adversarial loss: {} 0.7385420203208923\n",
            "\n",
            "step: 3600\n",
            " discrimivator loss: 0.7007797360420227\n",
            " adversarial loss: {} 0.7582436800003052\n",
            "\n",
            "step: 3700\n",
            " discrimivator loss: 0.6981741189956665\n",
            " adversarial loss: {} 0.7380598783493042\n",
            "\n",
            "step: 3800\n",
            " discrimivator loss: 0.7012397050857544\n",
            " adversarial loss: {} 0.7698472738265991\n",
            "\n",
            "step: 3900\n",
            " discrimivator loss: 0.7004825472831726\n",
            " adversarial loss: {} 0.7224456071853638\n",
            "\n",
            "step: 4000\n",
            " discrimivator loss: 0.7149472832679749\n",
            " adversarial loss: {} 0.7638985514640808\n",
            "\n",
            "step: 4100\n",
            " discrimivator loss: 0.6877683401107788\n",
            " adversarial loss: {} 0.732580840587616\n",
            "\n",
            "step: 4200\n",
            " discrimivator loss: 1.0489311218261719\n",
            " adversarial loss: {} 0.78046715259552\n",
            "\n",
            "step: 4300\n",
            " discrimivator loss: 0.6976616978645325\n",
            " adversarial loss: {} 0.7194358110427856\n",
            "\n",
            "step: 4400\n",
            " discrimivator loss: 0.6861317157745361\n",
            " adversarial loss: {} 0.7962274551391602\n",
            "\n",
            "step: 4500\n",
            " discrimivator loss: 0.6913354992866516\n",
            " adversarial loss: {} 0.780049741268158\n",
            "\n",
            "step: 4600\n",
            " discrimivator loss: 0.7000309228897095\n",
            " adversarial loss: {} 0.857556939125061\n",
            "\n",
            "step: 4700\n",
            " discrimivator loss: 0.6850289106369019\n",
            " adversarial loss: {} 0.7333976030349731\n",
            "\n",
            "step: 4800\n",
            " discrimivator loss: 0.683915913105011\n",
            " adversarial loss: {} 0.7693976759910583\n",
            "\n",
            "step: 4900\n",
            " discrimivator loss: 0.6870099306106567\n",
            " adversarial loss: {} 0.7671548128128052\n",
            "\n",
            "step: 5000\n",
            " discrimivator loss: 0.697698712348938\n",
            " adversarial loss: {} 0.7320958375930786\n",
            "\n",
            "step: 5100\n",
            " discrimivator loss: 0.6919890642166138\n",
            " adversarial loss: {} 0.7602443695068359\n",
            "\n",
            "step: 5200\n",
            " discrimivator loss: 0.7074965238571167\n",
            " adversarial loss: {} 0.7544437646865845\n",
            "\n",
            "step: 5300\n",
            " discrimivator loss: 0.6953681111335754\n",
            " adversarial loss: {} 0.7488833069801331\n",
            "\n",
            "step: 5400\n",
            " discrimivator loss: 0.684859573841095\n",
            " adversarial loss: {} 0.9166167378425598\n",
            "\n",
            "step: 5500\n",
            " discrimivator loss: 0.7125462293624878\n",
            " adversarial loss: {} 0.7954386472702026\n",
            "\n",
            "step: 5600\n",
            " discrimivator loss: 0.7016207575798035\n",
            " adversarial loss: {} 0.7094523906707764\n",
            "\n",
            "step: 5700\n",
            " discrimivator loss: 0.7044203877449036\n",
            " adversarial loss: {} 0.7173057794570923\n",
            "\n",
            "step: 5800\n",
            " discrimivator loss: 0.8027950525283813\n",
            " adversarial loss: {} 0.8788508176803589\n",
            "\n",
            "step: 5900\n",
            " discrimivator loss: 0.6963731050491333\n",
            " adversarial loss: {} 0.7630729675292969\n",
            "\n",
            "step: 6000\n",
            " discrimivator loss: 0.6881460547447205\n",
            " adversarial loss: {} 0.7714517712593079\n",
            "\n",
            "step: 6100\n",
            " discrimivator loss: 0.6801344156265259\n",
            " adversarial loss: {} 0.6835108399391174\n",
            "\n",
            "step: 6200\n",
            " discrimivator loss: 0.7075093984603882\n",
            " adversarial loss: {} 0.7433762550354004\n",
            "\n",
            "step: 6300\n",
            " discrimivator loss: 0.7037234306335449\n",
            " adversarial loss: {} 0.7996847033500671\n",
            "\n",
            "step: 6400\n",
            " discrimivator loss: 0.6863876581192017\n",
            " adversarial loss: {} 0.7406248450279236\n",
            "\n",
            "step: 6500\n",
            " discrimivator loss: 0.6930554509162903\n",
            " adversarial loss: {} 0.7619234919548035\n",
            "\n",
            "step: 6600\n",
            " discrimivator loss: 0.6781066060066223\n",
            " adversarial loss: {} 0.795460045337677\n",
            "\n",
            "step: 6700\n",
            " discrimivator loss: 0.7164267301559448\n",
            " adversarial loss: {} 0.7634369134902954\n",
            "\n",
            "step: 6800\n",
            " discrimivator loss: 0.6773580312728882\n",
            " adversarial loss: {} 0.8451776504516602\n",
            "\n",
            "step: 6900\n",
            " discrimivator loss: 0.6661674380302429\n",
            " adversarial loss: {} 0.6330659985542297\n",
            "\n",
            "step: 7000\n",
            " discrimivator loss: 0.6728735566139221\n",
            " adversarial loss: {} 0.7704410552978516\n",
            "\n",
            "step: 7100\n",
            " discrimivator loss: 0.6921793818473816\n",
            " adversarial loss: {} 0.3726053833961487\n",
            "\n",
            "step: 7200\n",
            " discrimivator loss: 0.7489284873008728\n",
            " adversarial loss: {} 0.906460165977478\n",
            "\n",
            "step: 7300\n",
            " discrimivator loss: 0.6964136362075806\n",
            " adversarial loss: {} 0.7899191975593567\n",
            "\n",
            "step: 7400\n",
            " discrimivator loss: 0.6887785792350769\n",
            " adversarial loss: {} 0.7693986892700195\n",
            "\n",
            "step: 7500\n",
            " discrimivator loss: 0.693970799446106\n",
            " adversarial loss: {} 0.8799080848693848\n",
            "\n",
            "step: 7600\n",
            " discrimivator loss: 0.6946207284927368\n",
            " adversarial loss: {} 0.7892465591430664\n",
            "\n",
            "step: 7700\n",
            " discrimivator loss: 0.7430421113967896\n",
            " adversarial loss: {} 0.6454424858093262\n",
            "\n",
            "step: 7800\n",
            " discrimivator loss: 0.8032611608505249\n",
            " adversarial loss: {} 1.0999418497085571\n",
            "\n",
            "step: 7900\n",
            " discrimivator loss: 0.7472794055938721\n",
            " adversarial loss: {} 0.897668719291687\n",
            "\n",
            "step: 8000\n",
            " discrimivator loss: 0.6907752752304077\n",
            " adversarial loss: {} 0.7366300225257874\n",
            "\n",
            "step: 8100\n",
            " discrimivator loss: 0.6977669596672058\n",
            " adversarial loss: {} 0.7106582522392273\n",
            "\n",
            "step: 8200\n",
            " discrimivator loss: 0.6867278814315796\n",
            " adversarial loss: {} 0.7559327483177185\n",
            "\n",
            "step: 8300\n",
            " discrimivator loss: 0.7313169240951538\n",
            " adversarial loss: {} 1.275292158126831\n",
            "\n",
            "step: 8400\n",
            " discrimivator loss: 0.6885935664176941\n",
            " adversarial loss: {} 0.8607345819473267\n",
            "\n",
            "step: 8500\n",
            " discrimivator loss: 0.6615562438964844\n",
            " adversarial loss: {} 0.858489990234375\n",
            "\n",
            "step: 8600\n",
            " discrimivator loss: 0.7004568576812744\n",
            " adversarial loss: {} 0.7275789976119995\n",
            "\n",
            "step: 8700\n",
            " discrimivator loss: 0.677273154258728\n",
            " adversarial loss: {} 0.772347092628479\n",
            "\n",
            "step: 8800\n",
            " discrimivator loss: 0.6914392709732056\n",
            " adversarial loss: {} 0.7462480068206787\n",
            "\n",
            "step: 8900\n",
            " discrimivator loss: 0.698448657989502\n",
            " adversarial loss: {} 0.8281922340393066\n",
            "\n",
            "step: 9000\n",
            " discrimivator loss: 0.7015480995178223\n",
            " adversarial loss: {} 0.8525558710098267\n",
            "\n",
            "step: 9100\n",
            " discrimivator loss: 0.6934784650802612\n",
            " adversarial loss: {} 0.7742159962654114\n",
            "\n",
            "step: 9200\n",
            " discrimivator loss: 0.7366660237312317\n",
            " adversarial loss: {} 0.604663074016571\n",
            "\n",
            "step: 9300\n",
            " discrimivator loss: 0.723637580871582\n",
            " adversarial loss: {} 0.9238330721855164\n",
            "\n",
            "step: 9400\n",
            " discrimivator loss: 0.691584587097168\n",
            " adversarial loss: {} 0.8762732744216919\n",
            "\n",
            "step: 9500\n",
            " discrimivator loss: 0.6961020827293396\n",
            " adversarial loss: {} 0.7598931193351746\n",
            "\n",
            "step: 9600\n",
            " discrimivator loss: 0.6800073385238647\n",
            " adversarial loss: {} 0.8345561027526855\n",
            "\n",
            "step: 9700\n",
            " discrimivator loss: 0.6703312993049622\n",
            " adversarial loss: {} 0.8011393547058105\n",
            "\n",
            "step: 9800\n",
            " discrimivator loss: 0.6901634335517883\n",
            " adversarial loss: {} 0.8428792953491211\n",
            "\n",
            "step: 9900\n",
            " discrimivator loss: 0.7029398679733276\n",
            " adversarial loss: {} 0.7458301782608032\n"
          ],
          "name": "stdout"
        }
      ]
    },
    {
      "cell_type": "markdown",
      "metadata": {
        "id": "9I4J9HSI7Kco"
      },
      "source": [
        "#### 이미지 생성을 통한 시각화\n"
      ]
    },
    {
      "cell_type": "code",
      "metadata": {
        "id": "L9r2Bfwk5iNf"
      },
      "source": [
        "#시각화\n",
        "import matplotlib.pyplot as plt"
      ],
      "execution_count": null,
      "outputs": []
    },
    {
      "cell_type": "markdown",
      "metadata": {
        "id": "KS9f7FGO7ijf"
      },
      "source": [
        "- 잠재 공간에서 랜덤한 포인트를 샘플링\n"
      ]
    },
    {
      "cell_type": "code",
      "metadata": {
        "id": "M6zPuYw97EHk"
      },
      "source": [
        "random_latent_vectors = np.random.normal(size=(10, latent_dim))"
      ],
      "execution_count": null,
      "outputs": []
    },
    {
      "cell_type": "markdown",
      "metadata": {
        "id": "IikNB0zM7lQ8"
      },
      "source": [
        "- 가짜 이미지로 디코딩"
      ]
    },
    {
      "cell_type": "code",
      "metadata": {
        "id": "BHSY6hNU7AlE"
      },
      "source": [
        "generated_images = generator.predict(random_latent_vectors)"
      ],
      "execution_count": null,
      "outputs": []
    },
    {
      "cell_type": "code",
      "metadata": {
        "id": "9gyn_d90--r0",
        "colab": {
          "base_uri": "https://localhost:8080/"
        },
        "outputId": "3a55d069-ad83-46db-ad45-4ea19d82f887"
      },
      "source": [
        "print(generated_images.shape)"
      ],
      "execution_count": null,
      "outputs": [
        {
          "output_type": "stream",
          "text": [
            "(10, 32, 32, 3)\n"
          ],
          "name": "stdout"
        }
      ]
    },
    {
      "cell_type": "code",
      "metadata": {
        "id": "ANOGbba4-sSE",
        "colab": {
          "base_uri": "https://localhost:8080/",
          "height": 289
        },
        "outputId": "efd35387-0044-4d13-c25d-9e6563b28374"
      },
      "source": [
        "plt.figure(figsize=(20, 8))\n",
        "for i in range(generated_images.shape[0]):\n",
        "  plt.subplot(2, 5, i+1)\n",
        "  img = image.array_to_img(generated_images[i] * 255., scale=False)\n",
        "  plt.imshow(img)\n",
        "  plt.xticks([])\n",
        "  plt.yticks([])\n",
        "\n",
        "plt.show()"
      ],
      "execution_count": null,
      "outputs": [
        {
          "output_type": "display_data",
          "data": {
            "image/png": "[encoded data removed]",
            "text/plain": [
              "<Figure size 1440x576 with 10 Axes>"
            ]
          },
          "metadata": {
            "tags": []
          }
        }
      ]
    },
    {
      "cell_type": "code",
      "metadata": {
        "id": "dAwGAwp_PU3i"
      },
      "source": [
        ""
      ],
      "execution_count": null,
      "outputs": []
    }
  ]
}