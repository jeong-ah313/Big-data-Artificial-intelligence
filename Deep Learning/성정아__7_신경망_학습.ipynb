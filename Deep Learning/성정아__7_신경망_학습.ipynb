{
  "nbformat": 4,
  "nbformat_minor": 0,
  "metadata": {
    "colab": {
      "name": "성정아 - _7 신경망 학습",
      "provenance": [],
      "collapsed_sections": []
    },
    "kernelspec": {
      "name": "python3",
      "display_name": "Python 3"
    },
    "widgets": {
      "application/vnd.jupyter.widget-state+json": {
        "fd0e55b1be0d415f977b7e273415315c": {
          "model_module": "@jupyter-widgets/controls",
          "model_name": "HBoxModel",
          "model_module_version": "1.5.0",
          "state": {
            "_view_name": "HBoxView",
            "_dom_classes": [],
            "_model_name": "HBoxModel",
            "_view_module": "@jupyter-widgets/controls",
            "_model_module_version": "1.5.0",
            "_view_count": null,
            "_view_module_version": "1.5.0",
            "box_style": "",
            "layout": "IPY_MODEL_297b31893b7643c7b88adbb6be169011",
            "_model_module": "@jupyter-widgets/controls",
            "children": [
              "IPY_MODEL_bcf5ea304ebc44c0a3c1e90859e801c3",
              "IPY_MODEL_470bc331d02e4d5b8ea8e6cc07f32779"
            ]
          }
        },
        "297b31893b7643c7b88adbb6be169011": {
          "model_module": "@jupyter-widgets/base",
          "model_name": "LayoutModel",
          "model_module_version": "1.2.0",
          "state": {
            "_view_name": "LayoutView",
            "grid_template_rows": null,
            "right": null,
            "justify_content": null,
            "_view_module": "@jupyter-widgets/base",
            "overflow": null,
            "_model_module_version": "1.2.0",
            "_view_count": null,
            "flex_flow": null,
            "width": null,
            "min_width": null,
            "border": null,
            "align_items": null,
            "bottom": null,
            "_model_module": "@jupyter-widgets/base",
            "top": null,
            "grid_column": null,
            "overflow_y": null,
            "overflow_x": null,
            "grid_auto_flow": null,
            "grid_area": null,
            "grid_template_columns": null,
            "flex": null,
            "_model_name": "LayoutModel",
            "justify_items": null,
            "grid_row": null,
            "max_height": null,
            "align_content": null,
            "visibility": null,
            "align_self": null,
            "height": null,
            "min_height": null,
            "padding": null,
            "grid_auto_rows": null,
            "grid_gap": null,
            "max_width": null,
            "order": null,
            "_view_module_version": "1.2.0",
            "grid_template_areas": null,
            "object_position": null,
            "object_fit": null,
            "grid_auto_columns": null,
            "margin": null,
            "display": null,
            "left": null
          }
        },
        "bcf5ea304ebc44c0a3c1e90859e801c3": {
          "model_module": "@jupyter-widgets/controls",
          "model_name": "FloatProgressModel",
          "model_module_version": "1.5.0",
          "state": {
            "_view_name": "ProgressView",
            "style": "IPY_MODEL_8a9a631e4f284c2385bf144d0336ea0a",
            "_dom_classes": [],
            "description": "100%",
            "_model_name": "FloatProgressModel",
            "bar_style": "success",
            "max": 2,
            "_view_module": "@jupyter-widgets/controls",
            "_model_module_version": "1.5.0",
            "value": 2,
            "_view_count": null,
            "_view_module_version": "1.5.0",
            "orientation": "horizontal",
            "min": 0,
            "description_tooltip": null,
            "_model_module": "@jupyter-widgets/controls",
            "layout": "IPY_MODEL_b75b98a7a8754cb9b63bb32d33aca920"
          }
        },
        "470bc331d02e4d5b8ea8e6cc07f32779": {
          "model_module": "@jupyter-widgets/controls",
          "model_name": "HTMLModel",
          "model_module_version": "1.5.0",
          "state": {
            "_view_name": "HTMLView",
            "style": "IPY_MODEL_ae27d6720a414072abbf5488444e5f51",
            "_dom_classes": [],
            "description": "",
            "_model_name": "HTMLModel",
            "placeholder": "​",
            "_view_module": "@jupyter-widgets/controls",
            "_model_module_version": "1.5.0",
            "value": " 2/2 [02:59&lt;00:00, 89.53s/it]",
            "_view_count": null,
            "_view_module_version": "1.5.0",
            "description_tooltip": null,
            "_model_module": "@jupyter-widgets/controls",
            "layout": "IPY_MODEL_6b5227b3e62b4a468a9b99e2058d5cbf"
          }
        },
        "8a9a631e4f284c2385bf144d0336ea0a": {
          "model_module": "@jupyter-widgets/controls",
          "model_name": "ProgressStyleModel",
          "model_module_version": "1.5.0",
          "state": {
            "_view_name": "StyleView",
            "_model_name": "ProgressStyleModel",
            "description_width": "initial",
            "_view_module": "@jupyter-widgets/base",
            "_model_module_version": "1.5.0",
            "_view_count": null,
            "_view_module_version": "1.2.0",
            "bar_color": null,
            "_model_module": "@jupyter-widgets/controls"
          }
        },
        "b75b98a7a8754cb9b63bb32d33aca920": {
          "model_module": "@jupyter-widgets/base",
          "model_name": "LayoutModel",
          "model_module_version": "1.2.0",
          "state": {
            "_view_name": "LayoutView",
            "grid_template_rows": null,
            "right": null,
            "justify_content": null,
            "_view_module": "@jupyter-widgets/base",
            "overflow": null,
            "_model_module_version": "1.2.0",
            "_view_count": null,
            "flex_flow": null,
            "width": null,
            "min_width": null,
            "border": null,
            "align_items": null,
            "bottom": null,
            "_model_module": "@jupyter-widgets/base",
            "top": null,
            "grid_column": null,
            "overflow_y": null,
            "overflow_x": null,
            "grid_auto_flow": null,
            "grid_area": null,
            "grid_template_columns": null,
            "flex": null,
            "_model_name": "LayoutModel",
            "justify_items": null,
            "grid_row": null,
            "max_height": null,
            "align_content": null,
            "visibility": null,
            "align_self": null,
            "height": null,
            "min_height": null,
            "padding": null,
            "grid_auto_rows": null,
            "grid_gap": null,
            "max_width": null,
            "order": null,
            "_view_module_version": "1.2.0",
            "grid_template_areas": null,
            "object_position": null,
            "object_fit": null,
            "grid_auto_columns": null,
            "margin": null,
            "display": null,
            "left": null
          }
        },
        "ae27d6720a414072abbf5488444e5f51": {
          "model_module": "@jupyter-widgets/controls",
          "model_name": "DescriptionStyleModel",
          "model_module_version": "1.5.0",
          "state": {
            "_view_name": "StyleView",
            "_model_name": "DescriptionStyleModel",
            "description_width": "",
            "_view_module": "@jupyter-widgets/base",
            "_model_module_version": "1.5.0",
            "_view_count": null,
            "_view_module_version": "1.2.0",
            "_model_module": "@jupyter-widgets/controls"
          }
        },
        "6b5227b3e62b4a468a9b99e2058d5cbf": {
          "model_module": "@jupyter-widgets/base",
          "model_name": "LayoutModel",
          "model_module_version": "1.2.0",
          "state": {
            "_view_name": "LayoutView",
            "grid_template_rows": null,
            "right": null,
            "justify_content": null,
            "_view_module": "@jupyter-widgets/base",
            "overflow": null,
            "_model_module_version": "1.2.0",
            "_view_count": null,
            "flex_flow": null,
            "width": null,
            "min_width": null,
            "border": null,
            "align_items": null,
            "bottom": null,
            "_model_module": "@jupyter-widgets/base",
            "top": null,
            "grid_column": null,
            "overflow_y": null,
            "overflow_x": null,
            "grid_auto_flow": null,
            "grid_area": null,
            "grid_template_columns": null,
            "flex": null,
            "_model_name": "LayoutModel",
            "justify_items": null,
            "grid_row": null,
            "max_height": null,
            "align_content": null,
            "visibility": null,
            "align_self": null,
            "height": null,
            "min_height": null,
            "padding": null,
            "grid_auto_rows": null,
            "grid_gap": null,
            "max_width": null,
            "order": null,
            "_view_module_version": "1.2.0",
            "grid_template_areas": null,
            "object_position": null,
            "object_fit": null,
            "grid_auto_columns": null,
            "margin": null,
            "display": null,
            "left": null
          }
        }
      }
    }
  },
  "cells": [
    {
      "cell_type": "markdown",
      "metadata": {
        "id": "nyjyu4FzUAVw"
      },
      "source": [
        "# 신경망 학습"
      ]
    },
    {
      "cell_type": "markdown",
      "metadata": {
        "id": "VQvNez4qydhL"
      },
      "source": [
        "## 단순한 신경망 구현 : Logic Gate"
      ]
    },
    {
      "cell_type": "markdown",
      "metadata": {
        "id": "-7te43hqyiiJ"
      },
      "source": [
        "### 필요한 모듈 import"
      ]
    },
    {
      "cell_type": "code",
      "metadata": {
        "id": "Qf2F_YbdybBE"
      },
      "source": [
        "import numpy as np\n",
        "import matplotlib.pyplot as plt\n",
        "plt.style.use('seaborn-whitegrid')"
      ],
      "execution_count": null,
      "outputs": []
    },
    {
      "cell_type": "markdown",
      "metadata": {
        "id": "orUoPmDcymhj"
      },
      "source": [
        "### 하이퍼 파라미터(Hyper Parameter)"
      ]
    },
    {
      "cell_type": "code",
      "metadata": {
        "id": "bOAmMxo0ymDF"
      },
      "source": [
        "epochs = 1000\n",
        "lr = 0.1"
      ],
      "execution_count": null,
      "outputs": []
    },
    {
      "cell_type": "markdown",
      "metadata": {
        "id": "BjmLWgFVysnq"
      },
      "source": [
        "### 유틸 함수들(Util Functions)"
      ]
    },
    {
      "cell_type": "code",
      "metadata": {
        "id": "Y4OMFGrjyq1c"
      },
      "source": [
        "def sigmoid(x):\n",
        "  return 1 / (1 + np.exp(-x))\n",
        "\n",
        "def mean_squared_error(pred_y, true_y):\n",
        "  return 0.5 * (np.sum((true_y - pred_y)**2))\n",
        "\n",
        "def cross_entropy_error(pred_y, true_y):\n",
        "  if true_y.ndim == 1:\n",
        "    true_y = true_y.reshape(1, -1)\n",
        "    pred_y = pred_y.reshape(1,-1)\n",
        "\n",
        "  delta = 1e-7\n",
        "  return -np.sum(true_y * np.log(pred_y + delta))\n",
        "\n",
        "def cross_entropy_error_for_batch(pred_y, true_y):\n",
        "  if true_y.ndim == 1:\n",
        "    true_y = true_y.reshape(1, -1)\n",
        "    pred_y = pred_y.reshape(1,-1)\n",
        "\n",
        "  delta = 1e-7\n",
        "  batch_size = pred_y.shape[0]\n",
        "  return -np.sum(true_y * np.log(pred_y + delta))\n",
        "\n",
        "#바이너리 형태일때(bin)\n",
        "def cross_entropy_error_for_bin(pred_y, true_y):\n",
        "  return 0.5 * np.sum((-true_y * np.log(pred_y) - (1 - true_y) * np.log(1 - pred_y)))\n",
        "\n",
        "def softmax(a):\n",
        "  exp_a = np.exp(a)\n",
        "  sum_exp_a = p.sum(sxp_a)\n",
        "  y = exp_a / sum_exp_a\n",
        "  \n",
        "  return y\n",
        "\n",
        "def diffrerntial(f, x):\n",
        "  eps = 1e-5\n",
        "  diff_value = np.zeros_like(x)\n",
        "\n",
        "  for i in range(x.shape[0]):\n",
        "    temp_val = x[i]\n",
        "\n",
        "    x[i] = temp_val + eps\n",
        "    f_h1 = f(x)\n",
        "\n",
        "    x[i] = temp_val - eps\n",
        "    f_h2 = f(x)\n",
        "\n",
        "    diff_value[i] = (f_h1 - f_h2) / (2 * eps)\n",
        "    x[i] = temp_val\n",
        "\n",
        "  return diff_value "
      ],
      "execution_count": null,
      "outputs": []
    },
    {
      "cell_type": "markdown",
      "metadata": {
        "id": "h5Z2LTT_y3i5"
      },
      "source": [
        "### 신경망"
      ]
    },
    {
      "cell_type": "code",
      "metadata": {
        "id": "gMTjjYgdy3D8"
      },
      "source": [
        "class LogicGateNet():\n",
        "\n",
        "  def __init__(self):\n",
        "    def weight_init():\n",
        "      np.random.seed(1)\n",
        "      weights = np.random.randn(2)\n",
        "      bias = np.random.rand(1)\n",
        "\n",
        "      return weights, bias\n",
        "\n",
        "    self.weights, self.bias = weight_init()\n",
        "\n",
        "  def predict(self, x):\n",
        "    W = self.weights.reshape(-1,1)\n",
        "    b = self.bias\n",
        "\n",
        "    pred_y = sigmoid(np.dot(x, W) + b)\n",
        "    return pred_y\n",
        "\n",
        "  def loss(self, x,true_y):\n",
        "    pred_y = self.predict(x)\n",
        "    return cross_entropy_error_for_bin(pred_y, true_y)\n",
        "\n",
        "  def get_gradient(self, x, t):\n",
        "    def loss_grad(grad):\n",
        "      return self.loss(x, t)\n",
        "\n",
        "    grad_W = diffrerntial(loss_grad, self.weights)\n",
        "    grad_B = diffrerntial(loss_grad, self.bias)\n",
        "\n",
        "    return grad_W, grad_B"
      ],
      "execution_count": null,
      "outputs": []
    },
    {
      "cell_type": "markdown",
      "metadata": {
        "id": "wbNDoH_3zbGZ"
      },
      "source": [
        "### AND Gate"
      ]
    },
    {
      "cell_type": "markdown",
      "metadata": {
        "id": "2P-ib8_RzHTh"
      },
      "source": [
        "#### 모델 생성 및 학습"
      ]
    },
    {
      "cell_type": "code",
      "metadata": {
        "id": "rRiaACA6zGom",
        "colab": {
          "base_uri": "https://localhost:8080/",
          "height": 204
        },
        "outputId": "827e083d-87aa-4e03-aabe-6aab6dd51432"
      },
      "source": [
        "AND = LogicGateNet()\n",
        "\n",
        "X = np.array([[0,0], [0,1], [1, 0], [1, 1]])\n",
        "Y = np.array([[0], [0], [0], [1]])\n",
        "\n",
        "train_loss_list = list()\n",
        "\n",
        "for i in range(epochs):\n",
        "  grad_W, grad_B = AND.get_gradient(X, Y)\n",
        "\n",
        "  AND.weights -= lr * grad_W\n",
        "  AND.bias -= lr * grad_B\n",
        "\n",
        "  loss = AND.loss(X, Y)\n",
        "  train_loss_list.append(loss)\n",
        "\n",
        "  if i % 100 == 99:\n",
        "    print(\"Epoch: {}, Cost: {}, Weights: {}, Bias: {}\".format(i+1, loss, AND.weights, AND.bias))"
      ],
      "execution_count": null,
      "outputs": [
        {
          "output_type": "stream",
          "text": [
            "Epoch: 100, Cost: 0.6886489498077508, Weights: [1.56426876 0.79168393], Bias: [-2.14871589]\n",
            "Epoch: 200, Cost: 0.4946368603067626, Weights: [2.01360719 1.71241131], Bias: [-3.07894028]\n",
            "Epoch: 300, Cost: 0.3920165980751678, Weights: [2.42841657 2.29753793], Bias: [-3.79103207]\n",
            "Epoch: 400, Cost: 0.3257214374794629, Weights: [2.794852   2.73235738], Bias: [-4.37257095]\n",
            "Epoch: 500, Cost: 0.2786360133470194, Weights: [3.11636193 3.08408364], Bias: [-4.86571237]\n",
            "Epoch: 600, Cost: 0.24328504683857205, Weights: [3.40015395 3.38235762], Bias: [-5.29433736]\n",
            "Epoch: 700, Cost: 0.2157253655246455, Weights: [3.65300561 3.64264217], Bias: [-5.67349792]\n",
            "Epoch: 800, Cost: 0.19363244428376314, Weights: [3.88044124 3.87412053], Bias: [-6.01340133]\n",
            "Epoch: 900, Cost: 0.175532131279099, Weights: [4.08680123 4.08279091], Bias: [-6.32133891]\n",
            "Epoch: 1000, Cost: 0.16043926933305935, Weights: [4.27548114 4.27284863], Bias: [-6.6027234]\n"
          ],
          "name": "stdout"
        }
      ]
    },
    {
      "cell_type": "markdown",
      "metadata": {
        "id": "PZoyQv_czT7R"
      },
      "source": [
        "#### 테스트"
      ]
    },
    {
      "cell_type": "code",
      "metadata": {
        "id": "-7CvWgc9zREa",
        "colab": {
          "base_uri": "https://localhost:8080/",
          "height": 92
        },
        "outputId": "82bbbfe8-5aaf-4036-99bb-75c095960215"
      },
      "source": [
        "print(AND.predict(X))"
      ],
      "execution_count": null,
      "outputs": [
        {
          "output_type": "stream",
          "text": [
            "[[0.00135483]\n",
            " [0.08867878]\n",
            " [0.08889176]\n",
            " [0.87496677]]\n"
          ],
          "name": "stdout"
        }
      ]
    },
    {
      "cell_type": "markdown",
      "metadata": {
        "id": "HoMXNiXWzts-"
      },
      "source": [
        "### OR Gate"
      ]
    },
    {
      "cell_type": "markdown",
      "metadata": {
        "id": "DZ79pc4jzw3O"
      },
      "source": [
        "#### 모델 생성 및 학습"
      ]
    },
    {
      "cell_type": "code",
      "metadata": {
        "id": "8gnLmAyQzuoL",
        "colab": {
          "base_uri": "https://localhost:8080/",
          "height": 204
        },
        "outputId": "e41ef6d9-1fb1-4ce5-f33c-2772f08a5826"
      },
      "source": [
        "OR = LogicGateNet()\n",
        "X = np.array([[0, 0], [0,1], [1, 0], [1,1]])\n",
        "Y_2 = np.array([[0], [1], [1], [1]])\n",
        "\n",
        "train_loss_list = list()\n",
        "\n",
        "for i in range(epochs):\n",
        "  grad_W, grad_B = OR.get_gradient(X, Y_2)\n",
        "\n",
        "  OR.weights -= lr * grad_W\n",
        "  OR.bias -= lr * grad_B\n",
        "\n",
        "  loss = OR.loss(X, Y_2)\n",
        "  train_loss_list.append(loss)\n",
        "\n",
        "  if i % 100 == 99:\n",
        "    print(\"Epoch: {}, Cost: {}, Weights: {}, Bias: {}\".format(i+1, loss, AND.weights, AND.bias))"
      ],
      "execution_count": null,
      "outputs": [
        {
          "output_type": "stream",
          "text": [
            "Epoch: 100, Cost: 0.49580923848037245, Weights: [4.27548114 4.27284863], Bias: [-6.6027234]\n",
            "Epoch: 200, Cost: 0.3398674231512476, Weights: [4.27548114 4.27284863], Bias: [-6.6027234]\n",
            "Epoch: 300, Cost: 0.2573360986184237, Weights: [4.27548114 4.27284863], Bias: [-6.6027234]\n",
            "Epoch: 400, Cost: 0.20630142190061632, Weights: [4.27548114 4.27284863], Bias: [-6.6027234]\n",
            "Epoch: 500, Cost: 0.1716549922114765, Weights: [4.27548114 4.27284863], Bias: [-6.6027234]\n",
            "Epoch: 600, Cost: 0.14665018845489367, Weights: [4.27548114 4.27284863], Bias: [-6.6027234]\n",
            "Epoch: 700, Cost: 0.12779768649443757, Weights: [4.27548114 4.27284863], Bias: [-6.6027234]\n",
            "Epoch: 800, Cost: 0.11310517185394649, Weights: [4.27548114 4.27284863], Bias: [-6.6027234]\n",
            "Epoch: 900, Cost: 0.10135180918369109, Weights: [4.27548114 4.27284863], Bias: [-6.6027234]\n",
            "Epoch: 1000, Cost: 0.09174843008614507, Weights: [4.27548114 4.27284863], Bias: [-6.6027234]\n"
          ],
          "name": "stdout"
        }
      ]
    },
    {
      "cell_type": "markdown",
      "metadata": {
        "id": "jWmEtX_VnLSI"
      },
      "source": [
        "#### 테스트"
      ]
    },
    {
      "cell_type": "code",
      "metadata": {
        "id": "JwPpOs3-z2vU",
        "colab": {
          "base_uri": "https://localhost:8080/",
          "height": 92
        },
        "outputId": "89460f6e-72e5-4f4a-de65-d15e6e100830"
      },
      "source": [
        "print(OR.predict(X))\n",
        "#OR은 더욱 근접하게 잘 나온 것을 알 수 있음"
      ],
      "execution_count": null,
      "outputs": [
        {
          "output_type": "stream",
          "text": [
            "[[0.09855987]\n",
            " [0.9600543 ]\n",
            " [0.96195283]\n",
            " [0.9998201 ]]\n"
          ],
          "name": "stdout"
        }
      ]
    },
    {
      "cell_type": "markdown",
      "metadata": {
        "id": "JEBhczCIz57Q"
      },
      "source": [
        "### NAND Gate"
      ]
    },
    {
      "cell_type": "markdown",
      "metadata": {
        "id": "TzQaaHKKz8sZ"
      },
      "source": [
        "#### 모델 생성 및 학습"
      ]
    },
    {
      "cell_type": "code",
      "metadata": {
        "id": "h463QUQRz8PS",
        "colab": {
          "base_uri": "https://localhost:8080/",
          "height": 204
        },
        "outputId": "281a99b5-891d-4bcc-b358-480d567fd4e7"
      },
      "source": [
        "NAND = LogicGateNet()\n",
        "#NAND니까 AND의 반대이므로 반대로만 해주면 된다.\n",
        "\n",
        "X = np.array([[0,0], [0,1], [1, 0], [1, 1]])\n",
        "Y_3 = np.array([[1], [1], [1], [0]])\n",
        "\n",
        "train_loss_list = list()\n",
        "\n",
        "for i in range(epochs):\n",
        "  grad_W, grad_B = NAND.get_gradient(X, Y_3)\n",
        "\n",
        "  NAND.weights -= lr * grad_W\n",
        "  NAND.bias -= lr * grad_B\n",
        "\n",
        "  loss = NAND.loss(X, Y_3)\n",
        "  train_loss_list.append(loss)\n",
        "  \n",
        "  if i % 100 == 99:\n",
        "    print(\"Epoch: {}, Cost: {}, Weights: {}, Bias: {}\".format(i+1, loss, NAND.weights, NAND.bias))"
      ],
      "execution_count": null,
      "outputs": [
        {
          "output_type": "stream",
          "text": [
            "Epoch: 100, Cost: 0.7911738653764443, Weights: [-0.48972722 -1.25798774], Bias: [1.74566135]\n",
            "Epoch: 200, Cost: 0.5430490957875922, Weights: [-1.51545093 -1.80261804], Bias: [2.79151756]\n",
            "Epoch: 300, Cost: 0.42125913027366896, Weights: [-2.14614496 -2.26642639], Bias: [3.56506179]\n",
            "Epoch: 400, Cost: 0.3456117101528016, Weights: [-2.607325   -2.66303355], Bias: [4.18521187]\n",
            "Epoch: 500, Cost: 0.293129860518541, Weights: [-2.97696333 -3.00501941], Bias: [4.70528682]\n",
            "Epoch: 600, Cost: 0.2543396786003746, Weights: [-3.28850585 -3.30365261], Bias: [5.1539571]\n",
            "Epoch: 700, Cost: 0.22443918596780807, Weights: [-3.55912171 -3.56778782], Bias: [5.54869527]\n",
            "Epoch: 800, Cost: 0.20067626330797955, Weights: [-3.7989077  -3.80411461], Bias: [5.90108417]\n",
            "Epoch: 900, Cost: 0.1813412551760061, Weights: [-4.01441395 -4.01767547], Bias: [6.21926514]\n",
            "Epoch: 1000, Cost: 0.16530944081725432, Weights: [-4.21019696 -4.21231432], Bias: [6.50920952]\n"
          ],
          "name": "stdout"
        }
      ]
    },
    {
      "cell_type": "markdown",
      "metadata": {
        "id": "jR-rHaTU0Mga"
      },
      "source": [
        "#### 테스트"
      ]
    },
    {
      "cell_type": "code",
      "metadata": {
        "id": "WpzKW6sm0Ghp",
        "colab": {
          "base_uri": "https://localhost:8080/",
          "height": 92
        },
        "outputId": "aea575a1-6944-4a42-b309-1f7eec288878"
      },
      "source": [
        "print(NAND.predict(X))\n",
        "#앞에 세개는 일과 비슷하게 마지막 네번째는 0에 가깝게 나와야함"
      ],
      "execution_count": null,
      "outputs": [
        {
          "output_type": "stream",
          "text": [
            "[[0.99851256]\n",
            " [0.90861957]\n",
            " [0.90879523]\n",
            " [0.12861037]]\n"
          ],
          "name": "stdout"
        }
      ]
    },
    {
      "cell_type": "markdown",
      "metadata": {
        "id": "NiTWfSQ60Zl2"
      },
      "source": [
        "### XOR Gate"
      ]
    },
    {
      "cell_type": "markdown",
      "metadata": {
        "id": "hmmL0VIu0bXq"
      },
      "source": [
        "#### 모델 생성 및 학습"
      ]
    },
    {
      "cell_type": "code",
      "metadata": {
        "id": "0CGm0r1M0a9M",
        "colab": {
          "base_uri": "https://localhost:8080/",
          "height": 204
        },
        "outputId": "c512da42-f9e1-4f9e-8863-76b55e9406dc"
      },
      "source": [
        "XOR = LogicGateNet()\n",
        "\n",
        "X = np.array([[0,0], [0,1], [1, 0], [1, 1]])\n",
        "Y_4 = np.array([[0], [1], [1], [0]])\n",
        "\n",
        "train_loss_list = list()\n",
        "\n",
        "for i in range(epochs):\n",
        "  grad_W, grad_B = XOR.get_gradient(X, Y_4)\n",
        "\n",
        "  XOR.weights -= lr * grad_W\n",
        "  XOR.bias -= lr * grad_B\n",
        "\n",
        "  loss = XOR.loss(X, Y_4)\n",
        "  train_loss_list.append(loss)\n",
        "  \n",
        "  if i % 100 == 99:\n",
        "    print(\"Epoch: {}, Cost: {}, Weights: {}, Bias: {}\".format(i+1, loss, XOR.weights, XOR.bias))"
      ],
      "execution_count": null,
      "outputs": [
        {
          "output_type": "stream",
          "text": [
            "Epoch: 100, Cost: 1.402685224545991, Weights: [ 0.47012771 -0.19931523], Bias: [-0.16097708]\n",
            "Epoch: 200, Cost: 1.3879445622846385, Weights: [ 0.1572739  -0.03387161], Bias: [-0.07321056]\n",
            "Epoch: 300, Cost: 1.386492030048373, Weights: [0.05525161 0.00089673], Bias: [-0.03330094]\n",
            "Epoch: 400, Cost: 1.3863236205351996, Weights: [0.02049628 0.00504503], Bias: [-0.01514784]\n",
            "Epoch: 500, Cost: 1.386299474364679, Weights: [0.0080051  0.00361297], Bias: [-0.00689034]\n",
            "Epoch: 600, Cost: 1.3862953430687444, Weights: [0.00326661 0.00201812], Bias: [-0.00313421]\n",
            "Epoch: 700, Cost: 1.3862945581495083, Weights: [0.00137938 0.00102449], Bias: [-0.00142566]\n",
            "Epoch: 800, Cost: 1.38629440139037, Weights: [0.00059716 0.00049628], Bias: [-0.00064849]\n",
            "Epoch: 900, Cost: 1.3862943694120307, Weights: [0.00026303 0.00023435], Bias: [-0.00029498]\n",
            "Epoch: 1000, Cost: 1.386294362832352, Weights: [0.0001172  0.00010905], Bias: [-0.00013418]\n"
          ],
          "name": "stdout"
        }
      ]
    },
    {
      "cell_type": "markdown",
      "metadata": {
        "id": "Cy-ktElI0o5P"
      },
      "source": [
        "#### 테스트"
      ]
    },
    {
      "cell_type": "code",
      "metadata": {
        "id": "GWAJAJ_T0oqm",
        "colab": {
          "base_uri": "https://localhost:8080/",
          "height": 92
        },
        "outputId": "1e38e4a1-b1a2-432b-d085-6b17cb4ca10d"
      },
      "source": [
        "print(XOR.predict(X))\n",
        "#0110하고 비슷하게 나와야하는데 다 비슷비슷하게 0.5정도로 나옴.\n",
        "#레이어를 다층구조로 해야한다. 그래서 ㅈ층구조로 만들어 보겠음"
      ],
      "execution_count": null,
      "outputs": [
        {
          "output_type": "stream",
          "text": [
            "[[0.49996646]\n",
            " [0.49999372]\n",
            " [0.49999575]\n",
            " [0.50002302]]\n"
          ],
          "name": "stdout"
        }
      ]
    },
    {
      "cell_type": "markdown",
      "metadata": {
        "id": "VAlq_-6E1nIq"
      },
      "source": [
        "#### 2층 신경망으로 XOR 게이트 구현(1)\n",
        "\n",
        "- 얕은 신경망, Shallow Neural Network\n",
        "\n",
        "- 두 논리게이트(NAND, OR)를 통과하고  \n",
        "  AND 게이트로 합쳐서 구현\n",
        "\n",
        "- 06 신경망 구조 참고"
      ]
    },
    {
      "cell_type": "code",
      "metadata": {
        "id": "mr7nYMG20jTo"
      },
      "source": [
        "X = np.array([[0, 0], [0, 1], [1, 0], [1,1]])\n",
        "Y_5 = np.array([[0], [1], [1], [0]])\n",
        "\n",
        "s1 = NAND.predict(X)\n",
        "s2 = OR.predict(X)\n",
        "X_2 = np.array([s1, s2]).T.reshape(-1, 2)"
      ],
      "execution_count": null,
      "outputs": []
    },
    {
      "cell_type": "markdown",
      "metadata": {
        "id": "nkTDx8Ah1xHY"
      },
      "source": [
        "#### 테스트"
      ]
    },
    {
      "cell_type": "code",
      "metadata": {
        "id": "LK2iD5A91yWQ",
        "colab": {
          "base_uri": "https://localhost:8080/",
          "height": 92
        },
        "outputId": "e45dcaa2-1269-4fbd-bef7-6023b5d64bbf"
      },
      "source": [
        "print((AND.predict(X_2)))\n",
        "#2층으로 만드니까 잘나옴"
      ],
      "execution_count": null,
      "outputs": [
        {
          "output_type": "stream",
          "text": [
            "[[0.12870357]\n",
            " [0.79966936]\n",
            " [0.80108545]\n",
            " [0.14420781]]\n"
          ],
          "name": "stdout"
        }
      ]
    },
    {
      "cell_type": "markdown",
      "metadata": {
        "id": "i-SK4G262Agn"
      },
      "source": [
        "#### 2층 신경망으로 XOR 게이트 구현(2)\n",
        "- 클래스로 구현"
      ]
    },
    {
      "cell_type": "code",
      "metadata": {
        "id": "8RpnHCRZ1zwr"
      },
      "source": [
        "class XORNet():\n",
        "\n",
        "  def __init__(self):\n",
        "    np.random.seed(1)\n",
        "\n",
        "    def weight_init():\n",
        "      params = {}\n",
        "      params['w_1'] = np.random.randn(2)\n",
        "      params['b_1'] = np.random.randn(2)\n",
        "      params['w_2'] = np.random.randn(2)\n",
        "      params['b_2'] = np.random.randn(1)\n",
        "      return params\n",
        "\n",
        "    self.params = weight_init()\n",
        "  \n",
        "  def predict(self, x):\n",
        "    W_1, W_2 = self.params['w_1'].reshape(-1, 1), self.params['w_2'].reshape(-1,1)\n",
        "    B_1, B_2 = self.params['b_1'], self.params['b_2']\n",
        "\n",
        "    A1 = np.dot(x, W_1) + B_1\n",
        "    Z1 = sigmoid(A1)\n",
        "    A2 = np.dot(Z1, W_2) + B_2\n",
        "    pred_y = sigmoid(A2)\n",
        "\n",
        "    return pred_y\n",
        "\n",
        "  def loss(self, x, true_y):\n",
        "    pred_y = self.predict(x)\n",
        "    return cross_entropy_error_for_bin(pred_y, true_y)\n",
        "\n",
        "  def get_gradient(self, x, t):\n",
        "    def loss_grad(grad):\n",
        "      return self.loss(x, t)\n",
        "\n",
        "    grads = {}\n",
        "    grads['w_1'] = diffrerntial(loss_grad, self.params['w_1'])\n",
        "    grads['b_1'] = diffrerntial(loss_grad, self.params['b_1'])\n",
        "    grads['w_2'] = diffrerntial(loss_grad, self.params['w_2'])\n",
        "    grads['b_2'] = diffrerntial(loss_grad, self.params['b_2'])\n",
        "\n",
        "    return grads"
      ],
      "execution_count": null,
      "outputs": []
    },
    {
      "cell_type": "markdown",
      "metadata": {
        "id": "uyvpPEJx68gR"
      },
      "source": [
        ""
      ]
    },
    {
      "cell_type": "markdown",
      "metadata": {
        "id": "lplK_x0l2YLh"
      },
      "source": [
        "#### 하이퍼 파라미터(Hyper Parameter)\n",
        "- 재조정"
      ]
    },
    {
      "cell_type": "code",
      "metadata": {
        "id": "qf-3wWSv2b7l"
      },
      "source": [
        "lr = 0.3#lr=러닝 레이트"
      ],
      "execution_count": null,
      "outputs": []
    },
    {
      "cell_type": "markdown",
      "metadata": {
        "id": "lmHKd45d2JbJ"
      },
      "source": [
        "#### 모델 생성 및 학습"
      ]
    },
    {
      "cell_type": "code",
      "metadata": {
        "id": "cQNd3XVd2Gj7",
        "colab": {
          "base_uri": "https://localhost:8080/",
          "height": 204
        },
        "outputId": "20c22b57-0413-46b0-9e84-1e60c3803931"
      },
      "source": [
        "XOR = XORNet()\n",
        "X = np.array([[0,0],[0,1], [1,0], [1,1]])\n",
        "Y_5 = np.array([[0], [1], [1], [0]])\n",
        "\n",
        "train_loss_list = list()\n",
        "\n",
        "for i in range(epochs):\n",
        "  grads = XOR.get_gradient(X, Y_5)\n",
        "\n",
        "  for key in ('w_1', 'b_1', 'w_2', 'b_2'):\n",
        "    XOR.params[key] -= lr * grads[key]\n",
        "\n",
        "  loss = XOR.loss(X, Y_5)\n",
        "  train_loss_list.append(loss)\n",
        "\n",
        "  if i % 100 == 99:\n",
        "    print(\"Epoch: {}, Cost: {}\".format(i+1, loss))"
      ],
      "execution_count": null,
      "outputs": [
        {
          "output_type": "stream",
          "text": [
            "Epoch: 100, Cost: 1.2038602915642662\n",
            "Epoch: 200, Cost: 0.4855625698005153\n",
            "Epoch: 300, Cost: 0.22618525574864715\n",
            "Epoch: 400, Cost: 0.1393840509844133\n",
            "Epoch: 500, Cost: 0.09906773228247678\n",
            "Epoch: 600, Cost: 0.07631544967924654\n",
            "Epoch: 700, Cost: 0.061847961217787135\n",
            "Epoch: 800, Cost: 0.05188916629519421\n",
            "Epoch: 900, Cost: 0.044637740488882555\n",
            "Epoch: 1000, Cost: 0.03913248217645088\n"
          ],
          "name": "stdout"
        }
      ]
    },
    {
      "cell_type": "markdown",
      "metadata": {
        "id": "IIV_GsoG2eDs"
      },
      "source": [
        "#### 테스트"
      ]
    },
    {
      "cell_type": "code",
      "metadata": {
        "id": "Dpr0nZhc2Szr",
        "colab": {
          "base_uri": "https://localhost:8080/",
          "height": 92
        },
        "outputId": "53749296-2e9c-41f3-edaf-074b89903762"
      },
      "source": [
        "print(XOR.predict(X))"
      ],
      "execution_count": null,
      "outputs": [
        {
          "output_type": "stream",
          "text": [
            "[[0.01739414]\n",
            " [0.97447579]\n",
            " [0.98282956]\n",
            " [0.01738964]]\n"
          ],
          "name": "stdout"
        }
      ]
    },
    {
      "cell_type": "markdown",
      "metadata": {
        "id": "_1IuDL8R7wrx"
      },
      "source": [
        "## 다중 클래스 분류 : MNIST Dataset"
      ]
    },
    {
      "cell_type": "markdown",
      "metadata": {
        "id": "9CiJ5Gmq9Wpa"
      },
      "source": [
        "### 배치 처리\n",
        "- 학습 데이터 전체를 한번에 진행하지 않고  \n",
        "  일부 데이터(샘플)을 확률적으로 구해서 조금씩 나누어 진행\n",
        "\n",
        "- 확률적 경사 하강법(Stochastic Gradient Descent) 또는  \n",
        "  미니 배치 학습법(mini-batch learning)이라고도 부름"
      ]
    },
    {
      "cell_type": "markdown",
      "metadata": {
        "id": "YUDNWwj49byH"
      },
      "source": [
        "#### 신경망 구현 : MNIST "
      ]
    },
    {
      "cell_type": "markdown",
      "metadata": {
        "id": "WjBRQYlP74GM"
      },
      "source": [
        "#### 필요한 모듈 임포트"
      ]
    },
    {
      "cell_type": "code",
      "metadata": {
        "id": "h0lJbkuW71lm"
      },
      "source": [
        "import numpy as np\n",
        "import matplotlib.pyplot as plt\n",
        "import tensorflow as tf\n",
        "import time\n",
        "from tqdm.notebook import tqdm"
      ],
      "execution_count": null,
      "outputs": []
    },
    {
      "cell_type": "markdown",
      "metadata": {
        "id": "MDvtEiD77_gu"
      },
      "source": [
        "#### 데이터 로드"
      ]
    },
    {
      "cell_type": "code",
      "metadata": {
        "id": "4WL7zXMl_uo9",
        "colab": {
          "base_uri": "https://localhost:8080/",
          "height": 55
        },
        "outputId": "61efefe6-7723-4ccd-f387-b94852bab981"
      },
      "source": [
        "mnist = tf.keras.datasets.mnist\n",
        "(x_train, y_train), (x_test, y_test) = mnist.load_data()"
      ],
      "execution_count": null,
      "outputs": [
        {
          "output_type": "stream",
          "text": [
            "Downloading data from https://storage.googleapis.com/tensorflow/tf-keras-datasets/mnist.npz\n",
            "11493376/11490434 [==============================] - 0s 0us/step\n"
          ],
          "name": "stdout"
        }
      ]
    },
    {
      "cell_type": "markdown",
      "metadata": {
        "id": "e_rNg5Jn8FRA"
      },
      "source": [
        "#### 데이터 확인"
      ]
    },
    {
      "cell_type": "code",
      "metadata": {
        "id": "u4wpsQGA8BOO",
        "colab": {
          "base_uri": "https://localhost:8080/",
          "height": 92
        },
        "outputId": "df4f6df3-cdf7-4cc8-9f7a-ac506e3d436a"
      },
      "source": [
        "print(x_train.shape)\n",
        "print(y_train.shape)\n",
        "\n",
        "print(x_test.shape)\n",
        "print(y_test.shape)"
      ],
      "execution_count": null,
      "outputs": [
        {
          "output_type": "stream",
          "text": [
            "(60000, 28, 28)\n",
            "(60000,)\n",
            "(10000, 28, 28)\n",
            "(10000,)\n"
          ],
          "name": "stdout"
        }
      ]
    },
    {
      "cell_type": "code",
      "metadata": {
        "id": "pU7nvkHO8IFR",
        "colab": {
          "base_uri": "https://localhost:8080/",
          "height": 281
        },
        "outputId": "1a3fb2ef-e819-4786-d57a-ca36a8b99239"
      },
      "source": [
        "img = x_train[0]\n",
        "print(img.shape)\n",
        "\n",
        "plt.imshow(img, cmap='gray')\n",
        "plt.show()"
      ],
      "execution_count": null,
      "outputs": [
        {
          "output_type": "stream",
          "text": [
            "(28, 28)\n"
          ],
          "name": "stdout"
        },
        {
          "output_type": "display_data",
          "data": {
            "image/png": "[encoded data removed]",
            "text/plain": [
              "<Figure size 432x288 with 1 Axes>"
            ]
          },
          "metadata": {
            "tags": [],
            "needs_background": "light"
          }
        }
      ]
    },
    {
      "cell_type": "code",
      "metadata": {
        "id": "WbBA1Kl18KGT",
        "colab": {
          "base_uri": "https://localhost:8080/",
          "height": 36
        },
        "outputId": "d713dc70-e8d1-466b-975c-57f8033070f7"
      },
      "source": [
        "y_train[0]"
      ],
      "execution_count": null,
      "outputs": [
        {
          "output_type": "execute_result",
          "data": {
            "text/plain": [
              "5"
            ]
          },
          "metadata": {
            "tags": []
          },
          "execution_count": 67
        }
      ]
    },
    {
      "cell_type": "markdown",
      "metadata": {
        "id": "MTFu8i-z8U_C"
      },
      "source": [
        "#### 데이터 전처리 (Data Preprocessing)"
      ]
    },
    {
      "cell_type": "code",
      "metadata": {
        "id": "q76pjKDVftHJ"
      },
      "source": [
        "def flatten_for_mnist(x):\n",
        "  temp = np.zeros((x.shape[0], x[0].size))\n",
        "\n",
        "  for idx, data in enumerate(x):\n",
        "    temp[idx, :] = data.flatten()\n",
        "\n",
        "  return temp"
      ],
      "execution_count": null,
      "outputs": []
    },
    {
      "cell_type": "code",
      "metadata": {
        "id": "vvMWrDOR8Mns",
        "colab": {
          "base_uri": "https://localhost:8080/",
          "height": 92
        },
        "outputId": "eba5e26e-e892-4d49-f6fc-aa86ce001b41"
      },
      "source": [
        "x_train, x_test = x_train / 255.0, x_test /255.0\n",
        "\n",
        "x_train = flatten_for_mnist(x_train)\n",
        "x_test = flatten_for_mnist(x_test)\n",
        "\n",
        "print(x_train.shape)\n",
        "print(x_test.shape)\n",
        "\n",
        "y_train_ohe = tf.one_hot(y_train, depth=10).numpy()\n",
        "y_test_ohe = tf.one_hot(y_test, depth=10).numpy()\n",
        "\n",
        "print(y_train_ohe.shape)\n",
        "print(y_test_ohe.shape)"
      ],
      "execution_count": null,
      "outputs": [
        {
          "output_type": "stream",
          "text": [
            "(60000, 784)\n",
            "(10000, 784)\n",
            "(60000, 10)\n",
            "(10000, 10)\n"
          ],
          "name": "stdout"
        }
      ]
    },
    {
      "cell_type": "code",
      "metadata": {
        "id": "9LjpWz0dotJs",
        "colab": {
          "base_uri": "https://localhost:8080/",
          "height": 55
        },
        "outputId": "2c7893b4-37bd-4479-ef42-82ff89f42f22"
      },
      "source": [
        "print(x_train[0].max(), x_train[0].min())\n",
        "print(y_train_ohe[0])\n",
        "#스케일링 전처리 과정을 거침"
      ],
      "execution_count": null,
      "outputs": [
        {
          "output_type": "stream",
          "text": [
            "0.00392156862745098 0.0\n",
            "[0. 0. 0. 0. 0. 1. 0. 0. 0. 0.]\n"
          ],
          "name": "stdout"
        }
      ]
    },
    {
      "cell_type": "markdown",
      "metadata": {
        "id": "5GUaa92Y9RhY"
      },
      "source": [
        "#### 하이퍼 파라미터(Hyper Parameter)"
      ]
    },
    {
      "cell_type": "code",
      "metadata": {
        "id": "sk3FXXLi9Th5"
      },
      "source": [
        "epochs = 2\n",
        "lr = 0.1\n",
        "batch_size = 100\n",
        "train_size = x_train.shape[0]"
      ],
      "execution_count": null,
      "outputs": []
    },
    {
      "cell_type": "markdown",
      "metadata": {
        "id": "5lMJ0h8p8iZl"
      },
      "source": [
        "#### 사용되는 함수들(Util Functions)"
      ]
    },
    {
      "cell_type": "code",
      "metadata": {
        "id": "bSlqZ2Xx8hFn"
      },
      "source": [
        "def sigmoid(x):\n",
        "  return 1 / (1 + np.exp(-x))\n",
        "\n",
        "def mean_squared_error(pred_y, true_y):\n",
        "  return 0.5 * (np.sum((true_y - pred_y)**2))\n",
        "\n",
        "def cross_entropy_error(pred_y, true_y):\n",
        "  if true_y.ndim == 1:\n",
        "    true_y = true_y.reshape(1, -1)\n",
        "    pred_y = pred_y.reshape(1,-1)\n",
        "\n",
        "  delta = 1e-7\n",
        "  return -np.sum(true_y * np.log(pred_y + delta))\n",
        "\n",
        "def cross_entropy_error_for_batch(pred_y, true_y):\n",
        "  if true_y.ndim == 1:\n",
        "    true_y = true_y.reshape(1, -1)\n",
        "    pred_y = pred_y.reshape(1,-1)\n",
        "\n",
        "  delta = 1e-7\n",
        "  batch_size = pred_y.shape[0]\n",
        "  return -np.sum(true_y * np.log(pred_y + delta))\n",
        "\n",
        "#바이너리 형태일때(bin)\n",
        "def cross_entropy_error_for_bin(pred_y, true_y):\n",
        "  return 0.5 * np.sum((-true_y * np.log(pred_y) - (1 - true_y) * np.log(1 - pred_y)))\n",
        "\n",
        "def softmax(a):\n",
        "  exp_a = np.exp(a)\n",
        "  sum_exp_a = np.sum(exp_a)\n",
        "  y = exp_a / sum_exp_a\n",
        "  \n",
        "  return y\n",
        "\n",
        "#1차원일 경우\n",
        "def diffrerntial_1d(f, x):\n",
        "\n",
        "  eps = 1e-5\n",
        "  diff_value = np.zeros_like(x)\n",
        "\n",
        "  for i in range(x.shape[0]):\n",
        "    temp_val = x[i]\n",
        "\n",
        "    x[i] = temp_val + eps\n",
        "    f_h1 = f(x)\n",
        "\n",
        "    x[i] = temp_val - eps\n",
        "    f_h2 = f(x)\n",
        "\n",
        "    diff_value[i] = (f_h1 - f_h2) / (2 * eps)\n",
        "    x[i] = temp_val\n",
        "\n",
        "  return diff_value \n",
        "\n",
        "def diffrerntial_2d(f, X):\n",
        "  if X.ndim == 1:\n",
        "    return diffrerntial_1d(f, X)\n",
        "  else:\n",
        "    grad = np.zeros_like(X)\n",
        "\n",
        "    for idx, x in enumerate(X):\n",
        "      grad[idx] = diffrerntial_1d(f, x)\n",
        "\n",
        "    return grad"
      ],
      "execution_count": null,
      "outputs": []
    },
    {
      "cell_type": "markdown",
      "metadata": {
        "id": "sSoV9fyj8_u7"
      },
      "source": [
        "#### 2층 신경망으로 구현"
      ]
    },
    {
      "cell_type": "code",
      "metadata": {
        "id": "XBObD5Fw89HI"
      },
      "source": [
        "class MyModel():\n",
        "\n",
        "  def __init__(self):\n",
        "\n",
        "    def weight_init(input_nodes, hidden_nodes, output_units):\n",
        "      np.random.seed(777)\n",
        "\n",
        "      params = {}\n",
        "      params['w_1'] = 0.01 * np.random.randn(input_nodes, hidden_nodes)\n",
        "      params['b_1'] = np.zeros(hidden_nodes)\n",
        "      params['w_2'] = 0.01 * np.random.randn(hidden_nodes, output_units)\n",
        "      params['b_2'] = np.zeros(output_units)\n",
        "      return params\n",
        "\n",
        "    self.params = weight_init(784, 64, 10)\n",
        "  \n",
        "  def predict(self, x):\n",
        "    W_1, W_2 = self.params['w_1'], self.params['w_2']\n",
        "    B_1, B_2 = self.params['b_1'], self.params['b_2']\n",
        "\n",
        "    A1 = np.dot(x, W_1) + B_1\n",
        "    Z1 = sigmoid(A1)\n",
        "\n",
        "    A2 = np.dot(Z1, W_2) + B_2\n",
        "    pred_y = softmax(A2)\n",
        "    \n",
        "    return pred_y\n",
        "\n",
        "  def loss(self, x, true_y):\n",
        "    pred_y = self.predict(x)\n",
        "    return cross_entropy_error_for_bin(pred_y, true_y)\n",
        "\n",
        "  def accuracy(self, x, true_y):\n",
        "    pred_y = self.predict(x)\n",
        "    y_argmax = np.argmax(pred_y, axis=1)\n",
        "    t_argmax = np.argmax(true_y, axis=1)\n",
        "\n",
        "    accuracy = np.sum(y_argmax == t_argmax) / float(x.shape[0])\n",
        "\n",
        "    return accuracy\n",
        "\n",
        "  def get_gradient(self, x, t):\n",
        "\n",
        "    def loss_grad(grad):\n",
        "      return self.loss(x, t)\n",
        "\n",
        "    grads = {}\n",
        "    grads['w_1'] = diffrerntial_2d(loss_grad, self.params['w_1'])\n",
        "    grads['b_1'] = diffrerntial_2d(loss_grad, self.params['b_1'])\n",
        "    grads['w_2'] = diffrerntial_2d(loss_grad, self.params['w_2'])\n",
        "    grads['b_2'] = diffrerntial_2d(loss_grad, self.params['b_2'])\n",
        "\n",
        "    return grads"
      ],
      "execution_count": null,
      "outputs": []
    },
    {
      "cell_type": "markdown",
      "metadata": {
        "id": "maKNIlK-xJ5k"
      },
      "source": [
        "#### 모델 생성 및 학습\n",
        "- 시간 많이 소요"
      ]
    },
    {
      "cell_type": "code",
      "metadata": {
        "id": "XSEARgNIop8t",
        "colab": {
          "base_uri": "https://localhost:8080/",
          "height": 124,
          "referenced_widgets": [
            "fd0e55b1be0d415f977b7e273415315c",
            "297b31893b7643c7b88adbb6be169011",
            "bcf5ea304ebc44c0a3c1e90859e801c3",
            "470bc331d02e4d5b8ea8e6cc07f32779",
            "8a9a631e4f284c2385bf144d0336ea0a",
            "b75b98a7a8754cb9b63bb32d33aca920",
            "ae27d6720a414072abbf5488444e5f51",
            "6b5227b3e62b4a468a9b99e2058d5cbf"
          ]
        },
        "outputId": "425610b8-0643-4254-d0a8-70b67a30d707"
      },
      "source": [
        "model = MyModel()\n",
        "\n",
        "train_loss_list = list()\n",
        "train_acc_list = list()\n",
        "test_acc_list = list()\n",
        "iter_per_epoch = max(train_size / batch_size, 1)\n",
        "\n",
        "start_time = time.time()\n",
        "for i in tqdm(range(epochs)):\n",
        "\n",
        "  batch_idx = np.random.choice(train_size, batch_size)\n",
        "  x_batch = x_train[batch_idx]\n",
        "  y_batch = y_train_ohe[batch_idx]\n",
        "\n",
        "  grads = model.get_gradient(x_batch, y_batch)\n",
        "\n",
        "  for key in grads.keys():\n",
        "    model.params[key] -= lr * grads[key]\n",
        "\n",
        "  loss = model.loss(x_batch, y_batch)\n",
        "  train_loss_list.append(loss)\n",
        "\n",
        "  train_accuracy = model.accuracy(x_train, y_train_ohe)\n",
        "  test_accuracy = model.accuracy(x_test, y_test_ohe)\n",
        "  train_acc_list.append(train_accuracy)\n",
        "  test_acc_list.append(test_accuracy)\n",
        "\n",
        "  print(\"Epoch: {}, Cost: {}, Train Accuracy: {}, Test Accuracy: {}\".format(i+1, loss, train_accuracy, test_accuracy))\n",
        "\n",
        "end_time = time.time()\n",
        "\n",
        "print(\"총 학습 소요시간: {:.3f}s\".format(end_time - start_time))"
      ],
      "execution_count": null,
      "outputs": [
        {
          "output_type": "display_data",
          "data": {
            "application/vnd.jupyter.widget-view+json": {
              "model_id": "fd0e55b1be0d415f977b7e273415315c",
              "version_minor": 0,
              "version_major": 2
            },
            "text/plain": [
              "HBox(children=(FloatProgress(value=0.0, max=2.0), HTML(value='')))"
            ]
          },
          "metadata": {
            "tags": []
          }
        },
        {
          "output_type": "stream",
          "text": [
            "Epoch: 1, Cost: 467.18857264464197, Train Accuracy: 0.10441666666666667, Test Accuracy: 0.1028\n",
            "Epoch: 2, Cost: 752.8102565880789, Train Accuracy: 0.09751666666666667, Test Accuracy: 0.0974\n",
            "\n",
            "총 학습 소요시간: 179.061s\n"
          ],
          "name": "stdout"
        }
      ]
    },
    {
      "cell_type": "markdown",
      "metadata": {
        "id": "b7nL8f20x4zl"
      },
      "source": [
        "### 모델의 결과\n",
        "- 모델은 학습이 잘 될 수도, 잘 안될 수도 있음\n",
        "\n",
        "- 만약, 학습이 잘 되지 않았다면,  \n",
        "  학습이 잘 되기 위해서 어떠한 조치를 취해야 하는가?\n",
        "  - 다양한 학습관련 기술이 존재"
      ]
    }
  ]
}