{
  "nbformat": 4,
  "nbformat_minor": 0,
  "metadata": {
    "colab": {
      "name": "성정아_5층 신경망 구현하기.ipynb",
      "provenance": [],
      "collapsed_sections": []
    },
    "kernelspec": {
      "name": "python3",
      "display_name": "Python 3"
    }
  },
  "cells": [
    {
      "cell_type": "code",
      "metadata": {
        "id": "gTsFXrqA5PsH"
      },
      "source": [
        "import numpy as np"
      ],
      "execution_count": null,
      "outputs": []
    },
    {
      "cell_type": "code",
      "metadata": {
        "id": "HnVxtv_14axp"
      },
      "source": [
        "def sigmoid(X):\n",
        "  return 1 / (1 + np.exp(-X))"
      ],
      "execution_count": null,
      "outputs": []
    },
    {
      "cell_type": "code",
      "metadata": {
        "id": "Fdb4lIkw40nu",
        "colab": {
          "base_uri": "https://localhost:8080/",
          "height": 111
        },
        "outputId": "0f3ca25a-090f-4a18-f9e4-57d951904af7"
      },
      "source": [
        "X = np.array([1.0, 0.5, 0.4, 0.6, 0.9])\n",
        "W1 = np.array([[1.1, 1.2, 1.3, 1.4, 1.5], [2.0, 1.8, 1.6, 1.4, 1.2], [1.1, 1.2, 1.3, 1.4, 1.5], [1.3, 1.6, 1.9, 2.2, 2.5], [0.4, 0.6, 0.8, 1.0, 1.2]])\n",
        "B1 = np.array([1,1,1,1,1])\n",
        "\n",
        "\n",
        "print(W1.shape)\n",
        "print(X.shape)\n",
        "print(B1.shape)\n",
        "\n",
        "A1 = np.dot(X, W1) +B1\n",
        "Z1 = sigmoid(A1)\n",
        "\n",
        "print(A1)\n",
        "print(Z1)"
      ],
      "execution_count": null,
      "outputs": [
        {
          "output_type": "stream",
          "text": [
            "(5, 5)\n",
            "(5,)\n",
            "(5,)\n",
            "[4.68 5.08 5.48 5.88 6.28]\n",
            "[0.99080629 0.99381854 0.99584798 0.997213   0.9981301 ]\n"
          ],
          "name": "stdout"
        }
      ]
    },
    {
      "cell_type": "code",
      "metadata": {
        "id": "ey9pK5Xn40qB",
        "colab": {
          "base_uri": "https://localhost:8080/",
          "height": 92
        },
        "outputId": "5305aae4-510a-4eec-d7bd-62b99342e9ad"
      },
      "source": [
        "W2 = np.array([[1.1, 1.2, 1.3, 1.4, 1.5], [0.3, 0.5, 0.7, 0.9, 1.1], [1.3, 1.6, 1.9, 2.2, 2.5], [0.7, 0.6, 0.5, 0.4, 0.3], [0.1, 0.3, 0.5, 0.7, 0.9]])\n",
        "B2 = np.array([1,1,1,1,1])\n",
        "\n",
        "print(W2.shape)\n",
        "print(B2.shape)\n",
        "\n",
        "A2 = np.dot(A1, W2) + B2\n",
        "Z2 = sigmoid(A2)\n",
        "\n",
        "print(A2)\n",
        "print(Z2)"
      ],
      "execution_count": null,
      "outputs": [
        {
          "output_type": "stream",
          "text": [
            "(5, 5)\n",
            "(5,)\n",
            "[19.54  23.336 27.132 30.928 34.724]\n",
            "[1. 1. 1. 1. 1.]\n"
          ],
          "name": "stdout"
        }
      ]
    },
    {
      "cell_type": "code",
      "metadata": {
        "id": "XQVM2FC640sN",
        "colab": {
          "base_uri": "https://localhost:8080/",
          "height": 92
        },
        "outputId": "83da6e3f-a596-40cf-bbf7-82dfe42e541e"
      },
      "source": [
        "W3 = np.array([[1.2, 1.3, 1.4, 1.5], [0.9, 0.7, 0.4, 0.2], [0.4, 0.3, 0.2, 0.1], [0.25, 0.5, 0.75, 1.0], [0.9, 0.8, 0.7, 0.6]])\n",
        "B3 = np.array([1,1,1,1])\n",
        "\n",
        "print(W3.shape)\n",
        "print(B3.shape)\n",
        "\n",
        "A3 = np.dot(A2, W3) + B3\n",
        "Z3 = sigmoid(A3)\n",
        "\n",
        "print(A3)\n",
        "print(Z3)"
      ],
      "execution_count": null,
      "outputs": [
        {
          "output_type": "stream",
          "text": [
            "(5, 4)\n",
            "(4,)\n",
            "[95.2868 94.12   90.6196 89.4528]\n",
            "[1. 1. 1. 1.]\n"
          ],
          "name": "stdout"
        }
      ]
    },
    {
      "cell_type": "code",
      "metadata": {
        "id": "j2QYv2xn40zK",
        "colab": {
          "base_uri": "https://localhost:8080/",
          "height": 92
        },
        "outputId": "7229b921-8235-45ed-bfb6-58706238e737"
      },
      "source": [
        "W4 = np.array([[0.1, 0.2, 0.3], [0.3, 0.5, 0.7], [0.3, 0.5, 0.7], [1.1, 1.2, 1.3]])\n",
        "B4 = np.array([1,1,1])\n",
        "\n",
        "print(W4.shape)\n",
        "print(B4.shape)\n",
        "\n",
        "A4 = np.dot(A3, W4) + B4\n",
        "Y = sigmoid(A4)\n",
        "\n",
        "print(A4)\n",
        "print(Y)"
      ],
      "execution_count": null,
      "outputs": [
        {
          "output_type": "stream",
          "text": [
            "(4, 3)\n",
            "(3,)\n",
            "[164.34864 219.77052 275.1924 ]\n",
            "[1. 1. 1.]\n"
          ],
          "name": "stdout"
        }
      ]
    },
    {
      "cell_type": "code",
      "metadata": {
        "id": "V-q7itb3OEJ8",
        "colab": {
          "base_uri": "https://localhost:8080/",
          "height": 92
        },
        "outputId": "008cb690-79cd-47c0-9211-7f2c9d289dc6"
      },
      "source": [
        "W5 = np.array([[0.1, 0.3], [0.3, 0.7], [0.3, 0.7]])\n",
        "B5 = np.array([1,1])\n",
        "\n",
        "print(W5.shape)\n",
        "print(B5.shape)\n",
        "\n",
        "A5 = np.dot(A4, W5) + B5\n",
        "Y = sigmoid(A5)\n",
        "\n",
        "print(A5)\n",
        "print(Y)"
      ],
      "execution_count": null,
      "outputs": [
        {
          "output_type": "stream",
          "text": [
            "(3, 2)\n",
            "(2,)\n",
            "[165.92374  396.778636]\n",
            "[1. 1.]\n"
          ],
          "name": "stdout"
        }
      ]
    },
    {
      "cell_type": "code",
      "metadata": {
        "id": "OJ4JZJuY497b",
        "colab": {
          "base_uri": "https://localhost:8080/",
          "height": 92
        },
        "outputId": "862192ca-44ca-49c7-b66e-ad41dc1a652f"
      },
      "source": [
        "W6 = np.array([[0.1, 0.2], [1.5, 2.0]])\n",
        "B6 = np.array([1,1])\n",
        "\n",
        "print(W6.shape)\n",
        "print(B6.shape)\n",
        "\n",
        "A6 = np.dot(A5, W6) + B6\n",
        "Y = sigmoid(A6)\n",
        "\n",
        "print(A6)\n",
        "print(Y)"
      ],
      "execution_count": null,
      "outputs": [
        {
          "output_type": "stream",
          "text": [
            "(2, 2)\n",
            "(2,)\n",
            "[612.760328 827.74202 ]\n",
            "[1. 1.]\n"
          ],
          "name": "stdout"
        }
      ]
    },
    {
      "cell_type": "code",
      "metadata": {
        "id": "nR04ixD640wz"
      },
      "source": [
        "def network():\n",
        "\n",
        "  network = {}\n",
        "\n",
        "  #첫번째 레이어\n",
        "  network['W1'] = np.array([[1.1, 1.2, 1.3, 1.4, 1.5], [2.0, 1.8, 1.6, 1.4, 1.2], [1.1, 1.2, 1.3, 1.4, 1.5], [1.3, 1.6, 1.9, 2.2, 2.5], [0.4, 0.6, 0.8, 1.0, 1.2]])\n",
        "  network['B1'] = np.array([1,1,1,1,1])\n",
        "\n",
        "  #두번째 레이어\n",
        "  network['W2'] = np.array([[1.1, 1.2, 1.3, 1.4, 1.5], [0.3, 0.5, 0.7, 0.9, 1.1], [1.3, 1.6, 1.9, 2.2, 2.5], [0.7, 0.6, 0.5, 0.4, 0.3], [0.1, 0.3, 0.5, 0.7, 0.9]])\n",
        "  network['B2'] = np.array([1,1,1,1,1])\n",
        "\n",
        "  #세번째 레이어\n",
        "  network['W3'] =np.array([[1.2, 1.3, 1.4, 1.5], [0.9, 0.7, 0.4, 0.2], [0.4, 0.3, 0.2, 0.1], [0.25, 0.5, 0.75, 1.0], [0.9, 0.8, 0.7, 0.6]])\n",
        "  network['B3'] = np.array([1,1,1,1])\n",
        "\n",
        "  #네번째 레이어\n",
        "  network['W4'] = np.array([[0.1, 0.2, 0.3], [0.3, 0.5, 0.7], [0.3, 0.5, 0.7], [1.1, 1.2, 1.3]])\n",
        "  network['B4'] = np.array([1,1,1])\n",
        "\n",
        "  #다섯번째 레이어\n",
        "  network['W5'] = np.array([[0.1, 0.3], [0.3, 0.7], [0.3, 0.7]])\n",
        "  network['B5'] = np.array([1,1])\n",
        "\n",
        "  #여섯번째 레이어\n",
        "  network['W6'] = np.array([[0.1, 0.2], [1.5, 2.0]])\n",
        "  network['B6'] = np.array([1,1])\n",
        "\n",
        "  return network"
      ],
      "execution_count": null,
      "outputs": []
    },
    {
      "cell_type": "code",
      "metadata": {
        "id": "7H2gGsHO40vb"
      },
      "source": [
        "def forward(network, x):\n",
        "  W1, W2, W3, W4, W5, W6 = network['W1'], network['W2'], network['W3'], network['W4'], network['W5'], network['W6']\n",
        "  B1, B2, B3, B4, B5, B6 = network['B1'], network['B2'], network['B3'], network['B4'], network['B5'], network['B6']\n",
        "\n",
        "  A1 = np.dot(x, W1) + B1\n",
        "  Z1 = sigmoid(A1)\n",
        "\n",
        "  A2 = np.dot(Z1, W2) + B2\n",
        "  Z2 = sigmoid(A2)\n",
        "\n",
        "  A3 = np.dot(Z2, W3) + B3\n",
        "  Z3 = sigmoid(A3)\n",
        "\n",
        "  A4 = np.dot(Z3, W4) + B4\n",
        "  Z4 = sigmoid(A4)\n",
        "\n",
        "  A5 = np.dot(Z4, W5) + B5\n",
        "  Z5 = sigmoid(A5)\n",
        "\n",
        "  A6 = np.dot(Z5, W6) + B6\n",
        "  y = sigmoid(A6)\n",
        "\n",
        "  return y"
      ],
      "execution_count": null,
      "outputs": []
    },
    {
      "cell_type": "code",
      "metadata": {
        "id": "pb6iif5Z5B4b",
        "colab": {
          "base_uri": "https://localhost:8080/",
          "height": 36
        },
        "outputId": "39e949e9-0cdd-40f4-ea95-9e2d78c10f5f"
      },
      "source": [
        "net = network()\n",
        "x = np.array([0.3, 1.3, -2.2, 0.5, 0.7])\n",
        "y = forward(net, x)\n",
        "print(y)"
      ],
      "execution_count": null,
      "outputs": [
        {
          "output_type": "stream",
          "text": [
            "[0.92307906 0.95417849]\n"
          ],
          "name": "stdout"
        }
      ]
    },
    {
      "cell_type": "code",
      "metadata": {
        "id": "PHae87LWAW5B"
      },
      "source": [
        ""
      ],
      "execution_count": null,
      "outputs": []
    }
  ]
}